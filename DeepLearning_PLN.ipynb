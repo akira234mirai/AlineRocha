{
  "nbformat": 4,
  "nbformat_minor": 0,
  "metadata": {
    "colab": {
      "provenance": [],
      "include_colab_link": true
    },
    "kernelspec": {
      "name": "python3",
      "display_name": "Python 3"
    },
    "language_info": {
      "name": "python"
    }
  },
  "cells": [
    {
      "cell_type": "markdown",
      "metadata": {
        "id": "view-in-github",
        "colab_type": "text"
      },
      "source": [
        "<a href=\"https://colab.research.google.com/github/akira234mirai/AlineRocha/blob/akira234mirai-patch-1/DeepLearning_PLN.ipynb\" target=\"_parent\"><img src=\"https://colab.research.google.com/assets/colab-badge.svg\" alt=\"Open In Colab\"/></a>"
      ]
    },
    {
      "cell_type": "markdown",
      "source": [
        "Rede Profunda"
      ],
      "metadata": {
        "id": "6aRPnA6BJ9Jn"
      }
    },
    {
      "cell_type": "code",
      "execution_count": null,
      "metadata": {
        "id": "1S_xRGlVQEk_"
      },
      "outputs": [],
      "source": [
        "import pandas as pd\n",
        "from sklearn.model_selection import train_test_split\n",
        "from sklearn.preprocessing import LabelEncoder #Transformar classe em números\n",
        "from sklearn.feature_extraction.text import CountVectorizer #Cria o Vetor com o texto\n",
        "from sklearn.metrics import confusion_matrix\n",
        "from keras.models import Sequential #Conjunto de camadas sequenciais\n",
        "from keras.layers import Dense, Dropout\n",
        "from google.colab import files"
      ]
    },
    {
      "cell_type": "code",
      "source": [
        "files.upload()"
      ],
      "metadata": {
        "id": "Cc89L7i2Y2RS"
      },
      "execution_count": null,
      "outputs": []
    },
    {
      "cell_type": "code",
      "source": [
        "spam = pd.read_csv('spam.csv')\n",
        "spam.head()"
      ],
      "metadata": {
        "id": "hoJ0gdSCY6Vf",
        "colab": {
          "base_uri": "https://localhost:8080/",
          "height": 206
        },
        "outputId": "1f093e51-ac07-4e80-b102-bc0979a8afdd"
      },
      "execution_count": null,
      "outputs": [
        {
          "output_type": "execute_result",
          "data": {
            "text/plain": [
              "  Category                                            Message\n",
              "0      ham  Go until jurong point, crazy.. Available only ...\n",
              "1      ham                      Ok lar... Joking wif u oni...\n",
              "2     spam  Free entry in 2 a wkly comp to win FA Cup fina...\n",
              "3      ham  U dun say so early hor... U c already then say...\n",
              "4      ham  Nah I don't think he goes to usf, he lives aro..."
            ],
            "text/html": [
              "\n",
              "  <div id=\"df-ffc63f08-bc9f-4d84-bc6b-c87fcb370ca4\" class=\"colab-df-container\">\n",
              "    <div>\n",
              "<style scoped>\n",
              "    .dataframe tbody tr th:only-of-type {\n",
              "        vertical-align: middle;\n",
              "    }\n",
              "\n",
              "    .dataframe tbody tr th {\n",
              "        vertical-align: top;\n",
              "    }\n",
              "\n",
              "    .dataframe thead th {\n",
              "        text-align: right;\n",
              "    }\n",
              "</style>\n",
              "<table border=\"1\" class=\"dataframe\">\n",
              "  <thead>\n",
              "    <tr style=\"text-align: right;\">\n",
              "      <th></th>\n",
              "      <th>Category</th>\n",
              "      <th>Message</th>\n",
              "    </tr>\n",
              "  </thead>\n",
              "  <tbody>\n",
              "    <tr>\n",
              "      <th>0</th>\n",
              "      <td>ham</td>\n",
              "      <td>Go until jurong point, crazy.. Available only ...</td>\n",
              "    </tr>\n",
              "    <tr>\n",
              "      <th>1</th>\n",
              "      <td>ham</td>\n",
              "      <td>Ok lar... Joking wif u oni...</td>\n",
              "    </tr>\n",
              "    <tr>\n",
              "      <th>2</th>\n",
              "      <td>spam</td>\n",
              "      <td>Free entry in 2 a wkly comp to win FA Cup fina...</td>\n",
              "    </tr>\n",
              "    <tr>\n",
              "      <th>3</th>\n",
              "      <td>ham</td>\n",
              "      <td>U dun say so early hor... U c already then say...</td>\n",
              "    </tr>\n",
              "    <tr>\n",
              "      <th>4</th>\n",
              "      <td>ham</td>\n",
              "      <td>Nah I don't think he goes to usf, he lives aro...</td>\n",
              "    </tr>\n",
              "  </tbody>\n",
              "</table>\n",
              "</div>\n",
              "    <div class=\"colab-df-buttons\">\n",
              "\n",
              "  <div class=\"colab-df-container\">\n",
              "    <button class=\"colab-df-convert\" onclick=\"convertToInteractive('df-ffc63f08-bc9f-4d84-bc6b-c87fcb370ca4')\"\n",
              "            title=\"Convert this dataframe to an interactive table.\"\n",
              "            style=\"display:none;\">\n",
              "\n",
              "  <svg xmlns=\"http://www.w3.org/2000/svg\" height=\"24px\" viewBox=\"0 -960 960 960\">\n",
              "    <path d=\"M120-120v-720h720v720H120Zm60-500h600v-160H180v160Zm220 220h160v-160H400v160Zm0 220h160v-160H400v160ZM180-400h160v-160H180v160Zm440 0h160v-160H620v160ZM180-180h160v-160H180v160Zm440 0h160v-160H620v160Z\"/>\n",
              "  </svg>\n",
              "    </button>\n",
              "\n",
              "  <style>\n",
              "    .colab-df-container {\n",
              "      display:flex;\n",
              "      gap: 12px;\n",
              "    }\n",
              "\n",
              "    .colab-df-convert {\n",
              "      background-color: #E8F0FE;\n",
              "      border: none;\n",
              "      border-radius: 50%;\n",
              "      cursor: pointer;\n",
              "      display: none;\n",
              "      fill: #1967D2;\n",
              "      height: 32px;\n",
              "      padding: 0 0 0 0;\n",
              "      width: 32px;\n",
              "    }\n",
              "\n",
              "    .colab-df-convert:hover {\n",
              "      background-color: #E2EBFA;\n",
              "      box-shadow: 0px 1px 2px rgba(60, 64, 67, 0.3), 0px 1px 3px 1px rgba(60, 64, 67, 0.15);\n",
              "      fill: #174EA6;\n",
              "    }\n",
              "\n",
              "    .colab-df-buttons div {\n",
              "      margin-bottom: 4px;\n",
              "    }\n",
              "\n",
              "    [theme=dark] .colab-df-convert {\n",
              "      background-color: #3B4455;\n",
              "      fill: #D2E3FC;\n",
              "    }\n",
              "\n",
              "    [theme=dark] .colab-df-convert:hover {\n",
              "      background-color: #434B5C;\n",
              "      box-shadow: 0px 1px 3px 1px rgba(0, 0, 0, 0.15);\n",
              "      filter: drop-shadow(0px 1px 2px rgba(0, 0, 0, 0.3));\n",
              "      fill: #FFFFFF;\n",
              "    }\n",
              "  </style>\n",
              "\n",
              "    <script>\n",
              "      const buttonEl =\n",
              "        document.querySelector('#df-ffc63f08-bc9f-4d84-bc6b-c87fcb370ca4 button.colab-df-convert');\n",
              "      buttonEl.style.display =\n",
              "        google.colab.kernel.accessAllowed ? 'block' : 'none';\n",
              "\n",
              "      async function convertToInteractive(key) {\n",
              "        const element = document.querySelector('#df-ffc63f08-bc9f-4d84-bc6b-c87fcb370ca4');\n",
              "        const dataTable =\n",
              "          await google.colab.kernel.invokeFunction('convertToInteractive',\n",
              "                                                    [key], {});\n",
              "        if (!dataTable) return;\n",
              "\n",
              "        const docLinkHtml = 'Like what you see? Visit the ' +\n",
              "          '<a target=\"_blank\" href=https://colab.research.google.com/notebooks/data_table.ipynb>data table notebook</a>'\n",
              "          + ' to learn more about interactive tables.';\n",
              "        element.innerHTML = '';\n",
              "        dataTable['output_type'] = 'display_data';\n",
              "        await google.colab.output.renderOutput(dataTable, element);\n",
              "        const docLink = document.createElement('div');\n",
              "        docLink.innerHTML = docLinkHtml;\n",
              "        element.appendChild(docLink);\n",
              "      }\n",
              "    </script>\n",
              "  </div>\n",
              "\n",
              "\n",
              "<div id=\"df-caa37531-2867-44f5-afd8-2a2ee38a6bff\">\n",
              "  <button class=\"colab-df-quickchart\" onclick=\"quickchart('df-caa37531-2867-44f5-afd8-2a2ee38a6bff')\"\n",
              "            title=\"Suggest charts\"\n",
              "            style=\"display:none;\">\n",
              "\n",
              "<svg xmlns=\"http://www.w3.org/2000/svg\" height=\"24px\"viewBox=\"0 0 24 24\"\n",
              "     width=\"24px\">\n",
              "    <g>\n",
              "        <path d=\"M19 3H5c-1.1 0-2 .9-2 2v14c0 1.1.9 2 2 2h14c1.1 0 2-.9 2-2V5c0-1.1-.9-2-2-2zM9 17H7v-7h2v7zm4 0h-2V7h2v10zm4 0h-2v-4h2v4z\"/>\n",
              "    </g>\n",
              "</svg>\n",
              "  </button>\n",
              "\n",
              "<style>\n",
              "  .colab-df-quickchart {\n",
              "      --bg-color: #E8F0FE;\n",
              "      --fill-color: #1967D2;\n",
              "      --hover-bg-color: #E2EBFA;\n",
              "      --hover-fill-color: #174EA6;\n",
              "      --disabled-fill-color: #AAA;\n",
              "      --disabled-bg-color: #DDD;\n",
              "  }\n",
              "\n",
              "  [theme=dark] .colab-df-quickchart {\n",
              "      --bg-color: #3B4455;\n",
              "      --fill-color: #D2E3FC;\n",
              "      --hover-bg-color: #434B5C;\n",
              "      --hover-fill-color: #FFFFFF;\n",
              "      --disabled-bg-color: #3B4455;\n",
              "      --disabled-fill-color: #666;\n",
              "  }\n",
              "\n",
              "  .colab-df-quickchart {\n",
              "    background-color: var(--bg-color);\n",
              "    border: none;\n",
              "    border-radius: 50%;\n",
              "    cursor: pointer;\n",
              "    display: none;\n",
              "    fill: var(--fill-color);\n",
              "    height: 32px;\n",
              "    padding: 0;\n",
              "    width: 32px;\n",
              "  }\n",
              "\n",
              "  .colab-df-quickchart:hover {\n",
              "    background-color: var(--hover-bg-color);\n",
              "    box-shadow: 0 1px 2px rgba(60, 64, 67, 0.3), 0 1px 3px 1px rgba(60, 64, 67, 0.15);\n",
              "    fill: var(--button-hover-fill-color);\n",
              "  }\n",
              "\n",
              "  .colab-df-quickchart-complete:disabled,\n",
              "  .colab-df-quickchart-complete:disabled:hover {\n",
              "    background-color: var(--disabled-bg-color);\n",
              "    fill: var(--disabled-fill-color);\n",
              "    box-shadow: none;\n",
              "  }\n",
              "\n",
              "  .colab-df-spinner {\n",
              "    border: 2px solid var(--fill-color);\n",
              "    border-color: transparent;\n",
              "    border-bottom-color: var(--fill-color);\n",
              "    animation:\n",
              "      spin 1s steps(1) infinite;\n",
              "  }\n",
              "\n",
              "  @keyframes spin {\n",
              "    0% {\n",
              "      border-color: transparent;\n",
              "      border-bottom-color: var(--fill-color);\n",
              "      border-left-color: var(--fill-color);\n",
              "    }\n",
              "    20% {\n",
              "      border-color: transparent;\n",
              "      border-left-color: var(--fill-color);\n",
              "      border-top-color: var(--fill-color);\n",
              "    }\n",
              "    30% {\n",
              "      border-color: transparent;\n",
              "      border-left-color: var(--fill-color);\n",
              "      border-top-color: var(--fill-color);\n",
              "      border-right-color: var(--fill-color);\n",
              "    }\n",
              "    40% {\n",
              "      border-color: transparent;\n",
              "      border-right-color: var(--fill-color);\n",
              "      border-top-color: var(--fill-color);\n",
              "    }\n",
              "    60% {\n",
              "      border-color: transparent;\n",
              "      border-right-color: var(--fill-color);\n",
              "    }\n",
              "    80% {\n",
              "      border-color: transparent;\n",
              "      border-right-color: var(--fill-color);\n",
              "      border-bottom-color: var(--fill-color);\n",
              "    }\n",
              "    90% {\n",
              "      border-color: transparent;\n",
              "      border-bottom-color: var(--fill-color);\n",
              "    }\n",
              "  }\n",
              "</style>\n",
              "\n",
              "  <script>\n",
              "    async function quickchart(key) {\n",
              "      const quickchartButtonEl =\n",
              "        document.querySelector('#' + key + ' button');\n",
              "      quickchartButtonEl.disabled = true;  // To prevent multiple clicks.\n",
              "      quickchartButtonEl.classList.add('colab-df-spinner');\n",
              "      try {\n",
              "        const charts = await google.colab.kernel.invokeFunction(\n",
              "            'suggestCharts', [key], {});\n",
              "      } catch (error) {\n",
              "        console.error('Error during call to suggestCharts:', error);\n",
              "      }\n",
              "      quickchartButtonEl.classList.remove('colab-df-spinner');\n",
              "      quickchartButtonEl.classList.add('colab-df-quickchart-complete');\n",
              "    }\n",
              "    (() => {\n",
              "      let quickchartButtonEl =\n",
              "        document.querySelector('#df-caa37531-2867-44f5-afd8-2a2ee38a6bff button');\n",
              "      quickchartButtonEl.style.display =\n",
              "        google.colab.kernel.accessAllowed ? 'block' : 'none';\n",
              "    })();\n",
              "  </script>\n",
              "</div>\n",
              "\n",
              "    </div>\n",
              "  </div>\n"
            ],
            "application/vnd.google.colaboratory.intrinsic+json": {
              "type": "dataframe",
              "variable_name": "spam",
              "summary": "{\n  \"name\": \"spam\",\n  \"rows\": 5572,\n  \"fields\": [\n    {\n      \"column\": \"Category\",\n      \"properties\": {\n        \"dtype\": \"category\",\n        \"num_unique_values\": 2,\n        \"samples\": [\n          \"spam\",\n          \"ham\"\n        ],\n        \"semantic_type\": \"\",\n        \"description\": \"\"\n      }\n    },\n    {\n      \"column\": \"Message\",\n      \"properties\": {\n        \"dtype\": \"string\",\n        \"num_unique_values\": 5157,\n        \"samples\": [\n          \"Also sir, i sent you an email about how to log into the usc payment portal. I.ll send you another message that should explain how things are back home. Have a great weekend.\",\n          \"Are you free now?can i call now?\"\n        ],\n        \"semantic_type\": \"\",\n        \"description\": \"\"\n      }\n    }\n  ]\n}"
            }
          },
          "metadata": {},
          "execution_count": 4
        }
      ]
    },
    {
      "cell_type": "code",
      "source": [
        "#transformar as categorias (classes) em numérico\n",
        "labelencoder = LabelEncoder()\n",
        "y = labelencoder.fit_transform(spam['Category'])\n",
        "print(y)"
      ],
      "metadata": {
        "id": "1QaxUhbRZEEc",
        "colab": {
          "base_uri": "https://localhost:8080/"
        },
        "outputId": "dba44e47-207a-42da-daa7-4fae9f6348db"
      },
      "execution_count": null,
      "outputs": [
        {
          "output_type": "stream",
          "name": "stdout",
          "text": [
            "[0 0 1 ... 0 0 0]\n"
          ]
        }
      ]
    },
    {
      "cell_type": "code",
      "source": [
        "mensagens = spam['Message'].values #Transforma objeto do pandas para numpy\n",
        "\n",
        "X_train, X_test, y_train, y_test = train_test_split(mensagens, y, test_size=0.3)\n",
        "print(X_train)"
      ],
      "metadata": {
        "id": "_j-LT-F3ZSzB",
        "colab": {
          "base_uri": "https://localhost:8080/"
        },
        "outputId": "ebff3b0b-5ec9-4b2a-b111-db3ee6d09301"
      },
      "execution_count": null,
      "outputs": [
        {
          "output_type": "stream",
          "name": "stdout",
          "text": [
            "['Fine i miss you very much.'\n",
            " 'Shuhui say change 2 suntec steamboat? U noe where? Where r u now?'\n",
            " \"K, I'll work something out\" ...\n",
            " 'Its a site to simulate the test. It just gives you very tough questions to test your readiness.'\n",
            " \"What u talking bout early morning? It's almost noon where your at!\"\n",
            " 'Sending you greetings of joy and happiness. Do have a gr8 evening']\n"
          ]
        }
      ]
    },
    {
      "cell_type": "code",
      "source": [
        "vetorizador = CountVectorizer() #Cria vetor de 0 e 1 para cada palavra (OneHot Encoding)\n",
        "vetorizador.fit(X_train) #Fit: cria o modelo\n",
        "X_train = vetorizador.transform(X_train)\n",
        "X_test = vetorizador.transform(X_test)\n",
        "print(X_train.toarray())"
      ],
      "metadata": {
        "id": "UQU_iucLZi7f",
        "colab": {
          "base_uri": "https://localhost:8080/"
        },
        "outputId": "b8fba1e5-ca50-48d2-9ca6-37ea9537b808"
      },
      "execution_count": null,
      "outputs": [
        {
          "output_type": "stream",
          "name": "stdout",
          "text": [
            "[[0 0 0 ... 0 0 0]\n",
            " [0 0 0 ... 0 0 0]\n",
            " [0 0 0 ... 0 0 0]\n",
            " ...\n",
            " [0 0 0 ... 0 0 0]\n",
            " [0 0 0 ... 0 0 0]\n",
            " [0 0 0 ... 0 0 0]]\n"
          ]
        }
      ]
    },
    {
      "cell_type": "code",
      "source": [
        "import numpy as np\n",
        "np.set_printoptions(threshold=np.inf)"
      ],
      "metadata": {
        "id": "bAQbwbEaaacQ"
      },
      "execution_count": null,
      "outputs": []
    },
    {
      "cell_type": "code",
      "source": [
        "X_train.toarray()[0]"
      ],
      "metadata": {
        "id": "2KC4LWh2aiaP"
      },
      "execution_count": null,
      "outputs": []
    },
    {
      "cell_type": "code",
      "source": [
        "print(X_train.shape[1])"
      ],
      "metadata": {
        "id": "GM4FLC2EaqC5",
        "colab": {
          "base_uri": "https://localhost:8080/"
        },
        "outputId": "9a2d9726-a0e9-4394-cba1-c1b1f63cd80b"
      },
      "execution_count": null,
      "outputs": [
        {
          "output_type": "stream",
          "name": "stdout",
          "text": [
            "7121\n"
          ]
        }
      ]
    },
    {
      "cell_type": "code",
      "source": [
        "modelo = Sequential() #Adiciona as camadas\n",
        "#Camada de entrada\n",
        "#units: neuronios, activation: função ativação. input_dim: qtd de colunas\n",
        "modelo.add(Dense(units=10, activation='relu', input_dim=X_train.shape[1]))\n",
        "#Técnica para minimizar overfiting\n",
        "#Remove aleatóriamente 1% de sinapses (conexões)\n",
        "modelo.add(Dropout(0.1))\n",
        "#2ª camada oculta densa\n",
        "#nª de neurônios ser referente ao número de classes\n",
        "modelo.add(Dense(units=8, activation='relu'))\n",
        "modelo.add(Dropout(0.1))\n",
        "#Última camada\n",
        "#Como vai retornae somente 1 valor, units=1; Muda função de ativação\n",
        "modelo.add(Dense(units=1, activation='sigmoid'))\n"
      ],
      "metadata": {
        "id": "tG50tL9PauOR"
      },
      "execution_count": null,
      "outputs": []
    },
    {
      "cell_type": "code",
      "source": [
        "#Compilar a rede\n",
        "#Função loss: função de perda\n",
        "#Optimizer: Ajuste dos pesos. 'adam': estocástico\n",
        "#Metrics: Avaliar a performance\n",
        "modelo.compile(loss='mean_squared_error', optimizer='adam', metrics=['accuracy'])\n",
        "modelo.summary()"
      ],
      "metadata": {
        "id": "nE_frMJLcI03",
        "colab": {
          "base_uri": "https://localhost:8080/"
        },
        "outputId": "4d1943b3-e460-4b42-8370-41920f167192"
      },
      "execution_count": null,
      "outputs": [
        {
          "output_type": "stream",
          "name": "stdout",
          "text": [
            "Model: \"sequential\"\n",
            "_________________________________________________________________\n",
            " Layer (type)                Output Shape              Param #   \n",
            "=================================================================\n",
            " dense (Dense)               (None, 10)                71220     \n",
            "                                                                 \n",
            " dropout (Dropout)           (None, 10)                0         \n",
            "                                                                 \n",
            " dense_1 (Dense)             (None, 8)                 88        \n",
            "                                                                 \n",
            " dropout_1 (Dropout)         (None, 8)                 0         \n",
            "                                                                 \n",
            " dense_2 (Dense)             (None, 1)                 9         \n",
            "                                                                 \n",
            "=================================================================\n",
            "Total params: 71317 (278.58 KB)\n",
            "Trainable params: 71317 (278.58 KB)\n",
            "Non-trainable params: 0 (0.00 Byte)\n",
            "_________________________________________________________________\n"
          ]
        }
      ]
    },
    {
      "cell_type": "code",
      "source": [
        "#dados de treino\n",
        "#epochs: serão passados todos os dados de treino pela rede\n",
        "#batch_size: A cada qtds registros atualiza-se a rede?\n",
        "#verbose: retorno do processo iterativo de treinamento\n",
        "#validation_data: Treina e usa dados de validação para melhorar o modelo\n",
        "\n",
        "modelo.fit(X_train, y_train, epochs=20, batch_size=10, verbose=True, validation_data=(X_test, y_test))"
      ],
      "metadata": {
        "colab": {
          "base_uri": "https://localhost:8080/"
        },
        "id": "rhsbuSirHrmN",
        "outputId": "d2260a03-cbbd-4c0b-8a63-7ef9052f68f8"
      },
      "execution_count": null,
      "outputs": [
        {
          "output_type": "stream",
          "name": "stdout",
          "text": [
            "Epoch 1/20\n",
            "390/390 [==============================] - 4s 6ms/step - loss: 0.0937 - accuracy: 0.9305 - val_loss: 0.0215 - val_accuracy: 0.9761\n",
            "Epoch 2/20\n",
            "390/390 [==============================] - 1s 3ms/step - loss: 0.0160 - accuracy: 0.9872 - val_loss: 0.0141 - val_accuracy: 0.9803\n",
            "Epoch 3/20\n",
            "390/390 [==============================] - 1s 3ms/step - loss: 0.0088 - accuracy: 0.9918 - val_loss: 0.0127 - val_accuracy: 0.9844\n",
            "Epoch 4/20\n",
            "390/390 [==============================] - 1s 3ms/step - loss: 0.0055 - accuracy: 0.9946 - val_loss: 0.0129 - val_accuracy: 0.9839\n",
            "Epoch 5/20\n",
            "390/390 [==============================] - 1s 4ms/step - loss: 0.0036 - accuracy: 0.9974 - val_loss: 0.0127 - val_accuracy: 0.9850\n",
            "Epoch 6/20\n",
            "390/390 [==============================] - 2s 5ms/step - loss: 0.0038 - accuracy: 0.9967 - val_loss: 0.0146 - val_accuracy: 0.9809\n",
            "Epoch 7/20\n",
            "390/390 [==============================] - 1s 3ms/step - loss: 0.0024 - accuracy: 0.9979 - val_loss: 0.0151 - val_accuracy: 0.9803\n",
            "Epoch 8/20\n",
            "390/390 [==============================] - 1s 3ms/step - loss: 0.0023 - accuracy: 0.9979 - val_loss: 0.0139 - val_accuracy: 0.9821\n",
            "Epoch 9/20\n",
            "390/390 [==============================] - 1s 3ms/step - loss: 0.0021 - accuracy: 0.9979 - val_loss: 0.0117 - val_accuracy: 0.9856\n",
            "Epoch 10/20\n",
            "390/390 [==============================] - 1s 3ms/step - loss: 0.0020 - accuracy: 0.9979 - val_loss: 0.0135 - val_accuracy: 0.9827\n",
            "Epoch 11/20\n",
            "390/390 [==============================] - 1s 3ms/step - loss: 0.0017 - accuracy: 0.9987 - val_loss: 0.0142 - val_accuracy: 0.9821\n",
            "Epoch 12/20\n",
            "390/390 [==============================] - 2s 5ms/step - loss: 0.0017 - accuracy: 0.9982 - val_loss: 0.0108 - val_accuracy: 0.9862\n",
            "Epoch 13/20\n",
            "390/390 [==============================] - 2s 6ms/step - loss: 0.0018 - accuracy: 0.9985 - val_loss: 0.0115 - val_accuracy: 0.9868\n",
            "Epoch 14/20\n",
            "390/390 [==============================] - 2s 5ms/step - loss: 0.0013 - accuracy: 0.9990 - val_loss: 0.0120 - val_accuracy: 0.9856\n",
            "Epoch 15/20\n",
            "390/390 [==============================] - 2s 4ms/step - loss: 0.0013 - accuracy: 0.9990 - val_loss: 0.0119 - val_accuracy: 0.9874\n",
            "Epoch 16/20\n",
            "390/390 [==============================] - 1s 3ms/step - loss: 0.0013 - accuracy: 0.9987 - val_loss: 0.0121 - val_accuracy: 0.9862\n",
            "Epoch 17/20\n",
            "390/390 [==============================] - 1s 3ms/step - loss: 0.0012 - accuracy: 0.9992 - val_loss: 0.0118 - val_accuracy: 0.9856\n",
            "Epoch 18/20\n",
            "390/390 [==============================] - 2s 5ms/step - loss: 0.0011 - accuracy: 0.9992 - val_loss: 0.0131 - val_accuracy: 0.9844\n",
            "Epoch 19/20\n",
            "390/390 [==============================] - 2s 4ms/step - loss: 7.5053e-04 - accuracy: 0.9992 - val_loss: 0.0122 - val_accuracy: 0.9839\n",
            "Epoch 20/20\n",
            "390/390 [==============================] - 1s 3ms/step - loss: 0.0011 - accuracy: 0.9987 - val_loss: 0.0132 - val_accuracy: 0.9844\n"
          ]
        },
        {
          "output_type": "execute_result",
          "data": {
            "text/plain": [
              "<keras.src.callbacks.History at 0x7a46abc42500>"
            ]
          },
          "metadata": {},
          "execution_count": 14
        }
      ]
    },
    {
      "cell_type": "code",
      "source": [
        "loss, accuracy = modelo.evaluate(X_test, y_test)\n",
        "print('Loss:', loss)\n",
        "print('Acurácia:', accuracy)"
      ],
      "metadata": {
        "colab": {
          "base_uri": "https://localhost:8080/"
        },
        "id": "5E7uhKrSI4TF",
        "outputId": "5dab7b25-2f92-4a7f-f7f9-0b2f69457e58"
      },
      "execution_count": null,
      "outputs": [
        {
          "output_type": "stream",
          "name": "stdout",
          "text": [
            "53/53 [==============================] - 0s 2ms/step - loss: 0.0132 - accuracy: 0.9844\n",
            "Loss: 0.013239754363894463\n",
            "Acurácia: 0.9844497442245483\n"
          ]
        }
      ]
    },
    {
      "cell_type": "code",
      "source": [
        "nova_previsao = modelo.predict(X_test)\n",
        "print(nova_previsao)"
      ],
      "metadata": {
        "id": "i_UZ9BBEJJdJ"
      },
      "execution_count": null,
      "outputs": []
    },
    {
      "cell_type": "code",
      "source": [
        "prev = (nova_previsao > 0.5)\n",
        "print(prev)"
      ],
      "metadata": {
        "id": "_5TXHPYfJVqa"
      },
      "execution_count": null,
      "outputs": []
    },
    {
      "cell_type": "code",
      "source": [
        "cm = confusion_matrix(y_test, prev)\n",
        "print(cm)"
      ],
      "metadata": {
        "colab": {
          "base_uri": "https://localhost:8080/"
        },
        "id": "Tu3kVcTyJk8z",
        "outputId": "badbcbe3-42bd-4ac4-e50b-152a330b7cbd"
      },
      "execution_count": null,
      "outputs": [
        {
          "output_type": "stream",
          "name": "stdout",
          "text": [
            "[[1438    0]\n",
            " [  26  208]]\n"
          ]
        }
      ]
    },
    {
      "cell_type": "markdown",
      "source": [
        "Rede Neural 2 - Deep Learning"
      ],
      "metadata": {
        "id": "9yR-ZdpcJwrI"
      }
    },
    {
      "cell_type": "code",
      "source": [
        "import pandas as pd\n",
        "from sklearn.model_selection import train_test_split\n",
        "from sklearn.preprocessing import LabelEncoder\n",
        "from sklearn.metrics import confusion_matrix\n",
        "from keras.models import Sequential\n",
        "from keras.layers import Dense, Dropout, Flatten, Embedding\n",
        "from google.colab import files\n",
        "from keras.preprocessing.text import Tokenizer\n",
        "from keras.preprocessing.sequence import pad_sequences"
      ],
      "metadata": {
        "id": "AC8PMbThJtTg"
      },
      "execution_count": null,
      "outputs": []
    },
    {
      "cell_type": "code",
      "source": [
        "files.upload()"
      ],
      "metadata": {
        "id": "nw66AUZjKP4i"
      },
      "execution_count": null,
      "outputs": []
    },
    {
      "cell_type": "code",
      "source": [
        "spam = pd.read_csv('spam.csv')\n",
        "spam.head()"
      ],
      "metadata": {
        "colab": {
          "base_uri": "https://localhost:8080/",
          "height": 206
        },
        "id": "WvBKdw5YKxPM",
        "outputId": "2379bbd1-acd6-4356-ddca-07789f1059df"
      },
      "execution_count": null,
      "outputs": [
        {
          "output_type": "execute_result",
          "data": {
            "text/plain": [
              "  Category                                            Message\n",
              "0      ham  Go until jurong point, crazy.. Available only ...\n",
              "1      ham                      Ok lar... Joking wif u oni...\n",
              "2     spam  Free entry in 2 a wkly comp to win FA Cup fina...\n",
              "3      ham  U dun say so early hor... U c already then say...\n",
              "4      ham  Nah I don't think he goes to usf, he lives aro..."
            ],
            "text/html": [
              "\n",
              "  <div id=\"df-8fcf5d25-8be6-4335-a942-175cfc9d231c\" class=\"colab-df-container\">\n",
              "    <div>\n",
              "<style scoped>\n",
              "    .dataframe tbody tr th:only-of-type {\n",
              "        vertical-align: middle;\n",
              "    }\n",
              "\n",
              "    .dataframe tbody tr th {\n",
              "        vertical-align: top;\n",
              "    }\n",
              "\n",
              "    .dataframe thead th {\n",
              "        text-align: right;\n",
              "    }\n",
              "</style>\n",
              "<table border=\"1\" class=\"dataframe\">\n",
              "  <thead>\n",
              "    <tr style=\"text-align: right;\">\n",
              "      <th></th>\n",
              "      <th>Category</th>\n",
              "      <th>Message</th>\n",
              "    </tr>\n",
              "  </thead>\n",
              "  <tbody>\n",
              "    <tr>\n",
              "      <th>0</th>\n",
              "      <td>ham</td>\n",
              "      <td>Go until jurong point, crazy.. Available only ...</td>\n",
              "    </tr>\n",
              "    <tr>\n",
              "      <th>1</th>\n",
              "      <td>ham</td>\n",
              "      <td>Ok lar... Joking wif u oni...</td>\n",
              "    </tr>\n",
              "    <tr>\n",
              "      <th>2</th>\n",
              "      <td>spam</td>\n",
              "      <td>Free entry in 2 a wkly comp to win FA Cup fina...</td>\n",
              "    </tr>\n",
              "    <tr>\n",
              "      <th>3</th>\n",
              "      <td>ham</td>\n",
              "      <td>U dun say so early hor... U c already then say...</td>\n",
              "    </tr>\n",
              "    <tr>\n",
              "      <th>4</th>\n",
              "      <td>ham</td>\n",
              "      <td>Nah I don't think he goes to usf, he lives aro...</td>\n",
              "    </tr>\n",
              "  </tbody>\n",
              "</table>\n",
              "</div>\n",
              "    <div class=\"colab-df-buttons\">\n",
              "\n",
              "  <div class=\"colab-df-container\">\n",
              "    <button class=\"colab-df-convert\" onclick=\"convertToInteractive('df-8fcf5d25-8be6-4335-a942-175cfc9d231c')\"\n",
              "            title=\"Convert this dataframe to an interactive table.\"\n",
              "            style=\"display:none;\">\n",
              "\n",
              "  <svg xmlns=\"http://www.w3.org/2000/svg\" height=\"24px\" viewBox=\"0 -960 960 960\">\n",
              "    <path d=\"M120-120v-720h720v720H120Zm60-500h600v-160H180v160Zm220 220h160v-160H400v160Zm0 220h160v-160H400v160ZM180-400h160v-160H180v160Zm440 0h160v-160H620v160ZM180-180h160v-160H180v160Zm440 0h160v-160H620v160Z\"/>\n",
              "  </svg>\n",
              "    </button>\n",
              "\n",
              "  <style>\n",
              "    .colab-df-container {\n",
              "      display:flex;\n",
              "      gap: 12px;\n",
              "    }\n",
              "\n",
              "    .colab-df-convert {\n",
              "      background-color: #E8F0FE;\n",
              "      border: none;\n",
              "      border-radius: 50%;\n",
              "      cursor: pointer;\n",
              "      display: none;\n",
              "      fill: #1967D2;\n",
              "      height: 32px;\n",
              "      padding: 0 0 0 0;\n",
              "      width: 32px;\n",
              "    }\n",
              "\n",
              "    .colab-df-convert:hover {\n",
              "      background-color: #E2EBFA;\n",
              "      box-shadow: 0px 1px 2px rgba(60, 64, 67, 0.3), 0px 1px 3px 1px rgba(60, 64, 67, 0.15);\n",
              "      fill: #174EA6;\n",
              "    }\n",
              "\n",
              "    .colab-df-buttons div {\n",
              "      margin-bottom: 4px;\n",
              "    }\n",
              "\n",
              "    [theme=dark] .colab-df-convert {\n",
              "      background-color: #3B4455;\n",
              "      fill: #D2E3FC;\n",
              "    }\n",
              "\n",
              "    [theme=dark] .colab-df-convert:hover {\n",
              "      background-color: #434B5C;\n",
              "      box-shadow: 0px 1px 3px 1px rgba(0, 0, 0, 0.15);\n",
              "      filter: drop-shadow(0px 1px 2px rgba(0, 0, 0, 0.3));\n",
              "      fill: #FFFFFF;\n",
              "    }\n",
              "  </style>\n",
              "\n",
              "    <script>\n",
              "      const buttonEl =\n",
              "        document.querySelector('#df-8fcf5d25-8be6-4335-a942-175cfc9d231c button.colab-df-convert');\n",
              "      buttonEl.style.display =\n",
              "        google.colab.kernel.accessAllowed ? 'block' : 'none';\n",
              "\n",
              "      async function convertToInteractive(key) {\n",
              "        const element = document.querySelector('#df-8fcf5d25-8be6-4335-a942-175cfc9d231c');\n",
              "        const dataTable =\n",
              "          await google.colab.kernel.invokeFunction('convertToInteractive',\n",
              "                                                    [key], {});\n",
              "        if (!dataTable) return;\n",
              "\n",
              "        const docLinkHtml = 'Like what you see? Visit the ' +\n",
              "          '<a target=\"_blank\" href=https://colab.research.google.com/notebooks/data_table.ipynb>data table notebook</a>'\n",
              "          + ' to learn more about interactive tables.';\n",
              "        element.innerHTML = '';\n",
              "        dataTable['output_type'] = 'display_data';\n",
              "        await google.colab.output.renderOutput(dataTable, element);\n",
              "        const docLink = document.createElement('div');\n",
              "        docLink.innerHTML = docLinkHtml;\n",
              "        element.appendChild(docLink);\n",
              "      }\n",
              "    </script>\n",
              "  </div>\n",
              "\n",
              "\n",
              "<div id=\"df-b5b6e5ea-1daa-49a7-9bc0-3e8f7f2bf6f3\">\n",
              "  <button class=\"colab-df-quickchart\" onclick=\"quickchart('df-b5b6e5ea-1daa-49a7-9bc0-3e8f7f2bf6f3')\"\n",
              "            title=\"Suggest charts\"\n",
              "            style=\"display:none;\">\n",
              "\n",
              "<svg xmlns=\"http://www.w3.org/2000/svg\" height=\"24px\"viewBox=\"0 0 24 24\"\n",
              "     width=\"24px\">\n",
              "    <g>\n",
              "        <path d=\"M19 3H5c-1.1 0-2 .9-2 2v14c0 1.1.9 2 2 2h14c1.1 0 2-.9 2-2V5c0-1.1-.9-2-2-2zM9 17H7v-7h2v7zm4 0h-2V7h2v10zm4 0h-2v-4h2v4z\"/>\n",
              "    </g>\n",
              "</svg>\n",
              "  </button>\n",
              "\n",
              "<style>\n",
              "  .colab-df-quickchart {\n",
              "      --bg-color: #E8F0FE;\n",
              "      --fill-color: #1967D2;\n",
              "      --hover-bg-color: #E2EBFA;\n",
              "      --hover-fill-color: #174EA6;\n",
              "      --disabled-fill-color: #AAA;\n",
              "      --disabled-bg-color: #DDD;\n",
              "  }\n",
              "\n",
              "  [theme=dark] .colab-df-quickchart {\n",
              "      --bg-color: #3B4455;\n",
              "      --fill-color: #D2E3FC;\n",
              "      --hover-bg-color: #434B5C;\n",
              "      --hover-fill-color: #FFFFFF;\n",
              "      --disabled-bg-color: #3B4455;\n",
              "      --disabled-fill-color: #666;\n",
              "  }\n",
              "\n",
              "  .colab-df-quickchart {\n",
              "    background-color: var(--bg-color);\n",
              "    border: none;\n",
              "    border-radius: 50%;\n",
              "    cursor: pointer;\n",
              "    display: none;\n",
              "    fill: var(--fill-color);\n",
              "    height: 32px;\n",
              "    padding: 0;\n",
              "    width: 32px;\n",
              "  }\n",
              "\n",
              "  .colab-df-quickchart:hover {\n",
              "    background-color: var(--hover-bg-color);\n",
              "    box-shadow: 0 1px 2px rgba(60, 64, 67, 0.3), 0 1px 3px 1px rgba(60, 64, 67, 0.15);\n",
              "    fill: var(--button-hover-fill-color);\n",
              "  }\n",
              "\n",
              "  .colab-df-quickchart-complete:disabled,\n",
              "  .colab-df-quickchart-complete:disabled:hover {\n",
              "    background-color: var(--disabled-bg-color);\n",
              "    fill: var(--disabled-fill-color);\n",
              "    box-shadow: none;\n",
              "  }\n",
              "\n",
              "  .colab-df-spinner {\n",
              "    border: 2px solid var(--fill-color);\n",
              "    border-color: transparent;\n",
              "    border-bottom-color: var(--fill-color);\n",
              "    animation:\n",
              "      spin 1s steps(1) infinite;\n",
              "  }\n",
              "\n",
              "  @keyframes spin {\n",
              "    0% {\n",
              "      border-color: transparent;\n",
              "      border-bottom-color: var(--fill-color);\n",
              "      border-left-color: var(--fill-color);\n",
              "    }\n",
              "    20% {\n",
              "      border-color: transparent;\n",
              "      border-left-color: var(--fill-color);\n",
              "      border-top-color: var(--fill-color);\n",
              "    }\n",
              "    30% {\n",
              "      border-color: transparent;\n",
              "      border-left-color: var(--fill-color);\n",
              "      border-top-color: var(--fill-color);\n",
              "      border-right-color: var(--fill-color);\n",
              "    }\n",
              "    40% {\n",
              "      border-color: transparent;\n",
              "      border-right-color: var(--fill-color);\n",
              "      border-top-color: var(--fill-color);\n",
              "    }\n",
              "    60% {\n",
              "      border-color: transparent;\n",
              "      border-right-color: var(--fill-color);\n",
              "    }\n",
              "    80% {\n",
              "      border-color: transparent;\n",
              "      border-right-color: var(--fill-color);\n",
              "      border-bottom-color: var(--fill-color);\n",
              "    }\n",
              "    90% {\n",
              "      border-color: transparent;\n",
              "      border-bottom-color: var(--fill-color);\n",
              "    }\n",
              "  }\n",
              "</style>\n",
              "\n",
              "  <script>\n",
              "    async function quickchart(key) {\n",
              "      const quickchartButtonEl =\n",
              "        document.querySelector('#' + key + ' button');\n",
              "      quickchartButtonEl.disabled = true;  // To prevent multiple clicks.\n",
              "      quickchartButtonEl.classList.add('colab-df-spinner');\n",
              "      try {\n",
              "        const charts = await google.colab.kernel.invokeFunction(\n",
              "            'suggestCharts', [key], {});\n",
              "      } catch (error) {\n",
              "        console.error('Error during call to suggestCharts:', error);\n",
              "      }\n",
              "      quickchartButtonEl.classList.remove('colab-df-spinner');\n",
              "      quickchartButtonEl.classList.add('colab-df-quickchart-complete');\n",
              "    }\n",
              "    (() => {\n",
              "      let quickchartButtonEl =\n",
              "        document.querySelector('#df-b5b6e5ea-1daa-49a7-9bc0-3e8f7f2bf6f3 button');\n",
              "      quickchartButtonEl.style.display =\n",
              "        google.colab.kernel.accessAllowed ? 'block' : 'none';\n",
              "    })();\n",
              "  </script>\n",
              "</div>\n",
              "\n",
              "    </div>\n",
              "  </div>\n"
            ],
            "application/vnd.google.colaboratory.intrinsic+json": {
              "type": "dataframe",
              "variable_name": "spam",
              "summary": "{\n  \"name\": \"spam\",\n  \"rows\": 5572,\n  \"fields\": [\n    {\n      \"column\": \"Category\",\n      \"properties\": {\n        \"dtype\": \"category\",\n        \"num_unique_values\": 2,\n        \"samples\": [\n          \"spam\",\n          \"ham\"\n        ],\n        \"semantic_type\": \"\",\n        \"description\": \"\"\n      }\n    },\n    {\n      \"column\": \"Message\",\n      \"properties\": {\n        \"dtype\": \"string\",\n        \"num_unique_values\": 5157,\n        \"samples\": [\n          \"Also sir, i sent you an email about how to log into the usc payment portal. I.ll send you another message that should explain how things are back home. Have a great weekend.\",\n          \"Are you free now?can i call now?\"\n        ],\n        \"semantic_type\": \"\",\n        \"description\": \"\"\n      }\n    }\n  ]\n}"
            }
          },
          "metadata": {},
          "execution_count": 22
        }
      ]
    },
    {
      "cell_type": "code",
      "source": [
        "labelencoder = LabelEncoder()\n",
        "y = labelencoder.fit_transform(spam['Category'])\n",
        "print(y)"
      ],
      "metadata": {
        "id": "BzepOXDVK3Cg"
      },
      "execution_count": null,
      "outputs": []
    },
    {
      "cell_type": "code",
      "source": [
        "mensagens = spam['Message'].values #Transforma objeto do pandas para numpy\n",
        "\n",
        "X_train, X_test, y_train, y_test = train_test_split(mensagens, y, test_size=0.3)"
      ],
      "metadata": {
        "id": "GA9csOBvLIfA"
      },
      "execution_count": null,
      "outputs": []
    },
    {
      "cell_type": "code",
      "source": [
        "# 1 - tokenizar o texto\n",
        "token = Tokenizer(num_words=1000) #Nº maximo de palavras a serem mantidas\n",
        "print(token)"
      ],
      "metadata": {
        "colab": {
          "base_uri": "https://localhost:8080/"
        },
        "id": "-Nv0rLtbLR4H",
        "outputId": "fa1eef84-27cb-4c1b-a356-778878d7e85f"
      },
      "execution_count": null,
      "outputs": [
        {
          "output_type": "stream",
          "name": "stdout",
          "text": [
            "<keras.src.preprocessing.text.Tokenizer object at 0x7a468b7488b0>\n"
          ]
        }
      ]
    },
    {
      "cell_type": "code",
      "source": [
        "#Fit: transforma\n",
        "token.fit_on_texts(X_train)\n",
        "#Criação da matriz densa dos tokens\n",
        "X_train = token.texts_to_sequences(X_train)\n",
        "X_test = token.texts_to_sequences(X_test)"
      ],
      "metadata": {
        "id": "_pVEl-ELRuRG"
      },
      "execution_count": null,
      "outputs": []
    },
    {
      "cell_type": "code",
      "source": [
        "#Matrix densa dos tokens\n",
        "#Transformou palavras em números\n",
        "print(X_train)"
      ],
      "metadata": {
        "colab": {
          "base_uri": "https://localhost:8080/"
        },
        "id": "eCSUs5JNL8kO",
        "outputId": "3c653baa-c690-41e0-94b2-2328fb2b6917"
      },
      "execution_count": null,
      "outputs": [
        {
          "output_type": "stream",
          "name": "stdout",
          "text": [
            "[[57, 77, 64, 82, 205, 10, 27], [769, 71, 4, 770, 357, 247, 3, 16, 118, 488, 2, 136, 829, 2, 119, 15, 119, 430, 476, 726, 567, 60], [45], [170, 239, 830, 1, 100, 49, 373, 2, 167, 177, 334, 173, 3, 431, 598], [28, 3, 70, 4, 108, 209, 477, 105, 164, 34, 47, 358, 2, 101, 93, 683, 47, 68, 47, 684, 95, 30, 15], [85, 79, 15, 97], [147, 83, 6, 149], [1, 26, 67, 156, 2, 13, 568, 28, 3, 295, 43, 42, 478, 227, 124], [71, 8, 830], [685, 112, 197, 17, 156, 541, 569, 65, 359, 686], [32, 85, 228, 5, 17, 305, 20, 98, 178, 8, 570, 3, 727, 4, 111, 2, 10, 3, 16, 118, 4, 296, 27, 50, 478, 257, 27, 111, 407, 28, 16, 4, 111, 116], [345, 432, 374, 274, 728, 283, 306, 729, 41, 47, 135, 13, 105, 929, 15, 47, 18, 2, 453, 21], [514, 33, 730, 515, 6, 831, 91, 14, 542, 307, 730, 9, 125, 454, 82, 433, 141, 17, 930, 181, 82, 388, 16, 229, 62, 109], [1, 25, 335, 9, 72], [316, 288, 21, 1, 58, 4, 206, 10, 186, 288, 35, 1, 135, 4, 264, 206, 10, 19, 53], [6, 137, 193, 137, 289, 17, 33, 317], [51, 102, 15, 71, 72, 9, 142, 182, 157, 248, 12, 3], [69, 9, 389], [32, 832, 2, 14, 1, 36, 132, 11, 100, 599, 10, 543, 228, 60, 4, 264, 255, 40, 297, 40, 771, 10, 8, 156, 8, 59, 142], [29, 3, 28, 4, 265, 40, 27, 113, 687], [88, 7, 258, 192, 1, 100, 16, 2, 16, 2, 28, 14, 266], [6, 55, 39, 27], [1, 110, 248, 12, 5, 249, 375, 10, 46, 3, 37, 72, 35, 3, 431, 37, 72], [32, 85, 25, 7, 1, 112, 571, 2, 31, 434, 2, 49, 435, 29, 3, 36, 102, 167, 113, 275, 141, 2, 37, 54, 3, 572, 211, 2, 37, 102, 10, 3, 29, 95, 47, 931], [16, 3, 833, 51, 40, 116], [161, 932, 11, 834, 54, 94], [145, 153, 143, 11], [47, 544, 8, 19, 4, 688, 2, 212, 835, 600, 290, 68, 2, 2, 318, 544, 489, 75, 390, 171, 601, 455], [133, 1, 110, 24, 1, 61, 8, 456, 25, 11, 9, 8, 360, 1, 110, 316, 18, 12, 5, 184, 264, 284, 1, 361, 20, 206], [28, 6, 70, 19, 174, 44], [48, 72, 5, 772, 194, 110, 8, 17, 6, 113, 126, 48, 72, 126, 602, 64, 433, 158, 346, 602], [22, 3, 8, 3, 80, 2, 84, 179], [1, 26, 64, 34, 319, 102, 213, 603, 26, 933], [217, 334, 9, 8], [32, 8, 456, 87, 836, 55, 46, 114, 218, 10], [45], [153, 239, 207, 143, 2, 37, 8, 9, 20, 45], [106, 103, 54, 573, 2, 3, 162, 3, 837, 2, 10, 56, 142], [516, 15, 604, 838, 336, 25, 408, 38, 157], [1, 132, 3, 230, 25, 517, 168, 169, 56, 2, 84, 3, 164, 66, 10], [133, 69, 9, 169, 111, 267, 240, 159, 8, 389, 172, 2, 37, 48], [22, 3, 839, 34, 13, 518, 605, 8], [14, 59, 53, 2, 436, 2, 13, 574, 40, 165, 11, 66, 479, 1, 66, 3, 112, 11, 391, 51, 934, 5, 731], [85, 79, 15, 97], [409, 146, 1, 36, 392, 2, 64, 44, 97, 219], [56, 43, 42, 249, 489], [39, 55, 71, 17, 66, 25, 5, 275, 121, 59, 490, 48, 17, 217, 259, 19, 2, 104, 166, 8, 104, 43, 42, 689, 606, 41, 69, 57, 639, 489, 126, 5, 9, 5, 66, 5, 111], [85, 8, 265, 79, 15, 3, 97], [347, 214, 81, 8, 4, 291], [49, 519, 687, 690, 640, 60, 8, 82, 111, 389, 137, 72, 58, 147], [362, 47, 15, 10, 437], [16, 4, 53, 457], [127, 288, 21, 175, 170], [732, 217, 9, 11, 24, 28, 3, 122, 458], [5, 607, 181, 17, 14, 231, 520, 192, 14, 29, 39, 107, 40, 268, 18, 641], [103, 54, 573, 2, 3], [118, 44, 2, 250, 123, 3, 16, 4, 53, 320, 46, 22, 6, 1, 575, 90], [28, 3, 70, 4, 108, 348, 545, 733, 101, 357, 260, 345, 432, 274, 728, 684, 95, 30, 15, 642, 12, 606, 164], [608, 276, 199, 36, 190, 643, 13, 308, 7, 276, 15, 21, 199, 276, 232], [64, 81, 92, 360, 27, 113, 687, 24, 39, 29, 48, 5, 392, 12, 40, 337], [65, 691], [53, 491, 18, 40, 62, 11, 346, 1, 132, 40, 3, 148, 7, 840, 11, 1, 110, 17, 3, 7, 67, 4, 391, 51, 934, 5, 731, 17, 3], [32, 373, 2, 139, 3, 841, 492, 13, 773, 105], [1, 36, 493, 4, 734, 24, 153], [13, 609, 9, 4], [393, 410, 233, 394, 735, 73, 24, 147, 63, 83, 39, 265, 411], [9, 837, 34, 3], [85, 1, 224, 269, 3, 18, 40], [38, 459, 18, 104, 105, 32, 14, 21], [277, 51, 374, 12, 121, 47, 935, 2, 546, 547, 7, 460, 461, 47, 438, 7, 842, 459, 95, 133, 936, 455, 138, 374, 234, 195], [100, 186, 186, 148, 60, 199, 232, 34, 15, 439, 190, 19, 86, 92, 438, 15], [61, 1, 5, 60, 76, 140, 843], [692, 103, 576, 103, 6, 83, 23, 25, 1, 29, 440, 98, 37, 276, 34, 38, 129, 6, 83, 225, 11, 103, 198, 693], [111, 32, 8, 21, 26, 46, 1, 37, 48], [338, 39, 241, 49, 48, 12, 349, 79, 644, 3, 45], [937, 462, 335, 2, 28, 73, 6, 410, 571, 645, 122], [844, 73, 412, 39, 363, 694, 185, 109, 845, 147, 278], [153, 1, 61, 24, 79, 218, 395], [28, 3, 70, 545, 733, 101, 357, 260, 68, 7, 4, 108, 348, 105, 12, 60, 577, 227, 116, 15, 30, 95, 12, 606, 164], [148, 320, 290, 50, 33, 602, 64, 433], [1, 61, 235, 1, 26, 31, 72, 27], [3, 87, 27], [117, 5, 432, 9, 43, 42, 183, 10, 55, 35, 46, 52, 127, 3, 70], [433, 103, 1, 480, 2, 457, 7, 938, 24, 24, 1, 3, 8, 113, 63], [12, 33, 328, 2, 212, 4, 846, 688, 435, 75, 646, 2, 601, 138, 75, 19, 646, 176, 309], [23, 774, 289], [170, 45, 13], [3, 7, 13, 518, 939, 215, 7, 148, 108, 297, 8], [57, 39, 847, 28, 14, 159, 20], [77, 578, 106, 10, 52, 1, 695, 32, 23, 27, 74, 8, 109, 610, 147], [46, 146, 1, 64, 200], [52, 64, 49, 82, 106, 104, 57, 6, 267, 104], [54, 6, 727, 6, 940, 298, 298, 441, 696, 25, 1, 521, 6, 78, 2, 91, 4, 299, 1, 67, 104, 413, 24, 32, 848, 104, 44, 27, 462, 41, 647, 73], [36, 58, 292, 214, 49, 849], [52, 22, 3, 132, 13, 149, 45, 1, 135, 4, 396, 270, 1, 27, 201, 7, 122, 219, 54, 22, 219, 215], [1, 110, 12, 4, 849, 9, 5, 12, 850, 305, 1], [85, 310, 11, 184, 124, 7, 1, 224, 205, 44, 129, 519, 851], [14, 598, 166], [103, 89, 336, 10, 21], [38, 1, 775, 5, 9, 5, 249, 20, 43, 42, 27, 43, 42, 40, 458, 9, 169, 16, 3, 575, 13, 376, 65, 463, 7, 16, 3, 776, 35, 3, 22, 149, 17, 458, 30, 35, 852, 36, 28, 5, 777], [1, 521, 143, 11, 736, 648, 1, 494, 95, 147, 63, 28, 77, 80, 2, 218], [393, 311, 6, 154, 10], [115, 514, 6, 125, 6, 150, 277, 28, 6, 649, 9, 125, 334, 17, 277, 143, 125, 289, 17, 4, 308, 133, 7, 6, 649, 140, 9, 321, 308, 277, 89, 9, 125, 778, 140, 76, 29, 125, 289, 17, 4, 285, 350, 23, 217, 397, 576, 576, 125, 82, 1, 397, 171], [54, 90, 851, 851, 9, 279, 24, 38, 122], [161, 113, 27, 5, 853, 481, 22, 837, 94, 52, 114, 22, 7, 76, 779], [300, 31, 72, 18, 43, 42, 45], [226, 36, 941, 697], [180, 32, 3, 224, 3, 84, 10, 395, 288, 1, 58, 5, 143, 111], [133, 114, 11, 548, 32, 78, 2, 5, 456, 97, 460, 26, 8, 2, 780, 97, 202, 30, 18], [495, 12, 187, 95, 650, 30, 781, 121, 19, 153, 166, 286, 414, 64, 34, 10, 30, 86, 41, 129, 495, 75, 129], [38, 442], [28, 32, 78, 2, 27, 1, 579, 58, 4, 141, 2, 203, 151, 519, 57], [39, 522, 251, 92, 23, 36, 2, 31, 782, 51, 271, 611, 25, 2, 167, 48, 140, 496, 2, 651, 5, 158, 37], [345, 432, 374, 274, 728, 283, 306, 729, 41, 47, 135, 13, 105, 929, 15, 47, 18, 2, 453, 21, 171, 322], [299, 45], [123, 3, 37, 101, 464, 40, 297, 1, 361, 37, 188, 24, 377], [91, 181, 82, 37, 117, 220], [345, 432, 374, 274, 728, 283, 306, 729, 41, 47, 135, 13, 105, 929, 15, 47, 18, 2, 453, 21], [942, 10, 8, 580, 149, 113, 301, 52, 64, 6, 58], [6, 364, 783, 163, 6, 221, 19, 49, 231, 943, 222], [178, 33, 8, 33, 261, 944, 26, 12, 6, 60, 6, 158, 6, 16, 2, 12, 33, 158, 212, 5, 397, 153, 139, 10, 4, 15, 35, 854, 58, 4, 549, 99, 180, 396, 48, 931, 378, 15, 6], [53, 491, 11, 66, 14, 59, 53, 2, 84, 13, 574, 18, 7, 37, 13, 172, 855, 11, 1, 612, 11, 7, 652, 3], [1, 465, 940, 15, 1, 398, 2, 6], [412, 11, 93, 9, 613, 17, 115, 7, 1, 398, 149, 4, 122, 653, 126, 1, 80, 2, 67, 156, 43, 42, 196, 115, 1, 698, 6, 97], [737, 737, 737, 53, 654, 22], [299, 38, 129, 163, 497, 41, 82, 14, 44], [655, 13, 856, 365, 738, 12, 399, 784, 785, 857, 216, 1, 398, 614, 15, 786, 430, 739, 461], [7, 37, 113, 204, 96], [858, 699, 37, 17, 366, 541, 18, 699, 105, 21, 859, 2, 740, 227, 201, 284], [615, 35, 550, 581, 51, 4, 93, 234, 158, 6, 2, 741, 43, 42, 30, 43, 42, 28, 23, 28, 24, 5, 15, 542, 14, 142, 551, 17, 2, 134, 293, 17, 5, 787, 38, 81, 209, 82, 945, 82, 130, 118, 81], [107, 64, 233, 40], [3, 178, 656, 20, 258, 23, 25, 543, 69, 39, 178, 200, 7, 32, 860, 1, 16, 24, 127, 275, 396, 2, 34, 20, 32, 742, 362, 40, 2, 14], [379, 16, 4, 21], [20, 168, 31, 111, 582, 31, 27, 5, 241, 174, 18, 30, 26, 37, 8, 570, 200, 337, 92, 839, 91, 16, 4, 53, 116], [182, 15, 51, 13, 443, 13, 788, 41, 279, 30, 461, 400, 152, 652, 498, 657, 171, 322, 351, 312, 280], [13, 444, 9, 96, 8], [1, 135, 4, 53, 63, 112, 65, 229, 2, 28, 179, 4, 291, 830, 34, 11, 12, 4, 616, 84, 226, 220], [11, 617, 59, 45, 25, 363, 73, 946, 90, 25, 143, 45, 41, 10, 185, 32, 23, 618, 101, 25, 380, 18, 11, 600, 699, 743], [58, 76, 363, 861], [169, 252, 10, 410, 6, 270, 466, 112, 499], [85, 79, 15, 97], [83, 6, 1, 87, 696, 32, 78, 41, 281, 21], [111, 1, 947, 5, 25, 700, 104, 84, 3, 789], [85, 79, 15, 97], [415, 1, 64, 2, 37], [378, 1, 100, 110, 1, 29, 188, 44, 128, 55, 35, 3, 70, 10, 2, 701, 206, 7], [77, 252, 80, 2, 205, 33], [500, 38, 687, 18, 2, 23, 160, 35, 381, 23, 6, 148], [161, 24, 127, 1, 168, 150, 67, 6, 4, 127, 328, 17, 9, 23, 217, 388], [85, 79, 15, 97], [182, 13, 93, 59, 323, 4, 339, 482, 583, 862, 136, 18, 286, 863, 92, 600, 551, 19, 203, 6, 15], [73, 126, 619], [32, 23, 445, 305, 293, 112, 127, 2, 11, 396], [85, 79, 15, 97], [], [54, 144, 28, 6, 276, 27, 9, 14, 658], [188], [47, 523, 401, 864, 2, 524, 401, 37, 416, 116, 47, 67, 2, 166, 227, 116, 86, 242], [1, 66, 3, 584, 112], [24, 6], [133, 39, 282, 865, 12, 56, 19, 567, 7, 1, 336, 11, 771, 518, 2, 436, 156, 44, 620, 14, 575, 27, 121, 61], [226, 774, 33, 340], [24, 1, 525, 483, 444, 7, 13], [329, 54, 866, 3, 55, 3, 313, 167, 48, 140, 14, 9, 139, 211, 4, 15, 18, 51, 443, 187, 190, 280], [96, 2, 51, 3, 440, 54, 867], [207, 1, 189, 3, 172, 127], [35, 258, 87, 44, 395, 218, 5, 787, 24, 1, 29, 37, 868, 46, 1, 37, 96, 56, 69, 267, 10, 2], [180, 54, 22, 3, 149, 126, 22, 3, 140, 22, 3, 837, 2, 28, 3, 110, 17, 10, 22, 3, 307, 4, 53, 382, 22, 3, 659, 10, 28, 3, 66, 10], [316, 302, 52, 59, 13, 62], [21, 60, 1, 74, 1, 61, 172, 860, 21, 1, 26, 64], [5, 585, 17, 18, 9, 2, 417, 261], [170, 38, 36, 373, 2, 134, 13, 62, 4, 467, 129], [12, 334, 46, 6, 271, 18, 324, 1, 60, 80, 19, 129, 943, 7, 76, 129, 7, 32, 298, 1, 163, 832, 50, 11], [660, 688, 212, 4, 523, 702, 35, 6, 55, 243, 8, 116, 75, 2, 339, 244], [38, 141, 32, 78, 96, 72], [170, 38, 6, 29, 10], [402, 44, 4, 7, 6, 7, 5, 69, 40, 296, 9, 948], [661, 18, 40, 375, 7, 14], [869, 6, 468, 382, 132, 6, 83, 50, 53, 139, 11, 66, 19, 66, 226], [45, 584, 92, 284, 24, 54, 22, 3, 520, 12, 349, 61, 1], [249, 71, 8, 367, 585], [1, 252, 272, 79, 236, 870, 29, 49, 552, 29, 39, 29, 49, 174, 949, 159, 92, 418], [57, 288, 49, 950, 82, 206], [133, 173, 607, 352, 17, 3, 29, 60, 7, 262, 2, 951, 5], [586, 39, 146, 49, 193], [3, 7, 13, 518, 939, 215, 7, 148, 108, 297, 8], [85, 1, 233, 91, 13, 15, 160, 21, 14, 24, 20, 72, 83, 28, 147, 3, 70, 89, 29, 64, 7, 300, 37, 104, 7, 31, 434, 2, 7, 16, 181, 32, 871, 435, 12, 5, 160, 12, 104, 24, 36, 139, 10, 553, 872, 165, 316, 46, 1, 526, 84, 5, 285, 20, 29, 10, 2, 5, 160], [169, 9, 373, 2, 106, 69, 29, 167], [99, 11, 130, 118, 18, 43, 42, 689, 17, 208, 325, 1, 55, 65, 169, 350, 685, 171, 17, 4], [131, 114, 83, 23, 326, 484, 219, 24, 79, 703, 186, 74, 466], [32, 74, 462, 147, 63, 26, 6, 364], [145, 57, 13, 105, 10, 25, 14], [53, 491, 11, 66, 101, 303, 22, 3, 659, 10, 54, 28, 3, 28, 22, 3, 307, 850, 7, 870, 30, 148, 7, 34, 11, 66], [153, 49, 18, 57, 554, 7, 12, 105, 2, 621, 132, 5, 527], [88, 32, 555, 220, 31, 72, 4, 467, 159, 419], [29, 3, 102, 154, 54, 217, 432, 9, 379, 69, 70, 179, 108, 30, 832, 460, 14, 69, 60, 8, 5, 43, 42, 30, 101], [790, 501, 2, 122, 48, 222, 483, 41, 952], [123, 6, 84, 54, 1, 18, 13], [60, 135, 13, 93, 929, 3, 22, 2, 453, 2, 5, 283, 477, 306, 93, 12, 47, 15, 5, 93, 453, 234, 47, 18], [568, 407, 2, 568, 15], [25, 1, 469, 58, 56, 41], [87, 328, 72, 35, 3, 587, 608, 3, 26, 37, 14, 183, 16, 4, 262], [13, 365, 130, 118, 81, 43, 588, 42, 13, 365, 953, 9, 43, 588, 42, 13, 517, 9, 43, 42], [6, 24, 873, 250, 1, 139, 6, 11, 88, 3, 79, 110, 17, 6], [45, 420, 335, 340], [228, 118, 12, 5, 160, 574, 2, 421, 3, 12, 40, 1, 874, 1, 422, 91, 13, 269, 12, 7, 26, 11, 874, 3, 16, 118, 662, 7, 4, 27, 50, 478], [22, 3, 44, 12, 5, 1, 55, 1, 61], [1, 55, 89, 336, 10], [217, 954, 49, 57, 69, 8, 73, 23, 704, 441, 11, 705, 82, 706, 73], [528, 38, 141, 1, 29, 174, 44, 34, 3], [32, 169, 85, 1, 13, 502, 18], [45, 38, 340, 299, 32, 78, 2, 580, 27, 41, 35, 1], [52, 123, 6, 55, 54, 1], [24, 20, 442, 3, 87, 110, 17], [45, 57, 1, 64, 82, 205, 6, 27], [54, 63, 9, 33, 411], [170, 126, 28, 6, 64, 44, 34, 604], [955, 23, 192, 1, 20, 68, 25, 131, 243, 337], [610, 265, 58, 122, 19, 28, 413, 6, 503, 21], [1, 98, 55, 241, 3, 154], [1, 110, 6, 16, 5, 875, 144], [663, 34, 3, 16, 3, 4, 303, 7, 16, 3, 12], [99, 707, 39, 327, 31, 96, 97, 341, 43, 42], [274, 34, 4, 485, 189, 188, 41, 33, 240, 173, 25, 100, 189, 33, 240, 173, 12, 188, 198, 744], [737, 57, 39, 589, 622, 2, 91, 11, 155, 29, 622, 2, 51, 92], [330, 48, 643, 13, 180, 242], [586, 52, 28, 3, 56, 5], [117, 316, 229, 112, 377, 1, 233, 353, 14], [57, 162, 38, 76, 837, 2, 10], [182, 39, 22, 373, 2, 203, 3, 184, 314, 399, 20, 3, 16, 191, 4, 136, 253, 15, 119, 430, 476, 623, 60], [5, 108, 861, 624, 466, 208, 699], [22, 8], [10, 19, 180, 1, 210, 5, 249, 625, 36, 94, 14, 584, 262, 44, 23, 6], [88, 88, 54, 22, 3, 70, 2, 38, 496], [329, 243, 590, 161, 8, 161, 71, 148, 71, 4, 8, 30, 708, 5, 656, 9], [126, 9, 20, 76, 62], [836, 38, 109, 791, 3, 392], [88, 28, 1, 80, 4, 30, 188], [35, 76, 29, 28, 14, 6, 112, 29, 28, 14, 35, 956, 29, 28, 14, 6, 589, 28, 14, 35, 76, 29, 28, 14, 183, 151, 28, 14, 35, 956, 29, 28, 14, 218, 14, 7, 664, 35, 76, 29, 28, 14, 86, 151, 149, 14, 35, 956, 29, 28, 14, 134, 4, 14], [7, 951], [51, 47, 544, 446, 92, 846, 524, 36, 67, 5, 331, 2, 21, 280, 171, 120, 138, 176], [1, 61, 8, 853, 109, 1, 26, 74, 8, 457], [504, 836, 626], [48, 11, 245, 22, 12, 5, 771, 591, 7, 665, 31, 96, 553, 43, 42, 24, 210, 47, 2, 49, 7, 876, 20, 43, 42, 745], [169, 1, 48, 18, 11], [], [9, 20, 9, 23], [133, 84, 226, 23, 18, 5], [145, 1, 338, 3, 775], [28, 6, 649, 156, 30, 691, 290, 31, 33, 877, 30], [54, 573, 103, 106, 10], [1, 98, 16, 20, 127, 8, 292], [627, 73, 278, 240, 9, 82, 709, 628, 861, 552, 627, 18, 353, 30, 628, 418, 243, 6], [131, 54, 22, 3, 149, 311, 38, 95, 420], [710, 31, 72, 8, 4, 549], [228, 267, 151, 20, 228, 14, 20, 146, 1, 592, 629, 14], [528, 79, 666, 48, 8, 4, 264, 358, 68, 10, 126, 2, 174, 3], [188, 354], [161, 18, 5, 617, 1, 59, 878, 35, 13, 2, 37, 746, 742, 39, 49, 4, 174, 7, 792, 17], [117, 61, 8, 4, 24, 35, 6, 313, 15, 61, 27, 74, 315, 2, 31], [35, 1, 155, 188, 875, 85, 468], [153, 162, 23, 9, 5, 50, 315], [1, 2, 139, 18, 40, 325, 287], [102, 154, 2, 15], [145, 479, 44, 8, 4, 529, 18, 4, 5, 515, 297, 667, 6, 109, 366], [3, 16, 121, 108, 102, 15], [836, 55, 213, 1, 26, 330, 14], [630, 65, 34, 10, 60, 21, 61, 78, 74], [12], [69, 26, 3, 403], [47, 544, 8, 19, 4, 688, 2, 212, 835, 600, 290, 68, 2, 2, 318, 544, 489, 75, 390, 171, 601, 455], [170, 20, 168, 31, 710], [395, 3, 146, 167, 179, 619, 2, 28], [313, 16, 4, 262, 199, 18, 13, 93, 21, 81, 879, 5, 331, 199, 7, 67, 14, 2, 38, 351, 312, 256, 115], [299, 1, 272, 114, 83, 137, 155, 20, 26, 134, 11, 368, 470, 880, 154, 10, 23, 19, 711, 112], [462, 56, 321, 311], [32, 214, 31, 74, 220, 7, 1, 100, 70, 2, 268, 94, 40, 301, 219, 88, 228, 496, 90], [5, 454, 877, 304, 16, 5, 249, 36, 16, 5, 240, 17, 793], [1, 37, 48, 17, 292, 8, 8, 56, 43, 42, 358, 3, 55, 126, 9], [36, 4, 291, 34, 11, 27, 5, 117, 19, 141, 58, 4, 8, 4, 190, 661, 1, 415, 342, 20], [117, 298, 13, 41, 279, 30, 712, 652, 498, 15, 21, 657, 244, 631], [153, 3, 146, 1, 110, 3, 29, 293, 13, 42, 21, 2, 23, 192, 25, 35, 500, 378, 1, 29, 269, 183, 10, 55, 25, 46, 3, 28, 31, 192, 3, 22, 315], [1, 354, 77, 571, 57, 1, 77], [21, 743, 420, 159, 20, 60, 1, 29, 64], [85, 79, 15, 97], [99, 9, 668, 265, 27, 259, 631, 27, 219], [692, 103, 576, 103, 6, 83, 23, 25, 1, 29, 440, 98, 37, 276, 34, 38, 129, 6, 83, 225, 11, 103, 198, 693], [7, 86, 878, 9, 89, 431, 78, 2, 86, 10, 376, 1, 26, 3, 1, 70, 376, 3, 22, 669], [1, 98, 16, 101, 17, 13, 8, 11, 1, 59, 8, 122, 46, 3, 336, 10, 1, 106, 3, 35, 1, 167, 188, 8, 11, 360], [421, 6, 14, 288, 122, 48, 620, 1, 26, 210, 832, 881], [147, 867, 2, 5, 250], [3, 27, 794, 3, 146, 262, 2, 48, 52, 127, 204, 746, 130, 12, 868, 7, 790, 7, 1, 22, 373, 2, 48, 92], [2, 3, 59, 505, 51, 5, 52, 13, 795], [9, 172, 957, 882, 9, 202, 957, 9, 112, 957, 9, 957, 25, 307, 9, 172, 883, 198], [226, 172, 229, 31, 315, 18], [709, 958, 41, 33], [32, 27, 122, 102, 15], [514, 33, 730, 515, 6, 831, 91, 14, 542, 307, 730, 9, 125, 454, 82, 433, 141, 17, 930, 181, 82, 388, 16, 229, 62, 109], [93, 556, 643, 101, 17, 5, 523, 12, 13, 93], [38, 2, 31, 1, 329, 61, 1, 200, 35, 32], [30, 16, 3, 408], [3, 16, 191, 121, 400, 152, 30, 4, 19, 400, 136, 2, 119, 171, 120, 369], [409, 79, 3, 44, 46, 1, 37, 113, 152], [168, 10, 3, 48, 269, 211, 122, 884, 40, 883, 63], [39, 16, 196, 12, 247, 232, 670, 2, 33, 548, 517, 12, 557, 203, 211], [65, 43, 42, 5, 593, 9, 8, 279, 24, 89, 49, 796, 5, 593, 58, 14], [231, 41, 4, 328, 19, 212, 624, 959, 12, 546, 530, 84, 234, 195, 546, 41, 936, 38], [102, 15, 92, 247, 232, 18, 447, 71, 3, 16, 191, 4, 253, 355, 152, 30, 712, 136], [71, 1, 11, 11, 420, 155, 797, 148, 797, 1, 938, 254, 89, 960, 10, 41, 281, 159, 281, 89, 10, 2, 104, 39, 332, 72], [747, 33, 323, 748, 713, 17, 464, 506, 47, 544, 19, 92, 471, 524, 314, 75, 472, 2, 798, 138], [228, 36, 48, 20, 39, 16, 2, 205, 11, 639, 44, 51, 5, 20, 457, 24, 100, 110, 79, 31, 78, 48, 27, 50, 39, 146, 262, 2, 49, 48, 76, 17, 689], [90, 11, 37, 315, 50, 9, 117, 7, 1, 61, 202, 8, 5, 930, 117], [507, 5, 35, 5, 285, 130, 4, 365, 36, 67, 13, 365, 557, 7, 5, 204, 26, 31, 196, 2, 3], [40, 9, 5, 367, 551, 2, 203, 6, 6, 16, 191, 15, 885, 171, 369, 244], [335, 6, 82, 886, 73, 85, 73, 109, 403, 578, 120, 6, 8, 285, 25, 114, 17, 55, 6, 73, 24, 6, 221, 19, 174, 156, 886, 154, 10, 19, 504, 6, 41, 92, 208, 265], [27, 5, 74, 34, 7, 444], [172, 82, 431, 1, 448, 12, 11, 66, 25, 27, 125, 287, 11, 66, 10, 12, 448, 198], [335, 36, 271, 714, 81, 423, 289, 799, 830], [421, 3, 28, 3, 671, 5], [881, 135, 383, 63, 303], [45, 57, 1, 26, 64, 2, 33, 74, 159, 345, 142, 449], [182, 13, 93, 38, 191, 4, 887, 400, 583, 862, 136, 18, 863, 40, 9, 5, 367, 551, 2, 364, 3, 15, 888, 369], [409, 79, 154, 11, 46, 1, 37, 96], [168, 3, 56, 2, 84, 11, 366, 541, 114, 22, 24, 569, 114, 282, 8, 5, 195], [28, 39, 16, 101], [192, 25, 543, 11, 26, 31, 503, 18, 961, 1, 100, 169, 80, 4, 632], [404, 20, 381, 27, 4, 62, 24, 1, 91, 127, 17, 20, 89, 370, 295, 22, 3, 214, 84, 151, 193, 28, 3, 70, 2, 64, 2, 219, 6, 29, 106, 10, 50, 94], [107, 154, 52, 127, 9, 12, 19, 9, 185, 1, 493, 4, 108, 76, 12, 43, 42], [88, 88, 101, 254, 90], [32, 45, 441, 14, 185, 1, 56, 19, 262, 108, 255, 25, 1, 6, 252, 56, 889, 185, 6, 155, 23, 112], [2, 84, 13, 95], [56, 20, 3], [6, 29, 212, 471, 17, 472, 464, 506, 177, 116, 962, 21, 75, 5, 331, 314, 2, 798, 138, 176], [239, 54, 1, 66, 2, 440, 266, 84, 3, 57], [18, 35, 3, 70, 5, 741, 1, 196, 57, 94, 286, 35, 3, 70, 395, 19], [15, 151, 7, 150, 3, 23, 237, 90, 45, 7, 106, 156, 23, 2, 10, 56, 40, 45], [1, 66, 3, 3, 605, 11, 18, 14, 9, 23, 36, 4, 25, 14, 9, 4, 4, 485], [32, 74, 10, 508, 404, 448, 9, 207], [6, 112], [196, 10, 468, 12], [1, 2, 231, 4, 319, 65, 182, 25, 4, 17, 43, 42, 72, 9, 38, 2, 423, 43, 42, 316, 11, 703], [175, 12, 882, 10, 24, 3, 858], [1, 61, 78, 2, 794, 90, 26, 31, 298, 60, 27, 726], [8, 275, 547, 159, 10, 2, 37, 151, 12, 4, 116, 130, 38, 204], [54, 32, 656, 9, 35, 3, 579, 267, 1, 55, 194, 32, 347, 36, 23, 214], [64, 2, 11, 74, 12, 76, 184, 63, 1, 422, 28, 188, 10], [454, 17, 5, 46, 1, 100, 183, 3, 10, 143, 24, 1, 100, 651, 446], [192, 250, 485, 310, 1, 16, 27, 286, 49, 18, 341, 142, 449, 527], [106, 10, 193, 54, 13, 594, 9], [32, 74, 11, 66, 35, 13, 87, 882, 391], [747, 175, 2, 4, 53, 296, 6, 16, 191, 5, 887, 400, 384, 136, 19, 119, 9, 424, 36, 15, 21, 60, 439, 227, 549, 350, 531, 390], [133, 450, 1, 80, 2, 749, 13], [1, 70, 65, 961, 60, 231, 19, 60, 19, 38, 60, 19, 19], [90, 9, 62, 243, 26, 6, 12, 10, 67, 40, 2, 50, 33, 877, 25, 222, 859, 10], [48, 284, 715], [52, 64, 89, 29, 37, 14, 146, 186, 363, 2, 329, 558], [147, 532, 6, 272, 79, 206, 25, 412, 1, 272, 32, 363, 19, 648, 11, 444, 27, 74, 1, 154, 151, 64, 82, 10, 163], [35, 3, 604, 14, 5, 249, 360, 5, 890, 114, 84, 625, 8, 460, 481, 460, 76, 65], [159, 11, 122, 371, 418, 286, 460, 73, 6, 552, 558, 418, 49, 783, 73, 38, 275, 238, 2, 49, 413], [194, 9, 473, 41, 6, 7, 402, 130, 776, 4, 63, 2, 134, 6, 174, 321, 285, 603, 418, 342, 33], [115, 109], [94, 194, 9, 50, 53, 38, 841, 12, 20], [145, 402, 32, 214, 21], [6, 26, 13, 18], [1, 233, 205, 5, 105, 160, 21, 107, 67, 4, 157], [421, 6], [32, 533, 2, 31, 235], [103, 1, 61, 555, 2, 12, 142, 107, 28, 178, 8, 570, 27, 43, 568, 42], [1, 58, 405, 303, 5, 76, 27, 5, 853, 149, 30, 179, 946, 18, 800, 23, 192, 46, 11, 26, 58, 633], [38, 14, 26, 364, 81, 419, 60, 89, 941, 89, 26, 31, 72, 1, 98, 55], [185, 1, 59, 48, 435, 441, 880, 380, 21, 82, 1, 336, 151, 19, 154, 147, 69, 221, 73, 57, 69, 575, 140, 1, 59, 441, 82, 69, 664, 880, 73], [36, 1, 110, 65, 202, 463, 2, 167, 194, 20, 55, 5, 238, 117, 4, 20, 9, 202, 2, 269, 3, 884, 257, 255, 56, 4, 105, 392, 46, 8, 154, 654], [38, 80, 354, 380, 137, 105, 787, 393, 357, 23, 709, 1, 272, 10, 248, 41, 11, 706, 19, 294, 24, 1, 29, 950, 252, 6, 413, 6, 33, 360], [207, 35, 5, 141, 6, 210, 5, 141, 65, 186], [50, 137, 240, 41, 33, 777, 97], [85, 79, 15, 97], [1, 16, 135, 481, 129, 51, 1, 26, 156, 12, 3, 185, 76, 130, 4, 157, 12, 3, 425, 220], [37, 33, 416, 401, 47, 21, 95, 2, 40, 115, 34, 223, 634, 523, 842, 495, 2, 13, 105, 177, 116, 36, 339, 244, 227, 309, 19, 672, 48, 67, 86, 256], [123, 89, 150, 188], [462, 73, 1, 45, 57, 157, 77, 73], [], [1, 224, 178, 78, 884, 40, 14, 59, 304, 11, 2, 673, 3, 48, 25, 35, 3, 643, 2, 28, 20, 341, 178, 5, 360, 24, 1, 100, 16, 2, 150, 38, 2, 57, 395, 239, 5, 240, 133, 1, 572, 3, 2, 31, 24, 395, 210, 12, 362, 52, 1, 210, 46, 1, 16, 4, 296, 140, 501, 2, 599, 231, 7, 1, 16, 2, 150, 38, 71, 867, 40, 165, 228, 534, 448, 1, 100, 55, 54, 619, 2, 28], [446, 3, 930, 1, 773, 66, 3, 24, 127, 1, 29, 14], [418, 147, 26, 137, 186, 18, 801], [6, 78, 2, 933, 41, 7, 37, 4, 291, 37, 33, 502, 316, 14], [11, 706, 9, 137, 591, 8, 137, 491, 24, 32, 23, 326, 645, 104, 24, 120, 6, 221, 19, 385, 90, 30, 411, 73], [33, 78, 19, 7, 425, 2, 4, 276, 750, 2, 119, 748, 152, 280, 60, 2, 672, 48, 75, 215, 2], [88, 88, 32, 202, 207, 46, 26, 3, 5, 963], [126, 2, 37, 674], [347, 237, 74, 337, 159, 208], [182, 39, 22, 373, 2, 203, 6, 716, 314, 399, 20, 3, 16, 191, 4, 136, 253, 15, 51, 675, 274, 119, 60], [131, 72, 180, 52, 6, 751, 474, 6, 44, 19, 834, 66, 215], [611, 10, 10, 134, 10, 25, 8, 5, 287, 17, 11, 173, 46, 1, 964, 615, 178, 76, 18, 11, 7, 150, 1, 189, 6, 16, 4, 229, 62], [145, 418, 39, 91, 137, 76, 965, 27, 73, 252, 221, 552, 29], [52, 197, 478, 1, 267, 8, 5, 50, 293, 2, 3, 23], [35, 3, 68, 18, 13, 141, 2, 835, 86, 20, 146, 122, 7, 20, 146, 31, 375], [85, 59, 27, 5], [216, 25, 23, 434, 2, 270], [102, 5, 105], [24, 46, 28, 3, 313, 849], [153, 39, 28, 46, 6, 313], [133, 1, 338, 24, 175], [194, 130, 92, 676, 232, 7, 13, 105, 376, 114, 947, 3, 2, 167, 48, 140, 14, 9, 15, 51, 4, 443], [308, 6, 55, 9, 578, 875, 91, 181, 346, 7, 486, 120, 6, 66], [62, 254, 212, 200, 355, 8, 92, 660, 7, 91, 13, 18, 5, 617, 17, 4, 67, 49, 2, 21, 187, 115], [1, 70, 2, 31, 72, 24, 1, 29, 391, 3, 7, 210, 3, 208, 2, 10], [13, 328, 2, 31, 18, 4, 591, 15, 21, 36, 227, 190, 740, 351, 312, 9, 4, 531, 390, 15], [3, 22, 307, 81, 92, 676, 232, 81, 194, 3, 55, 2, 167, 48, 140, 14, 9, 15, 51, 4, 675, 274], [182, 102, 15, 13, 788, 41, 279, 30, 400, 152, 652, 498, 657, 171, 322, 312, 369, 280], [891, 423, 2, 50, 33, 82, 84, 147, 6, 37, 892, 32, 8, 388, 515, 6, 966, 6, 522, 4, 263, 18, 11, 368, 6, 83, 932, 569, 6, 83, 24, 374, 1, 1, 6, 1, 932, 49, 48, 515, 6, 1, 6, 32, 17, 6, 1, 189, 3, 615, 10, 76], [700, 893, 700, 616, 700, 11, 105, 700, 33, 242, 7, 1, 80, 33, 661, 967], [131, 736, 869, 6, 968, 123, 6, 53, 279, 468, 215], [226, 135, 36, 21], [608, 25, 433, 52, 127, 3, 591, 158, 13, 66, 2, 194, 20, 127, 14, 26, 611, 46, 114, 218, 3, 30, 3, 37, 457], [356, 456], [708, 28, 708, 3, 70], [182, 102, 15, 51, 443, 712, 152, 30, 4, 41, 279, 652, 498, 171, 322, 657, 559, 369, 256], [28, 6, 56, 5, 541, 8, 156, 24, 598, 48, 869, 5, 250, 425, 220], [39, 473, 14, 27, 9, 726, 717, 71, 132, 87, 53, 2, 84, 3, 560], [69, 578, 25, 1, 677, 73, 969, 231, 411, 73, 610, 281, 25, 39, 87, 41, 281, 411, 4, 23, 578, 440, 796, 156, 426, 77, 58, 4, 352, 17, 122], [53, 491, 11, 802, 52, 22, 3, 561, 90, 288, 1, 132, 22, 3, 307, 11, 53, 382, 22, 3, 11, 28, 3, 102, 13], [1, 61, 23, 237, 2, 849], [324, 38, 292, 160], [28, 3, 55, 46, 444, 26, 31, 96], [46, 1, 16, 301, 2, 970, 1, 526, 106, 3], [595, 25, 1, 58, 803, 27, 41, 426, 82, 1, 59, 17, 78, 2, 580, 804, 82, 1, 521, 17, 27], [27, 9, 20, 590, 18, 868, 894, 230, 894, 81, 45], [1, 329, 14, 9, 581, 6, 41, 179, 463], [29, 3, 36, 64, 8, 12, 4, 500, 866, 128, 1, 70, 3, 2, 84], [469, 6, 147, 63, 6, 221, 10, 19, 64], [415, 1, 504, 211, 4, 17, 2, 178, 211, 60, 504, 76, 378], [562, 19, 93, 83, 635, 15, 21, 515, 33, 678, 343, 546, 472, 187], [13, 27, 166, 9, 24, 316, 23, 377], [131, 310, 11, 122, 93, 144, 9, 16, 4, 53, 76, 180], [956, 17, 239, 553, 3, 37, 128, 527], [85, 79, 15, 97, 8, 265], [147, 168, 6, 56, 41, 33, 320], [29, 1, 37, 13, 18, 179, 222], [23, 434, 2, 28, 188], [1, 16, 14, 145, 24, 43, 42, 64], [202, 479, 3, 7, 13, 518, 12, 78, 2, 30, 5, 479, 7, 555, 10, 50, 704, 5, 116, 1, 16, 4, 108, 42], [226, 46, 22, 77, 618, 1, 372, 8], [48], [5, 535, 123, 113, 25, 1, 56, 895, 31, 8, 179, 619, 208, 116, 7, 69, 14, 2, 211, 12, 47], [340, 8, 805, 21], [133, 5, 60, 238, 8, 427, 2, 174, 9, 21, 8, 5, 195, 75, 199, 2, 679, 21, 187, 115], [37, 200, 128, 3, 22, 23, 13, 141, 48, 17, 40, 396, 8, 4, 718], [45, 497, 709, 499, 19, 77, 112], [153, 347, 25, 23, 192, 183, 6, 55, 25, 1, 57, 193, 35, 33, 533, 2, 57, 1, 71, 117], [28, 6, 649, 423, 38, 43, 42], [85, 79, 15, 97, 45], [123, 6, 5, 35, 23, 28, 14, 888, 45, 91, 181], [170, 342, 127], [428, 39, 213, 371], [1, 436, 44, 273, 715, 163, 393, 54, 275, 250], [14, 442, 6, 241, 23, 178, 33, 574], [85, 536, 26, 949, 40, 116, 35, 13, 87, 128], [249, 32, 27, 11, 111, 734, 8], [39, 83, 865, 163], [690, 381, 77, 56, 709, 487, 403, 23, 10, 11, 954, 56, 150, 381, 25, 1, 252, 272, 69, 9, 610, 113, 680, 735, 454, 703, 79, 49], [85, 79, 15, 97], [131, 180, 11, 296, 135, 2, 87, 44, 12, 4, 752], [299, 87, 185, 32, 8, 137, 896, 1, 224, 120, 865], [131, 32, 554, 24, 32, 680, 17, 6, 24, 147, 83, 6, 149], [70, 2, 44, 33, 34, 4, 524, 108, 223, 95, 19, 40, 68, 138, 234, 195, 5, 82, 240, 495, 357, 750, 971, 455], [83, 6, 200, 14], [3, 16, 118, 187, 740, 351, 312], [1, 61, 248, 15, 10, 362, 3, 47], [311, 224, 6, 36, 6, 282, 875, 7, 154, 10, 2, 91, 6, 96], [145, 88, 162, 3, 58, 303, 57, 791, 44], [409, 183, 10, 55, 46, 258, 214, 31, 251], [1, 70, 2, 84, 13, 806], [1, 415, 563, 12, 345, 35, 239, 45, 34, 3], [658, 14, 9, 57, 117, 39, 50, 44, 7, 466, 40, 165], [1, 55, 60, 49, 2, 455, 12, 14], [99, 807, 65, 22, 6, 44, 12, 751, 219, 161, 78, 2, 4, 590, 336, 5, 30, 179, 34, 11, 12, 76, 612, 24, 105, 10, 35, 6, 29], [98, 3, 55, 40, 9, 5, 753, 63, 89, 130, 135, 56, 20, 24, 178, 1, 17, 54, 89, 353, 7, 123, 5, 62, 246, 30, 35, 188, 5, 62, 246, 24, 20, 39, 29, 31, 192, 65, 335], [38, 49, 38, 12, 20, 360, 159, 417, 142], [45, 57, 38, 80, 2, 106, 10, 188, 1, 61, 78, 2, 270, 53, 124], [65, 23], [207, 483, 7], [9, 216, 53], [150, 40, 897, 402, 1, 66, 3, 158, 1, 80, 3, 11, 261, 34, 13, 972, 67, 40, 2, 973, 254, 305, 158, 6, 120, 164, 28, 14, 107, 107, 28, 14], [85, 1, 184, 124, 533, 206, 34, 11, 54, 3, 44, 2, 219], [131, 162, 98, 39, 36, 49, 385, 215, 7, 16, 281, 278], [409, 84, 3, 8, 4, 291], [8, 122, 21, 78, 16, 8, 264, 190], [130, 155, 4, 29, 154, 129, 754, 341, 4, 310, 29, 492, 21, 3, 55, 162, 50, 17, 211, 22, 845], [28, 708, 3, 70, 3, 55, 54, 5, 22, 39, 135, 4, 268, 804, 40, 116, 94, 54, 135, 2, 372, 3, 236, 177, 116, 143, 29, 1, 5, 40, 141, 54, 94, 20, 141, 28, 708, 32, 860, 17, 344, 249, 34, 3, 177, 116, 7, 4, 43, 42, 484, 5, 258, 87, 271, 8, 159, 121], [326, 356, 21, 1, 58, 108, 303], [45, 1, 202, 221, 19, 385, 137, 419, 631, 591], [33, 152, 953, 9, 871, 482, 577, 2, 33, 152, 8, 21, 67, 152, 2, 679, 60, 187, 115, 974, 898, 899, 718], [28, 3, 87, 16, 5], [182, 39, 22, 373, 2, 203, 6, 716, 314, 399, 20, 3, 16, 191, 4, 136, 253, 15, 51, 675, 274, 119, 60], [3, 80, 2, 37, 44, 21], [53, 491, 11, 802, 52, 537, 20, 128, 7, 72, 62, 123, 3, 37, 20, 22, 3, 87, 48, 7, 94, 1, 436, 7, 189, 3, 180], [123, 69, 150, 52, 808, 1, 61, 81, 101, 328, 30, 188, 80, 4, 173, 71, 5, 26, 19, 276, 28, 3, 110, 1, 168, 31, 5, 222, 285, 19, 964, 51, 82, 266], [108, 8, 195, 1, 470, 975, 34, 195, 403, 35, 6, 56, 359, 34, 10, 68, 2, 280, 75, 416, 339, 244], [3, 237, 74, 447, 292, 160, 1, 80, 2, 122, 48, 7, 809], [1, 393, 519, 46, 625, 49], [247, 238, 1, 26, 15, 3], [45, 1, 451, 318], [37, 129, 7, 546, 51, 138, 176, 754, 681, 234, 195], [6, 237, 96, 41, 349, 558, 444, 154, 10, 24, 1, 592, 441, 6], [1, 370, 37, 5, 753, 345, 17, 20, 157], [111, 108, 386, 509, 260, 509, 75, 18, 240, 374, 7, 37, 283, 306, 729, 41, 47, 15, 719, 47, 18, 755, 21, 30, 171, 322], [88, 57, 64, 6, 2, 64, 7, 202, 774, 2, 64, 81, 271, 47, 63], [35, 3, 100, 258, 87, 7, 372, 581, 82, 396], [239, 302, 31, 128, 50, 124, 55, 46, 258, 251], [28, 6, 9, 692, 161, 142, 115, 17, 115, 9, 350, 29, 14, 158, 16, 4, 229, 270, 346, 602], [99, 35, 33, 41, 359, 61, 47, 50, 208, 116, 199, 21, 19, 63], [17, 692, 447, 481, 9, 23, 94, 720, 159, 976, 5, 157, 65, 94, 720, 36, 81, 900, 5, 289, 198], [24, 20, 607, 505, 113, 204], [299, 38, 80, 79, 380, 213, 41, 137, 977, 19, 86], [85, 1, 26, 31, 434, 2, 37, 2, 3, 84, 3, 8, 5, 165], [1, 61, 618, 3, 12, 628, 52, 94, 4, 806, 34, 38], [23, 236, 135, 226, 613, 7], [18, 4, 961, 124, 83, 6, 41, 334], [133, 1, 16, 24, 239, 162, 6, 659, 3, 24, 127], [153, 122, 9, 207, 575, 184, 116, 50, 5, 249, 301, 71, 246, 25, 424, 7, 403, 22, 359], [932, 85, 1, 100, 40, 144, 7, 61, 21, 140, 83, 6, 102], [45, 38, 703], [52, 127, 123, 33, 407], [70, 975, 8, 717, 621, 21, 190], [170, 85, 16, 359], [115, 259, 289, 121, 19, 166, 41, 201, 286, 259, 259, 289, 43, 42, 208, 641, 53, 547, 121, 43, 42, 433, 100], [11, 167, 41, 10, 76, 73, 1, 272, 217, 1, 494, 154, 104, 236, 106, 6, 610, 1, 154, 104], [7, 52, 3, 26, 28, 20, 387], [162, 123, 1, 436, 44, 18, 11, 42], [1, 80, 142, 25, 32, 230, 241, 1, 205, 44, 8, 142, 449, 30, 481], [145, 153, 7, 465, 4, 111, 63, 8, 67, 10, 4, 121, 470, 159, 50, 5, 654, 445, 161, 978, 6, 55, 5, 756, 560], [6, 87, 33], [153, 1, 69, 168, 31, 169, 5, 275, 140, 644, 793, 56], [1, 36, 68, 5, 331, 45, 18, 13, 93, 105, 7, 67], [54, 13, 392, 12], [32, 163, 96, 74, 24, 38, 347, 23], [182, 13, 93, 38, 191, 4, 887, 400, 583, 862, 136, 18, 863, 40, 9, 5, 367, 551, 2, 364, 3, 15, 888], [36, 58, 383, 166, 53, 250, 1, 66, 11, 310, 24, 127, 25, 60, 149, 131], [467, 338, 288, 2, 82, 341, 882, 194, 82, 611, 611, 82, 611, 198, 744], [28, 3, 122, 50, 40, 116], [66, 14, 26, 134, 3, 34, 1, 61, 78, 2, 13, 810, 34, 11], [26, 77, 186, 78, 2, 796, 74], [107, 96, 35, 142, 749, 20, 1, 16, 29, 31, 12, 10, 2, 49, 96, 2], [83, 873, 25, 979, 9, 23, 4, 873, 404, 76, 17, 5, 780, 69, 404, 20, 43, 42, 17, 204, 9, 8, 243, 29, 31, 832, 12, 12, 43, 42, 29, 139, 43, 42, 2, 50, 51, 101, 2, 41, 967, 47, 2, 129, 341, 43, 42, 177, 29, 37, 43, 42, 12, 43, 42, 38, 80, 17, 389, 780, 158, 110, 52, 92, 204, 9, 81, 39, 16, 613, 979, 397, 398], [46, 146, 1, 504, 5, 200], [38, 36, 67, 2, 3, 3, 8], [747, 592, 342, 14, 7, 1, 333, 3, 197, 148, 2, 7, 3, 49], [29, 3, 107, 67, 10, 20, 757, 289, 8], [209, 495, 948, 859, 223, 2, 636, 781, 223, 2, 636, 138, 901, 234, 195, 187], [33, 152, 953, 9, 871, 482, 577, 2, 33, 152, 8, 21, 67, 152, 2, 679, 60, 187, 115, 351, 312], [131, 107, 1, 70, 2, 37, 229, 171, 12, 11, 229, 11, 9, 43, 42, 88, 269, 107, 1, 26, 125, 787, 178, 10, 388, 19], [183, 33, 261, 31, 33, 33, 295, 33, 33, 33, 7, 6, 26, 304, 8, 389, 196, 931, 176], [145, 88, 88, 126, 123, 3, 91, 585], [113, 245, 70, 10, 2, 701, 949, 347, 91, 4, 445], [811, 441, 11, 706, 73, 610, 11, 57, 1, 29, 950, 56, 143, 78, 19, 977, 220], [1, 526, 139, 104, 362, 1, 16, 14, 460, 89, 155, 3, 39, 425], [338, 31, 20, 6, 98, 16, 448, 6, 70, 20, 442, 6, 87, 16, 142, 2, 31, 164, 341, 6, 22, 90], [9, 980, 57, 980, 9, 5, 289, 17], [38, 52, 6, 5], [83, 39, 87, 265, 41, 349, 219], [150], [463, 812, 41, 374, 902, 90, 9, 13, 648, 62, 48, 162, 813, 510, 138, 176, 500, 4, 808, 903, 981, 3], [870, 52, 197, 488], [32, 932, 758, 261, 32], [88, 32, 96, 8, 11, 238, 8, 24, 1, 327, 80, 2, 28, 5, 619], [41, 8, 80, 18, 33, 538, 106, 33, 75, 223, 2, 636, 12, 30, 650, 12, 19], [470, 27, 4, 539, 7, 1, 56, 6, 4, 352, 1, 55, 6, 56, 10, 56, 20, 24, 486], [132, 3, 22, 23], [69, 202, 94, 281, 60, 109, 1, 55], [47, 544, 2, 5, 688, 41, 4, 328, 2, 212, 5, 283, 209, 30, 846, 152, 177, 309, 75, 111, 2, 510, 138, 176], [595, 24, 694, 321, 442, 6, 494, 633], [302, 54, 63, 3, 110, 3, 29, 37, 128], [1, 61, 27, 4, 734, 34], [99, 736, 65, 123, 6, 465, 4, 229, 36, 4, 157, 166, 150, 277, 542, 196, 6, 121, 8, 575, 511, 24, 564, 230], [79, 84, 35, 1, 29, 81, 8, 4, 291, 58, 113, 255, 2, 91, 181, 17, 128], [347, 204, 255, 22, 237, 7, 1, 16, 12, 122, 1, 123, 481, 7, 982, 715], [6, 16, 4, 759, 140, 9, 487, 19, 134, 203, 34, 6, 167, 48, 140, 114, 83, 904, 140, 779, 33, 24, 254, 15, 18], [99, 40, 9, 39, 26, 31, 905, 3, 4, 47, 105, 144, 8, 4, 814, 17, 284, 243, 26, 139, 3, 142, 935, 2, 50, 5], [96, 19, 122, 345, 200, 29, 6, 120, 10, 834, 41, 113, 452, 885, 1, 16, 19, 49, 96, 199, 21, 388, 406, 339], [1, 669, 2], [299, 32, 18, 5, 7, 113, 275], [45, 52, 3, 103, 123, 3, 15], [38, 109, 35, 3, 673, 20, 14, 5, 613, 109], [342, 5, 556, 34, 13, 12, 19, 108, 19, 37, 129, 359, 51, 234, 195, 256, 60, 269, 15], [36, 84, 3, 8, 4, 814, 284, 43, 166], [86, 581, 746, 656, 1, 327, 16, 11, 2, 268, 1, 224, 31, 406, 35, 1, 37, 76, 129, 15, 32, 23, 18, 800], [10, 52, 2, 37, 72, 7, 1, 415, 28, 24], [131, 38, 1, 4, 499, 59, 417, 226, 19, 34, 10, 6, 497, 25, 6, 213, 553, 63, 226], [123, 6, 167, 4, 12, 1, 59, 7, 50, 62, 630], [45, 73, 25, 23, 112, 466, 10, 87, 344, 743, 265, 21], [103, 437, 7, 265, 3, 90, 27, 5, 646, 39, 22, 2, 67, 3, 92, 203, 144, 27, 142, 107, 92, 144], [1, 61, 23, 344, 104, 144, 437], [53, 53, 303, 1, 56], [28, 3, 70, 19, 30], [32, 18, 5, 375, 66, 3], [15, 10, 46, 298], [65, 831, 276, 8, 43, 42, 82, 830], [38, 1, 526, 174, 3, 8, 5], [421, 3, 1, 56, 3, 71, 117], [180, 3, 155, 19, 567, 7, 143, 118, 940, 41, 9, 13, 206], [53, 165, 27, 5, 646, 5, 60, 32, 44, 27, 40, 449], [102, 184, 250, 1, 80, 9, 12, 362, 8, 13, 173, 31], [99, 161, 344, 5, 454, 63, 431, 39, 16, 2, 37, 44, 27, 177, 62, 59, 5, 734, 53, 5, 275, 124, 1, 37, 74, 164, 27], [906, 33, 58, 38, 426, 69, 150, 907, 64, 193, 2, 91, 4, 470, 120, 58, 4, 23], [6, 252, 150, 24, 466, 6, 120, 163, 57, 150], [37, 166, 223, 95, 41, 30, 41, 650, 41, 129, 49, 19, 138, 234, 195, 5, 82, 240, 495, 357, 750, 971, 455], [38, 406, 459, 516, 406], [23, 236, 78, 2, 512, 757, 18, 201, 60, 836, 55, 54, 26, 573, 159, 20], [53, 245, 181, 12, 983, 275, 245, 732, 983, 275, 7, 433, 245, 564, 967, 574, 63, 198, 693], [45, 45, 45, 57, 791, 33, 716, 392], [324, 243, 292, 28, 3, 313, 91, 5, 404, 292, 9, 613], [53, 457, 40, 9, 52, 22, 3], [98, 587, 66, 183, 66, 167, 6, 316, 162, 65, 336, 8, 66, 908, 6, 98, 507, 6, 36, 7, 6, 55, 72, 9, 2, 951, 6], [133, 25, 29, 39, 174, 8, 427, 185, 26, 49, 2, 7, 57, 74, 3, 241, 68, 27, 375, 86, 7, 100, 486, 582, 16, 633, 81, 909], [173, 9, 129, 341, 908, 803, 158, 57, 777, 25, 173, 222, 777, 158, 57, 148, 165], [132, 33, 666, 843, 611, 19, 127, 61, 11, 141, 884, 4, 17, 8, 34, 4, 219, 64, 35, 3, 56], [271, 142, 130, 2, 218, 23, 273, 159, 419, 29, 3, 37, 128, 8, 56, 142, 449], [497, 6, 807, 161, 302, 497, 4, 264, 19, 499, 230, 91, 181, 120, 6, 220, 366], [12, 334, 686, 40, 1, 224, 257, 11, 771, 9, 48, 7, 32, 984], [747, 33, 323, 482, 17, 506, 30, 253, 47, 544, 19, 683, 688, 314, 75, 472, 2, 798, 138], [213, 43, 42, 190], [79, 49, 112, 39, 29, 462, 552, 49, 418, 49, 896, 76], [21, 58, 356, 19, 385, 6, 38, 122, 90], [228, 36, 473, 4, 661, 835, 17, 7, 11, 8, 14, 7, 57, 11, 271, 156, 48], [101, 508, 18, 101, 250, 619], [4, 382, 985, 4, 942, 69, 350, 89, 361, 295, 69, 350, 104, 877, 193, 125, 382, 776, 19, 125, 942, 63, 4, 59, 125, 942, 14, 59, 94, 19, 125, 308, 125, 382, 56, 82, 104, 89, 525, 6, 673, 24, 694, 986, 125, 382, 9, 125, 759, 17, 11, 910, 82, 125, 308, 92, 910, 82, 17, 125, 632, 1, 47, 714, 125, 198, 693], [1, 5, 157, 102], [175, 12, 661, 3, 858], [37, 70, 334, 196, 911, 2, 13, 93, 512, 5, 815, 357, 75, 2, 21, 744, 339, 244, 115], [43, 42, 9, 1, 66, 6, 62, 67, 423, 2, 50, 33, 770, 877, 10, 35, 166, 513, 96, 42, 125, 285, 6, 388, 35, 6, 423, 6, 26, 33, 388, 41], [182, 3, 16, 191, 4, 121, 116, 47, 8, 92, 471, 400, 136, 75, 5, 331, 119, 2, 38, 171, 120, 138, 565, 816], [198, 760, 103, 465, 4, 229, 62], [131, 1, 61, 169, 70, 2, 199, 30, 84, 10, 68, 569, 2, 68, 912, 27, 2, 721, 68, 86], [1, 56, 423, 796, 25, 38, 129, 11, 163, 24], [13, 9], [162, 3, 10, 505, 56, 40], [20, 52, 168, 3, 56, 2, 31], [1, 329, 327, 71, 117, 91, 121, 319], [1, 525, 2, 64, 722, 7, 587, 12, 303], [28, 3, 20, 8, 94, 723, 582, 16, 17, 667, 251, 34], [705, 154, 77, 2, 231, 628, 74], [913, 583, 254, 482, 577, 17, 913, 506, 2, 31, 191, 36, 492, 41, 424, 754, 343, 21, 67, 913, 2, 679, 129, 681, 138, 334, 176], [45, 73], [45, 31, 100, 68, 7, 701], [212, 5, 7, 5, 629, 17, 5, 563, 201, 95, 492, 201, 754, 328, 2, 31, 5, 222], [85, 73, 1, 385, 356, 385, 519, 1, 536, 19, 330, 11, 105], [117, 5, 8, 111, 25, 65, 22, 111, 3, 80, 4, 319, 2, 855, 65, 22, 25, 50, 8, 50, 65, 4, 111, 238, 5, 677, 383, 9, 1, 659, 74], [99, 1, 665, 186, 462, 41, 25, 28, 342, 82, 939], [38, 20, 36, 442, 3, 16, 4, 666], [600, 18, 11, 914, 24, 1, 233], [1, 29, 15, 8, 43, 42, 190, 35, 316, 45], [124, 153, 192, 250, 582, 122, 14, 48, 57], [205, 3, 44, 756, 259, 54, 63, 22, 7, 20, 78], [47, 523, 401, 864, 2, 524, 401, 37, 416, 116, 47, 67, 2, 166, 227, 116, 86, 242], [27, 54, 63, 22, 3, 237], [299], [133, 128, 356, 9, 225, 640, 8, 122, 238], [36, 12, 405, 35, 3, 241, 270, 5, 508, 9, 23, 4, 24, 84, 52, 14, 428], [655, 13, 856, 365, 738, 12, 399, 784, 785, 857, 216, 1, 398, 614, 15, 786, 430, 739, 658, 915], [85, 79, 15, 3, 97, 1, 61, 8, 265, 437], [145, 133, 162, 9, 14, 56, 326], [98, 522, 13, 105, 18, 45], [1, 775, 71, 142, 51, 10, 12, 3, 2, 37, 10, 841, 27, 43, 42, 27, 124], [3, 16, 191, 4, 253, 559, 30, 257, 355, 119, 33, 559, 15, 47, 18, 280, 19, 86, 18], [46, 6, 66, 194, 98, 134, 156, 2, 66, 6, 71, 127, 71, 6, 28, 25, 66, 156, 24, 127, 20, 114, 98, 70, 2, 31, 985, 81, 550, 3, 198], [45, 497, 91, 181, 57], [153, 347, 1, 87, 847, 330, 48, 34], [37, 4, 47, 93, 348, 702, 47, 484, 2, 429, 68, 49, 2, 65, 47, 916, 29, 31, 7, 601, 455, 280, 60], [1, 272, 186, 87, 58, 82, 82, 79, 186, 149, 109, 82], [143, 169, 271, 10, 206, 36, 251], [869, 5, 36, 555], [153, 8, 987, 69, 36, 525, 35, 39, 188, 56, 142, 449, 715, 46, 7, 52, 127], [1, 11, 47, 284, 761, 552, 29, 77, 154, 674, 73], [123, 3, 591, 151, 7, 474, 123, 69, 150, 30, 241, 6, 23, 120, 151, 41], [464, 12, 71, 465, 113, 464, 758, 402], [107, 86, 778, 9, 3, 2, 31, 104, 296, 95, 133, 30, 38, 84, 104, 138, 242, 6, 86, 67, 86, 817, 2], [1, 98, 29, 3, 67, 14, 2, 10, 460, 483], [280, 284, 2, 6, 26, 31, 17, 50, 5, 283, 547, 7, 721, 67, 37, 86, 2], [17, 379, 69, 16, 101, 152, 236], [436, 44, 1, 189, 3, 1, 3, 1, 80, 3], [115, 39, 534, 2, 15, 3, 592, 13, 95, 2, 92, 242, 12, 4, 47, 209, 93, 47, 684, 102, 15, 21, 642, 12, 606, 164], [22, 3, 78, 2, 988, 777, 40, 116], [85, 79, 15, 97], [242, 805, 4, 108, 209, 9, 44, 41, 805, 90, 805, 9, 47, 19, 512, 91, 383, 75, 209, 2, 21], [36, 196, 193, 28, 3, 7, 8, 529, 387], [239, 23, 266], [278, 53, 2, 440, 32, 7, 18, 5, 12, 142], [1, 26, 1, 70, 2, 49, 2, 159, 20, 1, 698, 40, 54, 1, 58, 51, 104, 103, 54, 2, 28, 89, 361, 150, 101, 63], [569, 276, 15, 21, 36, 227, 190, 740, 351, 312, 9, 4, 531, 390, 15], [58, 120, 1, 850, 2, 741, 1, 536, 77, 8, 1, 493, 4, 25, 56, 23, 266, 229], [88, 79, 31, 72, 246, 41], [35, 3, 100, 13, 136, 26, 49, 2, 405, 247, 171, 120, 27, 138, 171, 120, 280, 187, 190, 740, 102, 15, 96, 35, 571], [123, 6, 167, 48, 54, 63, 5, 375, 9, 27, 542, 1, 80, 2, 113, 301, 48], [52, 22, 3, 11, 66, 22, 3, 34, 13, 609, 63, 2, 268, 34, 151, 818, 150, 131, 404, 277, 51, 934, 5, 731], [23, 833, 51, 4, 445, 15, 41, 199, 655, 274, 2, 670, 221, 541, 17, 10, 57, 68, 989, 2, 67, 86, 366], [51, 99, 40, 9, 13, 242, 3, 16, 41, 459, 3, 16, 102, 15, 96, 18, 2, 13, 459, 7], [2, 293, 13, 5, 8, 5, 208, 75, 157, 30, 128, 510, 176, 82], [126, 6, 118], [1, 16, 19, 208, 116, 32, 860, 17, 156, 301, 44, 10, 162, 1, 16, 135, 4], [131, 3, 58, 101, 548], [23, 4, 599, 8, 5], [3, 22, 323, 4, 306, 15, 51, 443, 606, 990, 171, 322, 369, 256], [45, 88, 1, 649, 19, 311, 1, 960], [295, 38, 129, 26, 51, 21, 18, 8, 125], [608, 19, 741, 6, 97, 47, 57, 106, 10, 57, 1, 15, 82, 82, 106, 6], [233, 762, 1, 155, 24, 197, 255, 2, 3, 40, 165, 46, 50, 1, 169, 572, 2, 150, 59, 53, 165, 1, 66, 3, 16, 4, 539, 165, 84, 3, 8, 5, 97], [219, 153, 895, 31, 206, 12, 20], [1, 26, 364, 246, 973, 165], [99, 93, 38, 43, 42, 130, 3, 8, 793, 203, 18, 138, 176, 14, 216, 4, 111, 238, 2, 67, 47, 242, 2, 305, 12, 129, 752, 176], [32, 32, 1, 70, 3, 126, 22, 3, 1, 70, 11, 1, 70, 151, 21], [277, 39, 80, 113, 7, 2, 902, 12, 29, 1, 522, 3, 206, 1, 80, 13, 594, 7, 888, 83], [3, 29, 134, 4, 8, 162, 28, 114, 37, 50, 5, 53, 301], [121, 49, 2, 988, 115, 19, 522, 18, 166, 5, 34, 819, 41, 959, 43, 42, 201, 917, 33, 819, 65], [170, 1, 168, 25, 11, 707, 168, 16, 4, 7, 106, 5, 771, 518, 52, 690, 7, 1, 61], [314, 1, 98, 110, 24], [123, 6, 58, 20, 632], [148, 108, 297, 52, 22, 3, 126, 22, 3, 46, 22, 39, 900], [395, 150, 99, 2, 7, 167, 48, 35, 58, 217, 787, 111, 30], [8, 914, 3, 436, 44, 878, 126, 1, 61, 1, 536, 1, 16, 2, 91, 181, 17, 179, 12, 90, 146, 31, 298, 246, 5], [69, 4], [99, 65, 14, 59, 661, 2, 84, 3, 219, 7, 300, 105, 3, 164, 1, 58, 2, 7, 4, 535, 10, 217, 787, 366], [38, 1, 58, 20, 3, 78, 2, 231, 8, 722], [16, 3, 118, 13], [107, 106, 20, 5, 22, 38, 5, 204, 1, 59, 237], [29, 3, 28, 653], [218, 14, 468, 372, 12, 208], [53, 958, 314, 607, 238, 53, 958, 12, 67, 86, 2, 247, 637], [147, 63, 77, 294], [117, 382, 61, 1, 397, 50, 124, 27, 12, 335], [109, 1, 169, 189, 6, 103], [188, 9, 8, 60, 19, 222, 246, 271, 14, 753, 159, 14], [54, 22, 3, 149, 8, 85, 25, 79, 347, 31, 8, 529, 81, 14, 307, 300, 27, 384, 46, 28, 3, 7], [32, 4, 535, 9], [39, 871, 16, 4, 157, 981, 13, 498, 2, 429, 13, 157, 36, 15], [299, 45, 1, 49, 74, 470, 27, 5, 57, 1, 115, 77, 193, 78, 2, 18, 367, 290, 112, 25, 104, 803, 9, 27], [371, 117, 20, 255, 14], [395, 35, 3, 44, 246, 773, 166, 40, 31, 4, 340], [170, 153, 27, 40, 687, 1, 329, 23], [52, 59, 879, 7, 511], [1, 412, 123, 12, 5, 222, 63, 8, 4, 445, 1, 332, 2, 529, 23, 112, 273, 159, 1, 34, 3, 44, 27, 259, 52, 59, 13, 124], [23, 697, 41, 77], [28, 3, 30, 51, 10], [85, 1, 21, 57, 120, 33, 115, 844, 73, 24, 873, 250, 25, 60, 41, 76, 124, 411, 16, 4, 108, 360, 19, 270, 8], [412, 1, 776, 1, 59, 112, 984, 24, 1, 579, 408, 236, 266], [79, 31, 27, 794, 8, 56, 43, 42], [85, 1, 516, 13, 15, 268, 46, 3, 16, 5, 63, 32, 18], [26, 28, 3, 214, 31, 27, 50, 124, 1, 327, 31, 434, 2, 37, 48, 17, 128, 4, 467, 466], [57, 162, 3, 23], [1, 364, 74, 782, 82, 952, 413], [65, 45, 336, 707, 16, 359], [944, 9, 2, 55], [1, 61, 8, 109, 362, 3, 575, 51, 456, 15, 10], [3, 16, 191, 4, 253, 355, 152, 30, 4, 596, 136, 2, 119, 699, 136, 15, 92, 247, 232, 18, 447, 407, 439], [595, 918, 23, 8, 371, 58, 378, 35, 137, 240, 418, 39, 451, 16, 2, 91, 14], [67, 4, 19, 33, 991, 19, 81, 4, 261, 75, 66, 781, 66, 566, 2, 41, 38, 187], [88, 88, 53, 992, 117], [393, 69, 380, 150, 49, 249, 63], [75, 72, 2, 2, 83, 524, 314, 41, 4, 846, 464, 919, 41, 4, 17, 699, 171, 322, 138, 176, 2, 244, 116], [88, 88, 126, 22, 3, 52, 123, 3], [145, 558, 117, 161, 34, 11, 240, 736, 920, 140, 1, 332, 48, 34, 41, 4, 116, 21, 282, 193, 65, 118, 341, 4, 116], [22, 3, 40, 127], [278, 29, 25, 32, 344, 349, 34, 11], [28, 6, 695, 147, 63, 137, 238, 321], [317, 9, 5, 542, 5, 310, 59, 18, 43, 42, 689, 71, 279, 50, 22, 593, 456, 732], [22, 3, 511, 30], [9, 8, 92, 360], [9, 8], [6, 24, 873, 250, 57, 6, 252, 221, 19, 353, 6, 950, 163], [277, 71, 227, 51, 43, 42, 201, 130, 118, 2, 3], [249, 2, 6], [170, 145, 38, 180, 1, 422, 31, 446, 13, 238, 159, 25, 175, 12, 5], [1, 48, 4, 593, 81, 4, 535, 34, 5, 249, 703, 243, 59, 34, 4, 114, 98, 20], [9, 120, 23, 216, 3, 146, 16, 267, 10, 804], [143, 45], [77, 469, 921, 151, 46, 381, 77, 24, 47, 90, 29, 49], [299, 1, 272, 9, 288, 185, 38, 80, 19, 49, 206, 19, 889], [114, 16, 4, 18, 5, 17, 5, 126, 593, 372, 51, 5, 184, 7, 429, 51, 5, 44], [202, 5], [11, 777, 9, 12, 41, 333, 3, 4, 111, 62], [21, 6, 952, 56, 382, 56, 1, 9, 18, 109, 375, 74, 474, 130, 6, 41, 423, 566], [32, 87, 806, 90, 377, 62], [95, 34, 13, 289, 7, 594, 7, 3, 26, 318, 81, 593, 4, 922, 47, 27, 138, 176], [22, 3, 160, 21], [1, 110, 300, 49, 134, 674], [133, 450, 39, 29, 992, 50, 5, 17, 5], [99, 65, 10, 3, 22, 347, 344, 112, 127, 359, 2, 37, 40, 157, 25, 1, 338, 517, 75, 6, 185, 161, 554, 7, 130, 118, 27, 10, 50, 124], [11, 8, 333, 3, 403, 4, 111], [949, 65, 16, 4, 111, 63, 8, 23, 677, 94, 448, 9, 4], [428, 228, 921, 14, 24, 1, 146, 205, 14, 18, 872], [226, 267, 89, 59], [1, 26, 3, 8, 529, 71, 117], [149, 335, 57, 6, 23, 344, 349, 645, 211], [45, 73, 378, 1, 272, 39, 233, 37, 943, 21, 185, 56, 363, 235, 163, 6, 221, 19, 49, 470, 41, 33, 954, 4, 23, 880, 9, 441, 156, 21], [3, 15, 151, 21, 45, 1, 155, 15, 151], [1, 333, 20, 1, 59, 34, 3, 3, 520, 3, 84, 52, 463, 3, 22, 52, 127, 3, 727, 2, 10, 52, 127, 1, 80, 3, 8, 11, 173], [5, 384, 632, 9, 5, 384, 115, 9, 66, 5, 384, 9, 465, 4, 325, 158, 333, 6, 939, 384], [88, 88, 65, 53, 46, 22, 3, 78], [34, 11, 706, 73, 39, 451, 303], [99, 65, 52, 9, 13, 457, 1, 132, 1, 29, 84, 3, 164, 12, 4, 291, 25, 1, 16, 2, 75, 96, 35, 6, 29, 366], [45, 38, 703], [3, 26, 13, 223, 990, 5, 208, 12, 936, 7, 102, 84, 6, 545], [220, 3, 26, 16, 5, 334, 250, 387, 28, 1, 134, 3], [117, 80, 2, 246, 79, 183, 3, 55, 46, 32, 48], [1, 146, 20, 1, 100, 169, 181, 7, 35, 3, 224, 1, 29, 27, 820, 37, 40, 586, 2, 479, 230, 25, 131, 13, 204, 35, 3, 70, 14], [107, 89, 700, 2, 321, 897, 30, 89, 26, 129], [182, 40, 9, 92, 367, 551, 2, 203, 6, 13, 136, 51, 630, 9, 87, 981, 498, 2, 119, 15, 21], [131, 39, 29, 49, 7], [175, 193, 12, 13, 95, 90, 46, 9, 33, 237, 8, 7, 83, 6, 87, 5, 7, 11, 639, 255, 22, 23, 424, 763, 980, 202, 130, 217, 24, 1, 169, 80, 2, 110, 94, 52, 2, 134, 11, 204, 97], [64, 251, 43, 588, 42, 631, 32, 64, 81, 63], [420, 341], [16, 3, 921, 96, 27], [741], [987, 944, 19, 19, 19, 38, 121, 19, 643, 4, 490, 36], [99, 52, 22, 3], [3, 22, 178, 674, 989, 421, 3], [968, 32, 659, 6], [1, 15, 3, 97, 100, 16, 357, 35, 242, 10], [162, 28, 3, 154, 387], [870, 272, 192, 58, 63, 2, 462, 226, 29, 49, 41, 47, 697, 907, 15, 6, 2, 413], [88, 215, 130, 4, 466, 164, 165, 25, 381, 27, 92, 238, 219], [329, 69, 501, 704, 63, 39, 241, 36, 591, 44, 7, 385, 46, 114, 28], [88, 88, 242, 199, 34, 10], [1, 26, 12, 11, 261, 10], [192], [10, 207, 207], [940, 72, 84, 6, 8, 4], [57, 233, 37, 109, 11, 787, 441, 77, 426], [38, 11, 22], [111, 52, 9, 5, 456, 90], [3, 16, 191, 4, 253, 355, 152, 30, 4, 596, 136, 2, 119, 699, 136, 15, 92, 247, 232, 18, 447], [103, 919, 2, 119, 40, 922, 386, 27, 3, 102, 49, 2, 510, 138, 137, 234, 195, 322, 455, 2, 86, 438, 75, 86, 2], [1, 110, 228, 14, 29, 3, 67, 4, 585, 157], [1, 202, 272, 112, 694, 886, 76, 23, 10, 6, 252, 221, 143, 45, 78, 19, 977, 410, 126, 58, 709], [3, 87, 251, 1, 241, 293, 4, 345], [533, 2, 73, 907, 137], [67, 2, 194, 619], [955, 561, 90, 1, 415, 37, 20, 103], [1, 26, 364, 33, 74, 8, 43, 42, 358], [99, 807, 52, 59, 122, 123, 6, 37, 446, 2, 13, 705, 50, 165, 1, 135, 4, 169, 53, 63, 184, 124, 161, 533, 48, 220, 25, 15, 10, 35, 6, 29], [47, 401, 68, 2, 2, 37, 13, 47, 650, 223, 17, 5, 116, 21, 256], [1, 338, 9, 496], [43, 42], [85, 79, 15, 97], [111, 547, 15, 2, 119, 13, 253, 355, 152, 30, 596, 464, 425, 2, 4, 276, 750, 21], [4, 30, 224, 37, 15, 47, 21, 821, 30, 68, 96, 39, 26], [733, 73], [216, 414, 190, 2, 49, 12, 281], [737, 584, 17, 211, 149, 137, 249, 250, 25, 1, 58, 356, 19, 385, 6, 29, 272, 17, 126, 19, 49, 219, 30, 6, 163, 469, 647, 8, 295], [182, 13, 93, 38, 59, 323, 596, 583, 862, 136, 18, 201, 419, 863, 40, 9, 92, 600, 262, 2, 203, 6, 15, 51, 443, 369], [676, 1, 16, 135, 481, 17, 604, 60, 575, 159, 1, 196, 4, 68, 2, 268, 184, 116, 101, 28, 3, 110, 30], [724, 99, 450, 36, 58, 4, 108, 313, 120, 4, 569, 597, 30, 947, 4, 199, 161, 859, 199, 2], [1, 59, 44, 50, 124, 112, 94, 40, 143, 4, 39, 516, 4, 654, 124, 48, 34, 7, 3, 149, 11, 502], [38, 11, 23, 237], [791, 20, 237, 200, 5, 9, 14, 4, 132, 3, 16, 4, 111, 62, 255, 83, 78, 207, 128, 571, 527], [474, 6, 44, 19, 161, 8, 24, 127, 27, 74, 27, 10, 257, 6, 474, 5, 1, 298, 21, 311, 422, 6, 36, 106, 10, 68, 102, 388], [302, 39, 415, 49, 7, 84, 16, 2, 49, 2, 378, 22, 3, 27, 74, 58, 179, 2, 599, 8, 97, 24, 625, 49, 2, 427, 219, 395, 705, 29, 91, 211, 8], [213, 1, 26, 64, 48, 43, 42, 190], [659, 3, 112], [170, 9, 20, 13, 281, 651], [47, 348, 306, 729, 34, 345, 432, 274, 728, 12, 726, 7, 482, 260, 683, 15, 719, 30, 993], [99, 180, 65, 52, 83, 6, 161, 74, 51, 7, 68, 10, 96, 35, 6, 313, 199, 176, 68, 86, 2, 187], [38, 80, 2, 231, 281, 12, 10, 1, 353], [3, 22, 307, 81, 92, 676, 232, 81, 194, 3, 55, 2, 167, 48, 140, 14, 9, 15, 51, 13, 93, 30, 443], [214, 183, 10, 55, 185, 513, 51, 279, 20, 62, 9, 237, 10, 144], [79, 84, 54, 839, 22], [412, 479, 20, 36, 28, 708, 28, 167, 142, 2, 31, 8, 27, 113, 687, 246, 527], [27, 54, 63, 146, 1, 64, 164], [1, 224, 1, 100, 16, 104, 144], [83, 77, 78, 41, 265], [437, 1, 80, 780, 365, 38, 7, 780, 594], [483, 255, 36, 4, 489], [36, 44, 135, 4, 377, 994, 94, 6, 686, 24, 1, 98, 56, 6, 160, 21, 1, 361, 55, 188, 94, 124, 25, 1, 329, 161, 44, 12, 14], [277, 153, 228, 36, 58, 48, 17, 5, 7, 80, 2, 28, 11, 502, 24, 79, 64, 44, 46, 32, 298, 153], [861, 128, 107, 15, 182], [1, 100, 55, 249, 250, 239, 875, 69, 946, 533, 18, 756, 23, 53, 496, 909], [277, 22, 3, 20, 303, 23, 307, 850, 503, 271, 96, 20, 565, 12, 11, 802, 21, 379, 69, 189, 10], [111, 24, 54, 3, 2, 5], [620, 32, 23, 170], [90, 9, 62, 6, 10, 71, 609, 639, 991, 38, 859, 442], [562, 644, 1, 61, 23, 18, 548, 12, 19, 284, 26, 548, 362, 27, 74, 330], [510, 176, 517, 222, 120], [207, 61, 937], [15, 10, 109, 1, 61, 248, 12, 13, 15], [451, 21, 494, 44, 24, 4, 291, 29, 444, 332, 48, 413, 1, 233, 670, 21, 552], [313, 343, 27, 4, 523, 37, 19, 246, 416, 7, 49, 30, 34, 7, 622, 48, 4, 769], [99, 180, 65, 52, 83, 6, 1, 59, 18, 641, 124, 14, 59, 111, 52, 59, 13, 337, 6, 118, 659, 10, 176, 68, 86, 2, 86, 187, 68], [133, 1, 4, 814, 17, 541, 18, 500, 87, 865, 112, 32, 36, 44], [182, 13, 93, 144, 130, 118, 323, 4, 136, 253, 15, 51, 443, 119, 476, 623, 60, 369], [463, 812, 41, 374, 902, 90, 9, 13, 648, 62, 48, 162, 813, 510, 138, 176, 500, 4, 808, 903, 981, 3], [54, 9, 463, 9, 20, 3, 81, 104, 496], [36, 14, 44, 7, 537, 96, 800, 2, 31, 104], [1, 55, 4, 264, 305, 1, 29, 44, 7, 479, 2, 5, 133], [54, 63, 6, 37, 48, 6, 282, 2, 91, 10, 435, 90], [1, 267, 20, 61, 237, 18], [747, 175, 2, 4, 53, 296, 6, 16, 191, 5, 887, 400, 384, 136, 19, 119, 9, 424, 36, 15, 21, 60, 439, 227, 549, 350, 531, 390], [710, 1, 394, 5, 184, 63, 39, 58, 866, 12, 5, 222, 63, 34, 266], [175, 12, 13, 401, 629, 144, 13, 93, 26, 31, 912, 41, 244, 146, 13, 223, 23, 102, 15, 247, 637], [65, 311, 6, 75, 10, 28, 6, 394, 10, 51, 1, 70, 19, 268, 19, 6, 75, 10], [117, 298, 37, 5, 650, 401, 30, 477, 18, 93, 68, 223, 30, 2, 21, 672, 48, 75, 86, 339, 244], [3, 22, 4, 769, 3, 16, 118, 488, 2, 318, 355, 152, 30, 4, 596, 559, 425, 2, 4, 276, 750, 2, 119, 15, 407, 439], [180, 6, 6, 19, 186, 18, 117, 132, 45, 91, 181, 17], [343, 645, 923, 1, 19, 6, 73], [88, 192, 61, 8, 11, 74, 242, 10, 468, 107], [28, 3, 55, 162, 402, 447, 13, 24, 20, 76, 140, 9, 473, 12, 3, 513, 158, 674, 81, 13, 819, 34, 66], [450, 125, 701], [1, 110, 20, 633, 24, 153, 79, 31, 81, 27, 113, 687], [1, 272, 73, 25, 393, 29, 37, 943, 4, 23, 147, 6, 149, 21], [58, 14, 14, 501, 2, 353, 3, 50, 124, 273], [906, 6, 394, 52, 19, 217, 289, 133, 1, 123, 69, 266, 134, 519, 1, 266], [483, 13], [3, 665, 762, 14, 25, 143, 433, 143, 95, 397, 21, 2, 255, 20, 26, 13, 295, 51, 60, 75], [184, 328, 19, 119, 33, 995, 745, 17, 996, 506, 68, 133, 2, 21, 924, 822, 93, 171, 322, 764, 997, 864, 256, 917, 75, 215, 30, 86], [26, 31, 48, 17, 292, 8, 4, 264, 567, 85], [54, 23], [46, 123, 1, 293, 1, 293, 14, 60, 27, 74, 77, 393, 52, 19, 741, 14, 8, 331], [261, 9, 925, 417, 66, 295, 9, 925, 417, 890, 83, 925, 417, 602, 158, 173, 9, 925, 417, 877, 24, 31, 8, 570, 53, 124, 158, 346, 602], [13, 9, 169, 377, 90, 906], [228, 58, 43, 42, 101, 141, 1, 241, 205, 44], [20, 347, 78, 2, 8, 94, 842], [32, 137, 285, 149, 137, 242], [25, 35, 89, 216, 32, 45], [404, 37, 13, 810, 200, 2], [1, 132, 13], [1, 233, 205, 5, 105, 160, 21, 107, 67, 4, 157], [324, 28, 3, 55, 550, 43, 42, 30, 881, 434, 2, 231, 92, 535, 7, 160, 21, 35, 39, 100, 37, 4, 951, 17, 866, 65, 36, 41, 50, 124], [10, 112, 450, 1, 874, 2, 644, 3, 117, 1, 3, 26, 91, 53, 181, 17, 10], [242, 671, 948, 9, 398, 51, 330, 151, 48, 510, 242, 645, 41, 38, 67], [379, 89, 91, 773, 358, 2, 2, 4, 133, 30, 38, 489], [59, 14, 179, 6], [304, 262, 704, 2, 91, 5, 17, 4, 20, 513, 48, 17, 33, 261, 7, 884, 33, 890, 225, 394, 4, 296, 9, 128, 2], [88, 88, 148], [582, 3, 475, 200, 56, 43, 42, 24, 65, 23, 112, 883], [133, 32, 8, 456, 109], [3, 370, 440, 14, 51, 10], [586, 118, 900, 4], [273, 159, 1, 1, 37, 18, 60, 56, 201, 358, 4, 62, 71, 14, 9], [46, 5, 222, 9, 4, 892, 76, 5, 8, 5, 762, 40, 5, 17, 26], [202, 20, 199, 59, 710, 25, 100, 134, 14, 3, 29, 84, 104, 8, 285], [53, 124, 11, 103, 158, 91, 181], [54, 297, 7, 52, 197], [412, 32, 248, 12, 19, 922, 46, 114, 372], [98, 486, 121, 62, 172, 485, 64, 553, 57, 342, 734], [38, 32, 23, 1, 224, 139, 3, 448, 3, 70, 7, 80, 3, 412, 241, 28, 288, 12, 507, 18, 854, 58, 129, 204, 341, 1, 28, 1, 224, 37, 122, 1, 224, 37, 4, 310, 1, 224, 475, 5, 1, 224, 257, 11, 773, 868, 133, 32, 7, 1, 370, 257, 15, 74, 12, 79, 16, 2, 106, 156, 1, 398, 44, 2, 335], [38, 597, 102, 592, 67], [61, 60, 12, 53, 93, 420], [79, 183, 3, 55, 46, 14, 8], [78, 4, 172, 830, 561, 7, 44, 34, 5, 249, 9, 5, 249, 63, 26, 448, 1, 762], [497, 299, 39, 237, 96, 18, 801, 294, 349, 78, 96, 19, 21, 63, 668, 41, 4, 90, 132, 582, 469, 197, 129, 2, 64], [5, 9, 7, 32, 1, 16], [32, 169, 23, 44, 2, 14, 87, 219, 180], [466, 101, 236], [25, 31, 4, 53, 285, 25, 98, 262, 2, 198, 760], [24, 38, 459, 135, 628], [44, 13, 538, 34, 4, 498, 17, 4, 597, 157, 460, 4, 47, 223, 75, 787, 2, 636, 227, 597], [976, 198], [90, 14, 59, 229, 19, 44, 25, 39, 19, 167, 129, 63, 129, 145, 117, 91, 181, 120, 6, 220, 120], [175, 12, 13, 17, 4, 348, 51, 854, 118, 912, 110, 3, 29, 28, 288, 162, 23, 67, 4, 348, 8, 4], [278, 153, 1, 84, 20, 21, 31, 72, 8, 4], [1, 55, 3, 22, 29, 3, 107, 749, 5, 96], [14, 134, 2, 91, 14, 72, 65, 47, 35, 3, 80, 2, 55, 129, 176], [590, 660, 212, 4, 471, 998, 136, 35, 6, 55, 140, 5, 108, 17, 26, 31, 75, 104, 222, 289, 2, 86, 339, 244], [1, 60, 469, 143, 176], [38, 340, 52, 22, 3, 149], [909, 378, 197, 53, 2, 6, 216], [50, 13, 117], [26, 31, 456, 251, 41, 631, 21, 1, 61, 78, 853], [1, 35, 114, 22], [99, 664, 1, 5, 963], [48, 34, 11, 609, 7, 217, 518], [3, 13, 396, 236], [536, 14, 607, 10, 166, 723, 2, 809, 85, 126, 3, 27, 13, 105, 236], [45, 1, 272, 1, 58, 14, 57, 6, 221, 10, 19, 64, 21, 30, 147], [1, 63, 43, 42, 631, 9, 23], [311, 77, 221, 2, 49, 72, 120, 933], [32, 932, 758, 261, 32], [124, 130, 12, 405, 62, 165, 130, 64, 8, 4, 254, 141, 290, 3, 263, 56, 5, 7, 13, 27, 5, 966, 966, 198, 760], [497, 41, 109, 206, 18, 10], [41, 27, 669, 36, 2, 48, 4, 392], [39, 23, 326, 484, 163, 886, 501, 19, 646, 24, 32, 435, 645, 104, 21], [103, 126, 3, 15, 10], [131, 12, 10, 72, 9, 38, 218, 18, 872, 213, 1, 26, 154, 11, 7, 106, 3], [23, 833, 51, 4, 445, 15, 41, 199, 655, 274, 2, 670, 221, 541, 17, 10, 57, 68, 989, 2, 67, 86, 366], [6, 29, 15, 21], [415, 1, 67, 20, 2, 13, 548, 517], [270, 29, 269, 33, 112], [7, 722, 87], [397, 404, 3, 304, 492, 13, 438], [21, 61, 47, 15, 10, 420], [88, 8], [1, 70, 2, 106, 3, 52, 377, 1, 210, 20, 5, 60, 478, 1, 68, 3, 22, 46, 1, 80, 841], [4, 535, 140, 832, 25, 9, 112, 2, 14], [45], [277, 11, 467, 734, 1, 36, 338, 895, 3, 71, 3, 282, 34, 13, 245, 818, 3, 282, 985, 7, 67, 4, 391], [85, 79, 15, 97], [197, 129, 148, 17, 5, 62, 1, 333, 3, 148, 320], [38, 38, 40, 9, 74, 74, 427, 9], [3, 11, 34, 5, 386, 17, 204, 1, 61, 8, 80, 46, 5, 287, 17, 5, 325, 7, 14, 11, 16, 4, 634, 337], [528, 180, 52, 6, 751, 5, 10, 309, 39, 26, 16, 44, 35, 215], [66, 3, 66, 6, 352], [1, 2, 231, 4, 319, 65, 182, 25, 4, 17, 43, 42, 72, 9, 38, 2, 423, 43, 42, 316, 11, 703], [85, 143, 4, 352, 17, 296, 17, 4, 296, 301, 32, 36, 21, 94, 2, 268, 2, 5, 535, 140, 501, 2, 231], [21], [52, 999, 9, 104, 2, 992, 30, 36], [38, 421, 3, 854, 118, 662], [54, 69, 155, 9, 23, 5, 11, 295, 656, 113, 275, 9, 72], [52, 64, 1, 120, 77, 299, 1, 711, 11, 502], [586, 36, 493, 4, 319, 34, 65, 44], [1, 98, 536, 2, 64, 1, 26, 225, 31, 8, 570, 8, 34, 3], [595, 24, 466, 57, 77, 344, 349, 865], [2, 31, 177, 124], [27, 259, 39, 26, 49, 45], [45, 6, 342, 33, 399], [18, 5, 24, 233, 75], [131, 1, 516, 3, 17, 184, 124, 71, 11, 105, 59, 18, 5, 530, 1, 61, 265, 4, 296], [28, 3, 55, 126, 11, 332], [52, 59, 184, 124, 228, 118, 7, 7, 172, 467, 315, 12, 129, 435, 686, 54, 792, 17, 63, 28, 3, 313, 174], [131, 452, 16, 1, 267, 3, 1, 3, 1, 132, 3, 394, 2, 421, 13, 639, 8, 12, 674, 818, 1, 66, 3, 180], [133, 20, 26, 31, 207, 66, 3, 31, 782], [57, 36, 353, 4, 396, 7, 213, 12, 33, 368, 6], [170, 102, 28, 412, 67, 4, 597, 17, 507, 160, 21, 1, 313, 84, 34, 4, 7, 502, 30, 179], [117, 32, 3, 370, 167, 14, 170], [294, 163, 844, 114, 178, 656, 1, 1, 24, 45], [655, 13, 856, 365, 738, 12, 399, 784, 785, 857, 216, 1, 398, 614, 15, 786, 430, 739, 658, 915], [166, 420, 25, 23, 488], [1, 30, 6], [133, 14, 8, 48, 17, 202], [258, 214, 16, 2, 31, 141, 129, 341, 20], [1, 333, 6, 282, 128, 1, 210, 24, 704], [81, 1, 146, 31, 315, 25, 26, 15, 3, 12, 192, 5, 340, 9, 20, 11, 304, 52, 999, 34, 3, 483, 122, 7, 5], [1, 80, 2, 86], [126], [299, 555, 160, 21, 31, 96, 220], [579, 921, 11, 595, 170], [6, 33, 511, 803, 52, 197, 478, 4, 309, 82, 243, 62], [627], [32, 8, 292, 29, 3, 23, 673, 893, 18, 14, 2, 134, 14, 45, 107, 21], [46, 3, 36, 522, 8, 5, 643, 11, 144, 7, 5, 26, 591, 160], [85, 6, 29, 23, 721, 236, 5, 538, 386, 130, 4, 190, 17, 922, 107, 159, 95, 269, 41, 129, 681], [103, 919, 2, 119, 40, 922, 386, 27, 3, 102, 49, 2, 510, 138, 137, 234, 195, 829, 322, 455], [61, 18, 4, 96, 51, 24, 32, 23, 32, 230, 90, 26, 31, 251, 527, 28, 3, 947, 5, 556, 40, 116, 81, 5, 141], [28, 3, 55, 46, 5], [117, 57, 3, 16, 4, 111, 337], [3, 4, 662, 116], [64, 43, 588, 42, 21, 1, 398, 5, 317], [89, 155, 797, 28, 6, 295, 35, 1, 49, 446, 5, 12, 4, 549, 797, 1, 8, 4, 452, 89, 540, 48, 201, 515, 4, 82, 11, 490], [24, 5, 801, 9, 270], [576, 59, 23, 446, 57], [85, 11, 1, 29, 64, 81, 25, 32, 60, 271, 4, 12, 21, 13, 238], [9, 886, 78, 41, 137, 281], [54, 63, 6], [35, 979, 212, 30, 442, 40, 9], [99, 96, 123, 35, 3, 58, 81, 4, 30, 179, 335, 127], [99, 180, 161, 27, 74, 21, 313, 28, 179, 560], [65, 45, 64, 2, 11, 74, 14, 229, 2, 174, 7, 266, 29, 199], [239, 207, 16, 151, 139, 10, 4, 15, 35, 69, 54, 69, 501, 30, 130, 101, 754], [20, 632], [35, 3, 83, 74, 57, 64, 206, 990, 201, 190], [32, 503], [36, 373, 2, 48, 46, 32, 2, 84, 4, 814, 830, 305, 40, 116, 39, 155, 37, 742, 25, 1, 370, 605], [823, 207, 104], [51, 5, 76, 1, 267, 3, 94, 630], [131, 3, 87, 70, 2, 49, 12, 542, 35, 39, 287, 27, 57, 29, 49, 950, 7, 465, 5], [397, 645, 83], [32, 976, 5, 68, 1, 36, 196, 3, 65, 775, 2, 31, 4, 24, 725, 14, 8, 20, 772], [53, 53, 678, 50, 978, 36, 118, 193, 123, 342], [326, 371], [5, 9, 2, 40, 805, 67, 48, 247, 181], [103, 919, 16, 13, 208, 18, 211, 293, 5, 18, 13, 19, 342, 4, 19, 41, 121, 138, 176], [88, 1, 26, 67, 8, 43, 42, 190], [317, 9, 5, 542, 5, 310, 59, 18, 43, 42, 689, 71, 279, 50, 22, 593, 456], [4, 384, 829, 9, 248, 12, 3, 92, 923, 130, 3, 51, 92, 93, 2, 318, 4, 829, 36, 15], [581, 168, 13, 467, 56, 4, 15, 51, 384, 566, 15, 2, 563, 3, 63, 184, 171, 120, 138, 176], [395, 1, 241, 37, 563, 48, 789, 57, 14, 30, 179], [682, 350, 24, 9, 691, 236, 682, 125], [7, 9, 72, 4, 141, 3, 29, 67, 301, 2, 104, 7, 89, 130, 118, 662, 112], [10, 23, 44, 519, 41, 8, 5, 491], [29, 113, 26, 169, 371, 1, 252, 295, 1, 252, 921, 2, 16, 101], [175, 12, 5, 14, 59, 662, 421, 16, 4, 111, 116], [175, 682, 198, 744], [85, 79, 15, 97], [70, 2, 44, 33, 34, 4, 524, 108, 223, 95, 19, 40, 68, 138, 234, 195, 5, 82, 240, 495, 357, 750, 971, 455], [33, 152, 953, 9, 871, 482, 577, 2, 33, 152, 8, 21, 67, 49, 2, 679, 60, 187, 115, 351, 312], [5, 250, 34, 6, 29, 2, 5, 2, 178, 179, 25, 5, 549, 114, 16, 14, 46, 6, 183, 49, 316, 14], [26, 386], [1, 26, 91, 181, 17, 340, 1, 26, 269], [38, 616, 60], [415, 1, 37, 11], [9, 8, 109], [494], [126, 22, 3, 3, 155, 3, 168, 31, 128, 46, 1], [409, 79, 68, 3, 46, 32, 96], [6, 581, 10, 160, 15, 11, 819, 105], [182, 15, 51, 443, 13, 788, 41, 279, 30, 400, 152, 652, 498, 657, 171, 322, 312, 369, 280], [212, 182, 13, 93, 144, 130, 118, 323, 34, 4, 596, 136, 253, 15, 51, 675, 274, 119, 476, 623, 60, 369], [3, 16, 191, 121, 400, 152, 30, 4, 19, 400, 136, 2, 119], [277, 450, 123, 3, 37, 96, 2, 13, 22, 3, 44, 5, 923, 21, 13, 52, 537, 14, 1, 189, 3, 163], [61, 44, 2, 11, 890, 8], [1, 84, 46, 39, 294, 39, 16, 765, 17, 2, 475], [6, 1, 1, 267, 6, 168, 15], [11, 130, 118, 24, 127, 1, 1, 36, 224, 353, 1, 288], [342, 411], [1, 23, 27, 74, 21, 426], [175, 12, 307, 72, 12, 10, 36, 2, 268, 2, 18, 641, 3, 22, 172, 103, 2, 10, 1, 344, 3, 71, 4, 609, 7], [9, 837, 9, 194, 20, 6, 20, 687, 40, 27, 9, 14, 21, 725, 14], [59, 36, 94, 2, 154, 26, 178, 40, 76, 395, 239, 162, 3, 370, 37, 50, 5, 459, 39, 196, 3, 18], [1, 774, 16, 6, 71, 4, 203, 18, 176, 2, 67, 47, 242, 2, 917, 51, 242, 38, 2, 43, 42], [180, 1, 773, 66, 3, 112, 3, 55, 479, 14, 59, 24, 53, 2, 440, 13, 1, 24, 80, 20, 1, 14, 1, 224, 37, 496, 1, 3], [284, 2, 230, 12, 6, 26, 31, 44, 2, 671, 34, 5, 283, 547, 7, 2, 31, 67, 37, 75, 86, 2], [638, 111, 22, 3, 74, 21], [586, 6, 403, 48, 834], [18, 126, 6, 78, 73], [17], [1, 836, 436, 543, 1, 20, 301, 7, 493, 20, 65, 433, 38, 640, 107, 15, 5, 30, 67, 4, 548, 2, 156], [50, 59, 117, 519, 292, 40, 631, 34, 11, 132, 62, 230, 45, 31, 53, 71, 224, 564, 235, 164, 249, 63, 238, 71, 225], [316, 302, 126, 146, 1, 670, 18, 3, 30, 8, 3], [175, 12, 5, 21, 34, 5, 34, 18, 13, 93, 12, 4, 47, 36, 95, 34, 21], [], [153, 24, 101, 63, 208, 116, 3, 29, 37, 505, 51, 13, 707, 158, 37, 44, 246, 166], [229, 274, 155, 81, 4, 261, 615, 100, 670, 121, 129, 478, 17, 10, 275, 362, 193, 1, 526, 6, 53], [45, 120, 77, 57], [88, 24, 61, 1, 52, 127, 12, 142], [182, 13, 93, 38, 191, 4, 887, 400, 583, 862, 136, 18, 863, 40, 9, 5, 367, 551, 2, 364, 3, 15, 888, 369], [61, 18, 4, 96, 51, 24, 32, 23], [14, 241, 128], [35, 3, 16, 10, 64, 2, 11, 74], [153, 1, 146, 31, 434, 2, 79, 68, 3, 46, 32, 315, 2, 174, 44], [89, 267, 2, 20, 69, 70, 8, 722, 376, 32, 503, 128], [88, 88, 40, 325, 320, 55], [716, 838, 22, 488, 2, 318, 4, 559, 35, 3, 16, 4, 102, 15, 119, 430, 971], [74, 24, 39, 29, 225, 199], [38, 32, 23, 214, 31, 434, 2, 112, 235, 79, 31, 74, 8, 4, 264, 922, 378, 54, 22, 5, 839], [20, 442, 51, 2, 79, 31, 271, 4, 238, 2, 564, 206, 72, 24, 1, 100, 16, 2, 96, 7, 71, 1, 16, 543, 11, 639, 505, 51], [45, 1, 61, 18, 5, 141, 2], [937, 7, 326, 8, 456], [724, 384, 495, 95, 334], [433, 65, 34, 104, 128], [428, 1, 50, 163, 5, 76, 27], [226, 25, 14, 233, 24, 1, 847, 156], [880, 59, 656, 321, 35, 6, 265, 109, 845, 418, 39, 252, 174, 41, 349, 185, 97, 6, 218, 886, 26, 210, 418, 6, 174, 151, 41, 281, 73], [147, 63, 413, 126, 87, 58], [175, 12, 905, 40, 489], [20, 632], [1, 213, 12, 132, 219, 112, 377, 71, 117, 25, 858, 124, 378, 78, 12, 4, 21, 16, 4, 53, 124, 425, 2, 3, 220], [54, 146, 1, 353, 281], [763, 1, 80, 145, 10, 460, 3, 55, 22, 23, 128, 7, 5, 9, 206, 54, 146, 1, 28, 16, 4, 634, 62, 460, 16, 3, 575, 185, 1, 98, 174, 3, 653, 52, 59, 5, 968], [811, 120, 77, 57], [16, 3, 30, 179, 45, 395, 201, 717, 59, 4, 291], [378, 10, 44, 46, 258, 96, 376, 881, 1, 16, 2, 772, 44, 34, 7, 69, 225, 130, 396, 7, 30, 9], [627, 77, 221, 174, 27, 185, 10, 27, 21, 32, 23, 511, 90], [45, 6, 29, 91, 10, 435, 46, 6, 37, 125], [153, 347, 128, 12, 4, 445], [1, 196, 3, 43, 42], [60, 19, 40, 489, 8, 201, 166, 19, 43, 42, 419, 19, 41, 43, 42, 414, 286, 166, 43, 42, 57, 259, 19, 201, 106, 10, 5, 492, 35, 6, 83, 1, 58, 125], [393, 426, 77, 50, 73, 52, 697, 1, 521, 9, 78, 82, 1, 115, 151], [9, 4, 352, 26, 8, 184, 24, 172, 883, 2], [11, 66, 1, 132, 13, 23, 149, 188, 100, 3, 970, 13, 30, 13, 105], [5, 731, 72, 4, 858, 8, 5, 858, 72, 9, 142, 8, 5, 72, 9, 4, 18, 5, 72, 22, 166, 574, 986], [131, 1, 5, 18, 480, 163, 54, 275, 22, 39, 78, 12, 371, 178, 13, 480, 124, 47, 39, 80, 2, 174, 7, 92], [70, 19, 37, 219, 70, 334, 815, 196, 911, 19, 33, 538, 512, 5, 815, 357, 81, 879, 2, 115, 187], [600, 328, 119, 33, 995, 745, 17, 996, 506, 90, 68, 133, 2, 21, 924, 822, 93, 171, 322, 924, 764, 997, 256], [655, 13, 856, 365, 738, 12, 399, 784, 785, 857, 216, 1, 398, 614, 15, 786, 430, 739, 658, 915], [14, 146, 91, 94, 43, 42, 190], [667, 783, 52, 94, 3], [45], [101, 1, 29, 37, 107], [228, 163], [714, 83, 23, 63, 891, 114, 150, 20, 1, 61, 680, 17, 6, 160, 21, 7, 202, 520, 6, 110, 17, 10, 27, 820, 41, 4, 709, 691], [408, 6, 221, 10, 19, 49, 470, 41, 6], [99, 115, 10, 32, 8, 456], [562, 209, 348, 306, 105, 9, 13, 15, 406, 407, 369, 15, 51, 256, 593], [239, 5, 34, 20, 49, 117, 258, 4, 76, 909, 669, 789, 84, 3, 12, 249, 63, 249, 238], [61, 23, 2, 28, 56, 20], [145, 153, 1, 536, 6, 29, 60, 91, 19, 48, 435, 27, 362], [324, 3, 251, 4, 296, 17, 2, 205, 44, 97, 219], [2, 212, 152, 51, 683, 2, 842, 400, 577, 75, 7, 67, 2, 407, 187, 62, 256, 455, 95, 41, 681], [57, 37, 113, 152, 742, 7, 79, 68], [61, 23, 503, 25, 61, 44, 2, 890, 8, 24, 26, 68, 6, 97, 46, 4, 291, 129, 47, 12, 199], [120, 484, 9, 451, 184, 549, 889, 451, 385, 19, 354, 25, 1, 521, 77, 23], [52, 22, 3, 149, 40, 9, 36, 3, 4, 111, 62], [608, 276, 199, 36, 190, 643, 13, 308, 7, 276, 15, 21, 199, 276, 232], [3, 22, 160, 483, 743, 44], [175, 12, 40, 132, 3, 135, 4, 53, 62, 90], [25, 13, 609, 60, 43, 42, 43, 42, 420], [150, 761, 410, 82, 69, 155, 233, 134, 25, 69, 155, 213, 73], [36, 949, 230, 96, 21], [1, 25, 72, 9, 60, 243, 1, 29, 60, 673, 20, 159], [162, 860, 54, 254, 72, 3, 135], [870, 25, 3, 146, 139, 14, 18, 76, 62], [16, 4, 229, 62, 11, 103], [7, 22, 105, 637, 15], [9, 50], [51, 164, 566, 286, 2, 166, 122], [126, 22, 3, 103], [3, 22, 253, 5, 283, 209, 105, 4, 702, 30, 4, 713, 136, 75, 331, 429, 2, 38, 187], [98, 134, 839, 12, 542, 89, 501, 211, 2, 64, 206, 57, 45], [554, 17, 676, 262, 75, 2, 35, 3, 100, 56, 949, 75, 7, 37, 4, 108, 187, 115, 256], [33, 677, 33, 161, 128, 19, 19, 6, 313, 150, 380, 622, 515, 10, 4, 467, 445, 158, 1, 874, 79, 504, 96, 33, 263], [45, 77, 220], [145, 3, 313, 343, 20, 624, 428, 258, 5, 7, 32, 5, 3, 139, 10, 4, 7, 79, 139, 3, 76], [35, 39, 14, 230, 3, 29, 855, 8, 34, 10], [790, 9, 7, 10, 20, 215, 9, 773, 44, 5, 71, 39, 425], [28, 3, 70, 4, 108, 348, 545, 101, 63, 101, 357, 260, 824, 68, 684, 95, 30, 15, 21, 642, 12, 480, 61], [117, 500, 4, 17, 11, 245, 941, 10, 2, 701, 44, 7, 64, 876, 34, 156, 7, 57, 941, 10, 20, 32, 4, 134, 156, 876, 112, 127, 793, 149, 275, 255, 24, 3, 84, 52, 32], [46, 22, 3, 78, 2, 13], [66, 14, 1, 70, 2, 20, 806, 34, 670], [71, 1, 11, 11, 420, 155, 797, 148, 797, 1, 938, 254, 89, 960, 10, 41, 281, 159, 281, 89, 10, 2, 104, 39, 332, 72], [347, 23, 87, 78, 200, 113, 301, 128], [948, 747, 33, 323, 713, 17, 464, 506, 30, 464, 253, 19, 471, 688, 314, 472, 2, 798, 138], [926, 11, 24, 61, 18, 218, 90], [1, 55, 3, 22, 25, 233, 89, 168, 16, 118, 7, 65, 35, 89, 607, 496, 2, 104, 104, 26, 7, 35, 3, 139, 104, 21, 89, 26, 36, 65, 4, 89, 130, 243, 442, 8, 4, 264, 284, 14, 26, 86], [170, 1, 20, 1, 493, 151, 8, 5], [6, 44, 8, 423, 389, 60, 250, 243, 34, 82, 352, 561], [8, 173, 46, 3, 368, 36, 4, 23, 65, 5, 489, 25, 445, 5, 8, 5, 6, 26, 55, 54, 13, 261, 9, 12], [36, 28, 54, 431, 9, 12, 3], [1, 332, 2, 743], [109, 9, 53, 53, 702, 162, 69, 9], [8, 5, 484, 8, 289, 5, 20, 27, 5, 372, 17, 5, 4, 62, 186, 966, 62, 120, 892, 62, 67, 4, 186, 30, 120], [161, 53, 1, 16, 118, 680, 94, 3], [161, 9, 409], [873, 843, 4, 328], [153, 806, 127, 31, 5, 240, 914], [362, 47, 15, 10, 437, 1, 61, 248, 12, 3], [747, 6, 29, 119, 19, 718, 4, 943, 19, 120, 8, 8, 30, 464, 253, 15, 2, 119, 322, 138, 565], [562, 209, 348, 306, 105, 9, 13, 15, 406, 407, 369, 15, 51, 256, 593], [35, 3, 22, 23, 57, 65, 335], [265, 6, 9, 11, 122, 774, 10, 46, 415, 1, 28, 11, 122, 164], [53, 165, 550], [39, 534, 2, 203, 3, 592, 13, 95, 2, 92, 386, 17, 4, 348, 545, 733, 260, 824, 68, 684, 95, 30, 15, 642, 21], [139, 4, 474, 114, 110, 7, 1, 295, 101, 296, 17, 669, 7, 50, 20], [28, 6, 87, 16, 7, 4, 39, 241], [145, 111, 1, 526, 151, 129, 24, 20, 39, 29, 268], [223, 556, 13, 130, 21, 19, 592, 864, 95, 41, 30, 41, 121, 524, 187, 227, 116, 75, 86, 19, 86, 40, 115, 47], [660, 688, 212, 4, 523, 702, 35, 6, 55, 243, 8, 116, 75, 2, 339, 244], [182, 39, 22, 373, 2, 203, 3, 184, 314, 399, 6, 16, 191, 4, 355, 136, 253, 15, 119, 430, 476, 623, 187, 631], [153, 160, 79, 504, 11, 761], [65, 4, 485, 43, 42, 43, 42, 177, 43, 42], [1, 110, 35, 69, 57, 65, 172, 12, 92, 305], [99, 11, 66, 52, 537, 20, 62, 479, 40, 165, 1, 7, 11, 18, 5, 141, 206, 5, 25, 14, 528, 1, 189, 3], [35, 6, 905, 104, 74, 222, 143, 45, 73, 32, 23, 315, 236], [103, 1, 61, 23, 13, 574, 102], [153, 1, 110, 11, 87, 48, 51, 184, 124, 35, 3, 37, 17, 183, 10, 55, 7, 79, 206], [299, 51, 54, 1, 1, 110, 146, 31, 29, 563], [99, 126, 3, 3, 8, 74, 30], [7, 2, 3, 437], [226, 78, 12], [145, 88, 88, 25, 69, 9, 23, 4, 485, 378, 53], [131, 29, 3, 106, 10, 594, 825, 572, 10, 2, 174, 151, 72, 25, 1, 58, 7, 381, 23, 217, 105], [28, 23, 186, 235, 66, 705], [109, 53, 12], [1, 196, 557, 2, 5, 548, 312], [268, 34, 507, 362, 8, 4, 62, 881, 3, 26, 189, 13, 240, 296, 8, 40, 389, 43, 42], [57, 33, 706, 52], [747, 33, 323, 482, 17, 506, 30, 253, 47, 544, 19, 683, 688, 314, 75, 472, 2, 798], [3, 16, 191, 71, 4, 770, 247, 92, 923, 130, 3, 2, 212, 4, 995, 136, 2, 429, 9, 424, 36, 15], [496, 188, 78, 18], [6, 174, 275, 252, 221, 174, 10, 371, 907, 186, 4, 535, 558], [35, 3, 282, 22, 47, 1, 29, 139, 881], [13, 47, 401, 9, 248, 2, 31, 68, 5, 2, 2, 37, 7, 351, 312, 256], [69, 9, 4], [128, 61, 63, 61, 21, 704, 6, 313, 670, 200, 834, 199, 21, 132, 19, 120, 6, 388, 560], [22, 3, 315, 2, 7, 8], [143, 4, 126, 3, 49, 168, 31, 129], [53, 81, 5, 141, 26, 139, 6, 943, 12, 480, 566, 259, 717, 425, 246, 57, 215], [37, 5, 650, 401, 30, 477, 18, 93, 12, 624, 68, 223, 30, 2, 75, 86, 339, 244], [123, 1, 626, 2, 106, 3, 1, 70, 3, 1, 80, 3, 1, 3, 25, 454, 17, 50, 1, 66, 3, 11, 346], [53, 457, 437, 132, 3, 22, 344, 4, 229, 62, 1, 572, 2, 504, 14, 2, 13, 20, 1, 16, 118, 235, 8, 12, 5, 264, 982, 7, 16, 135, 2, 475, 4, 43, 42, 530, 1, 938, 14, 168, 31, 17, 10, 2, 94, 179, 3, 139, 27, 111, 407, 2, 507, 7, 239, 162, 1, 361, 425, 44, 1, 61, 8, 4, 7, 422, 31, 434, 2, 475, 5, 530, 40, 325, 11, 117, 17, 287, 29, 3, 102, 269, 421, 3, 12, 448], [39, 58, 4, 170, 89, 216, 128], [61, 18, 11, 141], [47, 12, 416, 116, 209, 223, 41, 33, 93, 177, 116, 36, 75, 209, 2, 37, 879, 7, 106, 33, 678, 138, 901, 234, 195, 816, 256, 223], [45], [85, 20, 59, 11, 763, 1, 526, 178, 8, 570], [28, 3, 56, 13, 18, 5], [24, 197, 305, 2, 31, 254, 27, 222, 25, 60, 172, 264, 26, 254, 2, 3, 603, 13, 184, 156, 603, 173, 965], [29, 3, 68, 30, 22, 3, 112, 999, 978], [99, 32, 1, 61, 842, 723, 667, 7, 122, 71, 4, 1, 66, 975, 68, 10, 276, 32, 1, 11, 21, 68, 2, 81, 280], [37, 13, 315, 12, 34, 4, 47, 17, 7, 745, 244, 60, 34, 5, 40, 641, 2, 86, 234, 195], [8, 40, 690, 389], [196, 10, 33, 568, 517, 220], [393, 1, 451, 185, 1, 58, 4, 787, 58, 842, 230, 41, 4, 336, 502, 24, 1, 521, 143, 109, 76, 77, 711, 33, 502], [666, 145, 175, 12, 520, 11, 62], [99, 148, 320, 99, 99, 99, 99, 99, 99, 99], [290, 1, 15, 3, 97, 107], [131, 83, 6, 561, 101, 288, 1, 300, 1, 290, 16, 8, 554, 388, 10], [1, 66, 226, 112, 25, 262, 7, 13, 204, 288, 180, 168, 18, 10, 35, 69], [20, 62, 3, 525, 94, 144, 162], [324, 324, 324, 128, 513, 4, 108, 17, 569, 12, 92, 2, 37, 12, 47, 36, 749, 5, 208, 196, 2, 33], [197, 197, 148, 17, 125, 62, 11, 103, 346, 261, 148, 320, 103], [1, 98, 55, 154, 2, 11, 609, 335, 340, 113, 250, 20, 36, 1, 267], [944, 793, 4, 654, 289, 40, 632, 843, 44, 27, 50], [92, 108, 93, 472, 232, 9, 21, 276, 5, 47, 472, 702, 26, 36, 18, 13, 105, 2, 840, 51, 5, 523], [131, 54, 867, 6, 230, 33, 125, 771, 62, 40, 53, 21, 35, 6, 28, 181, 139, 10, 4, 15, 164], [1, 61, 78, 2, 270, 1, 61, 860, 17], [160, 18, 84, 3, 97], [12, 5, 454, 435, 51, 227, 285, 15, 30, 752, 138, 195], [926, 90, 1, 61, 235, 12, 43, 588, 42, 190], [83, 6, 128, 236, 32, 966, 82], [202, 22, 3, 659, 48], [183, 10, 55, 46, 854, 58, 5, 204, 24, 825, 29, 134, 5, 15], [431, 431, 267, 81, 8, 4, 285, 140, 6, 225, 9, 5, 76, 140, 6, 127, 25, 2, 14, 198, 744], [1, 61, 8, 15, 3, 109], [562, 19, 93, 83, 635, 15, 21, 515, 33, 678, 343, 546, 472], [123, 6, 58, 20, 632], [716, 838, 22, 488, 2, 318, 4, 35, 3, 16, 4, 102, 15, 119, 430, 971], [96, 8, 175, 12, 211, 44, 7, 211, 50, 7, 148, 84, 3, 220], [5, 535, 118, 543, 5, 651, 1, 55, 76, 275, 535, 25, 381, 71, 479, 7, 843, 56, 417, 10, 72, 7, 1, 224, 31, 44, 72, 553, 235, 219], [371, 5, 76, 150, 35, 77, 221, 15, 81, 164, 15, 470, 12, 60, 58, 918, 12, 416, 284], [123, 6, 18, 5, 5, 59, 18, 7, 605, 2, 43, 42], [409, 117, 178, 10], [1, 196, 13, 20, 204, 630, 145], [28, 6, 695, 52, 19, 67, 447, 19], [], [3, 191, 13, 41, 279, 30, 712, 652, 498, 15, 21, 657, 216, 244, 631], [175, 4, 352, 12, 13, 18, 11, 320, 175, 3, 12, 520, 11, 320], [8, 987, 46, 28, 3, 218, 1, 110, 537, 96, 2, 458, 30], [35, 137, 29, 57, 1, 49, 645, 6, 73], [528, 598, 5, 96, 8, 324], [409, 55, 663, 44], [32, 230, 11, 105, 11, 941, 746, 1, 16, 7, 11, 639, 665, 86, 581, 14, 2, 268, 224, 522, 44, 34, 14, 84, 6, 46, 6, 37, 74, 66, 6], [1, 100, 363, 55, 54, 2, 28, 1, 87, 224, 37, 951, 17, 550, 1, 205, 3, 44, 756, 259, 7, 39, 29, 84, 35, 8, 5, 590], [32, 409, 18, 13, 795], [85, 109, 172, 172, 85, 1, 61, 44, 34], [655, 13, 856, 365, 738, 12, 399, 784, 785, 857, 216, 1, 398, 614, 15, 786, 430, 739, 658, 915], [85, 153, 32, 128], [13, 94, 10, 121, 200, 19, 166, 41, 201, 286, 259, 23, 414, 419, 957, 107, 95], [53, 457, 52, 22, 3], [175, 12, 13, 401, 629, 144, 13, 93, 26, 31, 912, 244, 146, 13, 223, 23, 102, 15, 247, 637, 18], [99, 682, 67, 113, 229, 714], [63, 82, 263, 83, 5, 481, 255, 8, 92, 173, 63, 532, 211, 2, 626, 263, 7, 263, 532, 211, 2, 626, 63, 198], [3, 49, 2, 849, 164, 1, 698, 64, 235], [130, 155, 4, 29, 154, 129, 754, 341, 4, 310, 29, 492, 21, 3, 55, 162, 50, 17, 211, 22, 845], [3, 146, 616, 13, 2], [844, 73, 213, 41, 11, 705, 19, 294, 580, 57, 16, 281, 73, 1, 771, 165, 564, 27, 74, 11, 360, 21, 11, 360, 363, 969], [12, 197, 255, 65, 142, 7, 14, 29, 31, 832, 12, 7, 257], [88, 1, 84, 3, 88, 126, 22, 3, 21], [1, 98, 55, 145, 40, 325], [77, 87, 58, 77, 8, 580], [216, 40, 26, 5, 328, 17], [87, 328, 72, 35, 3, 587, 608, 3, 26, 37, 14, 183, 16, 4, 262], [170, 1, 168, 25, 604, 1, 56, 307, 4, 308], [663, 44, 132, 3, 135, 4, 111, 651, 28, 16, 4], [45, 346, 602], [54, 1, 775, 2, 150, 9, 233, 213, 2, 84, 6, 193, 271, 554, 17, 40], [23, 415, 27, 286, 37, 4, 375, 2, 317], [409, 122, 175], [45, 38, 703, 79, 64, 159, 281, 57], [559, 716, 838, 22, 488, 2, 318, 4, 559, 35, 3, 16, 4, 102, 15, 119, 430, 971], [6, 942, 6, 321, 1, 59, 78, 48, 441, 151, 82, 6, 87, 64, 82, 154, 10], [1, 304, 295, 35, 6, 98, 189, 10, 30, 35, 6, 98, 80, 10, 25, 6, 698, 169, 611, 10, 514, 6, 80, 10, 158, 6, 98, 106, 10, 91, 181], [77, 49, 74, 413, 154, 444, 2, 205, 10, 44, 27, 286], [153, 143, 380, 558], [593, 423, 43, 42], [24, 52, 197, 284, 543, 57], [685, 300, 16, 2, 110, 94, 14, 45, 258, 125], [1, 100, 110, 69, 130], [581, 168, 13, 467, 56, 4, 15, 51, 384, 566, 15, 2, 563, 13, 63], [142, 8, 173, 65, 883, 2, 791, 875, 4, 20, 4, 263, 30, 5, 927, 20, 4], [722, 12, 43, 42, 15, 43, 42, 12, 931, 176], [133, 102, 218, 27, 43, 42, 24, 20, 27, 43, 42, 39, 29, 218], [202, 99, 3, 118], [22, 3, 27, 122, 160, 21], [494, 27, 783, 8, 11, 319, 78, 41, 349, 21, 6, 410, 24, 83, 114, 47, 219], [724, 131, 32, 7, 66, 2, 74, 704, 561, 95, 19, 120, 11, 989, 4, 115, 67, 86, 2, 86], [870, 88, 25, 1, 70, 2, 616, 5, 109, 1, 313, 37, 30, 357], [192, 1, 61, 511, 25, 26, 364, 11, 220], [451, 49, 82, 587, 41], [121, 49, 2, 988, 115, 19, 522, 18, 166, 5, 34, 819, 41, 959, 43, 42, 201, 917, 33, 819, 65], [40, 9, 5, 367, 63, 39, 16, 534, 19, 203, 6, 6, 16, 191, 5, 545, 136, 19, 119, 9, 424, 15, 21, 60, 439, 227, 190, 350, 531, 390], [32, 45, 26, 28, 11, 383, 164], [7, 848, 156, 44, 51, 614, 78, 19, 7, 114, 26, 28, 5, 743, 41, 166, 567, 7, 57, 6, 91, 156, 74, 726, 19, 201, 717, 172, 424], [145, 45, 1, 361, 55, 54, 3, 775, 1, 61, 450], [182, 13, 93, 144, 130, 118, 323, 34, 4, 596, 136, 253, 15, 51, 675, 274, 119, 476, 623, 60], [1, 155, 65, 428, 85], [757], [29, 3, 106, 2, 102, 49, 2, 766, 17, 7, 752, 5, 106, 5, 54, 5, 9, 7, 154, 35, 89, 29, 72, 89, 146, 154, 194, 2, 330, 12, 5, 249, 250, 7, 65, 89, 104, 8, 65, 127, 89, 26, 31, 271, 971, 8, 108], [153, 35, 224, 28, 14, 1, 241, 395, 154, 251, 4, 291], [452, 22, 248, 12, 3, 68, 13, 767, 81, 13, 71, 398, 30, 778, 137, 397, 12, 68, 13, 767, 81, 4, 397, 137, 397], [38, 1, 329, 582, 122, 20, 48, 142, 449, 159, 668, 2, 218, 543, 71, 944, 130, 101, 8, 396, 48, 246, 5, 184, 753], [436, 44, 346, 165, 3, 342, 40, 62, 34, 613, 17, 198, 760], [7, 172, 50, 39, 9, 447, 6, 7, 1, 60], [47, 12, 416, 116, 209, 223, 41, 33, 538, 177, 116, 36, 75, 209, 2, 636, 37, 879, 7, 106, 33, 678, 138, 901, 234, 195, 816, 223, 256], [32, 24, 8, 66, 34, 3, 32, 983, 62, 1, 34, 3, 3, 134, 10, 24, 148], [3, 16, 121, 108, 157, 102, 15], [29, 64, 11, 360, 25, 64, 11, 317, 185, 11, 317, 87, 278], [147, 77, 149, 21], [1, 61, 680, 17, 78, 206, 2, 12, 11, 278, 147, 63, 6, 78], [157, 51, 1, 61, 27, 853, 18, 3, 29, 105, 10, 128, 71, 1, 16, 4, 105, 81, 11, 795], [32, 691, 533, 58, 18, 114, 41, 349, 73, 278, 1, 140, 26, 49, 63], [3, 377, 308, 1, 29, 87, 394, 156], [277, 36, 58, 128, 894, 382, 65, 4, 273, 141, 65, 1, 26, 178, 3], [12, 11, 518, 826], [1, 847, 429, 109, 319, 27, 286, 426], [586, 12, 69, 58, 667, 7, 58], [133, 21, 60, 493, 13, 157], [145, 18, 480, 160], [327, 318, 4, 330, 51, 31], [562, 239, 111, 1, 572, 2, 106, 3, 23, 2, 106, 10, 13, 185, 14, 327, 134, 10, 25, 65, 10, 24, 175, 12], [32, 8, 292, 26, 97], [1, 422, 37, 103, 3, 55, 3, 22, 11, 295, 7, 448], [6, 16, 4, 759, 904, 140, 779, 6, 83, 24, 254, 15, 2, 672, 48, 95, 904, 86, 121, 244, 227, 115, 181], [53, 491, 11, 66, 52, 537, 13, 62, 52, 123, 3, 270, 1, 132, 13, 117, 11, 802, 1, 110, 17, 3], [107, 49, 72, 90, 43, 42, 1, 98, 70, 101], [335, 1, 775, 20, 362, 5, 204, 13, 365, 128, 5, 780, 26, 917, 65, 390, 194, 43, 42, 2, 11, 365, 7, 43, 42, 58, 24, 5, 7, 202, 31, 192, 3, 5, 285, 3, 22, 905, 365, 557, 2, 185], [13, 47, 401, 9, 248, 2, 31, 68, 5, 2, 2, 37, 7, 351, 312, 256], [278, 117, 1, 5, 7], [579, 408, 236, 24, 347, 214, 31, 128, 553, 349], [34, 763, 980, 90, 69, 20, 3, 80, 2, 2, 178, 10, 128, 381, 78, 2, 15, 3, 46, 69, 379, 1, 3, 2, 36, 98, 134, 101, 30, 134, 14, 255, 22, 23, 424, 7, 1, 80, 3, 2, 102, 183, 211, 122, 255, 48, 71, 273, 71, 1, 178, 269, 11, 26, 31, 24, 107, 36, 178, 151, 148, 38, 18, 13, 383], [64, 251, 43, 63, 42], [710, 68, 10, 46, 258], [685, 45, 79, 564, 12, 56, 142, 449, 185, 11, 9, 169], [36, 376, 11, 525, 54, 1, 59, 44, 2], [98, 139, 4, 474, 114, 110, 7, 1, 100, 295, 101, 296, 17, 669, 50, 20, 36, 100, 270, 20, 31], [32, 8, 722], [39, 16, 196, 12, 247, 232, 670, 2, 33, 548, 517, 12, 557, 203, 211], [99, 65, 29, 6, 139, 10, 4, 621, 888, 366], [15, 821, 21], [131, 21, 61, 47, 3, 29, 15, 10], [77, 266], [45, 72, 290, 31, 4, 47, 849, 94], [208, 2, 4, 46, 22, 3, 237, 8, 90, 28, 3, 110], [595, 286, 202, 57, 60, 52, 197], [39, 87, 18, 12, 219], [175, 41, 13, 13, 489, 40, 116, 26, 6, 92, 314, 41, 471, 152, 289, 5, 108, 211, 75, 2], [1, 233, 205, 5, 105, 160, 21, 107, 67, 4, 157], [131, 757, 351], [131, 22, 3, 730, 34, 10, 95, 10], [131, 179, 540, 44, 184, 190, 110, 1, 31, 44, 411, 969], [52, 22, 3, 36, 44, 18, 3], [266, 4, 137, 82, 171, 1, 82, 137, 148, 62, 8], [131, 411, 395, 29, 174, 3, 27], [324, 6, 654, 304, 159, 979], [4, 809, 21, 25, 153, 79, 218, 46, 32, 298], [3, 16, 142, 463, 247, 232, 15, 821, 21], [683, 676, 232], [36, 696, 7], [225, 700, 4, 539, 882, 490, 25, 5, 60, 76, 490], [103, 40, 9, 13, 600, 2, 429, 13, 41, 279, 30, 152, 559, 15, 51, 443, 657, 369], [23, 192, 1, 16, 5, 12, 14], [431, 338, 94, 4, 53, 173, 34, 4, 36, 75, 96, 289, 7, 767, 2, 512, 5, 93, 242], [4, 352, 17, 40, 250, 78, 91, 14, 424, 132, 6, 210, 288, 220, 170], [147, 63, 28, 6, 221, 19, 174, 10, 97], [382, 3, 10, 7, 50, 13, 8, 64, 206, 35, 3], [1, 836, 55, 365, 557, 1, 26, 154, 11, 707, 7, 67, 3, 11, 707, 9, 48, 17, 364, 21], [45, 5, 585, 46, 22, 77, 78, 2, 563, 1, 110, 143, 18, 290, 542, 338, 313, 49, 48, 34, 25, 89, 47], [99, 103, 15, 10, 65, 1, 100, 55, 791, 13, 340, 3, 100, 70, 2, 122, 30, 35, 3, 16, 101, 275, 340, 27, 820, 106, 10, 12, 13, 95], [60, 354, 18, 243, 105, 11, 29, 37, 73], [8, 32, 50, 207, 34, 10, 23, 192, 5, 250, 26, 31, 686, 378, 16, 4], [88, 32, 315, 43, 42], [532, 255, 132, 532, 255, 122, 66, 532, 255, 539, 290, 3, 16, 50, 40, 939], [239, 311, 39, 469, 2, 82, 120, 52, 73], [724, 3, 16, 118, 323, 4, 47, 306, 36, 95, 2, 429, 13, 136, 672, 48, 86, 309], [182, 33, 323, 4, 788, 617, 2, 30, 355, 2, 119, 75, 423, 2, 280, 286, 339, 244, 461], [278, 37, 832, 2, 511, 2, 310, 1, 55, 4, 352, 17], [6, 87, 494, 58, 4, 371], [6, 16, 4, 759, 140, 9, 487, 19, 134, 203, 34, 6, 167, 48, 140, 114, 83, 904, 140, 779, 33, 24, 254, 15, 18], [356, 660, 54, 379, 2, 125, 137, 778, 75, 125, 137, 30, 778, 2, 21, 41, 328, 19, 212, 471, 152], [1, 61, 85, 14, 611, 3], [66, 130, 76, 134, 148, 5, 285, 3, 66, 8, 5, 249, 141, 692, 130, 76, 304, 134, 33, 296, 210, 704, 519, 3, 22, 198, 124], [664, 5, 314, 71, 13], [385, 73, 1, 493, 4, 264, 76, 1, 272, 363, 45, 462, 25, 1, 80, 367, 410], [24, 46, 28, 3, 313, 849], [162], [480, 160, 428, 175], [12, 53, 25, 38, 30], [146, 1, 666, 72, 30, 54], [330, 515, 1, 137], [117, 161, 63, 2, 134, 113], [38, 10, 32, 8, 5, 248, 360], [47, 12, 416, 116, 209, 223, 41, 33, 93, 177, 116, 36, 75, 209, 2, 37, 879, 7, 106, 33, 678, 138, 901, 234, 195, 816, 256, 223], [409, 28, 3, 87, 70, 2, 37, 204], [10, 82, 151, 24], [1, 233, 205, 5, 105, 160, 21, 107, 67, 4, 157], [133, 387, 22, 3, 78, 2, 134, 10], [277, 255, 363, 49, 2, 392, 9, 897, 74, 81, 7, 34, 230], [4, 264, 59, 43, 42, 358, 715], [38, 25, 39, 4, 646, 2, 231, 113, 18, 141, 96, 21, 29, 1, 15, 8], [38, 107, 1, 16, 135, 496, 51, 3, 7, 518, 445, 1, 61, 8, 5, 569, 801, 8, 4, 238, 38, 162, 72, 146, 31, 142, 17, 23, 78, 23, 46, 412, 65, 2, 49, 213, 12, 172], [401, 556, 37, 5, 195, 18, 13, 93, 983, 116, 7, 643, 101, 523, 401, 40, 157, 9, 47, 17, 530], [67, 10, 13], [69, 155, 26, 40, 16, 118, 2, 163, 30, 23, 542, 1, 61, 8, 4], [1, 29, 25, 14, 26, 106, 363, 273, 185, 1, 579, 294, 11, 236], [10, 112, 326, 484, 60, 159, 286, 631, 484], [277, 277, 99, 85, 14, 598, 24, 273, 19, 95, 1, 408, 93, 27, 245, 8, 36, 58, 14, 161, 85, 1, 134, 33, 19], [881, 135, 383, 63, 303], [35, 69, 575, 69, 26, 37, 303, 8, 264, 284, 69, 16, 111, 7], [45, 73], [103, 39, 58, 43, 42, 99, 99], [54, 59, 89, 487, 12], [66, 130, 38, 130, 38, 130, 38, 290, 6, 16, 225, 8, 33, 173, 198, 693], [1, 110, 37, 76], [71, 6, 29, 15, 10, 462, 461, 647], [99, 32, 225, 653, 18, 7, 168, 56, 2, 199, 34, 3], [32, 8, 4, 265, 15, 10, 97, 27], [9, 980, 57, 980, 9, 5, 17, 35, 6, 3, 465, 43, 42, 216, 489, 262, 2, 492], [20, 79, 49, 200, 24, 6, 29, 28, 11, 502, 852, 28, 14, 47, 160], [85, 12, 5, 133], [133, 1, 26, 31, 72, 3, 473, 14], [68, 104, 35, 89, 95, 183, 10, 55, 24, 1, 29, 16, 104, 813, 8], [15, 12, 60, 121, 227, 549, 15, 51, 4, 274, 931, 935, 144, 38, 911, 935], [586, 445, 282, 674, 11, 639, 473, 710, 1, 598, 541], [88, 49, 7, 270, 117, 91], [155, 32, 125, 8, 125, 389, 402, 158, 155, 213, 6, 125, 285, 976, 40, 115, 257, 402, 29, 845], [38, 39, 522, 734, 259, 284, 4, 116, 7, 992, 1, 110, 39, 80, 2, 314, 8, 113, 24, 114, 55, 668], [7, 395, 113], [131, 3, 29, 475, 34, 468, 60, 43, 42], [1, 332, 2, 33, 25, 38, 76, 9, 72], [1, 110, 143, 50, 87, 8, 11, 319], [393, 185, 1, 59, 266, 235, 82, 46, 1, 364, 114, 163, 25, 39, 73, 143, 137, 140, 83, 27, 10, 73], [508, 14, 26, 64, 206, 90, 28, 71, 1, 155, 7], [1, 66, 2, 1, 70, 2, 951, 3, 8, 11, 160, 21], [160, 14, 3, 140, 14, 59, 194, 34, 4, 144, 56, 635], [212, 5, 7, 5, 629, 17, 5, 563, 201, 95, 492, 201, 754, 328, 2, 31, 5, 222], [6, 38, 33, 4, 44, 21, 160], [955, 133, 103, 470, 52, 1, 61, 3, 584], [239, 620, 13, 667, 1, 276, 2, 31], [198, 760, 103, 16, 4, 229, 62], [17, 5, 17, 5, 8, 21, 95, 81, 19, 41, 328, 19, 212, 95, 86, 2, 287], [65, 4, 624, 67, 423, 115, 2, 50, 33, 245, 35, 201, 83, 125, 249, 57, 194, 169, 6, 243, 477, 10, 5, 240], [38, 406, 459, 516, 406], [3, 16, 8, 50, 5, 8, 40, 562, 198, 760], [85, 682, 11, 58, 113, 340, 311, 1, 59, 691, 434, 2, 95, 6, 30, 115, 6], [135, 13, 93, 461, 453, 2, 5, 283, 306, 348, 729, 12, 47, 178, 33, 249, 144, 37, 916, 47, 260, 438, 68, 133, 12, 4, 15], [6, 47, 18, 480, 558, 6, 221, 19, 385, 441, 10, 82, 880, 82, 735, 886], [174, 3, 8, 894, 865, 909, 3, 29, 84, 52, 11, 295, 9, 503], [196, 10, 33, 568, 517, 220], [4, 467, 150, 91, 362, 177, 414, 567, 143, 60, 118, 201, 25, 508, 9, 96, 24, 1, 598, 405, 132, 1, 100, 964], [24, 6, 214, 37, 861], [395, 13, 59, 17], [409, 1, 146, 31, 72, 81, 414, 27, 5, 283, 347, 2, 259, 22, 790, 7, 206, 30, 146, 39, 36, 28, 481], [90, 9, 85, 62, 35, 431, 1, 59, 730, 34, 3, 35, 431, 1, 30, 611, 3, 615, 615, 36, 908, 65, 33, 32, 53], [584, 1, 485, 765, 24, 37, 315], [1, 66, 6, 19, 180, 83, 6, 192, 448, 9, 9, 69, 307, 142, 75], [153, 1, 26, 186, 72, 27, 85, 36, 106, 10, 243, 590, 2, 8, 7, 64, 514, 6, 29], [20, 155, 29, 3, 68, 151, 76, 129, 63], [145, 9, 40, 5, 222, 63, 6, 293, 604, 741, 17, 574], [131, 302, 50, 19, 17, 19, 6], [174, 159, 281], [53, 165, 170, 132, 1, 370, 436, 6, 44], [33, 953, 9, 21, 208, 489, 5, 485, 4, 186, 30, 120, 68, 4, 186, 30, 120, 2, 53, 958], [811, 1, 248, 8, 580, 41], [710, 489, 34, 4, 492, 194, 525, 4, 382, 52, 9, 33, 173, 69, 158, 89, 9, 207], [159, 5, 89, 26, 31, 434, 2, 353], [875, 105, 40, 105, 1, 492, 40, 76, 25, 5, 275, 9, 305, 1, 100, 117], [52, 127, 3, 58, 12], [1, 100, 313, 37, 48, 17, 529, 143, 24], [53, 270, 9, 94, 5, 285, 130, 2, 4, 20, 5, 26, 7, 293, 35, 3, 70, 2, 55, 129], [668, 18, 5, 795, 51, 126, 39, 3, 230], [99, 103, 39, 493, 103, 39, 584, 22, 148, 126, 3, 11, 9], [54, 28, 6, 70, 46, 1, 64, 96, 4, 539, 71, 4, 17, 11, 261, 12, 3, 316, 54, 1, 26, 139, 25, 60, 2, 11, 490, 17, 11, 31, 20, 7, 84, 38, 76, 29, 139, 3, 20, 98, 15, 10, 1, 26, 213, 603, 1, 64], [202, 106, 151, 1, 155, 148, 320], [562, 121, 297, 254, 891, 12, 19, 9, 635, 15, 21, 120, 266, 50, 41, 47, 98, 189, 48], [72, 9, 4, 222, 63, 12, 448], [99, 132, 3, 135, 4, 53, 62, 16, 4, 288, 124], [5, 43, 42, 397, 20, 1, 493, 4, 264, 284, 715, 5, 535, 501, 970, 60, 12, 43, 42, 7, 34, 12, 43, 42, 239, 162, 1, 151], [552, 147], [40, 9, 50, 36, 7, 690, 2, 10], [71, 8, 22, 72, 101, 12, 10, 76, 51, 374, 20, 4, 25, 290, 87, 150, 374, 18, 14], [82], [263, 8, 263, 8, 508, 263, 46, 56, 977, 263, 46, 6, 263, 194, 87, 2, 84, 6, 720], [228, 23, 336, 3, 8, 4, 445, 40, 9, 14, 59, 7, 20, 3, 55, 20, 39, 189, 3, 403, 1, 189, 485, 24, 107, 139, 104, 11, 66, 16, 4, 111, 62], [6, 15, 10, 27, 658, 45], [39, 22, 27, 145, 103, 6, 87, 300, 1, 938, 396, 40, 165, 25, 1, 110, 1, 61, 36, 405, 124, 57, 39, 218, 18, 480], [24, 500, 4, 621, 20, 513, 34, 5, 403, 143, 72, 24, 114, 29, 464, 793], [562, 19, 93, 83, 635, 15, 21, 515, 33, 678, 343, 546, 472, 187], [77, 272, 17, 147, 2, 353, 219], [88, 88, 52, 9, 13, 639], [381, 8, 239, 36, 5, 677, 383, 25, 39, 178, 8, 570, 175, 2], [45, 1, 422, 31, 6, 2, 28, 11, 502], [778, 9, 3, 2, 31, 104, 296, 95, 133, 30, 38, 84, 104, 138, 242, 6, 86, 67, 86, 817, 2], [11, 173, 442, 4, 352, 2, 10, 23, 376, 1, 66, 11, 173, 25, 376, 1, 66, 5, 305, 8, 11, 173, 5, 389, 406, 156, 245, 1, 15, 156, 11, 389, 845], [32, 8, 292, 123, 3, 37, 11, 68], [634, 108, 232, 276, 975, 348, 199, 18, 13, 538, 84, 5, 654, 276, 18, 33, 105, 41, 557, 68, 2, 2, 67, 86, 2], [45, 161, 23, 192, 54, 63, 1, 294, 164, 25, 1, 313, 5, 457, 34, 3, 185, 20, 168, 31, 66, 10, 366], [1, 100, 55, 25, 32, 27], [27, 5], [1, 26, 84, 8, 345, 142, 449], [1, 61, 248, 12, 13, 15, 437], [243, 9, 376, 1, 55, 1, 135, 14, 27, 76, 687], [894], [4, 291, 77, 695, 69, 252, 140, 1, 61, 57, 964, 969, 25, 69, 288, 827, 410], [3, 84, 5, 102], [204, 3, 83, 4, 648, 769, 19, 119, 13, 136, 68, 204, 19, 200, 2, 139, 505, 68, 390], [677, 632, 17, 4, 310, 184, 116, 59, 11, 11, 490, 333, 10, 11, 536, 82, 24, 123, 11, 1, 332, 2, 122, 257, 11, 123, 23, 333], [3, 60, 10, 3, 29, 15, 101, 25, 3, 361, 257, 4, 15, 17, 669, 30, 257, 3], [347, 70, 2, 205, 44, 129], [226, 45, 120, 43, 42, 260, 7, 95, 6], [4, 382, 985, 4, 942, 69, 350, 89, 361, 295, 69, 350, 104, 877, 193, 125, 382, 776, 19, 125, 942, 63, 4, 59, 125, 942, 14, 59, 94, 19, 125, 308, 125, 382, 56, 82, 104, 89, 525, 6, 673, 24, 694, 986, 125, 382, 9, 125, 759, 17, 11, 910, 82, 125, 308, 92, 910, 82, 17, 125, 632, 1, 47, 714, 125, 198, 693], [23, 169, 586, 16, 38, 245, 32], [825, 404, 31, 27, 794, 8, 43, 42, 358], [], [302, 801, 50, 604, 248, 2, 333, 6, 926, 158, 16, 4, 229, 62], [3, 22, 4, 485], [54, 573, 103, 162, 3, 1, 61], [28, 3, 70, 4, 108, 209, 477, 105, 34, 47, 358, 2, 101, 93, 683, 47, 438, 47, 684, 95, 30, 15, 642], [3, 22, 2, 318, 4, 559, 107, 15, 119, 144, 2, 429, 13, 559, 243, 3, 22, 488, 2, 318, 71, 4, 770, 93, 247], [16, 4, 661, 124, 7, 46, 3, 436, 44, 2, 84, 40, 157, 1, 132, 3, 263, 50, 9, 71, 146, 31, 16, 4, 111, 165], [1, 3, 71, 4, 7, 643, 3, 71, 11, 296, 71, 273, 71, 5, 389, 92, 692, 304, 965, 625, 31, 245, 967, 198], [54, 383, 17, 100, 100, 3, 732], [106, 2, 217, 8, 5], [3, 22, 346, 71, 117, 387, 102, 106, 10, 13, 7, 8, 529], [77, 50, 988, 30, 147], [40, 22, 39, 460, 1, 155, 61, 7, 3, 361, 95], [528, 668, 50, 605, 128, 68, 5, 310], [59, 5, 749], [30, 1, 49, 74, 222, 354, 77, 213, 41, 10, 73, 1, 522, 206, 11, 301, 222], [51, 2, 37, 19, 244, 577, 47, 15, 7, 557, 17, 111, 822, 107, 95, 19, 40, 68, 34, 13, 476, 289, 317, 38, 7], [148, 108, 723], [1, 393, 426, 56, 252, 469], [85, 79, 15, 97], [634, 650, 495, 41, 50, 911, 859, 34, 650, 2, 636, 781, 650, 901, 234, 195], [23, 236, 36, 895, 56, 2, 178, 8, 570, 7, 14, 26, 31, 5, 141, 2, 28, 20, 51, 81, 5, 141, 52, 7, 52, 9, 5, 317], [59, 419, 624, 7, 42, 18, 105, 170], [26, 28, 16, 4, 53, 62], [85, 79, 15, 97], [823, 53, 52, 22, 3, 126, 83, 6, 503, 21], [24, 46, 3, 214, 37, 935], [182, 3, 16, 191, 4, 121, 116, 47, 8, 92, 471, 400, 136, 75, 5, 331, 119, 2, 38, 171, 120, 138, 565, 816], [99, 126, 22, 3, 668, 27, 7, 23, 2, 49, 48, 1, 792, 17, 61, 25, 210, 1, 24, 29, 39, 49, 48, 789, 100, 295, 28, 3], [326, 484, 147, 697, 6], [146, 1, 67, 3, 989], [192, 35, 1, 37, 142, 51, 3, 20, 143, 7, 2, 4, 972], [28, 1, 1, 338, 1, 522, 14, 96, 8, 5, 312], [99, 9, 265], [213, 239, 87, 23, 50, 20, 282, 3, 23, 192, 94, 10, 307, 30, 20, 239, 162, 215, 843, 70, 2, 276, 34, 211], [45, 23, 4, 340, 26, 37, 156, 4, 120, 164, 7, 961, 18, 961, 110, 39, 83, 50, 78, 2, 5], [811, 25, 32, 78, 74, 21, 57, 49, 73, 56, 78, 19, 977, 220], [182, 33, 323, 4, 788, 617, 2, 30, 355, 2, 119, 75, 423, 2, 280, 286, 339, 244, 461], [517, 46, 271, 18, 51], [131, 1, 26, 31, 235, 32, 27, 80, 2, 612, 30], [126, 29, 768], [5, 310, 36, 2, 183, 3, 55, 3, 22, 516, 7, 338, 230, 28, 16, 4, 111, 62, 7, 35, 3, 29, 67, 10, 7, 838, 300, 782], [22, 3, 5, 308, 8, 5, 389, 30, 54], [45, 73, 32, 8, 427, 21, 426], [61, 1, 20, 127], [170, 3, 536, 14, 906, 133, 79, 504, 14, 8, 180], [39, 22, 2, 20, 13, 12, 9, 13, 26, 573, 990, 166, 284], [1, 61, 618, 345, 62, 218, 1, 61, 23, 117], [52, 273, 379, 14, 91, 2, 37, 14], [145, 6, 589, 16, 13, 334, 48, 435, 222], [45], [509, 13, 260, 18, 374, 30, 121, 19, 432, 945, 7, 34, 186, 47, 209, 47, 15, 719, 18, 755], [9, 886, 8, 33, 319, 46, 6, 848, 10, 44], [1, 58, 17, 674], [38, 347, 43, 42], [131, 28, 6, 947, 10, 27, 41, 27, 465, 4, 18, 10, 35, 23, 75, 30, 621, 10, 7, 39, 29, 174, 44, 363, 860, 58, 8, 27, 166, 266, 66, 920, 215, 215, 215], [88, 70, 211, 2, 64, 81, 21], [1, 61, 78, 2, 529, 21], [145, 175, 4, 352, 1, 163, 19], [88, 300, 612, 420, 57, 54, 149, 1, 80, 107, 67, 14, 2, 11, 548, 517, 420], [85, 586, 98, 55, 52, 1, 536, 257, 159, 10, 85, 132, 3, 403, 135, 359], [59, 412, 696, 7, 87, 327, 46, 6, 15, 96, 24, 4, 68, 9, 634, 3, 858, 706, 26, 67, 6, 4, 68, 514, 1, 436], [12, 17, 34, 5, 17, 50, 20, 3, 36, 123, 16, 4], [11, 296, 36, 58, 128, 7, 404, 381, 217, 629, 81, 4, 264, 381, 58, 43, 42, 46, 29, 3, 37, 128], [409, 582, 666, 48, 8, 4, 264], [72, 22, 4, 57], [170, 38, 1, 36, 80, 2, 152, 8, 11, 64, 18, 246, 1, 48], [50, 298, 50, 8, 8, 613, 236], [11, 38, 8, 621, 10, 35, 33, 251], [23, 127, 36, 113, 52, 756, 3], [45, 25, 1, 294, 27, 286], [67, 4, 19, 33, 991, 19, 81, 4, 261, 75, 66, 781, 66, 566, 2, 41, 38, 187], [47, 544, 8, 19, 4, 524, 12, 4, 328, 2, 212, 142, 75, 2, 2, 37, 544, 75, 390, 171, 601, 455, 12, 557, 280], [39, 29, 134, 4, 450, 8, 324, 686], [45, 1, 60, 154, 697, 137, 484, 6, 221, 552], [108, 125, 25, 5, 285, 24, 98, 34, 33, 245, 36, 156, 158, 150, 32, 225], [124, 130, 12, 405, 62, 165, 130, 64, 8, 4, 254, 141, 290, 3, 263, 56, 5, 7, 13, 27, 5, 966, 966, 198, 760], [790, 404, 522, 8, 43, 42], [45, 316, 302, 65, 36, 230, 748, 30, 5, 621, 46, 33, 84, 3, 961], [306, 3, 22, 323, 4, 306, 15, 443, 606, 990, 284], [52, 1, 695, 823, 8, 109, 319, 21, 97, 57, 120, 354, 32], [39, 16, 50, 24, 23], [170, 117, 377, 27, 50, 24, 1], [49, 98, 45], [3, 70, 2, 49], [1, 61, 23, 192, 94, 124, 1, 55, 60, 94], [88, 35, 6, 554, 44, 36, 64, 2, 11, 74], [146, 1, 16, 44, 4, 30, 179, 804], [34, 13, 371], [1, 293, 2, 612, 129, 893], [6, 100, 394, 20, 667], [578, 295, 143, 45], [1, 178, 900, 396, 7, 50, 57, 143, 412, 7, 32, 50, 145], [131, 24, 40, 480, 22, 39, 78, 12, 5, 60, 30, 5, 112], [213, 19, 190, 27, 375, 86], [153, 36, 749, 199, 7, 296, 57, 134, 5, 424, 71], [81, 5, 141, 134, 192, 6, 37, 2, 998, 23, 16, 359, 124, 215], [162, 3, 64, 34, 211], [311, 252, 711, 112, 410, 6, 252, 56, 371, 89, 823, 363, 677], [1, 874, 2, 91, 53, 181, 17, 3, 387, 1, 16, 2, 673, 21, 102, 67, 541, 46, 3, 37, 4, 328], [569, 276, 15, 21, 36, 227, 190, 740, 351, 312, 9, 4, 531, 390, 15], [724, 132, 6, 56, 19, 178, 10, 757, 58, 4, 313, 120, 11, 597, 75, 30, 95, 671, 2, 86, 2], [52, 6, 751, 450, 308, 132, 6, 22, 428, 177, 63, 1, 15, 105, 9, 230, 1, 189, 6, 37, 8, 570], [433, 14, 9, 7, 35, 3, 37, 4, 7, 455, 12, 3, 37, 17, 24, 14, 532, 173], [20, 62, 77, 150, 77, 711, 33, 502, 27, 9, 14, 336, 502, 28, 77, 695, 52, 127, 9, 4, 502, 711], [610, 1, 294, 11, 281, 57, 1, 49, 206, 73, 462, 166, 647, 73, 6, 294, 33, 281, 163], [161, 214, 189, 6, 24, 127], [248, 8, 137, 319, 41, 11, 705, 73, 6, 410, 364, 74, 163], [25, 1, 16, 2, 1, 56, 2, 16, 66, 7], [102, 106, 10, 23, 50, 17, 11, 319, 22, 8, 13], [153, 39, 218, 12, 142, 449, 27, 820, 483, 41, 952], [170, 1, 59, 12, 4], [229, 837, 2, 3, 102, 98, 626, 11, 989, 1, 70, 2, 84, 50, 17, 3], [60, 35, 3, 874, 13, 271, 48, 71, 220, 71, 3, 29, 7, 852, 68, 10, 8, 5, 165, 2, 183, 10, 55, 3, 473, 14, 8, 45], [70, 19, 37, 219, 70, 334, 815, 196, 911, 19, 33, 538, 512, 5, 815, 357, 350, 879, 2, 691, 115, 187], [13, 16, 118, 44, 12, 510, 138, 176, 13, 9], [45], [1, 61, 18, 5, 141, 2, 33, 74], [1, 61, 23, 27, 50, 148, 34, 54, 3, 656, 30, 149], [202], [277, 52, 22, 3], [38, 89, 361, 1, 26, 587, 653, 7, 183, 3, 55], [7, 107, 107, 612, 893], [24, 197, 305, 2, 31, 254, 27, 222, 25, 60, 172, 264, 26, 254, 2, 3, 603, 13, 184, 156, 603, 173, 965], [58, 48, 184, 499], [409, 38, 79, 154, 790], [90, 69, 58, 303], [177, 800, 116, 31], [428, 289, 33, 432, 71, 273, 71, 65, 514, 29, 1, 205, 156, 44, 311, 6, 215, 560], [21, 513, 8, 34, 108, 7, 111, 51, 171, 93, 231, 12, 36, 81, 37, 7, 91, 5], [99, 28, 6, 70, 2, 512, 10, 34, 97, 265, 156, 27, 15, 6, 159, 292], [5, 17, 173, 9, 8, 208, 753, 243, 17, 1, 333, 177, 753, 26, 31, 662, 8, 33, 173, 198], [45, 73, 77, 57, 157, 10], [1, 336, 25, 38, 76, 205, 44, 137, 105, 1, 154, 584, 17, 156, 163, 114, 155, 45], [335, 1, 58, 115, 758, 38], [88, 79, 122, 179, 48], [85, 161, 271, 44, 21, 210, 169, 377, 20, 10, 250], [28, 3, 55, 162, 402, 447, 13, 24, 20, 76, 140, 9, 473, 12, 3, 513, 158, 674, 81, 13, 819, 34, 66], [638, 56, 3, 16, 197, 168, 3, 56, 2, 49, 18, 4, 349, 671, 208, 116], [29, 269, 6, 81, 848, 6, 44, 51, 33, 275, 83, 265, 35, 6, 70], [15, 10, 46, 3, 37, 5, 328, 615, 43, 166], [409, 300, 37, 18, 8, 4, 814, 358], [1, 421, 3, 24, 127, 12, 50, 3, 28, 34, 1, 66, 3], [463, 812, 41, 374, 902, 90, 9, 33, 648, 62, 19, 167, 48, 162, 813, 510, 138, 176, 500, 4, 808, 3], [57, 54, 94, 392], [182, 13, 93, 38, 59, 323, 4, 887, 400, 583, 862, 136, 18, 863, 40, 9, 92, 367, 551, 2, 203, 3, 15], [6, 696, 21, 30, 3, 78, 2, 91, 278, 1, 58, 147, 10, 653, 82, 73], [153, 239, 54, 1, 338, 55, 35, 533, 18, 97], [1, 572, 2, 154, 77, 2, 213, 41, 10, 2, 294, 185, 11, 8, 142, 449, 378], [6, 436, 44, 163, 147, 6, 149, 6, 848, 211, 44, 97, 558, 32, 618, 462, 259, 647, 414, 56, 321, 6, 29, 330, 137, 63, 120, 226, 220], [16, 3, 633, 122, 236], [47, 544, 446, 92, 846, 524, 36, 67, 5, 331, 2, 21, 280, 171, 120, 138, 176, 181], [26, 125, 301, 90, 7, 548, 2, 3, 28, 3, 16, 4, 351, 312, 144], [83, 6, 8, 35, 39, 174, 39, 29, 49, 19, 11, 317], [19, 19, 51, 563, 21, 41, 208, 297, 15, 322, 455], [81, 5, 141, 9, 2, 174, 193, 98], [1, 66, 918, 1, 60, 575, 326, 5, 456], [32, 14, 18, 21, 14, 146, 31, 315, 12, 43, 63, 42], [811, 316, 207, 1, 327, 16, 4, 686], [126, 27, 282, 984, 112], [89, 155, 797, 28, 6, 295, 35, 1, 49, 446, 5, 12, 4, 549, 797, 1, 8, 4, 452, 89, 540, 48, 201, 515, 4, 82, 11, 490], [85, 3, 304, 440, 3, 563, 14, 76, 59, 4, 282, 169, 487, 12, 654, 5, 275, 59, 76, 274, 3, 29, 60, 28, 24, 127, 18, 306, 34, 20, 179, 56, 20, 18, 5, 470], [70, 5, 283, 348, 545, 733, 101, 357, 260, 345, 432, 274, 728, 95, 30, 15, 642, 12, 606, 164], [23, 236, 682, 147, 697, 6], [40, 157, 9, 51, 4, 111, 933, 8, 979, 121, 28, 23, 612, 14, 767], [103, 919, 19, 119, 40, 922, 386, 27, 13, 49, 2, 510, 138, 137, 234, 195, 322, 455, 19, 86, 438, 75, 86, 2], [474, 94, 18, 499, 1, 61, 166, 57, 25, 60, 553, 419], [45, 45, 45, 57, 791, 33, 716, 392], [110, 33, 212, 40, 116, 8, 92, 524, 660, 68, 343, 2, 21, 171, 322, 351, 312, 256, 244, 116], [68, 891, 2, 2, 429, 13, 455, 60, 342, 13, 495], [45, 139, 10, 201, 358, 1, 110, 1, 84, 104, 258, 11, 3, 282, 11, 502, 5, 771, 63], [145, 169, 123, 3, 134, 14, 18, 663, 13], [1, 169, 80, 19, 391, 6, 1, 189, 6, 11, 450, 51, 33, 450], [45, 1, 115, 6, 885, 1, 218, 11, 317], [479, 7, 479, 104, 64, 200, 378, 686], [271, 943, 41, 286, 689, 11, 736, 9, 271, 10, 156, 18, 480, 300, 475, 11, 644, 70, 19, 49, 75], [182, 463, 812, 12, 902, 90, 9, 13, 648, 62, 19, 167, 48, 162, 813, 510, 138, 176, 72, 9, 4, 808, 903, 981, 12, 3], [40, 157, 9, 47, 928, 2, 5, 108, 975, 815, 556, 2, 721, 51, 40, 232, 95, 86, 714, 187, 280, 60], [165, 60, 1, 29, 45], [54, 532, 3, 454, 148], [6, 83, 19, 688, 416, 309, 216, 47, 489, 912, 187, 115, 19, 721, 75, 86, 19], [15, 10, 1, 398, 2, 625, 174, 7, 930], [38, 133, 102, 118], [928, 102, 95, 34, 13, 767, 7, 2, 137, 397], [299, 1, 469, 462, 461, 35, 1, 77, 50, 58, 52, 197], [54, 22, 97, 366], [305, 22, 5, 12, 17, 16, 3, 431, 33, 12, 5, 17, 14, 9, 172, 1, 110, 14, 9, 33], [277, 17, 48, 8, 427, 163, 20, 24, 98, 74, 1, 61, 26, 183, 3, 55], [69, 404, 139, 10, 4, 15, 46, 217, 58, 5, 204, 25, 20, 381, 246, 5, 287, 17, 5, 116], [6, 709, 73, 49, 435, 1, 58, 301, 2, 28, 6, 221, 19, 385, 4, 23, 64, 354], [162, 1, 64, 8, 447, 3, 305], [4, 291, 17, 33, 263, 9, 11, 4, 599, 17, 33, 9, 11, 4, 383, 17, 33, 261, 9, 11, 173, 4, 261, 56, 669, 698, 181, 12, 6, 71, 11], [5, 157, 196, 9, 12, 43, 42, 1, 475, 43, 42, 30, 43, 42], [21, 207], [88, 1, 26, 196, 14, 193], [169, 53, 362, 193], [36, 196, 14, 24, 54, 741, 17, 628, 28, 3, 56], [133, 387], [9, 72, 237, 872, 9, 218, 12, 28, 3, 37, 101, 547, 51, 13, 122, 238], [98, 587, 66, 183, 66, 167, 6, 316, 162, 65, 336, 8, 66, 908, 6, 98, 507, 6, 36, 7, 6, 55, 72, 9, 2, 951, 6], [38, 25, 3, 267, 10, 3, 282, 78, 246, 3, 58], [45, 32, 237, 74, 21], [6, 8, 427, 704], [1, 100, 70, 3, 2, 218, 25, 32, 149, 54, 1, 29, 2, 564, 34, 3], [2, 119, 33, 279, 67, 4, 594, 2, 18, 211, 195, 351, 312, 660, 946, 641, 86], [655, 13, 856, 365, 738, 12, 399, 784, 785, 857, 216, 1, 398, 614, 15, 786, 430, 739, 461, 915], [6, 2, 151, 65, 23, 217, 561, 65, 5], [326, 356, 73, 311, 89, 24, 39, 104, 41, 147, 376, 89, 272, 143, 447, 211], [38, 32, 8, 5, 249, 87, 128, 27, 11, 330, 10, 48, 18, 324, 32, 345], [35, 3, 727, 5, 133], [102, 18, 641, 566, 51, 722, 2, 7, 193, 51, 2, 722, 18, 851, 566, 1, 163, 84, 8, 565, 38, 640, 1, 70, 2, 563, 884], [46, 9, 458, 962, 126, 26, 3, 564, 663, 5, 56, 7, 5, 628, 28, 3, 16, 4, 56, 245, 8, 5, 458, 50, 604, 255, 22, 463], [38], [100, 470, 96, 27, 5, 376, 3, 16, 38, 7, 1, 100, 70, 3, 2, 37, 129, 36, 74, 7, 4, 2, 5, 849], [393, 426, 186, 511, 73, 185, 1, 49, 580, 121], [435, 73, 156, 889, 608, 19, 218, 783], [763, 148, 108, 297], [145, 45], [692, 9, 23, 4, 624, 2, 343, 14, 9, 23, 4, 331, 2, 150, 14, 372, 18, 7, 965, 18, 290, 14, 9, 164, 630, 90, 7, 137], [38, 38, 1, 26, 330, 50], [17, 185, 29, 354, 32, 23, 24, 45, 121, 631, 73, 311, 6, 304, 154, 126, 39, 49, 371, 1, 155, 6, 168, 154, 18, 761, 25, 69, 155, 6, 26, 154, 90], [11, 320, 9, 18, 43, 42, 109], [198, 693, 103, 117, 91, 181, 602], [32, 207, 132, 3, 22, 53, 28, 91, 181], [57, 77, 213, 41, 10, 27, 375, 86, 610, 33, 354, 35, 1, 252, 120, 77, 57, 1, 49, 37, 11, 319, 57, 64, 96, 82, 205, 77], [335, 26, 431, 31, 424, 25, 100, 31, 487, 12, 4, 23, 2, 91, 4, 18, 173, 7, 66], [7, 381, 34, 21], [452, 894, 62, 597, 17, 75, 597, 2, 98, 189, 48, 57, 177, 309, 4, 41, 129, 541, 120, 234, 195, 764, 309], [60, 24, 39, 575, 90], [182, 15, 51, 13, 443, 13, 788, 41, 279, 30, 461, 400, 152, 652, 498, 657, 171, 322, 351, 312, 280], [38, 437, 239, 162, 1, 135, 142, 414, 617, 18, 5, 375, 184, 116, 16, 405, 208, 25, 1, 110, 1, 327, 701, 40, 63], [], [14, 36, 56, 20, 5, 124, 20, 50, 3, 7, 397, 70, 9, 12, 10, 2, 64, 876, 9, 5, 249, 62, 71, 46, 4, 9, 2, 10, 225, 237, 200, 7, 520, 746, 876], [14, 216, 4, 45], [514, 6, 189, 194, 5, 285, 9, 254, 12, 6, 25, 35, 5, 285, 9, 24, 254, 162, 2, 189, 156, 36, 178, 8, 570], [278, 11, 7, 22, 10, 7, 11, 22, 2, 287, 5, 124, 34, 4, 110, 1, 241, 81, 8, 56, 142, 449], [691, 60, 12, 511, 257, 12, 197, 89, 9, 336, 14, 682, 57, 697, 833, 9, 5, 7, 101, 340], [38, 682, 691, 236, 226, 32, 47], [17, 50, 5, 158, 114, 960, 19, 8, 142, 114, 480, 114, 267, 321, 5, 473, 81, 793, 50, 48, 17, 125, 350, 60, 121, 361, 855, 69, 155, 35, 14, 9, 473, 81, 11, 40, 422, 257, 372], [47, 348, 306, 729, 34, 345, 432, 274, 728, 12, 726, 7, 482, 260, 683, 15, 719, 30, 993], [50, 26, 64, 288, 101, 53, 487, 72], [12], [266, 98, 189, 5, 547, 75, 33, 531, 2, 781, 2, 262, 842, 256], [304, 4, 62, 8, 33, 173, 53, 284, 139, 6, 826, 377, 284, 139, 6, 584, 22, 8, 173, 50, 22, 53, 165], [98, 46, 381, 206], [409, 68, 10, 46, 258, 96, 27, 794, 7, 79, 81, 80, 866, 2, 37, 5, 12, 10], [396, 180, 291, 44, 89, 6, 123, 55, 19, 514, 161, 23], [3, 16, 121, 108, 157, 15], [1, 695, 6, 552, 558, 88, 73, 275, 284, 418], [1, 16, 461, 71, 17, 90], [71, 227, 13, 986, 130, 118, 605, 71, 13, 12, 50, 959, 419, 2, 13, 245], [1, 61, 235, 1, 26, 31, 72, 27], [182, 13, 93, 144, 130, 118, 323, 34, 4, 596, 136, 253, 15, 51, 675, 274, 119, 476, 623, 60, 369], [183, 10, 55, 35, 3, 80, 188, 619, 30, 30, 179, 52, 197, 415, 1, 37], [103, 118, 2, 40, 9, 92, 600, 551, 2, 203, 6, 75, 199, 2, 679, 187, 898, 899, 718], [239, 302, 79, 64, 81, 56, 43, 42], [380, 294, 11, 502, 6, 294, 349, 163], [17, 692, 447, 481, 9, 23, 94, 720, 159, 976, 5, 157, 65, 94, 720, 36, 81, 900, 5, 289, 198], [52, 64, 14, 607, 24, 467, 63, 12, 4, 140, 9, 17, 5, 2, 4, 140, 501, 2, 564, 48, 50, 124], [277, 40, 250, 1, 110, 1, 16, 776, 2, 178, 40, 20, 122], [50, 473, 359, 17, 10, 90, 45, 1, 16, 38, 340, 1, 36, 196, 76, 157, 36, 12, 359], [44, 228, 118, 12, 56, 284], [257, 35, 69, 11, 296, 69, 9, 4, 15, 151, 21], [15, 7, 67, 92, 654, 446, 36, 190, 2, 86, 438, 15, 390], [12, 892, 892, 12, 972, 972, 12, 261, 261, 12, 6, 25, 6, 12, 10, 67, 2, 50, 33, 245, 10, 35, 6, 56, 10, 35, 6, 37, 96, 121, 6, 83, 873, 8, 19, 6, 80, 113, 121, 2, 166, 6, 83, 817, 19, 197, 41, 6, 201, 9, 402, 2, 6, 262, 14], [162, 89, 501, 2, 268, 2, 10], [68, 10, 46, 258, 128], [1, 59, 8, 5, 809, 46, 6, 336, 131, 4, 27, 853, 84, 32, 23, 690, 301, 56, 20, 379, 573], [35, 3, 100, 13, 136, 26, 49, 2, 405, 247, 171, 120, 27, 138, 171, 120, 280, 187, 190, 740, 102, 15, 96, 35, 571], [65, 45, 1, 36, 960, 123, 6, 649, 38], [91, 113, 12], [175, 968, 16, 4, 111, 62], [242, 805, 4, 108, 209, 9, 44, 41, 805, 90, 805, 9, 47, 19, 512, 91, 383, 75, 209, 2, 21, 974, 898, 899, 718], [28, 3, 70, 545, 733, 101, 357, 260, 68, 7, 4, 108, 348, 105, 12, 60, 577, 227, 116, 15, 21, 30, 95, 12, 606, 164], [52, 273, 130, 14, 118, 543, 3, 387], [1, 55, 654, 225, 782, 7, 55, 1, 58, 14, 420, 421, 3, 53, 124], [1, 58, 270, 1, 44, 177, 19, 567, 2, 84, 35, 11, 572, 2, 64, 8, 1, 486, 94, 151, 46, 65], [59, 149, 11, 585, 804, 1, 3, 26, 15, 3, 164], [216, 35, 39, 16, 76, 53, 78, 39, 26, 91], [147, 532, 113, 305, 9, 23, 36, 468, 826, 321, 6, 210, 46, 6, 174, 156, 25, 468, 508, 6, 210, 46, 6, 189], [170, 818, 32, 23, 180, 25, 175, 12, 680, 17, 10], [370, 3, 37, 186, 8], [27, 41, 49, 2], [1, 16, 2, 91, 777, 34, 8, 166], [424, 371, 58, 488, 442, 65, 53], [975, 44, 33, 93, 34, 4, 47, 452, 597, 17, 36, 68, 180, 2, 57, 177, 309, 37, 4, 452, 234, 195, 41, 129, 541, 256, 764, 309], [147, 8, 126, 37], [145, 133, 1, 29, 425, 75, 19, 6, 38, 685, 123, 6, 37, 568], [85, 408, 105, 45, 327, 31, 25, 168, 31, 50, 11, 34, 76, 143, 4, 671], [132, 3, 22, 23, 344, 20, 792, 17, 62, 16, 76, 34, 765, 17, 2, 263], [128, 9, 11, 108, 594, 50, 20], [1, 61, 111, 387, 54, 22, 3, 680, 94, 10], [47, 401, 68, 222, 2, 12, 4, 650, 30, 68, 37, 2, 12, 4, 433, 223, 269, 256, 159, 416, 47, 495, 22, 2, 75, 86], [1, 59, 36, 2, 150, 99, 91, 181], [107, 28, 10, 4, 107, 11, 320, 2, 107, 831, 626, 14, 90, 9, 104, 320], [11, 9, 180], [45, 21, 1, 61, 8, 375, 35, 1, 64, 220, 1, 26, 64, 881, 164], [265, 6, 9, 11, 122, 774, 10, 46, 415, 1, 28, 11, 122, 164], [228, 196, 77, 11, 383], [311, 468, 56, 40], [194, 6, 55, 130, 525, 92, 676, 232, 19, 203, 3, 233, 329, 140, 15, 21, 50, 26, 31, 816, 259, 187], [102, 15, 92, 247, 232, 18, 447, 71, 3, 16, 191, 4, 253, 355, 152, 30, 712, 136], [22, 6, 237, 2, 5, 74], [944, 29, 126, 2, 353, 7, 444, 501], [655, 13, 856, 365, 738, 12, 399, 784, 785, 857, 216, 1, 398, 614, 15, 786, 430, 739, 280, 658, 915], [150, 40, 897, 402, 1, 66, 3, 158, 1, 80, 3, 11, 261, 34, 13, 972, 67, 40, 2, 973, 254, 305, 158, 6, 120, 164, 28, 14, 107, 107, 28, 14], [324, 329, 54, 1, 36], [421, 3, 103, 12, 5], [11, 1, 70, 3, 2, 91, 19, 30, 166, 17, 507, 90, 8, 772, 18, 13, 105, 772], [45], [3, 28, 58, 4, 17, 527], [106, 10, 179, 316, 428], [1, 66, 3, 129, 341, 574, 16, 4, 62], [342, 33, 272, 137, 753, 638, 79, 49, 418, 115, 6], [4, 384, 829, 9, 248, 12, 3, 92, 923, 130, 3, 51, 92, 93, 2, 318, 4, 829, 36, 15], [474, 6, 313, 28, 57], [263, 8, 263, 8, 508, 263, 46, 56, 977, 263, 46, 6, 263, 194, 87, 2, 84, 6, 720], [122, 1, 394, 20, 54, 379, 14, 210, 56, 170], [363, 73, 25, 252, 106, 151, 213, 69, 37], [85, 94, 20, 40, 9, 11, 678, 105, 7, 1, 361, 988, 14, 66], [32, 27, 158, 21, 25, 32, 8, 11, 319, 24, 1, 224, 918, 273, 632], [224, 91, 101, 8, 3, 858], [65, 433, 2, 65, 289], [53, 124, 61, 78, 2, 270], [85, 79, 15, 97], [638, 709, 278, 29, 6, 24, 694, 413], [85, 109, 1, 59, 338, 17, 581, 3, 352, 17, 478, 571, 1, 26, 15, 3, 27], [513, 2, 11, 295, 77, 269, 10, 231, 73, 33, 23], [153, 192, 250, 736, 58, 50, 11, 301, 25, 161, 78, 952, 378, 12, 81, 5, 141, 140, 9, 40, 98, 55, 144], [1, 406, 3, 97, 491, 232, 37, 340, 8, 1, 29, 440, 3, 25, 3, 10], [154, 397, 30, 228, 267, 5, 632, 56, 973, 478, 163], [45, 1, 49, 616, 202], [16, 53, 337], [58, 54, 14, 607, 19, 91, 383, 8, 5, 8, 6, 29, 34, 910, 68, 2, 84, 30, 234, 195, 31, 6], [182, 13, 93, 144, 191, 4, 596, 583, 862, 136, 18, 461, 863, 40, 9, 5, 367, 551, 2, 364, 3, 15, 888, 312, 369], [126, 3, 54, 573], [67, 10, 13, 517, 7], [121, 368, 19, 720, 368, 166, 368, 41, 368, 201, 368, 286, 368, 259, 368, 414, 368, 419, 368, 43, 42, 368], [32, 237, 96, 18, 9, 14, 214, 31, 45, 2, 37, 5, 204, 145, 153, 7, 52, 22, 3, 448, 528, 869, 458, 30, 28, 3, 15, 14, 122, 21], [2, 447, 7], [229, 121], [26, 31, 81, 57], [277, 11, 66, 52, 537, 20, 62, 1, 333, 13, 117, 7, 207, 180, 7, 132, 20, 3, 167, 113, 303, 1, 189, 3, 802, 4, 391], [23, 127, 38, 14, 59, 4, 53, 499], [38, 25, 582, 28, 2], [54, 22, 13, 108, 723, 839], [175, 12, 13, 401, 629, 144, 13, 93, 26, 31, 912, 41, 244, 146, 13, 223, 23, 102, 15, 247, 637, 51, 477, 892, 68, 477], [52, 22, 3, 149, 483, 5, 22, 3, 78, 12, 5], [30, 300, 31, 4, 467, 56, 27, 5, 375, 86, 18, 5, 249, 998], [133, 7, 48, 17], [3, 29, 304, 28, 335], [1, 132, 3, 55, 32, 87, 27, 3], [1, 698, 31, 72, 34, 8, 43, 42, 358, 58, 101], [133, 25, 3, 22, 5, 7, 5, 425, 220], [3, 22, 253, 5, 209, 105, 4, 702, 30, 4, 713, 136, 75, 331, 429, 2, 38, 187], [421, 3, 24, 127, 46, 39, 799, 7, 39, 361, 37, 5, 17, 13, 757, 132, 3, 22, 53, 3, 145, 39, 22, 206, 2, 342], [123, 3, 262, 520, 405], [115, 514, 6, 125, 6, 150, 277, 28, 6, 649, 9, 125, 334, 17, 277, 143, 125, 289, 17, 4, 308, 133, 7, 6, 649, 140, 9, 321, 308, 277, 89, 9, 125, 778, 140, 76, 29, 125, 289, 17, 4, 285, 350, 23, 217, 397, 576, 576, 125, 82, 1, 397, 171], [52, 28, 3, 403, 49, 2, 84, 18, 13, 795], [32, 23, 511, 57, 79, 37, 27, 137, 896, 73], [85, 79, 15, 97], [145, 402, 5, 9, 14], [4, 264, 305, 22, 27, 5, 624, 32, 27, 5, 34, 7], [145, 627, 73, 39, 49, 18, 480], [32, 78, 48, 2, 231], [249, 71, 6, 252, 221, 311, 6, 252, 56, 10, 163, 371, 147, 6, 149, 21, 87], [737, 6, 380, 968, 24, 346], [66, 20, 279, 800, 561, 257, 35, 1, 16, 2, 49, 2, 5, 8, 142, 449], [212, 4, 355, 152, 136, 30, 4, 136, 745, 712], [5, 111, 384, 17, 43, 42, 946, 8, 142, 449], [1, 66, 2, 7, 11], [482, 47, 68, 714, 36, 68, 45, 2, 7, 582, 13, 365], [59, 634, 2, 84, 20, 157, 24, 46, 83, 6, 555, 562, 103, 54, 458, 7, 147, 83, 33, 839], [100, 486, 527, 1, 732, 52, 463, 14, 9, 20, 1, 31, 522, 8, 11, 238, 34, 4, 338, 48, 8, 5, 368, 17, 5, 250, 20, 130, 431, 867, 2, 10, 214, 49], [955, 3, 154, 151, 2, 64, 65, 496], [45, 300, 106, 5, 757], [479, 23, 3, 55, 11, 818, 3, 2, 13, 11, 7, 13, 666, 2, 14, 100, 626, 1, 55, 635, 112, 263], [180, 1, 3, 1, 80, 3, 1, 3, 32, 24, 677, 417, 3, 180, 1, 66, 3], [87, 27, 91, 967, 2, 64, 96], [99, 32, 85, 1, 516, 13, 15, 29, 3, 107, 15, 96], [36, 21, 493, 13, 157, 14, 88, 109], [435, 906, 1, 697, 410, 278], [52, 6, 132, 33, 45, 521, 94, 6, 66, 82, 189, 91, 181], [428, 53, 38, 340, 7, 497], [54, 29, 1, 28, 327, 447, 24, 615, 158, 100, 486], [38, 39, 970, 14, 50, 24, 582, 16, 35, 57, 970, 92, 2, 194, 204, 96, 8, 173], [363, 235, 354, 462, 726, 378, 1, 186], [99, 807, 161, 18, 161, 214, 186, 44, 5, 19, 499, 102, 64, 44, 66], [31, 192, 2, 330, 13, 568, 39, 196, 630], [14, 255, 446, 46, 179, 56, 40], [85, 1, 516, 13, 15, 29, 3, 102, 15, 96], [106, 126, 3], [88, 412, 29, 3, 403, 174, 10, 27, 5, 18, 14, 146, 31, 160, 18, 5, 141], [1, 3, 44, 72, 246], [38, 1, 58, 20, 3, 78, 2, 231, 8, 722], [99, 45, 36, 572, 19, 199, 542, 19, 6, 41, 4, 273, 63, 132, 33, 751, 16, 53, 27, 66, 226, 61, 215], [239, 25, 98, 486], [509, 40, 116, 7, 7, 53, 2, 156], [45, 1, 210, 56, 980], [895, 150, 239, 4, 53, 25, 117, 3, 55, 11, 27, 976], [248, 41, 11, 356, 591, 19, 372, 73, 6, 410, 87, 571, 149, 33], [774, 10, 140, 83, 6], [381, 142, 7, 168, 51, 5, 500, 38, 334, 1, 36, 98, 56, 841, 114, 98, 80, 25, 38], [30, 288, 87, 29, 3, 104, 7, 183, 154, 104, 35, 89, 29, 970, 43, 42, 12, 10], [53, 11, 66, 52, 22, 90, 1, 132, 13, 53, 7, 395, 16, 113, 1, 436, 7, 189, 3, 180, 4, 391, 51, 934, 5, 731], [386, 119, 33, 995, 745, 17, 996, 506, 68, 133, 2, 21, 924, 822, 93, 171, 322, 764, 997, 864, 256, 95, 215], [40, 9, 5, 367, 551, 2, 6, 3, 16, 191, 40, 922, 523, 136, 17, 748, 355, 152, 30, 136, 36, 15], [143, 302, 39, 29, 184, 4, 467, 445, 271, 129, 101, 63, 220], [170, 117, 100, 28, 14, 417, 10, 39, 241, 16, 4, 485, 742], [126, 22, 3, 103], [99, 3, 36, 2, 266, 56, 2, 55, 35, 3, 282, 34, 5, 95, 47, 34, 133, 30, 38], [60, 135, 13, 93, 929, 3, 22, 2, 453, 2, 5, 283, 477, 306, 93, 12, 47, 15, 5, 93, 453, 47, 18], [668, 664, 315], [88, 139, 96, 11, 175], [45, 73, 497, 77, 8, 458], [47, 101, 62, 25, 1, 294, 27, 286, 18, 82], [278, 299, 39, 26, 4, 264, 81, 159, 29, 49, 783, 7, 193], [569, 276, 15, 21, 36, 227, 190, 740, 351, 312, 9, 4, 531, 390, 15], [27, 5, 53, 869, 756, 6, 920, 560], [38, 121, 209, 223, 41, 33, 538, 177, 116, 36, 75, 2, 416, 223, 47, 24, 37, 21, 7, 106, 33, 245, 187, 223, 256, 95], [114, 155, 35, 65, 214, 14, 26, 372, 251, 414, 30, 419, 631, 114, 22, 142, 17], [428, 38, 38, 36, 18, 20, 59, 775, 2, 31, 25, 20, 638, 288], [65, 608, 2, 762, 255, 56, 40, 50, 29, 150, 25, 110, 246, 656, 188, 2, 10], [88, 88, 57, 385, 113], [11, 317, 128, 137, 363, 413, 35, 57, 58, 23, 19, 673, 163, 558, 969], [145, 1, 26, 37, 5, 454, 76, 9, 12, 4, 1, 123, 12, 8, 114, 473, 211, 884, 24, 197, 2, 37, 87, 23], [52, 87], [29, 3, 749, 5], [54, 63, 3, 17, 533], [246, 160], [194, 6, 55, 130, 525, 92, 676, 232, 19, 203, 3, 233, 329, 140, 15, 21, 50, 26, 31, 351], [453, 21, 384, 386, 283, 945, 209, 47, 509, 260, 75, 18, 374, 15, 719, 18, 755, 30, 993], [304, 311, 426, 1, 266, 850, 58, 147, 321, 62, 77, 67, 10, 109, 233, 122, 76], [11, 802], [35, 1, 372, 905, 2, 26, 3, 167, 12, 10, 56, 325, 7, 106, 444, 23, 2, 231, 51, 550, 145], [9, 315, 12, 8, 367], [45], [1, 61, 23, 344, 104, 144, 437], [323, 2, 343, 41, 152, 15, 2, 119, 177, 702, 190, 713], [65, 33, 958, 2, 66, 194, 65, 33, 2, 66, 5, 76, 140, 6, 25, 65, 4, 2, 66, 4, 285, 140, 224, 66, 550, 6, 198, 744], [380, 294, 326, 356, 6], [1, 224, 762, 52, 1, 61, 2, 900, 3, 177, 62, 1, 55, 3, 26, 28, 5, 240, 3, 29, 2, 37, 2, 10, 180, 1, 26, 49, 2, 11, 292, 27, 13], [106, 13, 245, 54, 3, 392, 2, 28, 18, 62, 43, 42], [955, 24, 3, 525, 10, 23, 2, 15], [22, 3, 27, 122], [19, 1, 695, 25, 112, 354, 1, 221, 694, 76], [121, 166, 3, 16, 4, 401, 13, 629, 9, 307], [300, 31, 27, 635, 8, 94, 166, 260, 25, 470, 48, 12, 10], [117, 1, 327, 23, 64, 57], [88, 1, 26, 196, 14, 193], [39, 534, 2, 15, 3, 592, 13, 95, 2, 92, 242, 12, 4, 348, 93, 545, 260, 824, 68, 47, 684, 95, 30, 15, 21, 642], [724, 131, 6, 1, 36, 58, 121, 17, 604, 348, 597, 95, 2, 40, 75, 300, 67, 6, 11, 541, 44, 161, 24, 554, 27, 122, 366, 280, 187], [148, 108, 297, 132, 3, 22, 344, 4, 53], [131, 1, 26, 31, 169, 806, 235, 3, 70, 2, 49, 12, 5, 803, 222, 1, 26, 512, 3, 32, 60, 896], [133, 1, 61, 4, 76, 310, 102, 106, 10, 13, 7, 8, 529], [247, 386, 5, 108, 93, 51, 60, 27, 75, 331, 372, 2, 38, 37, 635, 21, 187], [184, 328, 119, 33, 995, 745, 17, 996, 506, 90, 68, 646, 2, 21, 924, 822, 93, 171, 322, 924, 764, 997, 864, 256], [37, 315, 2, 522, 18, 13, 864, 368], [928, 2, 195, 93, 671, 40, 115, 9, 47, 3, 47, 581, 2, 27, 187, 2, 67, 49, 86, 2], [162, 22, 6, 44, 24, 466], [1, 16, 38, 126, 3, 22], [65, 4, 111, 62, 28, 16, 507, 4, 539, 76], [1, 494, 426, 208, 29], [474, 9, 6, 44, 19, 57], [210, 56, 373, 193, 266], [1, 985, 2, 13, 574, 40, 165, 1, 189, 3, 112, 11, 66, 1, 132, 13, 62, 537, 117, 7, 3, 22, 148, 1, 213, 12, 211, 2, 31, 742, 193], [89, 332, 2, 405, 481, 90, 25, 87, 364, 74], [299, 69, 115, 10, 9, 57, 1, 521, 143, 11, 736, 185, 39, 265, 90, 889, 32, 35, 77, 555, 804, 30, 147, 889, 185, 735, 77, 469, 2, 622, 266, 999], [84, 3, 72], [11, 281], [300, 139, 14, 2, 3, 445, 237, 2], [45, 73], [3, 16, 191, 4, 209, 40, 9, 54, 3, 37, 46, 3, 212, 92, 47, 805, 2, 91, 383, 67, 209, 2, 21, 974, 898, 899, 718, 256], [70, 2, 664, 16, 281, 90], [569, 276, 15, 21, 36, 227, 190, 740, 351, 312, 88], [88, 1, 327, 64, 81, 219, 57, 35, 11, 292, 625, 48, 466], [13, 524, 302, 538, 495, 22, 315, 2, 768, 40, 922, 108, 495, 121, 690, 778, 19, 166, 98, 129, 681, 8, 82], [412, 1, 11, 667, 21, 1, 398, 27, 176], [51, 138, 176, 115, 325, 171, 75, 86], [844, 73, 178, 86, 30, 6, 221, 19, 49], [35, 1, 964, 1, 70, 6, 2, 16, 50, 11], [71, 4, 770, 247, 1, 61, 2, 3, 20, 17, 13, 538, 38, 3, 22, 323, 34, 4, 583, 136, 15], [58, 303, 8], [15, 12, 60, 121, 227, 549, 15, 51, 4, 274, 931, 935, 144, 38, 911, 935, 138, 234, 195], [39, 534, 2, 15, 3, 592, 13, 95, 2, 92, 242, 12, 4, 348, 93, 545, 260, 824, 68, 47, 684, 95, 17, 15, 642, 21], [30, 179, 56, 20, 18, 1, 156, 72], [554, 199, 82, 671, 21, 658, 350, 531, 390, 439, 190, 60, 51], [258, 160, 1, 16, 21, 20, 1, 110, 94, 14], [99, 247, 386, 5, 108, 93, 51, 60, 27, 75, 331, 372, 2, 38, 37, 635, 21], [38, 76, 290, 31, 113, 392], [528, 847, 616, 11, 629, 2, 4], [67, 217, 144, 7, 139, 95, 164, 165, 12, 162, 3, 155, 20, 2, 151, 56, 20, 45], [143, 20, 63, 17, 5, 116, 193], [6, 533, 48, 834], [497, 25, 11, 320, 9, 200, 163], [379, 460, 612, 789, 9, 4, 796, 81, 1, 56, 18, 27, 27, 414, 717], [380, 294, 11, 281, 18, 11, 141, 74, 73, 1, 521, 6, 252, 221, 19, 564, 8, 580, 90], [39, 22, 2, 37, 505, 81, 259, 51, 3, 87, 44, 12, 427, 219], [99, 65, 8, 22, 3, 87, 18, 40, 144], [421, 3, 387, 3, 22, 24, 452], [148, 108, 297, 2, 6, 112], [38, 1, 61, 23, 344, 23, 101, 8, 11], [409, 68, 10, 219, 7, 582, 84, 663, 44], [54, 9, 13, 365, 144], [437, 248, 12, 13, 548], [131, 83, 77, 87, 653, 228, 633, 5], [3, 370, 16, 2, 106, 10, 20, 21, 32, 680, 460, 381, 78, 2, 86, 50, 13], [], [35, 65, 23, 76, 250, 65, 405, 11, 130, 46, 379, 40, 377, 62, 287], [45, 29], [111, 16, 4, 782, 617, 98, 50], [106, 156, 38, 80, 2, 94, 10], [40, 9, 33, 368, 585, 121, 19, 166, 41, 201, 286, 259, 414, 419, 43, 42, 101, 144, 1, 26, 106, 33, 368, 61, 248, 95], [133, 14, 8, 48, 17, 202], [32, 21, 25, 16, 2, 213, 603, 19, 12, 5, 375, 2, 205, 10], [78, 12, 349, 115, 3, 159], [326, 356, 73], [586, 59, 27, 76, 687, 1, 338, 72, 282, 412, 8, 5, 360, 7, 940, 534, 76, 71, 4], [1, 26, 84, 8, 345, 142, 449], [85, 79, 15, 97], [517, 16, 2, 330, 25, 500, 60, 56, 121, 745, 408], [38, 143, 23, 32, 940, 43, 42, 723, 667, 7, 31, 204, 51, 11, 258, 23, 2, 16, 2, 34, 40, 301, 40, 9, 301, 162, 1, 100, 106, 3], [38, 18, 46, 527, 579, 257, 349, 236], [483, 14, 78, 58, 101, 741, 32, 2, 343, 40, 566, 561, 850, 527], [32, 618, 158, 2, 35, 32, 23, 96, 81, 5, 63, 258, 298, 36, 218, 5, 18, 11, 7, 79, 68, 3, 46, 315], [12, 5, 157, 118, 27, 11, 105, 12, 142, 767, 2, 68, 30, 23], [103, 415, 548, 571, 8, 5, 998, 415, 453, 3, 255, 22, 487, 45, 25, 4, 53, 76, 8, 334], [106, 10, 40, 107], [685, 680, 73], [5, 32, 248, 81, 5], [4, 168, 31, 895, 80, 828, 17, 7, 246, 101, 792, 17], [35, 6, 169, 35, 6, 268, 35, 6, 98, 181, 54, 210, 6, 22, 347, 34, 13, 103, 158, 240, 245, 103], [1, 55, 321, 135, 14, 34, 920, 37, 34, 949, 238, 63, 735], [299, 228, 633, 120, 77, 72], [218, 14, 6, 26, 225, 31], [91, 33, 63], [1, 61, 8, 375, 18, 5, 141, 2], [268, 452, 134, 108, 245, 30, 8, 66, 8, 5, 454, 68, 676, 232, 36, 68, 2, 7, 84, 140, 3, 241, 174], [57, 3, 22, 55], [38, 129, 308, 245, 134, 765, 17, 204, 18, 30, 179, 7, 139, 175, 2, 402], [170, 111, 21, 161, 271, 984], [53, 301, 26, 28], [259, 8, 11, 389, 3, 33, 33, 263, 33, 33, 367, 33, 242, 7, 416, 33, 661, 692, 53, 165, 103], [870, 329, 39, 29, 49, 41, 82, 278, 393, 39, 29, 272, 58, 552, 536, 413], [88, 88, 32, 78, 2, 40, 116, 2, 84, 11, 763, 1, 163, 5, 81, 618, 24, 60, 1, 70, 204, 1, 26, 139, 14, 18, 121], [32, 225, 487, 12, 142, 2, 31, 8, 5], [6, 282, 81, 18, 5, 19, 193, 752, 242, 19, 287, 95, 287, 48], [660, 688, 212, 4, 523, 702, 35, 6, 55, 243, 5, 9, 8, 75, 2, 339, 244], [72, 22, 38, 275, 159, 7, 3, 29, 3, 56], [444, 572, 2, 268, 94, 5, 24, 1, 58, 4, 235, 372, 21], [81, 800, 208, 116, 139, 10, 5, 613], [64, 2, 766, 27, 14, 109], [99, 807, 36, 58, 96, 7, 1, 135, 4, 169, 229, 124, 7, 175, 24, 127, 12, 5, 84, 6, 164, 366], [80, 2, 31, 8, 427, 81, 2, 622, 51], [143, 87, 23, 503, 7, 40, 63, 1, 202, 534, 20, 59, 5, 5, 9, 43, 42], [76, 17, 240, 8, 514, 1, 964, 98, 64, 11, 908, 11, 290, 23, 64, 19, 33, 230, 20, 63, 198, 693], [324, 825, 4, 264, 245, 22, 163, 10, 94, 3, 3, 503, 27, 50, 40, 337], [54, 28, 6, 71, 80, 19, 35, 6, 224, 28, 14, 175], [543, 39, 22, 48, 163], [909, 300, 205, 3, 44, 27, 94, 286, 139, 496, 63, 2, 37, 72, 918, 7, 20], [8, 265, 109, 1, 26, 15, 3], [134, 192, 217, 320, 9, 200, 8, 358, 71, 999, 71, 258], [3, 16, 23, 5, 840, 3, 16, 163, 12, 510, 356, 2, 429, 13, 840], [436, 10, 44, 27, 43, 42, 61, 165], [790, 404, 20, 258, 4, 509], [50, 275, 22, 60], [32, 1, 58, 15, 51, 13, 144], [844, 69, 363, 25, 610, 197, 73, 69, 58, 154, 10, 19, 504, 25, 1, 272, 880, 23, 24, 19, 49, 114, 272, 87, 23, 147], [1, 61, 235, 24, 15, 3, 164, 165, 91, 181, 346, 602, 6, 7, 10], [31, 4, 27, 11, 238, 97, 219, 3], [9, 13, 131, 24, 411, 1, 174, 3, 27, 783, 896], [129, 305, 22, 815, 8, 13, 21, 15, 7, 512, 56, 403, 162, 23, 121, 507, 500, 121, 40, 457, 244], [811, 1, 36, 536, 26, 591, 208, 116], [29, 23, 293, 8, 40, 53], [202, 7, 3, 168, 36, 49, 2, 5, 7, 475, 12, 5, 585, 2, 31, 196], [304, 4, 62, 8, 33, 173, 53, 284, 139, 6, 826, 377, 284, 139, 6, 584, 22, 8, 173, 50, 22, 53, 165], [23, 833, 51, 4, 445, 15, 10, 21, 61, 128, 50, 124, 34, 36, 11, 18, 134, 10, 12, 14, 56, 6, 123, 184, 63, 560, 388, 565], [51, 269], [1, 14, 6, 266, 235, 436, 44, 24, 235], [78, 18], [65, 53, 2, 440, 51, 3], [77, 727, 143, 1, 521, 114, 451, 150, 45, 57], [571, 128, 373, 2, 294, 12, 108, 297, 1, 61, 487, 2, 664, 265, 3], [514, 33, 730, 515, 6, 831, 91, 14, 542, 307, 730, 9, 125, 454, 82, 433, 141, 17, 930, 181, 82, 388, 16, 229, 62, 109], [278, 1, 110, 1, 123, 112], [53, 491, 483, 11, 802, 379, 69, 10, 236, 2, 479, 10, 1, 189, 3, 180, 391], [32, 207, 132, 3, 22, 202], [6, 225, 120, 92, 861, 76, 1, 393, 697, 89, 95, 222, 63, 6, 95, 24, 694, 311, 24, 648, 23, 595, 58, 81, 33, 371], [52, 22, 3, 40, 91, 181, 609], [72, 83, 197, 202, 43, 42, 14, 53, 350, 1, 536, 38], [11, 108, 723, 566, 59, 45, 1, 332, 2, 4, 734, 34, 11, 140, 9, 40, 57, 131], [509, 260, 509, 75, 121, 19, 432, 18, 283, 374, 15, 719, 12, 5, 172, 283, 822, 755, 30, 993], [1, 333, 255, 282, 830, 1, 46, 1, 26, 31, 434, 2, 591, 3, 52, 127, 1, 3, 107, 5, 38, 841, 417, 10, 102, 7, 167, 255, 2, 94, 1, 66, 3], [228, 74, 664], [47, 115, 85, 4, 232, 3, 51, 241, 23, 31, 71, 3, 28, 23, 16, 102, 523, 44, 2, 318, 5, 232], [182, 40, 9, 5, 367, 551, 2, 203, 6, 6, 16, 191, 885, 244], [77, 97, 25, 32, 441, 11, 954, 21, 426, 77, 78, 74, 222], [1, 98, 70, 2, 440, 188], [348, 47, 768, 741, 40, 8, 587], [30, 10, 8, 4, 264], [88, 26, 28, 158, 1, 22, 149, 113, 24, 79, 31, 128, 46, 3, 37, 74], [45, 218, 38, 80, 2, 154], [157, 162, 213, 455, 12, 13, 510, 176], [202, 437, 1, 196, 3, 142, 568, 94, 52, 2, 813, 446, 5, 1, 526, 67, 3, 405, 157, 20, 146, 52, 255, 22, 96, 74, 16, 4, 111, 337], [135, 13, 93, 658, 283, 945, 209, 50, 47, 509, 260, 68, 18, 374, 68, 133, 12, 38, 2, 917, 51], [1, 36, 58, 74, 180, 22, 3, 87], [38, 292, 286, 419, 175, 527, 101, 54, 63, 1, 146, 64, 164], [16, 3, 135, 4, 53, 62, 669, 59, 169, 571, 22, 3, 44, 2, 127, 164, 124], [52, 22, 3, 149, 132, 854, 8, 12, 5, 108, 458, 297, 36, 3, 4, 634, 62], [92, 676, 232, 130, 118, 525, 19, 203, 6, 81, 194, 15, 21, 50, 26, 31, 187], [145, 88, 1, 26, 64, 164], [35, 3, 440, 4, 8, 94, 43, 42, 358, 65, 620, 11, 26, 31, 255, 44, 10, 20, 100], [1, 225, 199, 34, 3, 8, 987, 1, 80, 204, 29, 3, 10], [25, 1, 451, 1, 847, 950, 11, 90], [1, 775, 408, 30, 160], [57, 6, 49, 96, 73], [499, 499, 388, 6, 129, 341, 82, 137, 250, 1, 874, 621, 6], [121, 8, 19, 8, 722], [380, 54, 44], [239, 53, 376, 1, 80, 841], [299, 82, 104, 73, 32, 265, 11, 27], [926, 90, 1, 61, 235, 12], [1, 61, 96, 53, 183, 10, 55, 35, 3, 80, 101, 17, 5, 415, 1, 106, 3, 56, 5], [394, 2, 154, 94, 217], [46, 77, 321, 63, 444, 77, 74, 21], [58, 14, 548], [131, 1, 26, 31, 235, 371, 174, 3, 27], [90, 61, 78, 2, 766, 24, 61, 23, 434, 2, 5, 292], [5, 317, 9, 18, 5, 893, 34, 4, 4, 44, 34, 4, 140, 8, 5], [198, 760, 103, 465, 4, 229, 62], [45, 1, 61, 18, 5, 141, 2, 74, 99, 99], [131, 100, 626, 3, 22, 669, 12, 10, 11, 11, 263], [324, 101, 141, 39, 241, 205, 179, 44, 219], [28, 3, 110, 1, 29, 855, 43, 42, 8, 4, 116], [277, 85, 532, 38, 38, 52, 19, 82, 359, 215], [121, 1, 100, 16, 104, 144, 7, 19, 65, 214, 31, 4, 508, 8, 5, 810, 7, 895, 23, 37, 35, 239], [145, 3, 58, 197], [47, 115, 39, 13, 93, 144, 81, 51, 102, 15, 2, 16, 40, 15, 26, 31, 47, 51, 4, 350, 443], [37, 4, 108, 93, 105, 81, 307, 142, 17, 5, 538, 460, 765, 129, 12, 129, 681, 36, 68, 2], [36, 878, 5, 36, 598, 230], [59, 8, 13, 360, 30, 179], [870, 87, 39, 98, 16], [299, 25, 23, 73, 32, 8, 137, 850, 90], [38, 109, 78, 2, 268, 8, 356], [69, 4], [204, 18, 27, 138, 234, 195, 643, 51, 4, 34, 531, 606, 2, 3, 81], [6, 6, 153, 83, 309, 480, 178, 17], [54, 3, 94, 10, 222, 63, 3, 493, 10, 8, 292], [39, 22, 373, 2, 203, 3, 184, 314, 399, 20, 3, 191, 4, 355, 136, 253, 15, 119, 430, 476, 623, 60, 369], [106, 10, 266, 3, 8, 668, 54, 50, 2, 37, 21], [107, 1, 422, 402, 23, 60], [324, 39, 22, 326, 4, 484, 18], [38, 80, 2, 150, 188, 2, 10, 1, 55, 1, 61, 142], [213, 28, 3, 55, 35, 8, 427, 1, 89, 379, 841], [47, 624, 37, 41, 47, 51, 5, 546, 416, 37, 33, 546, 95, 593, 57, 959, 12], [40, 9, 5, 367, 63, 39, 16, 534, 19, 203, 6, 6, 16, 191, 5, 545, 136, 19, 119, 9, 424, 15, 21, 60, 439, 227, 190, 350, 531, 390], [873, 308, 224, 49, 76, 62], [937, 8, 794, 248, 12, 746, 2, 37, 48, 17, 11, 24, 1, 29, 91, 4, 809], [61, 8, 300, 15, 3, 97], [324, 161, 160, 81, 324, 122], [1, 66, 13, 810, 28, 3, 342], [45, 354, 1, 509, 330, 441, 109, 502, 163, 69, 155, 711, 266, 69, 155, 26, 711, 519, 1, 470, 229], [3], [32, 18, 11, 141, 74, 332, 2, 616, 41, 11, 385, 57, 49, 646, 4, 291, 73], [1, 3, 241, 201, 478, 227, 124, 8, 101, 914], [32, 74], [71, 4, 770, 247, 1, 61, 2, 3, 20, 17, 13, 538, 38, 3, 22, 323, 34, 4, 583, 136, 15], [36, 696, 7], [38, 651, 63, 76, 52, 1, 64, 48, 82, 37, 11, 301, 796, 77], [1, 347, 665, 353, 27, 50, 90, 1, 110, 32, 214, 52, 59, 13, 337, 123, 6, 189, 10], [24, 1, 398, 237, 34, 151, 6, 288, 619, 39, 415, 64, 96], [132, 255, 332, 117, 27, 10, 1, 87, 80, 123, 6, 120, 125, 467, 250, 1, 408, 8, 5], [147, 24, 235, 87, 466, 889, 30, 39, 451, 49, 41, 349, 73, 1, 393], [242, 637, 12, 13, 68, 107, 138, 565, 721, 34, 86, 38, 916, 530, 269], [32, 618, 4, 809, 31, 27, 8, 56, 43, 42, 190], [278, 36, 54, 1, 59], [6, 16, 4, 759, 904, 140, 779, 6, 83, 24, 254, 15, 2, 672, 48, 95, 904, 86, 121, 244, 227, 115, 181], [194, 130, 92, 676, 232, 7, 13, 105, 947, 3, 2, 167, 48, 140, 14, 9, 15, 51, 4, 443, 187], [393, 11, 444, 155, 69, 237, 74, 19, 504, 211, 48, 41, 281, 299, 1, 49, 645, 6, 73, 1, 15, 6, 46, 1, 364, 458, 73], [3, 22, 4, 769, 6, 16, 118, 488, 19, 318, 355, 30, 4, 41, 279, 425, 2, 4, 276, 750, 19, 119, 190, 280], [155, 89, 29, 10, 43, 42], [185, 63, 120, 147, 63, 77, 889], [421, 3, 7, 81, 5, 141, 1, 36], [36, 58, 44, 16, 2, 31, 48, 17, 5, 360, 172, 220, 909, 1, 522, 5, 96, 553, 27, 414, 1, 27, 746, 2, 37, 44, 7, 57, 14, 59, 259, 405, 449, 8, 529], [239, 311, 1, 155, 143, 377, 321, 50, 137, 55, 6, 147, 6, 149, 21], [317, 9, 5, 542, 5, 310, 59, 18, 43, 42, 689, 71, 279, 50, 22, 593, 456, 732], [1, 233, 268, 2, 3, 21, 1, 26, 15, 46, 1, 29, 98, 178, 581], [118, 25, 60, 201, 358, 7, 57, 327, 16, 2, 2, 5], [54, 63, 48, 519, 703, 166, 30, 24], [212, 4, 297, 17, 41, 4, 17, 33, 745, 713, 92, 471, 524, 314, 75, 472, 2, 798, 322, 138, 176], [926, 90, 1, 61, 235, 12, 43, 588, 42, 190], [363, 45, 25, 4, 291, 861, 6, 288, 49, 353, 647, 21, 619, 79, 210], [6, 24, 673, 163, 64, 96, 57, 345, 969], [28, 6, 465, 101, 817, 81, 289, 8, 33, 766], [790, 267, 10, 163, 26, 28], [170, 12, 334, 89, 267, 11, 444, 1, 16], [939, 2, 3, 112, 180, 1, 66, 226], [724, 119, 33, 242, 459, 68, 45, 2, 21, 293, 19, 33, 678, 512, 176, 12, 121, 309, 171, 120, 256, 917, 30, 86], [33, 629, 9, 18, 5, 141, 6, 146, 318, 4, 232, 115, 19, 768, 33, 840, 35, 6, 28, 23, 356, 18, 33, 93, 232], [132, 3, 22, 344, 4, 53, 116, 36, 8], [257, 1, 233, 11, 890, 3, 22, 8, 10, 92, 125], [47, 209, 30, 945, 34, 121, 482, 47, 215, 565, 260, 47, 15, 719, 18, 30, 15], [733], [1, 61, 334, 450, 1, 70, 2, 504, 48, 13], [306, 3, 22, 323, 4, 306, 15, 443, 606, 990, 284], [1, 16, 4, 671, 18, 851, 34, 26], [1, 61, 27, 5, 868, 49, 72], [668, 298], [245, 20, 6, 29, 564, 18, 199, 34], [134, 25, 65, 4, 372, 22, 3, 14, 2, 37, 12, 5, 208], [283, 547, 16, 335, 2, 49, 18], [52, 127, 14, 26, 407, 227, 325], [326, 472, 158, 27, 566, 135, 2, 49, 158, 54, 94, 6], [646, 603, 6, 599, 9, 14, 3, 748, 713, 152, 30, 471, 919, 15, 21, 351, 312, 407, 369, 93], [12, 68, 107, 138, 565, 721, 34, 86, 38, 916, 530, 269], [579, 833, 188, 7, 381, 23, 11, 438, 24, 32, 69, 20, 155, 5, 9, 808], [749, 34, 46, 14, 765, 36, 522, 460, 8, 5, 902, 289, 238, 7, 14, 26, 591, 3, 481, 838, 5, 144, 9, 11, 144, 362, 3, 205, 20, 144, 5, 26, 428], [311, 89, 252, 762, 410, 1, 521, 1, 267, 104, 143, 433, 163, 1, 272, 89, 907, 120, 211, 57, 89, 762], [61, 27, 11, 8, 291, 999, 96, 789, 84, 3, 220, 215], [633, 292, 126, 22, 3], [428, 73, 56, 20, 114, 422, 183, 211, 49, 278, 54, 123, 114, 150, 8, 5, 936, 7], [145, 88, 1, 110, 454, 17, 7], [32, 298, 827], [421, 402, 114, 22, 8, 529], [45, 228, 196, 6, 109, 283, 17, 109, 743], [32, 503], [26, 220, 37, 2, 276], [854, 191, 2, 5, 835, 600, 30, 152, 2, 429, 15, 816], [99, 450, 36, 58, 96, 51, 122, 7, 1, 59, 2, 84, 6, 1, 132, 1, 361, 6, 230, 18, 5, 105, 90, 35, 6, 22, 44, 139, 10, 4, 15, 366], [36, 196, 3, 142, 568, 2, 142, 594, 34, 8, 14, 9, 20, 160], [384, 33, 323, 748, 713, 464, 506, 47, 544, 19, 83, 471, 524, 314, 75, 472, 2, 798], [32, 214, 372, 8, 286, 717, 35, 6, 70, 19, 512, 10, 114, 16, 4, 112], [39, 16, 2, 205, 72], [10, 1, 98, 55, 193, 145], [3, 22, 23, 10, 25, 3, 16, 2, 11, 107], [118, 488, 2, 564, 8, 121, 17, 523, 12, 335, 279, 770, 27, 2, 119, 531, 390, 15], [302, 68, 10, 46, 258, 315], [1, 46, 89, 379, 40, 89, 54, 146, 31, 4, 359, 435, 617, 446, 142, 62, 17, 52, 448, 168, 470, 8, 104, 317], [737, 737, 302, 302, 682, 682], [14, 130, 448, 2, 28, 34, 5, 178, 916, 65, 4, 25, 335, 107, 828, 17, 120], [490, 52, 89, 5, 63, 17], [226, 257, 674, 16, 18, 156], [1, 61, 8, 456, 791, 5, 115, 10, 21, 1, 26, 15, 3, 27, 651], [8, 137, 115, 380, 21, 6, 155, 175, 12, 464], [216, 23, 640], [54, 63, 3, 237, 206, 97], [153, 39, 29, 347, 81, 362, 11, 44, 34, 217, 308], [218, 14, 441, 10, 354, 77, 221, 2, 24, 9, 109, 2, 77], [627], [30, 30, 30], [277, 802, 32, 659, 3, 90, 1, 56, 2, 67, 3, 4, 7, 3, 32, 680, 17, 3, 7, 3, 22, 985, 882, 391], [1, 196, 3, 5, 7, 28, 3, 727, 5, 43, 42, 397], [54, 3, 123, 8, 218], [99, 534, 581, 6, 21, 2, 364, 6, 139, 10, 4, 516, 362, 6, 120, 115], [54, 292, 17, 43, 42], [161, 36, 878, 54, 13, 149, 160, 21], [259, 8, 11, 389, 3, 33, 33, 263, 33, 33, 367, 33, 242, 7, 416, 33, 661, 692, 53, 165, 103], [3, 55, 54, 44, 442, 160], [49, 2, 853, 468, 98, 183, 14], [103, 10, 27, 8, 914, 6, 83, 237, 107, 15, 6, 372, 1, 415, 202, 364, 30, 106, 10, 243, 62, 6, 83, 237, 1, 61, 65, 279], [39, 598, 12, 4, 622, 7, 1, 200, 11, 7, 448, 146, 16, 27, 74, 84, 3, 164], [216, 38, 12, 151], [4, 2, 13, 130, 118, 196, 3, 29, 202, 293, 510, 234, 195, 576], [230, 4, 108, 34, 47, 547, 2, 33, 93, 75, 33, 556, 289, 2, 781, 2], [402, 525, 54, 9, 4, 467, 661, 95, 14, 9, 125, 662, 20, 4, 46, 14, 9, 307, 611, 81, 4, 53, 124], [175, 12, 13, 157, 1, 169, 13, 32, 23, 192, 17, 5, 17, 911, 475, 25, 26, 167, 48, 18, 11, 141, 96, 51, 5, 585, 164, 32, 8, 292, 21, 28, 16, 4, 662, 62], [29, 4, 23], [173, 417, 10, 84, 52, 694, 6, 22, 10, 100, 486, 225, 72, 2, 6], [107, 107, 167, 48, 51], [1, 16, 197], [85, 228, 23, 978, 2, 20, 238, 1, 526, 28, 24, 164, 169, 85], [516, 13, 15, 620, 1, 59, 27, 189, 6, 224, 213, 12, 6, 2, 64, 74, 32, 24, 90], [145, 226, 226, 1, 394, 109], [41, 259, 266, 19, 34, 4, 957, 51, 286, 51, 4, 891, 81, 2, 139, 4, 19, 159, 260], [40, 9, 5, 367, 63, 39, 16, 534, 2, 203, 6, 6, 16, 191, 5, 136, 19, 119, 9, 424, 36, 15, 21, 60, 439, 227, 549, 350, 531, 390], [88, 88, 46, 26, 3, 139, 644], [3, 22, 4, 769, 6, 16, 118, 488, 19, 318, 355, 152, 30, 4, 41, 279, 425, 2, 4, 276, 750, 19, 119], [53, 165, 387, 52, 22, 3], [638, 53, 178, 10], [210, 507, 20, 3, 22, 225, 148, 897, 14, 13, 158, 664, 14, 383, 17, 13, 173, 14, 148, 165, 158, 16, 4, 148, 62], [99, 161, 237, 74, 18, 761, 131, 17, 963, 1, 4, 928, 734, 7, 828, 17, 300, 105, 6, 46, 1, 37, 96, 765, 17, 66, 215, 215, 215, 215, 215, 215, 215, 215, 215], [7, 654, 248, 12, 13], [528, 35, 258, 192, 183, 10, 55, 46, 258, 555], [155, 391, 391, 1, 224, 28, 5, 952, 69, 9, 4, 310, 69, 792, 17, 285, 140, 700, 4, 263, 2, 217, 62], [1, 70, 2, 67, 179, 20, 29, 970, 694, 43, 42, 88, 9, 23, 424, 204], [32, 8, 458, 21, 82, 79, 31, 8, 109, 149, 113, 301, 139, 10, 4, 15, 46, 77, 83, 298], [62, 254, 212, 200, 355, 8, 92, 660, 7, 91, 13, 18, 5, 617, 17, 4, 67, 49, 2, 21, 187, 115], [6, 83, 4, 769, 6, 118, 488, 19, 318, 355, 152, 30, 4, 41, 279, 425, 2, 4, 276, 750, 19, 119, 190, 280], [716, 838, 22, 488, 2, 318, 4, 559, 35, 3, 4, 102, 15, 119, 430, 971], [28, 3, 70, 4, 108, 209, 477, 105, 34, 47, 358, 2, 101, 93, 683, 47, 438, 47, 684, 95, 30, 15, 642], [133, 72, 282, 197], [121, 842, 20, 15, 407, 243, 1, 329, 377, 189, 226, 80, 226, 70, 226, 66, 226], [103, 52, 9, 123, 3, 268, 2, 104], [1, 233, 205, 5, 105, 160, 21, 107, 67, 4, 157], [103, 33, 314, 41, 471, 464, 919, 26, 186, 18, 17, 4, 46, 59, 320, 75, 492, 2], [54, 9, 618, 3, 24, 273], [33, 323, 4, 651, 7, 241, 212, 4, 435, 177, 309, 75, 2, 339], [17, 963, 1, 329, 36, 58, 10, 18, 951, 160, 21], [504, 14, 35, 3, 58, 14], [32, 237, 74, 41, 349], [457, 266, 53, 35, 26, 3, 8, 100, 3, 486, 909, 666, 45, 25, 84, 3, 27, 57], [29, 77, 67, 10, 4, 17, 109], [493, 403, 7, 184, 124, 34, 14, 59, 111], [143, 45, 27, 820, 87, 251], [3, 16, 191, 4, 253, 355, 152, 30, 4, 596, 136, 2, 119, 699, 136, 15, 92, 247, 232, 18, 447, 407, 439], [107, 425, 2, 20, 247], [74, 6, 485, 44, 18, 13, 184, 862, 35, 6, 16, 2, 628, 9, 298, 7, 32, 100, 154, 54, 1], [32, 937, 128, 8, 4, 86, 7, 646, 352, 160, 21, 11, 890, 48, 376, 1, 210, 56, 32, 4, 8, 448, 944, 501, 10, 7, 21, 1, 210, 56, 32, 3], [302, 70, 10, 2, 49, 2, 30, 146, 1, 174, 3, 865, 794], [463, 157, 40, 9, 4, 600, 203, 551, 3, 16, 463, 459, 248, 48, 92, 247, 739, 41, 915, 15, 21], [12, 33, 328, 2, 212, 4, 846, 152, 177, 309, 75, 2, 601, 138, 356, 309], [1, 80, 557, 94, 20, 653, 303], [98, 486, 1, 329, 381, 571], [114, 343, 76, 62, 184, 297, 55, 257, 527, 114, 16, 172, 53, 56, 979], [182, 40, 9, 92, 367, 551, 2, 203, 6, 13, 136, 51, 630, 9, 87, 981, 498, 2, 119, 15, 21], [77, 90], [646, 603, 6, 599, 9, 14, 3, 748, 713, 152, 30, 471, 919, 15, 21, 351, 312, 407, 369, 93], [27, 54, 63, 146, 1, 64, 164], [685, 11, 763, 36, 10, 20, 381, 5, 458, 24, 107, 231, 628], [145, 45, 38, 703], [278, 710, 31, 72, 8, 4, 549], [180, 1, 3, 26, 3, 262], [7, 22, 581, 21, 100, 189, 5, 359, 15, 27, 439, 190, 19, 86, 438, 15, 390], [131, 330, 14, 109, 1, 16, 109], [685, 415, 1, 504, 4, 17, 2, 178, 211, 36, 79, 87, 504, 4, 892, 30, 84, 3, 164], [2, 5, 662, 16, 4, 111, 325, 39, 3, 403, 7, 333, 3, 117, 983, 62], [107, 139, 104, 5, 628, 172, 897, 34, 765, 17, 3, 29, 91, 44, 2, 142, 449, 2, 139, 14, 7, 57, 113, 893, 172, 172, 897], [818, 123, 1, 13, 810, 13, 13, 126, 28, 3, 178, 13, 105, 9, 5, 18, 123, 3, 210, 14], [46, 305, 84, 11, 714, 114, 110, 2, 114, 22, 875, 908, 114, 836, 55, 20, 2, 11, 346, 245], [270, 117, 109, 102, 91, 181, 420, 102], [180, 52, 537, 20, 62, 54, 22, 3, 149, 126, 22, 3, 1, 11, 7, 110, 17, 3, 11, 66, 1, 67, 4, 391, 2, 3, 51, 934, 5, 731], [52, 273, 246, 3, 37, 95, 36, 553, 208], [6, 87, 78, 2, 5], [928, 6, 193], [32, 214, 15, 3, 962, 27, 56, 43, 42, 39, 22, 23, 23, 751, 40, 396], [114, 155, 77, 252, 469, 30, 647, 56, 321, 30, 77, 451, 67, 2, 11, 568, 365], [465, 574, 333, 465, 35, 6, 263, 125, 389, 9, 799, 6, 257, 125, 599, 17, 19, 564, 799, 6, 24, 186, 148, 53, 165, 178, 720], [1, 332, 51, 4, 2, 893], [404, 5, 43, 42, 297, 667, 34, 4, 310, 7, 204, 32, 206, 2, 11, 184, 43, 42, 87, 248, 12, 20, 330], [133, 3, 233], [226, 172, 229, 31, 315, 18], [57, 6, 701, 73], [4, 382, 59, 235, 19, 74, 217, 17], [3, 29, 86, 556, 495, 81, 86, 84, 11, 223, 176, 342, 12, 936, 556, 495, 407, 244, 116, 351, 312, 19, 166], [85, 79, 15, 97], [38, 340, 450, 9, 40, 9, 4, 53, 63, 2, 268, 1, 336, 7, 408, 4, 157], [45, 57, 79, 183, 151, 695, 97, 82, 154, 151, 15, 6, 411], [52, 22, 3, 387], [133, 32, 7, 9, 5, 759, 17, 11, 910], [825, 598, 4, 445, 193, 39, 218, 8, 4, 549], [102, 530, 11, 93, 46, 3, 37, 44, 8, 165], [131, 28, 3, 70, 188, 2, 231], [332, 694, 103, 91, 181], [3, 16, 2, 107, 134, 4, 17, 50, 89, 216, 2, 202, 167, 48, 51, 104, 458, 35, 550, 619, 59, 9, 72, 4, 30, 8, 5, 317, 183, 10, 55, 97], [452, 452, 670, 7, 68, 10, 161, 7, 7, 315, 12, 113, 6, 44, 12, 113, 359, 40, 115, 9, 47, 714, 187, 19, 68, 86], [1, 272, 77, 847, 49, 74, 81, 185, 79, 186, 78, 48, 435, 41, 11, 954], [1, 178, 973, 8, 11, 231, 481], [99, 65, 1, 98, 55, 35, 3, 22, 27, 122, 25, 15, 10, 46, 6, 29, 161, 27, 74, 50, 566, 366], [3, 22, 253, 5, 283, 209, 105, 4, 702, 30, 4, 713, 136, 75, 331, 429, 2, 38, 187], [9, 72, 101, 164], [88, 88, 52, 127, 379, 14, 407], [1, 188, 73], [175, 12, 13, 2, 401, 195, 13, 93, 26, 31, 912, 325, 102, 81, 133, 30, 38, 35, 3, 95, 38, 3, 26, 23, 31, 912], [53, 491, 11, 66, 52, 537, 13, 62, 54, 22, 3, 44, 2, 1, 466, 7, 61, 653, 248, 12, 3, 870, 382, 9, 653, 1, 84, 818], [1, 56, 2, 268, 420, 25, 61, 23, 434, 2, 1, 98, 55, 311], [153, 69, 241, 31, 434, 2, 64], [153, 35, 39, 28, 16, 2, 37, 4, 586, 39, 80, 2, 616, 92, 681, 2, 734, 43, 42, 259, 304, 992, 36, 2, 31, 782], [45, 78, 2, 270, 132, 1, 29, 174, 104], [32, 8, 4, 265, 15, 10, 97, 27], [9, 5, 2, 910], [1, 26, 177, 39, 742], [39, 51, 11, 160, 18, 891, 160, 18, 408, 18, 594, 9, 43, 42], [24, 65, 2, 31, 310, 20, 114, 3, 8, 52, 22, 3, 36, 656, 99], [282, 214, 49, 37, 113], [52, 22, 3, 333, 3, 4, 111], [161, 18, 54, 22, 2, 97], [370, 262, 397, 7, 1, 776, 23, 2, 666, 48], [1, 29, 134, 12, 3], [88, 88, 32, 202, 207, 46, 26, 3, 5, 963], [21, 75, 308, 30, 33, 289, 767, 781, 308, 280, 2, 636, 2, 512, 7, 37], [259, 27, 28, 77, 295, 10, 4, 185, 1, 58, 38, 319, 90], [1, 55, 25, 3, 80, 2, 37, 21, 1, 36, 58, 11, 25, 1, 135, 2, 9, 2, 346, 12, 10, 2, 64, 2, 113], [280, 284, 2, 6, 26, 31, 17, 50, 5, 283, 547, 7, 721, 67, 37, 86, 2], [53, 34, 5, 6, 241, 186, 4, 19, 512, 5, 556, 95, 95, 86, 115, 339], [99, 132, 6, 83, 584, 45, 69, 155, 69, 168, 68, 7, 69, 16, 6, 921, 151, 183, 10, 206, 102], [77, 147, 63, 294], [169, 1, 521, 33, 273, 715, 25, 147, 6, 380, 21, 58, 293, 6, 148, 354, 1, 87, 469, 19, 992], [182, 13, 93, 38, 59, 323, 4, 887, 400, 583, 862, 136, 18, 863, 40, 9, 92, 367, 551, 2, 203, 3, 15], [52, 168, 11, 594, 585, 20, 11, 923, 4], [131, 72, 6, 83, 288, 21, 1, 440, 6, 2, 4, 9, 14, 53, 39, 83, 230, 27, 16, 4, 108, 297, 120, 6, 8], [131, 131, 150, 39, 751, 4, 66, 366], [56, 44, 446, 217, 890], [381, 36, 214, 486, 12, 335, 7, 69, 665, 139, 3, 204, 65, 38, 293], [53, 165, 11, 103, 16, 4, 111, 158, 62], [102, 15, 34, 2, 30, 13, 171, 93, 47, 17, 530, 386, 965, 90, 774, 2, 7, 601], [6], [57, 89, 90, 77, 38, 80, 2, 120], [168, 37, 96, 2, 3, 395, 23, 90, 25, 1, 267, 151, 3, 29, 31, 217, 911, 8, 5, 211, 8, 271, 69, 12, 653, 3, 7, 3, 37, 4, 711, 30, 6, 12, 4, 126, 6, 204, 12, 7, 69, 607, 181, 17, 5, 6, 186, 220, 831, 486], [228, 196, 11, 490, 13, 68, 159, 39, 231, 156, 106, 3, 54, 2, 28, 24, 36, 39, 146, 49, 37, 156, 40], [5, 587, 41, 826, 9, 121, 17, 125, 17, 173, 5, 141, 14, 513, 6, 26, 167, 826, 8, 177, 6, 276], [102, 507, 51, 137, 304, 12, 812, 56, 242, 568, 304, 13, 34], [29, 3, 293, 12, 708, 3, 67, 156, 230, 12], [45, 38, 36, 394, 20, 4, 296, 8, 80], [126, 1, 31, 417, 11, 450, 5, 338, 704, 651, 10, 7, 1, 313, 49, 690, 25, 700, 217], [30, 1, 329, 43, 42, 190], [28, 3, 225, 34, 13, 518], [32, 202, 540, 2, 360], [1, 210, 56, 4, 376, 1, 178, 696, 884, 13, 438, 7, 459, 3, 8, 427], [579, 50, 62, 32, 937, 128, 27, 40, 7, 1, 224, 353, 14, 604, 22, 11, 173], [21, 37, 19, 5, 141, 562, 193], [85, 310, 408, 11, 105, 18, 184, 124, 7, 370, 330, 14, 553, 1, 58, 44], [128, 58, 828, 17, 502, 796], [72, 9, 38, 8, 11, 7], [38, 839, 236, 54, 22, 3, 149], [788, 41, 279, 30, 400, 152, 700, 13, 182, 498, 21, 51, 443, 23, 2, 48], [85, 79, 15, 97], [348, 556, 80, 269, 681, 234, 195, 30, 15, 3, 589, 31, 256, 556, 27, 138, 234, 195, 342], [226, 1, 649, 6, 65, 45, 175, 378, 342, 799, 33, 518, 799, 416], [1, 106, 6, 380, 21], [3, 22, 18, 5, 5, 257, 18, 11, 7, 46, 1, 749, 11, 3, 22, 50, 20, 513, 48, 1, 994, 17, 11, 389, 417, 3, 57, 345, 11, 22, 48, 112, 4, 63, 17, 12, 10, 828, 17, 356, 399, 1, 526, 84, 25, 1, 329, 56, 50, 255, 3, 36, 589, 56, 977, 7, 7, 46, 11, 63, 128, 9, 298, 3, 7, 1, 76], [108, 199, 19, 403, 8, 33, 41, 36, 47, 19, 318, 587, 30, 27, 176, 75, 76, 289, 2], [71, 207, 148, 158, 149, 117], [188, 73, 25, 58, 238, 19, 622], [52, 2, 150, 20, 1, 402, 3, 98, 110, 27, 50, 18, 54, 1, 988, 3], [59, 634, 2, 84, 20, 157, 24, 46, 83, 6, 555, 562, 103, 54, 458, 7, 147, 83, 33, 839], [85, 8, 265, 79, 15, 97], [88, 1, 413, 480, 39, 29, 49, 41, 76, 758, 461, 2, 166, 418, 2, 41, 801, 29, 49, 758, 2, 19, 418, 2, 896, 41, 27, 41], [3, 640, 21, 32, 56, 160, 251, 158, 43, 42, 689], [147, 532, 113, 305, 9, 23, 36, 468, 826, 321, 6, 210, 46, 6, 174, 156, 25, 468, 508, 6, 210, 46, 6, 189], [326, 472, 158, 27, 566, 135, 2, 49, 158, 54, 94, 6], [36, 633, 659, 3], [69, 202, 94, 281, 60, 109, 1, 55], [747, 33, 323, 748, 4, 17, 51, 30, 4, 464, 253, 15, 322, 138, 565, 339], [329, 140, 61, 1, 40, 9, 5, 222, 63, 1, 4, 138, 176, 725, 50, 1, 32, 248, 12, 13, 1, 70, 2, 31, 13, 296, 121, 121], [576, 22, 3, 5, 375], [145, 117, 120, 6, 97], [30, 69], [37, 206, 8, 7, 622, 2, 711, 160, 795, 43, 42, 998, 7, 27, 222, 160], [45], [153, 13, 292, 27], [29, 6, 470, 41, 10, 8, 109, 1, 58, 301, 494, 294, 236], [52, 273, 379, 773, 91], [108, 319, 7, 317, 12, 11, 1, 16, 60, 108, 303, 8, 819], [39, 2, 6, 20, 5, 130, 473, 4, 6, 282, 304, 412, 102, 19, 853, 39, 83, 85, 41, 5], [24, 54, 28, 3, 403, 28], [28, 3, 431, 20, 46, 258, 511, 550, 78, 341, 3, 9, 142, 7, 746, 511, 341, 3, 9, 4], [182, 102, 15, 51, 443, 13, 788, 41, 279, 30, 712, 152, 652, 498, 657, 171, 322, 312, 369], [108, 125, 25, 5, 285, 24, 98, 34, 33, 245, 36, 156, 158, 150, 32, 225], [282, 18], [216, 1, 26, 91, 60], [65, 24, 52, 83, 6, 147, 83, 6, 149, 52, 59, 33, 62, 24, 183, 10, 154, 6, 179, 830, 123, 6, 263, 90, 35, 23, 28, 14, 21, 198], [1, 59, 20, 63, 3, 72], [133, 326, 25, 668, 78, 2, 14], [23, 12, 23, 222], [10, 109, 46, 3, 64, 2, 766], [145, 88, 1, 26, 64, 164], [112, 235, 1, 155, 1, 16, 5, 1, 370, 1, 16, 30, 98, 16, 5], [72, 98, 6, 70, 2, 270], [2, 119, 33, 279, 67, 4, 594, 2, 18, 211, 195, 351, 312, 660, 946, 641, 86], [175, 14, 59, 60, 51, 25, 363, 229, 50, 978, 21, 425, 220], [47, 157, 13, 482, 47, 68, 459, 81, 2, 40, 157, 34, 5, 331, 47, 12, 936, 752, 138, 176], [6, 169, 410, 270, 24, 127, 11, 444, 436, 10, 44, 27, 461, 647, 19, 353, 281, 90], [299, 272, 17, 6, 552, 147], [234, 195, 37, 828, 17, 152, 40, 337, 138, 234, 195, 103, 928, 2, 5, 337, 39, 16, 58, 92, 7, 240, 431, 152, 139, 505, 604], [47, 621, 223, 36, 68, 2, 57, 177, 116, 37, 4, 108, 223, 60, 339, 244, 309], [108, 723, 34, 11, 609, 7, 217, 518, 625, 392, 2, 174, 208, 116, 22, 3, 315, 2, 31], [955, 1, 61, 18, 5, 141, 2], [33, 172, 378, 32, 207, 112, 451, 32, 112, 127, 82, 18, 278, 24, 254, 867], [239], [6, 87, 29, 49, 435], [226, 114, 22, 117, 7, 207, 613, 257, 89, 363, 7, 33, 558, 128, 65, 112], [17, 8, 766], [38, 65, 23, 29, 122, 25, 65, 26, 470, 12, 14, 40, 325, 185, 38, 41], [57, 188, 254], [242, 910, 9, 25, 6, 290, 23, 55, 126, 14, 33, 83, 95, 645, 489, 287, 95, 287], [38, 157, 38, 54], [16, 3, 58, 384, 478, 35, 23, 1, 26, 37, 14, 21], [131, 1, 70, 3, 1, 3, 1, 189, 3, 1, 80, 3, 1, 66, 3], [45, 33, 95], [1, 117, 180, 1, 16, 27, 11, 54, 123, 3, 287, 44, 149], [94, 43, 42, 5, 22, 288, 2, 15, 5, 780, 7, 167, 48], [58, 54, 14, 607, 19, 91, 383, 8, 5, 8, 6, 29, 34, 910, 68, 2, 84, 30, 234, 195, 31, 6], [15, 2, 5, 144, 243, 9, 640, 8, 7, 154, 2, 5, 15, 2], [299, 1, 272, 24, 519, 137, 646, 73], [393, 426, 69, 578, 150], [3, 26, 31, 40, 401, 342, 14], [90, 62, 35, 6, 66, 11, 139, 10, 121, 158, 67, 40, 2, 33, 158, 84, 52, 197, 189, 406, 6, 37, 35, 6, 37, 6, 33, 991], [182, 13, 93, 144, 130, 118, 323, 34, 4, 596, 136, 253, 15, 51, 675, 274, 119, 476, 623, 60], [1, 61, 18, 5, 141, 2], [172, 7, 22, 326, 5, 367, 76, 21, 25, 32, 8, 529, 346, 602, 189, 6], [12, 892, 892, 12, 972, 972, 12, 261, 261, 12, 6, 25, 6, 12, 10, 67, 2, 50, 33, 245, 10, 35, 6, 56, 10, 35, 6, 37, 96, 121, 6, 83, 873, 8, 19, 6, 80, 113, 121, 2, 166, 6, 83, 817, 19, 197, 41, 6, 201, 9, 402, 2, 6, 262, 14], [107, 5, 63, 2, 429, 5], [38, 109, 78, 2, 268, 8, 356], [421, 3, 174, 3, 800], [1, 267, 13, 144, 2], [52, 22, 3, 65, 118, 483], [10, 112, 9, 618, 967, 2, 205, 44, 11, 7, 5, 508, 9, 237, 96], [52, 9, 14, 2, 3, 7, 126], [344, 585, 377, 46], [198, 760, 103, 465, 4, 229, 62], [504, 74, 113, 125], [161, 419], [5, 1, 36, 135, 2, 768], [357, 750, 5, 232, 9, 47, 12, 171, 601, 752], [23, 112, 235, 2, 629, 12, 15, 821, 2, 238, 13, 629, 246, 164], [71, 4, 699, 314, 41, 4, 471, 464, 919, 26, 186, 18, 17, 4, 46, 22, 5, 208, 75, 2], [3, 473, 11, 62, 28, 16, 4, 111, 62, 112], [259, 73, 616, 19, 147, 63, 6, 237], [40, 308, 379, 23, 564, 8, 529, 40, 308, 843, 80, 63, 517, 891, 48, 445, 344, 359, 57, 31, 44, 8, 529], [24, 52, 59, 122, 90], [3, 16, 191, 4, 887, 400, 432, 2, 119, 15], [65, 4, 624, 67, 423, 115, 2, 50, 33, 245, 35, 201, 83, 125, 249, 57, 194, 169, 6, 243, 477, 10, 5, 240, 859, 10], [40, 9, 5, 367, 63, 39, 16, 534, 2, 203, 6, 6, 16, 191, 5, 136, 2, 119, 36, 15, 885, 171, 322, 86, 242], [682, 115, 57, 135], [45, 497], [1, 56, 25, 148, 2, 48, 18, 5, 35, 14, 532, 3, 210, 288], [22, 3, 72, 8, 360], [6, 29, 212, 471, 17, 472, 464, 506, 177, 116, 962, 21, 75, 5, 331, 314, 2, 798, 138, 176], [90, 9, 85, 62, 35, 431, 1, 59, 730, 34, 3, 35, 431, 1, 30, 611, 3, 615, 615, 36, 908, 65, 33, 32, 53], [1, 188, 73], [147, 609, 123, 2], [39, 534, 2, 203, 3, 592, 13, 95, 2, 92, 386, 17, 4, 348, 105, 545, 733, 101, 357, 260, 345, 432, 274, 728, 684, 95, 30, 15, 642], [99, 45, 25, 309, 23, 53, 71, 16, 96, 813, 17, 2, 28], [1, 61, 90, 107, 178, 26, 268, 97], [125, 914, 4, 310, 59, 18, 43, 588, 42, 43, 42, 491, 121, 217, 490, 336, 19, 746, 166, 490, 437, 1, 59, 696, 46, 5, 598, 238, 41, 1, 59, 201, 1, 59, 848, 286, 317, 1, 332, 19, 125, 593, 456, 259, 39, 332, 19, 343, 414, 39, 332, 19, 4, 125, 14, 95, 34, 35, 6, 83], [6, 150, 410, 17, 963, 335, 573, 354, 23, 150, 266, 380, 4, 291, 60, 73, 1, 272, 137, 499, 23, 24, 229, 410], [660, 212, 4, 35, 3, 5, 17, 68, 2, 186], [447, 407, 439], [53, 574, 25, 574, 290, 218, 6, 8, 197, 478], [53, 28, 3, 110, 3, 241, 67, 10, 113, 989, 1, 168, 66, 2, 84, 13, 523, 7], [536, 2, 106, 77, 647, 29, 77, 56, 144, 5, 24, 20, 143], [65, 78, 53, 38, 340, 25, 87, 80, 467, 2, 732, 247], [71, 227, 13, 986, 130, 118, 605, 71, 13, 12, 50, 959, 419, 2, 13, 245], [85, 161, 159, 184, 499, 332, 27, 58, 44, 41, 122, 27], [85, 79, 15, 97], [54, 90, 851, 851, 9, 279, 24, 38, 122], [89, 230, 34, 4, 310, 39, 26, 134, 806, 742], [13, 214, 16, 2, 205, 44, 4, 121, 12, 507, 18, 13, 141, 74, 1, 224, 257, 855, 508, 9, 10], [35, 39, 212, 65, 169, 38, 121, 795, 12, 273, 63], [88, 11, 202, 501, 4, 7, 405, 296, 290, 202, 70, 113, 24, 392, 18, 916, 79, 106, 3, 46, 114, 55, 12, 192], [869, 5, 998, 126, 5, 287, 17, 622, 9], [10, 984, 231, 113, 628, 53, 426, 25, 705, 82, 252, 221, 451, 231, 4, 467, 291], [131, 54, 52, 94, 13, 743, 575, 109], [20, 59, 24, 686], [47, 306, 729, 34, 51, 41, 325, 34, 545, 260, 121, 19, 432, 75, 202, 15, 30, 993], [46, 3, 7, 298, 34, 292], [24, 109], [3, 16, 64, 446, 11, 173, 7, 5, 801, 206, 18, 10, 11, 261, 4, 263, 18, 11, 368, 520, 10, 210, 985, 7, 12], [25, 3, 8, 570, 34, 10], [7, 11, 310, 825, 9, 237, 81, 794, 219, 38], [7, 848, 156, 44, 51, 614], [1, 221, 25, 112, 466, 426, 10, 865, 21, 186, 74, 24, 466, 578, 295, 57], [302, 28, 3, 56, 1, 16, 4, 7, 27, 11, 317], [316, 302, 1, 61, 4, 7, 26, 644, 3, 34, 7], [58, 868, 204, 70, 2, 49, 18, 4, 34, 8, 4, 467, 291], [1, 98, 732, 13, 157], [52, 64, 6, 58, 335, 2, 28], [1, 327, 64, 2, 12, 19, 284, 24, 3, 29, 31, 2, 91, 4, 218, 362, 1, 98, 392, 101, 11, 752, 80, 2, 294, 182], [769, 71, 4, 770, 357, 247, 3, 118, 488, 2, 318, 4, 829, 2, 429, 15, 476, 567, 60], [133, 1, 55, 5, 51, 5], [131, 807, 1, 29, 205, 6, 44, 27, 766, 35, 6, 106, 10, 514, 126, 19, 66, 920, 560], [56, 1, 473, 151, 44, 46, 39, 282, 8, 92, 319, 76, 63, 14, 59, 710], [170, 45, 300, 262, 2, 67, 31, 9, 852, 37, 14, 164], [30, 6, 154, 114, 50, 35, 208, 480, 29, 4, 23, 35, 50, 17, 156, 29, 134, 14, 57, 32, 45, 73], [316, 302, 1, 13, 3, 22, 172, 452], [74, 9, 298], [12, 3, 812, 9, 34, 50, 20, 9, 23, 46, 3, 338, 1, 135, 408, 3, 3, 282, 937, 18, 5, 529, 5, 46, 1, 540, 8, 1, 155, 39, 282, 78, 159, 3, 58, 74, 51, 292, 102, 100, 262, 7, 10, 14, 532, 10, 70, 2, 2, 3], [110, 109, 3, 698, 28], [139, 104, 179, 2, 612, 35, 89, 607, 14, 7, 843, 57, 3, 104, 327, 599, 35, 89, 183, 10, 55], [85, 20, 598, 24, 273, 21], [28, 3, 37, 5, 217, 144, 26, 31, 8, 72], [188, 73, 6], [24, 1, 241, 391, 7, 210, 3, 208, 2, 10], [1, 36, 4, 229, 4, 3], [99, 72, 39, 16, 21, 92, 590, 168, 31, 111, 19, 120, 6, 35, 6, 64, 44], [123, 748, 17, 3, 16, 101, 28, 3, 55, 17, 149, 179], [107, 269, 10, 106, 20, 1, 233, 167, 104, 144, 145], [1, 61, 18, 5, 141, 2, 33, 74], [240, 274, 155, 8, 66, 1, 26, 213, 603, 5, 62, 1, 29, 626, 6, 30, 5, 62, 6, 20, 6, 626, 10], [38, 396, 25, 1, 20, 24, 1, 332, 7, 5, 457, 34, 20, 535, 1, 8, 427, 128, 7, 39, 251, 4, 291, 25, 1, 370, 183, 151, 479, 10], [85, 79, 15, 97, 8, 265, 101, 250, 2, 102, 15, 43, 42], [913, 583, 254, 482, 577, 17, 913, 506, 2, 31, 191, 36, 492, 41, 424, 754, 343, 21, 67, 913, 2, 679, 129, 681, 138, 334, 176], [18, 141, 2, 458, 29, 3, 107, 67, 10, 144], [24, 3, 110, 1, 146, 412, 268, 2, 151, 23, 15, 217, 8, 5, 165, 1, 332, 2, 40, 238, 184, 297, 7, 69, 267, 10, 126, 1, 241, 49, 7, 37, 11, 319, 69, 941, 10, 90, 52, 127, 69, 1, 168, 64, 96, 8, 52, 69, 225, 23, 271, 11, 144], [1, 70, 2, 49, 2], [32, 8, 4, 484, 429, 319, 827], [114, 22, 36, 520, 14, 424, 2, 475, 96, 1, 16, 43, 42, 2, 150, 25, 1, 29, 475, 96, 804, 3, 37], [955, 16, 113, 98, 353, 188, 45], [9, 72, 237, 872, 9, 218, 12, 28, 3, 37, 101, 547, 51, 13, 122, 238], [532, 11, 923, 206], [35, 76, 29, 28, 14, 6, 112, 29, 28, 14, 35, 956, 29, 28, 14, 6, 589, 28, 14, 35, 76, 29, 28, 14, 183, 151, 28, 14, 35, 956, 29, 28, 14, 218, 14, 7, 664, 35, 76, 29, 28, 14, 86, 151, 149, 14, 35, 956, 29, 28, 14, 134, 4, 14], [576, 1, 43, 42], [111, 547, 15, 2, 119, 13, 253, 355, 152, 30, 596, 464, 425, 2, 4, 276, 750, 21], [411, 87, 109, 249, 147, 185, 1, 58, 803, 519, 286], [663, 33], [45, 1, 37, 33, 115], [316, 302, 1, 61, 4, 7, 26, 644, 3, 34, 7], [792, 17, 598, 14, 2, 383, 17, 700, 383, 82, 618, 14, 2, 31, 789, 165], [277, 497, 12, 618, 20, 15, 1, 58, 4, 303, 946, 18, 800], [106, 3, 54, 35, 3, 134, 4, 467, 7, 14, 59, 2, 876, 2, 140, 112, 127, 12, 5, 325, 17, 79, 64, 44], [29, 6, 10, 125], [60, 135, 13, 93, 929, 3, 22, 2, 453, 2, 5, 283, 477, 306, 93, 12, 47, 15, 5, 93, 453, 234, 47, 18], [1, 26, 31, 387, 39, 26, 134, 346, 66], [20, 26, 5, 102, 100, 622, 5, 908, 1, 100, 70, 2, 4, 346, 296], [13, 94, 10, 121, 200, 19, 166, 41, 201, 286, 259, 23, 414, 419, 957, 107, 95], [9, 487, 41, 6, 6, 221, 10, 19, 106, 151, 23, 8, 30, 147], [133, 207], [16, 3, 13, 274, 2], [40, 337, 9, 207, 142, 23, 2, 28, 112, 127], [428, 25, 1, 338, 3, 282, 5], [126, 22, 3, 54, 22, 3, 149, 22, 503, 18, 271, 5, 2, 13, 123, 3, 167, 4, 20, 14, 168, 122, 1, 80, 3], [6, 146, 134, 4], [143, 3, 8, 30], [54, 28, 6, 70, 12, 384, 52, 94, 683, 47, 68, 459, 4, 108, 348, 105, 34, 345, 432, 274, 728, 15, 47, 21, 18, 821, 2, 167, 48, 129], [311, 426], [648, 310, 57, 29, 204, 969], [293, 13, 103], [1, 361, 37, 188, 109], [45, 243, 13, 405, 144], [5, 32, 60, 251, 46, 143, 63, 2, 876, 9, 20, 376, 17, 868, 1, 29, 60, 2, 31, 251, 46, 194, 10, 2, 31, 7, 20, 60, 46, 866, 501, 2, 772, 44], [955, 20, 63, 3, 98, 56, 359], [45, 57, 6, 106, 10, 147, 63, 6, 237, 97, 73], [655, 13, 365, 738, 12, 259, 399, 583, 614, 2, 119, 15, 786, 430, 739], [3, 48, 17, 493, 5, 275, 62, 21, 87, 34, 10, 46, 6, 37, 4, 308, 33, 705, 87, 779, 39, 26, 37], [114, 100, 106, 6, 20, 5, 795, 17, 22, 12, 5, 222, 19, 982, 1, 370, 270, 27, 50, 184, 124], [22, 13, 22, 3, 74, 236, 26, 3, 394, 2, 391, 13, 707, 8, 5, 165, 28, 3, 66, 10, 28, 3, 110, 17, 10, 22, 3, 659, 10, 236], [10, 620, 5, 275, 508, 496, 248, 12, 11, 707, 2, 504, 14, 20, 146, 8, 694, 24, 32, 214, 262, 2, 31, 18, 97], [1, 61, 8, 853, 109, 1, 26, 74, 8, 457], [180, 6, 70, 10, 98, 6, 450, 161, 7, 16, 4, 250, 41, 947, 4, 63, 34, 4, 452, 52, 94, 39, 49, 82, 608, 75, 366], [627], [128, 9, 13, 996, 430, 2, 86, 459, 95, 86, 138, 234, 195, 247, 637], [1, 26, 364, 456, 251, 43, 588, 42, 158, 11, 93, 16, 340, 3, 37, 11, 24, 15, 3, 79, 47], [65, 23, 20, 63, 17, 5, 325, 17, 5, 63], [], [36, 11, 568, 7, 381, 196, 10, 405, 69, 4], [79, 364, 8, 462, 842, 260, 45], [359, 987, 3, 168, 110, 168, 44, 4, 30, 113, 396, 52, 127, 69, 69, 44, 8, 56, 19], [99, 40, 9, 581, 51, 3, 22, 2, 318, 712, 997, 8, 92, 136, 314, 102, 2, 119, 246, 863, 30, 13, 136, 26, 31, 2, 194, 619], [36, 48, 48, 2, 599, 230, 11, 301, 21], [324, 11, 617, 58, 3, 87, 44], [100, 626, 527, 20, 1, 66, 3, 7, 1, 622, 3, 326, 200, 3, 7, 13, 261], [483, 5, 52, 22, 3, 149, 40, 9, 36, 3, 4, 111, 62], [162, 335, 45, 378, 139, 10, 644], [25, 32, 18, 4, 7, 1, 121, 112, 197, 17, 630, 32, 225, 18, 4], [421, 3, 769, 81, 242, 53, 958, 38, 95, 86, 2, 247, 637], [161, 27, 1, 26, 31, 48, 94, 461, 717, 313, 30, 9, 20, 2, 235], [69, 404, 99, 7, 2, 37, 13, 810, 96, 2, 27, 4], [77, 336, 444, 827], [228, 267, 3, 448, 26, 86, 36, 98, 183, 104, 37], [663, 44, 11, 408, 11, 105, 27, 74, 7, 36, 493, 33, 459, 132, 3, 22, 53, 16, 4, 111, 337], [178, 507, 782, 12, 10, 376, 1, 80, 3, 7, 1, 189, 3, 163, 7, 1, 746, 20, 3, 8, 334, 173], [404, 143, 302, 35, 39, 205, 113, 44, 51, 217, 238, 8, 56, 142, 449], [145, 4, 345, 449, 9, 127, 8, 341, 906, 3, 589, 37, 24, 127, 129, 122, 298, 8, 4, 62, 341, 211, 34, 50, 20, 916, 63, 818], [131, 308, 52, 83, 6, 132, 6, 83, 117, 10, 142, 83, 193, 273, 63, 38, 120, 139, 10, 4, 15, 63, 51], [330, 48, 92, 17, 840, 546, 495, 7, 178, 13, 93, 7, 68, 2], [45, 807, 1, 14, 59, 45, 1, 36, 486, 112, 127, 1, 16, 2, 28, 113, 301, 11, 736, 7, 57, 16, 2, 193, 25, 3, 29, 15, 10, 72, 560], [88, 68, 10, 46, 258, 18, 5, 141], [99, 65, 27, 50, 62, 761, 1, 26, 186, 704, 27, 6, 947, 200, 107, 218, 115, 215], [769, 71, 4, 770, 357, 247, 3, 16, 118, 488, 2, 136, 829, 2, 119, 15, 119, 430, 476, 726, 567, 60], [188, 73, 35, 114, 50, 49, 57, 1, 49, 73], [45, 29, 31, 97, 251, 414, 414, 717, 35, 3, 70, 16, 612, 246, 23, 2, 204, 18, 35, 3, 100, 295, 71, 149, 20, 309], [69, 941, 23, 2, 106, 101, 76, 35, 24, 644, 12, 10, 99, 99, 99], [57, 9, 207, 259, 717, 30, 414, 717, 12, 767], [131, 22, 3, 78, 2, 220, 7, 1, 503, 603, 287, 17, 5, 325], [11, 66, 52, 64, 14, 598, 3, 24, 273, 2, 218, 12, 1, 58, 13, 574, 18, 7, 59, 148, 2, 84, 156, 25, 59, 677, 3, 135, 408, 1, 189, 3], [387, 9, 13, 30], [50, 62, 503, 62, 641, 7, 851], [38, 406, 459, 516, 406], [330, 34], [6, 106, 161, 186, 4, 291, 185, 19, 465, 185, 114, 282, 613, 161, 87, 41, 121, 920, 215], [7, 263, 12, 10, 160, 21, 71, 3, 49, 7, 5, 389, 26, 54, 3, 22, 720, 94, 7, 110, 13, 690, 7, 178, 505, 51, 3, 818], [1, 233, 213, 2, 14], [183, 10, 55, 52, 14, 8, 5, 208, 14, 29, 257, 31, 25, 3, 22, 48, 17, 20, 767, 65, 23, 24, 36, 7, 183, 10, 55, 8], [374, 247, 3, 290, 21, 119, 13, 47, 306, 105, 12, 13, 15, 21, 18, 386, 965, 171, 601, 455, 672, 48, 640], [182, 13, 93, 144, 130, 118, 323, 34, 4, 596, 136, 253, 15, 51, 675, 274, 119, 476, 623, 60, 369], [32, 8, 28, 3, 70, 188], [3, 8, 13, 360, 1, 80, 4, 264], [133, 1, 575, 2, 67, 2, 134, 14, 25, 508, 540, 96, 24, 32, 96, 8, 529, 509, 27, 5, 112, 1, 847, 152, 8, 50, 11], [13, 46, 1, 80, 14], [126, 83, 39, 265], [8, 33], [239, 172, 3, 18], [1, 110, 65, 999, 129, 341, 20, 25, 167, 48, 330, 12, 4, 238, 51, 13], [35, 3, 83, 74, 57, 64, 206, 990, 201, 190], [10, 18, 226, 651, 51], [1, 361, 37, 33, 613, 115, 9, 659, 67, 14, 193], [311, 426, 1, 521, 77, 150], [534, 236, 7, 304, 748], [32, 23, 237, 200, 28, 708, 3, 70], [724, 75, 15, 2, 38, 119, 13, 829, 17, 166, 567, 268, 63, 2, 293, 51, 13, 105, 21, 256, 86], [474, 6, 44, 19, 834, 361, 287, 44, 533, 206, 427, 380, 109, 590, 380, 27, 109, 8, 10, 66, 366], [316, 4, 291, 257, 126, 9, 5, 28, 2, 31, 25, 53, 192, 114, 26, 31, 8, 590], [117, 35, 32, 20, 79, 36, 15, 193], [5, 9, 23, 20, 7, 3, 26, 23, 475, 188, 603, 159, 458], [16, 3, 23, 633, 122, 236, 30, 179], [85, 36, 2, 330, 20, 3, 100, 295, 848, 10, 44, 789, 27, 345, 51, 168, 20, 31, 45], [267, 20, 69, 9, 78, 2, 512, 217, 763, 8], [182, 102, 15, 51, 443, 13, 788, 41, 279, 30, 152, 652, 498, 657, 171, 322, 312], [28, 3, 56, 628], [81, 5, 806], [705, 23, 78, 163], [117, 3, 267, 156], [394, 18, 20, 62], [133, 1, 64, 2, 12, 7, 61, 373, 2], [40, 9, 3, 13, 624, 630, 85, 228, 23, 118, 8, 570, 25, 107, 55, 20, 3, 22, 230, 16, 4, 111, 116], [1, 178, 973, 8, 11, 231, 481], [108, 125, 25, 5, 285, 24, 98, 34, 33, 245, 36, 156, 158, 150, 32, 225], [12, 33, 328, 2, 212, 846, 152, 177, 309, 75, 343, 2, 601, 138, 472, 565, 309], [422, 8, 367], [831, 486, 293, 8, 4, 202, 91, 19], [113, 22, 71, 127, 71, 19, 567, 3, 327, 37, 648], [45, 73, 30, 6, 221, 10, 49, 470, 41, 6], [11, 173, 442, 4, 352, 2, 10, 23, 376, 1, 66, 11, 173, 25, 376, 1, 66, 5, 305, 8, 11, 173, 5, 389, 406, 156, 245, 1, 15, 156, 11, 389, 845], [562, 19, 93, 83, 635, 15, 21, 515, 13, 678, 343, 546, 472], [142, 338, 81, 4, 817, 1, 649, 6, 10, 350, 5, 62, 514, 649, 5, 927], [194, 6, 55, 130, 525, 92, 676, 232, 19, 203, 3, 233, 329, 140, 15, 21, 50, 26, 31, 351], [11, 639, 52, 22, 3, 149, 458, 9, 72, 4, 213, 246, 3, 28, 91, 181], [33, 152, 953, 9, 871, 482, 577, 2, 33, 152, 8, 21, 67, 49, 2, 679, 60, 187, 974, 898, 899, 718], [299, 1, 494, 118, 72, 246, 3, 70, 2, 49, 12, 5, 1, 29, 15, 44, 2, 563], [414, 27, 5, 283, 87, 72, 35, 3, 29, 44, 113, 7, 70, 2, 139, 5, 108, 4, 262], [1, 3, 22, 4, 571, 535, 7, 32, 373, 23, 2, 31, 4, 1, 16, 2, 37, 113, 5, 141, 7, 57, 262, 5, 28, 16, 4, 634, 62], [36, 58, 2, 43, 42], [576, 117, 9, 56], [180, 32, 96, 64, 96, 2, 10], [586, 663, 44, 52, 132, 3, 16, 118, 428, 46, 1, 361, 440, 51, 604, 305, 1, 336, 156, 7, 114, 135, 5, 543, 43, 42, 36, 56, 2, 55, 28, 16, 4, 808, 297, 7, 50, 5, 240, 34, 13, 976, 460, 35, 3, 29, 169, 169, 222, 12, 57, 13, 122, 9, 298], [65, 35, 35, 345, 141, 57, 65, 288, 12, 151, 2, 14], [103, 245, 40, 9, 11, 108, 158, 144, 81], [14, 415, 31, 207, 1, 16, 21, 26], [40, 105, 130, 5], [1, 100, 673, 505, 758, 6, 1, 622, 897, 158, 14, 10, 20, 6, 100, 181, 496, 2, 86, 10], [133, 1, 6, 2, 231, 108, 301, 888, 24, 1, 29, 262, 14, 48], [710, 52, 28, 1, 34, 5, 267, 10, 184, 124, 25, 153], [], [15, 2, 293, 33, 260, 406, 439, 190, 538, 232, 81, 36, 325, 519, 6, 86, 280, 60], [45, 1, 422, 15, 30, 101, 76, 1, 55, 50, 22, 10, 1, 61, 4, 12, 50], [53, 124, 11, 103, 158, 91, 181], [437, 248, 12, 13], [131, 165, 54, 3, 64, 2, 154, 420], [143, 45, 1, 695, 571, 25, 32, 169, 112, 554, 24, 1, 115, 6, 1, 552, 393, 147, 477, 89, 643, 41, 10, 76], [99, 3, 36, 2, 266, 56, 2, 55, 35, 3, 282, 34, 5, 95, 47, 34, 133, 30, 38], [88, 109, 52, 197, 3, 70], [117, 1, 640, 71, 1, 34, 184, 124, 24, 114, 135, 2, 154, 17, 10], [132, 3, 22, 344, 4, 111, 62], [57, 1, 231], [462, 56, 321, 73, 39, 451, 174, 8, 896, 57, 77, 252, 469, 2, 64, 48], [145, 316, 26, 453, 269], [597, 7, 920, 7, 8, 987, 50, 262, 199, 34, 15, 439, 190, 19, 86, 438, 15], [638, 56, 4, 392, 9, 87, 128, 7, 87, 32, 937, 18, 5], [429, 13, 337, 2, 136, 253, 68, 2, 38, 138, 176], [2, 7, 178, 5, 808, 209, 82, 624, 34, 556, 209, 49, 19, 138, 176, 721, 51, 95, 34, 5, 331, 48], [1, 154, 35, 6, 265, 109, 845, 411, 499], [103, 53, 165, 52, 3, 561, 103], [102, 15, 71, 72, 9, 142, 182, 157, 248, 12, 3], [192, 25, 134, 192, 69, 39, 236], [444, 404, 5, 44], [1, 66, 3, 24, 127, 1, 224, 213, 12, 40, 297, 2, 71, 177, 753, 607, 10, 2, 307, 27, 13, 795, 148, 108, 297, 11, 66], [162, 9, 20, 387, 1, 5, 22, 50, 3], [7, 28, 3, 16, 101, 76, 20, 29, 10, 52, 2], [3, 155, 23, 21, 38, 340, 46, 3, 29, 183, 10, 55], [107, 28, 10, 4, 107, 11, 320, 2, 107, 90, 9, 104, 320], [886, 373, 647, 21, 6, 353, 163, 39, 494], [117, 32, 214, 294, 11, 21, 16, 4, 53, 207, 124], [332, 2, 475, 24, 1, 135, 2, 49, 2, 5, 780, 2, 5], [811, 543, 69, 130, 217, 535], [60, 36, 58, 40, 157, 23, 3, 133, 1, 59, 435, 20, 9], [1, 100, 16, 144, 1, 87, 579, 338, 44, 4, 141, 2, 154], [32, 18, 109, 375, 78, 74], [302, 79, 68, 3, 8, 4, 264], [32, 214, 150, 38, 85, 1, 168, 25, 71, 61, 962, 2, 94, 63, 85, 193, 22, 3, 900, 18, 961], [103, 126, 3, 26, 31, 46, 1, 364, 72], [182, 39, 22, 373, 2, 203, 6, 716, 314, 399, 20, 3, 16, 191, 4, 136, 253, 15, 51, 675, 274, 119, 476, 623, 60], [1, 98, 649, 420, 1, 36, 612], [1, 233, 205, 5, 105, 160, 21, 107, 67, 4, 157], [6, 29, 15, 10, 21], [474, 996, 29, 6, 37, 18], [54, 9, 5, 17, 5], [170, 30, 1, 241, 36, 7, 4, 81, 5, 287, 17, 5, 62], [6, 344, 281, 704, 1, 21, 24, 554], [1, 2, 231, 4, 319, 65, 182, 25, 4, 17, 43, 42, 72, 9, 38, 2, 423, 43, 42, 316, 11, 703], [107, 98, 626, 2, 992], [45, 25, 193], [83, 39, 78, 34, 5, 43, 42, 375], [239, 45, 1, 8, 2, 154, 756, 179, 7, 89, 155, 118, 8, 22, 3, 251, 514, 40, 308, 513], [45, 23, 192, 54, 63, 686, 71, 23, 192, 35, 29, 37, 2, 246, 292, 26, 262, 84, 3, 27, 113, 687, 16, 53, 566], [1, 70, 2, 58, 2, 27, 43, 588, 42, 24, 3, 64, 2, 375, 27, 419], [326, 356, 21, 1, 58, 108, 303], [22, 3, 148, 450, 22, 3, 528, 123, 3, 91, 20, 303, 1, 132, 13, 207, 1, 67, 3, 4, 391, 2, 134, 3, 263, 51, 934, 5, 731, 391, 391], [224, 269, 3, 72, 228, 304, 135, 142], [59, 4, 229, 62, 7, 1, 59, 332, 74, 466, 7, 21, 210, 207, 30, 61, 1, 36, 635, 1, 224, 394], [266, 112, 25, 264, 49, 174, 8, 25, 9, 266, 35, 1, 98, 134, 14, 465, 709, 124], [240, 115, 143, 608, 2, 31, 34, 4, 285, 46, 6, 55, 20, 76, 129, 26, 134, 6, 8, 66, 158, 76, 96, 29, 33, 692, 53, 124], [356, 660, 54, 379, 2, 125, 137, 778, 75, 125, 137, 30, 778, 2, 21, 41, 328, 19, 212, 471, 152], [39, 534, 2, 203, 3, 592, 92, 386, 17, 108, 348, 105, 545, 733, 101, 357, 260, 345, 432, 728, 684, 15, 642, 30, 95, 12, 606], [24, 9, 689, 736, 243, 9, 126, 1, 61, 52, 83, 6, 310, 50, 9, 53, 8, 300, 186, 96, 120, 6, 40, 309, 140, 59, 5, 115, 41], [11, 639, 8, 132, 3, 22, 344, 4, 111, 325, 36, 656, 131], [161, 207, 118, 44, 19, 127, 686, 493, 484, 65, 363, 70, 491, 27, 427, 30, 30, 560], [3, 16, 191, 4, 209, 40, 9, 54, 3, 37, 46, 3, 212, 92, 47, 805, 2, 91, 383, 67, 209, 2, 21, 974, 898, 899, 718, 256], [393, 426, 1, 272, 705, 850, 2, 49, 48, 1, 578, 154, 104, 236], [145, 145, 418, 907, 616, 392, 413, 49, 96, 16, 2, 193], [494, 2, 231, 97, 1, 330, 163, 60, 58, 591, 8, 137, 491, 6, 294, 122, 163], [12, 180, 1, 6, 557, 97, 199, 215], [677, 632, 17, 4, 310, 184, 116, 59, 11, 11, 490, 333, 10, 11, 536, 82, 24, 123, 11, 1, 332, 2, 122, 257, 11, 123, 23, 333], [88, 88, 162, 233, 3, 64, 128, 7, 587, 303], [102, 98, 150, 56, 20, 99, 99, 99], [45, 52, 197, 146, 1, 231], [1, 59, 878, 35, 14, 168, 31, 428, 12, 3, 2, 15, 763, 980, 7, 183, 151, 55, 20, 255, 22, 23, 5, 249, 8, 71, 114, 83, 128, 20, 43, 42, 9, 196, 7, 20, 3, 55, 65, 4, 25, 1, 392, 2, 475, 96, 177, 69, 177, 24, 12, 10, 2, 188, 51, 3, 9, 23, 179, 56, 20], [95, 2, 212, 471, 524, 54, 379, 343, 67, 86, 2, 2, 287, 232], [135, 13, 93, 658, 982, 30, 129, 6, 83, 2, 453, 2, 5, 283, 477, 34, 306, 12, 47, 15, 5, 93, 453, 234, 47, 18], [218, 251, 45], [52, 2, 134, 4, 308, 148, 143, 23, 27, 50, 883, 2, 134, 654, 148, 6, 60, 80, 2, 31, 121, 4, 296, 19, 166, 991, 41, 43, 42, 53, 43, 42, 43, 42, 53, 43, 42, 172, 43, 42, 43, 42, 43, 42, 43, 42, 43, 42, 43, 42, 433, 43, 42, 43, 42, 43, 42, 43, 42, 43, 42, 43, 42, 43, 42, 43, 42], [968, 29, 3, 107, 167, 48, 52, 127, 114, 970, 8, 7, 52, 197, 478, 29, 14, 31, 832, 65, 172, 463, 2, 16, 4, 95, 246, 800], [226, 20, 76, 9, 71], [351, 468, 38, 80, 303], [51, 208, 325, 37, 244, 129, 406, 41, 33, 357, 530, 19, 15, 120, 565, 407, 339, 244, 190, 129], [304, 205, 44, 104, 105], [88, 88, 630, 1, 59, 8], [11, 923, 36, 5, 60, 383, 39, 100, 178, 17, 376, 11, 773, 555, 5, 250, 18, 613, 43, 42, 259], [32, 78, 41, 281, 21, 441, 11, 518, 57, 610, 321, 1, 49, 19, 783, 73], [9, 445, 6, 83, 4, 6, 350, 66, 9, 8, 17, 125, 158, 10, 10], [452, 894, 62, 597, 17, 75, 597, 2, 98, 189, 48, 57, 177, 309, 4, 41, 129, 541, 120, 234, 195, 764, 309], [638, 288, 341, 11, 457, 161, 36, 149, 11, 161, 23, 192, 54, 63, 1, 294, 164, 25, 1, 26, 75, 3, 27, 5, 287], [11, 701, 29, 60, 31, 725, 1, 80, 2, 988], [98, 55, 810, 7, 1, 1, 110, 29, 343, 884, 112], [131, 29, 3, 139, 10, 4, 46, 3, 37, 40, 80, 2, 268, 2, 3, 94, 40, 752, 18, 5, 416], [45, 120, 6, 57], [25, 31, 4, 53, 285, 25, 98, 262, 2, 14, 198], [143, 207, 37, 4, 612, 30, 70, 10, 2, 64, 167, 3], [47, 157, 37, 5, 690, 952, 21, 12, 650, 68, 12, 334, 68, 2, 286, 690, 638, 12, 36, 166, 116, 256, 60, 171, 601, 455], [7, 3, 26, 3, 3, 68, 132, 50, 537, 117, 789], [47, 115, 37, 690, 401, 47, 36, 95, 49, 2, 40, 157, 160, 21], [9, 20, 18, 5, 38, 65], [228, 23, 196, 14, 69, 29, 67, 10], [212, 4, 435, 177, 116, 962, 21, 19, 343, 68, 2, 339], [562, 19, 93, 83, 635, 15, 21, 515, 33, 678, 343, 546, 472], [2, 37, 8, 9, 20, 45], [32, 555, 11, 317, 21], [39, 23, 555, 236, 45, 73, 57, 39, 49, 82, 353, 6, 272], [6, 22, 2, 5, 240, 93, 840, 232, 8, 5, 195, 12, 764, 227, 461, 284, 519, 3, 67, 86, 2], [52, 22, 3, 149, 132, 854, 8, 12, 5, 108, 458, 297, 36, 3, 4, 634, 62], [88, 28, 14, 27, 457, 109, 182], [161, 85, 756, 184, 499, 14, 33, 14, 59, 10, 14, 59, 30, 6, 10, 1, 110, 6], [57, 65, 454, 336, 14, 35, 3, 98, 16, 98, 486, 14, 26, 49], [1, 110, 722, 117], [33, 152, 953, 9, 871, 482, 577, 2, 33, 152, 8, 21, 67, 429, 2, 60, 187, 115, 351, 312], [393, 147, 69, 267, 10, 45, 73], [], [131, 346, 1, 59, 878, 46, 3, 135, 4, 35, 3, 327, 64, 2, 10, 1, 70, 2, 67, 4, 2, 194, 25, 14, 665, 49, 200, 12, 156, 376, 793, 394, 46, 3, 605, 44, 20, 12, 10, 2, 49, 2, 7, 768, 5, 241, 3, 106, 10, 52, 2, 28, 20, 30, 28, 3, 55, 113, 275, 141, 2, 768, 485, 376, 114, 29, 768, 301, 51, 5, 101, 269, 168, 31, 111, 11, 391], [85, 109, 143, 11], [5, 285, 9, 239, 8, 25, 8, 114, 290, 36, 1, 526, 15, 3, 21], [78, 2, 91, 13, 180, 48], [226, 32, 2, 861, 147, 38, 371, 41, 6, 2, 644, 866, 186, 413, 24, 709, 418, 6, 252, 16, 2, 122, 758, 411], [40, 9, 3, 4, 111, 62, 267, 10, 94, 13, 386, 7, 71, 225, 1, 59, 3, 386, 24, 2, 49, 2, 111, 18, 11, 7, 65, 11, 777, 9, 208, 872, 159, 20, 1, 26, 178, 8, 570, 129, 85], [73, 77, 213, 41, 10, 72], [23, 533, 19, 210, 300, 159, 499, 8, 163, 41, 10], [539, 927, 17, 5, 368, 241, 31, 921, 81, 746, 25, 5, 17, 261, 241, 31, 60, 81, 5, 985, 198, 693], [321, 9, 346, 39, 29, 110, 17, 179, 2, 28, 69, 69, 16, 4, 229, 63, 219, 300, 347, 75, 6, 97, 185, 161, 366], [38, 183, 10, 28, 5, 13, 23, 53, 27, 14], [481, 248, 12, 113], [32, 441, 151, 21, 354], [382, 9, 69, 307, 53, 30, 377, 9, 69, 307, 30, 162, 9, 307, 473, 2, 213], [685, 153, 35, 13, 23, 112, 48, 7, 161, 487, 2, 11, 254], [231, 76, 12, 10, 109, 102], [170, 13, 160, 54, 1, 378, 32, 775, 2, 31, 4], [85, 79, 15, 97], [968, 452, 1, 189, 3, 802, 13, 810, 123, 3, 49, 2, 5, 849, 112], [17, 725, 305, 63, 12, 204, 7, 5, 249, 204, 9, 12, 63, 53, 165, 178, 720], [99, 128, 16, 27, 18, 5, 2, 27, 7, 450, 149], [14, 60, 379, 957, 23], [64, 143], [347, 804, 341, 20, 35, 5, 126, 1, 110, 14, 9], [36, 271, 96, 74], [69, 773, 48, 69, 10, 69, 168, 31, 235, 7, 10, 7, 57, 1, 370, 440, 4, 331, 51, 151], [145, 1, 370, 727, 576, 67, 20, 2, 3, 170], [1, 98, 55, 54, 2, 28, 2, 64, 48, 17, 40, 24, 60, 61, 154, 754, 56, 40, 98, 10], [133, 52, 9, 4, 806, 56, 3], [201, 34, 51, 47, 19, 50, 681], [409, 228, 118, 605, 47, 110, 3, 241, 68, 10, 594, 14, 2, 10, 32, 23, 363, 71, 192, 54, 32, 149, 71, 1, 338, 1, 59], [1, 521, 6, 150, 89, 21, 87, 252, 762], [6, 16, 4, 759, 140, 9, 487, 19, 134, 203, 34, 6, 167, 48, 140, 114, 83, 904, 140, 779, 33, 24, 254, 15, 18], [99, 817, 243, 9, 240, 141, 2, 799, 92], [3, 16, 142, 463, 247, 232, 51, 15, 821, 21], [1, 238, 50, 33, 614, 18, 137, 163], [175, 66, 25, 61, 1, 149, 30], [6, 16, 4, 759, 140, 9, 487, 19, 134, 203, 34, 6, 167, 48, 140, 114, 83, 904, 140, 779, 33, 24, 254, 15, 18], [85, 79, 15, 97], [5, 331, 8, 513, 51, 5, 243, 442, 5, 9, 926, 16, 4, 53, 62], [32, 21, 73, 25, 533, 96, 2, 122, 220, 137, 591, 595, 1, 385, 885, 413, 172, 229], [202, 22, 3, 30], [45, 10, 326, 356, 112], [182, 13, 41, 279, 30, 712, 652, 498, 15, 21, 657, 216, 244, 631], [685, 393, 410, 735, 4, 41, 48, 321, 9, 23, 112, 30, 380, 188, 647, 321, 1, 29, 178], [25, 107, 98, 343, 8, 173], [168, 6, 762, 14, 114, 361, 55, 1, 135, 230, 24, 114, 592, 10, 193, 20, 700, 2, 186], [306, 3, 22, 323, 4, 306, 15, 443, 606, 990, 284], [811, 32, 23, 1, 578, 109, 426], [9, 14, 45, 35, 1, 564, 5, 124, 128, 130, 4, 696, 7, 32, 271, 860], [24, 31, 109, 743, 411, 558], [131, 272, 39, 451, 49, 2, 147, 39, 73, 38, 18, 801, 185, 500, 691, 127, 803, 2, 49, 35, 39, 18, 480], [54, 26, 39, 28, 8, 5, 809, 450], [126, 123, 6, 49, 11, 105, 9, 214, 964, 3, 16, 2, 564, 8, 128], [768, 71, 197, 71, 6, 56, 38, 19, 643, 6, 29, 257, 67, 19, 699, 75, 437, 2, 764], [1, 98, 55, 162, 89, 216, 23, 271, 13, 459], [133, 36, 633, 326, 284, 17, 92, 1, 66, 14], [35, 3, 29, 134, 14, 101, 63, 219, 30, 3, 29, 143, 302, 36, 68, 10, 258, 251], [47, 157, 13, 482, 47, 68, 459, 81, 2, 40, 157, 34, 5, 331, 47, 12, 936, 752, 138, 176], [88, 1, 26, 139, 11, 557], [277, 539, 83, 6, 45, 228, 4, 718, 7, 69, 48, 5, 590, 1, 572, 4, 124, 6, 189, 6], [11, 93, 144, 107, 242, 33, 548, 517, 2], [147, 63, 77, 221, 90], [54, 9, 13, 12, 76, 124], [249, 128, 25, 1, 7, 7, 396, 463, 36, 376, 1, 304, 343, 18, 25, 1, 329, 13, 238, 9, 496, 20, 14, 100], [67, 40, 2, 33, 245, 7, 318, 179, 94, 33, 52, 9, 11, 121, 19, 166, 41, 201, 17, 286, 259, 414, 419, 43, 42, 43, 42, 95, 10], [11, 11, 11, 245, 82, 11, 50, 903, 7, 1, 59, 248, 18, 5, 986], [69, 9, 2, 34, 7, 69, 225, 10, 56, 217, 864, 56, 69, 304, 10, 243, 69, 123, 7, 1, 26, 151, 17, 20, 35], [595, 311, 426], [273, 63, 3, 394, 10, 90], [1, 98, 16, 101, 17, 13, 8, 11, 1, 59, 8, 122, 46, 3, 336, 10, 1, 106, 3, 35, 1, 167, 188, 8, 11, 360], [3, 240, 385, 54, 3, 150, 620, 1, 37, 71, 4], [79, 31, 235], [724, 121, 325, 824, 47, 406, 75, 15, 2, 38, 309, 824, 406, 269, 86, 75, 86], [101, 141, 126, 22, 3, 7, 54, 149], [145, 1, 525, 12, 359, 278, 91, 181, 77], [1, 4, 108, 144, 698, 6, 60, 293, 40, 76], [26, 6, 174, 33, 994, 220, 9, 33, 230, 19, 4, 372, 19, 167, 48, 47, 75, 81, 33, 137, 397], [528, 582, 504, 14, 2, 3, 84, 3, 8, 56, 43, 42, 260], [16, 4, 53, 457], [161, 235, 161, 18, 11, 141], [145, 133, 228, 36, 118, 4, 467, 5, 24, 228, 792, 17, 118, 27, 74], [1, 61, 8, 21, 78, 2, 385, 8, 4, 264, 358], [100, 110, 94, 54, 6, 16, 58, 110, 94, 52, 2, 293, 14, 20, 3, 16, 58, 53, 693], [37, 5, 283, 547, 19, 33, 93, 121, 309, 47, 460, 4, 47, 223, 75, 18, 2, 636, 138, 901, 234, 195], [103, 26, 15, 107], [197, 197, 148, 17, 125, 62, 11, 103, 346, 261, 148, 320, 103], [111, 9, 11, 7, 513, 12, 177, 165], [24, 483, 5, 200, 72], [45, 183, 6, 695, 46, 1, 218, 11, 317], [382, 3, 240, 37, 324, 810, 48, 128], [38, 121, 223, 41, 33, 538, 177, 116, 36, 75, 2, 416, 223, 47, 24, 37, 21, 7, 106, 33, 245, 187, 223, 256, 95], [227, 190, 2, 15, 51, 13, 350, 274, 36, 227, 190, 330, 176, 12, 681, 601, 68, 86, 2, 672, 48], [38, 25, 5, 702, 29], [386, 119, 33, 995, 745, 17, 996, 506, 68, 133, 2, 21, 924, 822, 93, 171, 322, 764, 997, 864, 256, 95, 215], [509, 260, 7, 41, 47, 18, 374, 640, 18, 209, 945, 729, 15, 719, 18, 755, 30, 993], [88, 88, 52, 9, 13, 21], [1, 100, 110, 1, 29, 37, 505, 12, 4, 20, 273, 34, 518, 8, 427, 85], [539, 927, 725, 92, 261, 772, 46, 194, 9, 8, 14, 25, 14, 172, 46, 194, 14, 53, 124], [29, 28, 73], [54, 6, 837, 756, 466, 165, 143, 940, 126, 13, 27], [126, 22, 3, 589, 1, 3, 2, 10, 50, 5, 63, 21, 100, 3, 333, 2, 64, 2, 10, 18, 13], [23, 219, 736, 44, 18, 113, 270, 40, 9, 11, 108, 144, 81, 5, 141], [131, 550, 17, 6, 78, 206, 2, 137, 511, 411], [182, 15, 51, 443, 13, 41, 279, 30, 400, 152, 652, 498, 657, 171, 322, 351, 312, 166, 369, 280, 386], [22, 3, 45, 54, 573, 2, 56, 40], [1, 16, 2, 91, 777, 34, 166], [3, 589, 31, 117, 200, 113, 20, 967], [52, 83, 77, 78, 2, 67, 14, 2, 10], [811, 451, 230, 51, 122], [229, 213, 146, 3, 31, 160, 21, 32, 23, 214, 475, 13, 226, 55], [462, 41, 73], [785, 30, 179, 56, 20], [964, 21, 1, 16, 137, 193], [261, 9, 925, 417, 66, 295, 9, 925, 417, 890, 83, 925, 417, 602, 158, 173, 9, 925, 417, 877, 24, 31, 8, 570, 53, 124, 158, 346, 602], [10, 207, 207], [77, 87, 109], [54, 28, 3, 28, 11, 589, 1, 225, 213, 603, 5, 287, 17, 13, 62, 2, 16, 331, 51, 3, 123, 3, 673, 48, 17, 63, 18, 13, 163], [148, 320, 290, 6, 167, 33, 220, 82, 252, 122, 112, 608], [100, 626, 140, 3, 7, 655, 3, 22, 7, 31, 11, 53, 382, 225, 391], [102, 15, 92, 247, 232, 18, 821, 447, 71, 3, 16, 191, 4, 253, 355, 152, 30, 712, 136], [1, 55, 667, 305, 11, 707, 59, 56, 3, 288, 23, 31, 57, 193, 1, 61, 225, 5, 76, 2, 343], [16, 4, 782, 617, 2, 333, 3, 826, 7, 172, 220, 757, 2, 34], [32, 78, 19, 783, 21, 10, 220, 6], [292], [9, 149, 8, 356, 69, 9], [70, 4, 108, 348, 105, 545, 733, 101, 357, 260, 345, 432, 274, 728, 47, 68, 12, 166, 982, 95, 30, 15, 642, 12, 47, 606], [9, 33, 8, 137, 30, 610, 411], [25, 31, 4, 53, 285, 25, 98, 262, 2, 14, 198], [140, 22, 3, 900], [99, 309, 118, 45, 18, 21, 133, 18, 12, 4, 291, 17, 4, 673, 536, 20, 1, 16, 27, 24, 80, 2, 37, 74, 82, 809, 379, 20, 620, 703, 12, 6], [143, 60, 462, 50, 462, 27, 820, 243, 9, 432, 41, 19], [595, 24, 235, 796, 349], [801, 233, 64, 2, 25, 67, 388, 71, 233, 64, 2, 25, 67, 388, 71, 977, 1, 233, 64, 2, 174, 6, 25, 29, 67, 11, 181, 71, 115, 2, 6, 198], [866, 146, 49, 2, 7], [117, 298, 153, 1, 394, 474, 20, 9, 685], [1, 55, 126, 5, 43, 42, 9, 79, 31, 72, 251, 201], [131, 54, 63, 9, 13, 511, 18, 761, 39, 49, 12, 18, 761], [41, 121, 160], [180, 1, 66, 3, 13, 368, 8], [107, 10, 12, 76, 62, 30, 61, 3, 616, 5, 144], [7, 239, 207, 1, 58, 496, 2, 184, 454, 17, 5, 124, 27, 820], [509, 260, 509, 75, 121, 19, 432, 18, 283, 374, 15, 719, 12, 5, 172, 283, 822, 755, 30, 993], [175, 7, 30, 7, 671, 71, 11, 105, 572, 2, 150], [79, 347, 31, 251, 794, 4, 352], [126, 83, 137, 265, 411], [16, 4, 53, 617, 385, 48, 12, 394, 46, 3, 37, 96, 39, 589, 94], [26, 15, 159, 330, 8, 92, 173, 26, 51, 24, 107, 172, 608], [32, 74], [32, 555, 11, 317, 21], [224, 213, 2, 734, 742], [347, 214, 31, 128, 12, 4, 445, 84, 3, 97, 219, 43], [512, 5, 815, 232, 7, 6, 29, 16, 975, 834, 36, 44, 7, 5, 75, 544, 2, 21, 744, 115, 187], [102, 139, 14, 19, 30, 1, 26, 205, 14, 44, 18, 961, 457, 94, 414, 35, 20, 9, 45], [123, 6, 37, 20, 157], [53, 165, 387, 148, 108, 297], [111, 2, 440, 3, 22, 117, 24, 663, 799], [37, 10, 48, 17, 40, 11, 707, 776, 2, 64, 2], [153, 64, 200, 620, 790, 501, 2, 28, 113, 841], [95, 2, 212, 471, 524, 126, 26, 5, 389, 835, 31, 67, 86, 2, 2, 287, 232], [52, 127, 9, 8], [32, 932, 758, 261, 32], [24, 22, 3, 403, 20, 1, 37, 20, 193, 30, 65, 978, 34, 184, 297], [73, 147, 63, 6, 221, 19, 64, 82, 470, 41, 211], [1, 55, 3, 230, 90], [38, 340, 39, 26, 31, 4, 352, 17, 63, 742], [87, 1, 16, 23, 14, 109], [6, 221, 19, 469, 281, 32, 8, 109, 21], [418, 60, 58, 254, 432, 233, 353, 413, 711, 552, 907, 213, 519, 1, 294, 147, 281, 87, 907, 353, 147], [6, 19, 15, 2, 119, 712, 136, 6, 16, 19, 50, 33, 93, 557, 5], [88, 88, 46, 22, 3, 78], [131, 64, 653, 293, 39, 22, 50, 72], [17, 654, 197, 19, 6, 140, 83, 19, 40, 83, 315, 19, 33, 177, 80, 29, 6, 68, 2, 339, 398], [242, 637, 12, 13, 68, 107, 138, 565, 721, 34, 86, 38, 916, 530, 269], [23, 963, 60, 76, 62, 76, 34, 8, 76, 325, 39, 29, 294], [123, 3, 84, 20], [58, 25, 58, 19, 73, 76, 477, 9, 363, 772, 82, 137, 275, 9, 73, 412, 32, 298, 823, 11, 502, 21], [25, 39, 494, 58, 109, 236, 558], [31, 25, 79, 28, 54, 1, 16, 2], [595, 24, 1, 521, 6, 364, 273, 715, 413, 6, 19, 129, 284, 60, 1, 41, 129, 410], [106, 156, 5, 271], [36, 696, 7], [8, 5, 287, 89, 327, 87, 25, 65, 428, 23, 448, 26, 64, 48], [313, 37, 834, 70, 334, 815, 196, 911, 2, 33, 93, 512, 5, 815, 357, 75, 918, 2, 21, 744, 339, 244, 115], [176, 780, 17, 231, 205, 12, 92, 44, 200, 20, 9, 4, 201, 997, 227], [85, 1, 224, 68, 158, 701, 84, 3, 8], [40, 9, 5, 367, 63, 39, 16, 534, 19, 203, 6, 6, 16, 191, 5, 136, 19, 119, 9, 424, 15, 60, 439, 227, 549, 350, 531, 390], [14, 241, 122, 582, 364, 4, 27, 5, 208, 265], [45, 73, 1, 19, 49, 41, 4, 445, 19, 647, 6, 221, 19, 67, 10, 72, 30, 147], [38, 18, 5, 141, 74, 24, 35, 23, 12, 5, 273, 5, 168, 16, 118, 200], [38, 823, 871, 8, 12, 20], [22, 3, 47, 21, 29, 1, 15, 21], [228, 58, 973, 790, 9, 307], [1, 831, 2, 515, 6], [145, 12, 823, 8, 56], [39, 16, 35, 6, 70], [12, 6, 68], [1, 388, 6, 127, 6, 732, 52, 254, 6, 83, 19, 10, 621, 6, 388, 6, 366], [278, 1, 833, 20, 68, 10, 46, 258, 251], [9, 60, 12, 722, 1, 26, 205, 12, 211, 38, 12, 151], [103, 58, 7, 669], [592, 13, 15, 3, 370, 84, 11, 595], [536, 3, 282, 503, 90, 313, 199, 25, 255, 22, 45, 24, 599, 10, 4, 68, 46, 258, 47, 554, 7, 79, 621, 132, 50, 9, 117, 7, 50, 560], [102, 507, 51, 137, 304, 12, 812, 56, 242, 568, 304, 13, 34], [11, 103, 149, 696, 371], [299, 32, 87, 344, 441, 11, 954, 11, 139, 10, 4], [724, 131, 72, 143, 118, 166, 21, 7, 38, 331, 96, 895, 56, 113, 359, 3, 44, 12, 14, 87, 45, 366, 2, 67, 339, 244, 2], [53, 491, 452, 52, 537, 5, 303, 587, 1, 436, 7, 3, 22, 11, 222, 338, 71, 225, 11, 66, 1, 333, 13, 207, 7, 148, 7, 55, 1, 3], [22, 3, 87, 34], [540, 2, 470, 27, 5, 45, 8, 217, 9, 505, 122, 58, 237, 27, 286, 717, 112], [893, 8], [3, 87, 27, 5, 624], [133, 387, 1, 70, 2, 134, 3, 148], [384, 386, 283, 945, 209, 47, 30, 509, 260, 75, 18, 374, 15, 719, 18, 755, 30, 993], [668, 50, 271, 200, 128, 7, 16, 163, 5], [131, 52, 537, 14, 128, 8, 65, 45, 72, 9, 56, 7, 396, 25, 1, 87], [47, 209, 47, 945, 47, 18, 374, 15, 719, 18, 755, 30, 15], [131, 378, 1, 16, 2], [99, 920, 128, 19, 465, 408, 155, 6, 30, 33, 735, 8, 14, 1, 465, 726, 24, 251], [9, 89, 130, 217, 105, 144], [21, 32, 78, 12, 281], [1, 233, 205, 5, 105, 160, 21, 107, 67, 4, 157], [131, 172, 12, 13, 706, 4, 23, 595], [1, 70, 2, 13, 21], [47, 115, 401, 51, 510, 176, 517, 222], [1, 836, 171, 110, 24, 3, 100, 80, 2, 31, 78, 48, 20, 235, 18, 4, 458, 124, 46, 5, 76, 292, 3, 16, 9, 5, 76, 3, 516, 184, 7, 347, 4, 585, 8, 18, 872], [38, 468, 25, 15, 10, 159, 113, 63, 300, 106, 3, 88], [3, 16, 71, 813, 8, 27, 176, 7, 43, 42, 2, 17, 28, 23, 30, 2, 550], [12, 101, 713, 400, 928, 16, 3, 118, 39, 29, 87, 269, 15, 47, 821, 30, 68, 96], [39, 16, 5, 7, 18, 5, 7, 1, 727, 8, 16, 4, 53, 17, 116], [415, 1, 372, 51, 440], [421, 3, 24, 127, 46, 39, 799, 7, 39, 361, 37, 5, 17, 13, 757, 132, 3, 22, 53, 3, 145, 39, 22, 206, 2, 342, 40, 9, 5, 157, 1, 196, 284, 715], [1, 272, 6, 252, 469, 19, 8, 137, 163, 73, 185, 1, 267, 82, 880, 9, 78, 19, 106], [57, 6, 154, 880, 49, 82, 205, 6, 73, 25, 1, 552, 411, 469, 19, 174], [453, 11, 825, 332, 2, 7, 135, 4, 292, 34], [61, 108, 19, 556, 98, 39, 236, 26, 186, 634, 19, 120, 6, 102, 218, 115, 33, 95, 215], [1, 61, 235, 1, 26, 31, 72, 27], [278, 25, 38, 204, 410, 97, 58, 2, 49, 12, 278, 7, 487, 12, 925, 12, 511], [1, 61, 8, 21, 78, 2, 385, 8, 4, 264, 358], [252, 80, 2, 293, 44, 451, 749, 109, 82], [34, 144, 43, 42, 12, 43, 588, 42, 130, 118, 2, 5, 365, 18, 43, 42, 27, 43, 63, 42, 43, 42], [707, 501, 2, 55, 126, 3, 27], [1, 61, 78, 2, 109, 27, 85, 109], [106, 13, 245, 54, 3, 392, 2, 28, 18, 62, 43, 42], [1, 61, 271, 51, 13, 71, 1, 151, 65, 142, 157], [145, 226, 58, 749, 278, 1, 59, 680, 29, 49, 12, 57, 2, 412, 219, 32, 47, 410, 7, 500, 4, 803, 219], [124, 124, 84, 3, 164], [622, 9, 4, 62], [22, 3, 8, 427], [149, 743, 645, 954, 73], [1, 15, 3, 97, 100, 16, 357, 35, 242, 10], [324, 324, 324], [3, 102, 139, 211, 90, 246, 43, 588, 42, 30, 5], [85, 79, 15, 97], [65, 45, 35, 697, 10, 6, 774, 156], [77, 213, 41, 10, 8, 580, 1, 294, 462, 201], [38, 340, 268, 2, 3, 97], [103, 50, 71, 39, 55, 43, 42, 689, 9, 5, 43, 42, 689, 320, 17, 92, 882, 39, 22, 2, 139, 4, 464, 18, 20, 62, 674, 140, 56, 2, 8, 20, 3, 22, 928, 102, 203, 92, 12, 129, 557], [1, 55, 3, 22, 25, 233, 89, 168, 16, 118, 7, 65, 35, 89, 607, 496, 2, 104, 104, 26, 7, 35, 3, 139, 104, 21, 89, 26, 36, 65, 4, 89, 130, 243, 442, 8, 4, 264, 284, 14, 26, 86], [133, 387, 1, 70, 2, 102, 3, 177, 124, 13, 333, 9, 11], [89, 155, 797, 28, 6, 295, 35, 1, 49, 446, 5, 12, 4, 549, 797, 1, 8, 4, 452, 89, 540, 48, 201, 515, 4, 82, 11, 490], [60, 641, 7, 851, 279, 24, 65, 172, 883], [595, 442, 311, 114, 56, 321, 76, 128, 82, 72], [299, 208, 86], [130, 143, 4, 385], [27, 74, 202], [145, 123, 3, 530, 306], [724, 92, 3, 290, 31, 2, 577, 12, 5, 3, 135, 2, 119, 12, 47, 95, 34, 133, 2, 40, 115, 2, 672, 48, 68, 86], [45, 20, 168, 186, 661, 35, 6, 83, 192, 110, 94, 474, 6, 70, 2, 28, 8, 48, 94, 44, 2, 6, 474, 94], [32, 142, 46, 1, 122, 1, 122, 8, 5, 457, 7, 270, 235, 543, 32, 27, 5, 1, 225, 270, 235, 46, 258, 177, 62, 9, 641], [1, 526, 819, 104, 11, 105, 2, 199, 799, 6], [61, 428, 26, 220, 31, 200, 50, 5, 240], [290, 186, 25, 14, 146, 16, 129], [13, 902, 517, 9, 12, 67, 86, 2, 247, 637], [131, 452, 54, 17, 20, 62, 38, 331, 51, 3, 40, 165, 18, 1, 110, 17, 3], [52, 127, 83, 77, 2, 475], [29, 6, 10, 125], [32, 298, 120, 77, 72], [170, 11, 707, 9, 618, 967, 34, 11, 9, 56, 19, 358, 505], [680, 17, 6, 215], [76, 62, 4, 59, 18, 5, 731, 5, 540, 82, 5, 17, 5, 525, 307, 11, 817, 311, 83, 6, 11, 539, 4, 59, 33, 2, 3, 316, 311, 1, 14, 230, 304, 625, 6, 198, 744], [1, 527, 39, 49, 48, 82, 16, 113, 359, 24, 8, 427, 30, 179, 952, 45], [541, 2, 13, 105, 84, 10, 271, 7, 36, 12, 3, 560, 68, 541, 2, 21, 75, 187, 280, 366], [9, 20, 54, 63, 3, 70, 10, 2, 64], [157, 463, 812, 12, 902, 90, 9, 13, 648, 62, 19, 167, 48, 162, 813, 510, 138, 176, 72, 9, 4, 808, 903, 981, 3], [47, 115, 167, 4, 8, 13, 17, 334, 305, 22, 248, 2, 199, 21, 67, 199, 2, 67, 244, 227, 115], [1, 313, 385, 20, 484], [216, 216, 43, 42], [14, 9, 60, 630, 433, 433], [381, 169, 446, 21, 5, 987, 20, 69, 230, 17, 14, 7, 44, 34, 7, 396, 50, 200, 217, 177, 358], [32, 865, 666, 608, 858, 7, 852, 673, 446, 10], [117, 32, 78, 2, 31, 142], [54, 63, 28, 6, 37, 48], [85, 59, 8, 5], [145, 169, 988, 4, 49, 2, 4, 484, 7, 31, 74, 81, 595], [242, 637, 12, 13, 68, 107, 138, 565, 721, 34, 86, 38, 916, 530, 269], [562, 121, 297, 254, 891, 12, 19, 9, 635, 15, 21, 120, 266, 50, 41, 47, 98, 189, 48], [111, 1, 59, 271, 94, 3, 36, 55, 20, 4, 662, 7, 285, 56, 3, 26, 16, 60, 5, 240, 8, 173, 55, 20, 6, 83, 662, 7, 66, 9, 635], [85, 79, 15, 97, 43, 42, 260], [24, 6, 221, 19, 64, 12, 92, 349, 219, 4, 23], [539, 927, 725, 92, 261, 772, 46, 194, 9, 8, 14, 25, 14, 172, 46, 194, 14, 926], [528, 32, 48, 16, 4, 53, 124], [46, 1, 3, 59, 5, 396, 58], [65, 4, 91, 14, 34, 3], [153, 708, 170], [36, 520, 349, 3], [1, 272, 1, 252, 469, 1, 49, 330, 57, 106, 77], [324, 85, 59, 8, 5, 809], [380, 941, 6, 321, 79, 186, 555, 41, 18, 24, 582, 469, 129, 63, 19, 174, 44], [508, 132, 6, 83, 207], [1, 98, 65, 4, 875, 581, 447, 211], [99, 54, 3, 110, 94], [32, 87, 487, 12, 4, 319, 2, 231, 7, 16, 23, 978, 511, 585, 236], [25, 79, 186, 78, 19, 580, 18, 11, 706, 80, 19, 91, 647], [1, 100, 55, 6, 7, 6, 100, 55, 10, 67, 199, 2, 679, 21, 7, 167, 983, 275, 60, 187, 115, 974, 898, 899, 718, 280, 723, 30, 200], [43, 42, 17, 34, 793, 114, 465, 198, 321, 1, 196, 423, 19, 6, 6, 698, 37, 198, 547, 18, 872, 81, 125, 285, 3, 56, 7, 164, 26, 31, 5, 240, 62, 17, 13, 173, 98, 651, 40, 35, 3, 651, 3, 26, 67, 40, 2, 43, 42, 877, 8, 43, 42, 260, 6, 725], [53, 165, 11, 103, 16, 4, 111, 158, 62], [45, 32, 214, 666, 44, 2, 8, 56, 358], [132, 3, 22, 344, 4, 111, 108, 28, 333, 3, 5, 172, 240, 3, 22, 473, 12], [20, 39, 146, 169, 262, 2, 84, 35, 550, 619, 29, 31, 92, 535, 246, 39, 2, 4, 586], [14, 26, 86, 18, 1, 89, 34, 194, 20, 26, 31, 434, 2, 139, 12, 177], [3, 26, 31, 8, 5, 238, 17, 20, 310], [198, 198, 88, 682, 181, 270, 117, 198, 744], [233, 110, 17, 550, 34, 360, 230, 523, 17, 11, 666], [188, 354, 57, 77, 23, 78, 74, 41, 349], [182, 13, 93, 144, 130, 118, 323, 34, 4, 596, 136, 253, 15, 51, 675, 274, 119, 476, 623, 60, 369], [316, 302, 387, 1, 26, 13, 368, 8, 569, 670], [906, 85, 410, 1, 120, 33, 115, 23, 677, 163, 354, 10, 326, 356, 21, 6, 87, 8, 456], [1, 327, 49, 19, 580, 844, 27, 137, 21, 266], [102, 77, 58, 63], [99, 128, 175, 1, 16, 5, 301, 555, 96, 232, 81, 7], [278, 710, 228, 118, 2, 948, 4, 814, 478, 140, 237], [1, 123, 76, 7, 76, 170], [316, 302, 7, 7, 608], [1, 110, 668, 78, 2, 21, 64], [188, 73, 9, 89, 237], [7, 483, 13], [45, 378, 38, 80, 2, 616, 34, 54, 3, 155], [3, 16, 191, 4, 253, 559, 30, 395, 257, 355, 152, 2, 119, 33, 559, 15, 47, 18, 821, 280, 65, 4, 144, 147, 28, 6, 110], [1, 135, 960, 6, 4, 489, 113, 567, 246, 65, 492], [32, 23, 192, 1, 59, 36, 48, 54, 59, 251, 5], [103, 118, 2, 40, 9, 92, 600, 551, 2, 203, 6, 75, 199, 2, 679], [45, 302, 84, 226, 57], [65, 36, 5, 17, 36, 14], [26, 3, 56, 2, 31], [497, 41, 905, 10, 74], [278, 20, 59, 5, 222, 285, 1, 59, 214, 154], [22, 72, 640, 183, 10, 55, 102, 185, 1, 169, 80, 2, 372, 503], [3, 241, 16, 921, 10, 1, 3, 368], [168, 169, 35, 3, 15, 10, 36, 80, 194, 2, 268, 2], [182, 39, 22, 373, 2, 203, 6, 716, 314, 399, 20, 3, 16, 191, 4, 136, 253, 15, 51, 675, 274, 119, 476, 623, 60], [57, 39, 213, 41, 6, 73, 38, 80, 19, 210, 377, 354], [638, 56, 179, 20, 194, 10, 168], [8, 382, 525, 308, 106, 10, 5, 962, 12, 423, 492, 1, 29, 418, 18, 11, 159, 352, 17, 82, 251, 89, 155, 5], [92, 505, 184, 124, 12, 104, 7, 518], [117, 298, 37, 5, 650, 401, 30, 477, 18, 93, 68, 223, 30, 2, 21, 672, 48, 75, 86, 339, 244], [32, 27, 122, 102, 15], [844, 1, 572, 19, 6, 25, 235, 163, 1, 126, 58, 3, 35, 6, 154, 10, 885, 69, 154, 10, 57, 79, 49, 48, 645, 6, 50, 73, 82, 6, 87, 29, 24, 334], [12, 33, 328, 2, 212, 4, 846, 152, 177, 309, 75, 2, 601, 138, 356, 309], [153, 59, 4, 6, 578, 540, 120, 226], [811, 326, 356, 27, 74, 23, 78, 48, 266, 554], [54, 867, 8], [118, 211, 543, 23, 21, 175, 2, 13, 812, 39, 26, 156], [145, 50, 16, 2, 64, 371], [674], [956], [3, 202, 361, 37, 99, 99, 99, 99, 99], [131, 736, 2, 5, 305, 18, 5, 9, 81, 5, 287, 17, 5, 325, 18, 5, 268, 97], [335, 73, 4, 291, 554, 112, 57, 311, 252, 6, 49, 74, 466, 19, 270, 90], [71, 8, 44, 44], [53, 38, 80, 101, 298, 909, 133, 102, 106, 104, 144, 1, 241, 621, 104], [35, 258, 680, 17, 10, 76, 57, 38], [22, 3, 40, 127], [441, 11, 518], [1, 59, 94, 2, 28, 14, 46, 1, 1, 633, 4, 273, 63, 715, 7, 7], [1, 329], [88, 57, 22, 3, 237, 2, 292], [3, 29, 206, 255, 3, 70, 2, 394, 97], [978, 159], [1, 342, 326, 7, 7, 188, 7, 3], [131, 218, 14, 23, 4, 485, 91, 181], [52, 3, 1, 422, 106, 188, 2, 3, 440, 159, 1, 422, 268, 2, 3], [197, 478, 39, 92, 240, 908, 39, 22], [1, 26, 31, 450, 220, 3, 26, 31, 618, 50, 43, 42, 930, 13], [175, 968, 25, 87, 579, 833, 188, 1, 26, 218, 14, 4, 291, 24, 23, 19, 151, 7, 26, 262, 97, 111, 175, 132, 9, 87, 72], [8, 243, 238, 1, 29, 37], [29, 3, 183, 10, 55, 557, 17, 761, 46, 6, 167, 48, 185, 32, 23, 8, 30, 761, 175], [71, 4, 3, 22, 488, 2, 318, 4, 583, 37, 14, 2, 13, 75, 5, 331, 45, 2, 38, 2, 119, 187, 115], [3, 327, 70, 2, 48, 129, 36, 8, 914, 7, 36, 392, 18, 23, 14, 35, 3, 29, 1, 100, 16, 127, 8, 7, 204], [162, 100, 3, 213, 27, 820, 2, 84, 35, 3, 37, 13], [801, 371, 272, 735, 29, 35, 252, 16, 18, 272, 16, 2, 563, 137, 803, 137, 9, 27, 783, 896, 6, 695], [117, 63, 2, 134, 406], [38, 852, 36, 37, 4, 373, 2, 14, 48, 6, 29, 10, 2, 28, 5, 1, 874, 576], [107, 49, 34, 1, 36, 572, 2, 31, 192, 28, 16, 4, 111, 337], [107, 28, 10, 4, 107, 11, 320, 2, 107, 90, 9, 104, 320], [32, 298], [302, 388, 25, 266, 860, 19, 620, 1, 16, 118, 751, 765, 17, 50, 309, 39, 16, 58, 92, 637, 27, 5, 91, 181, 215], [117, 823, 8, 12, 4, 485, 903], [65, 36, 20, 40, 9, 33, 144, 24, 9, 14, 171, 186], [173, 365, 38, 102], [176, 625, 3, 67, 47, 7, 459, 161, 905, 40, 157, 51, 72, 28, 3, 84, 5, 12], [4, 291, 17, 33, 263, 9, 11, 4, 599, 17, 33, 9, 11, 4, 383, 17, 33, 261, 9, 11, 173, 4, 261, 56, 669, 698, 181, 12, 6, 71, 11], [6, 16, 4, 759, 140, 9, 487, 19, 134, 203, 34, 6, 167, 48, 140, 114, 83, 904, 140, 779, 33, 24, 254, 15, 18], [197, 197, 148, 17, 125, 62, 11, 103, 346, 261, 148, 320, 103], [170, 1, 16, 2, 91, 14, 52, 1, 155, 11, 370, 752, 12, 286, 982, 143, 620, 1, 9, 5, 60, 141, 2, 156], [664, 14, 130, 867, 9, 21, 341, 5, 211, 2, 612, 25, 100, 701], [398, 9, 3, 2, 31, 217, 296, 95, 133, 30, 38, 84, 151, 138, 242, 6, 86, 67, 86, 817, 2], [44, 2, 77, 77, 221, 64, 57, 64, 73, 25, 1, 120, 101], [52, 197, 379, 14, 91, 2, 37, 2, 5, 17, 4], [1, 26, 64, 164], [437, 53, 165, 132, 3, 135, 4, 53, 337, 1, 336, 2, 183, 3, 55, 20, 1, 59, 434, 2, 43, 42, 51, 11, 444, 69, 155, 69, 168, 134, 5, 640, 81, 40, 9, 87, 363, 7, 1, 59, 3, 168, 269, 28, 16, 4, 53, 62], [12, 10, 5, 66, 146, 372, 34, 1, 146, 210, 20, 1, 80, 104, 177, 63, 251, 10, 89, 146, 31, 5, 222, 250, 243, 513, 8, 11, 1, 168, 372, 5, 62, 7, 287, 14, 34, 104, 89, 146, 31, 72, 177, 63, 1, 994, 66, 26, 31, 57, 46, 11, 177, 130, 104, 289, 11, 173, 146, 573, 251, 104, 11, 173, 26, 31, 2, 104, 1, 168, 12, 104, 26, 139, 50, 11, 826, 7, 91, 50, 104, 1, 26, 31, 315, 2, 34, 550, 12, 104, 1, 26, 31, 8, 66, 46, 1, 26, 31, 149, 5, 255, 12, 104, 66, 26, 31, 46, 1, 100, 16, 2, 550, 20, 11, 308, 9, 5, 454, 539, 18, 5, 771, 1, 26, 225, 31, 12, 104, 66, 26, 31, 46, 1, 372, 44, 520, 7, 287, 44, 173, 26, 31, 5, 454, 539, 57, 26, 37, 177, 165, 7, 421, 402, 12, 5, 62, 376, 89, 9, 34, 10, 1, 168, 56, 2, 150, 4, 352, 26, 106, 97], [54, 277, 568, 594], [852, 23, 101, 129, 714, 51, 5, 199, 12, 47, 637, 68, 49, 2, 35, 6, 37, 335, 6, 589, 767, 34, 699, 357, 262, 193], [1, 633, 11, 281, 163, 6, 436, 44, 163], [32, 27, 74, 25, 23, 185, 251, 300, 425, 2, 3, 97, 756, 478, 7, 301], [1, 233, 205, 5, 105, 160, 21, 107, 67, 4, 157], [133, 39, 22, 112], [103, 58, 375, 2], [300, 15, 3, 457, 300, 113], [5, 838, 7, 588, 614, 57, 12, 5, 5, 588, 56, 1, 3], [108, 495, 40, 116, 121, 50, 19, 166, 26, 2, 629, 18, 208, 157], [53, 62, 2, 3, 112, 12, 10, 917, 5, 71, 65, 275, 301], [131, 111, 2, 244, 81, 256, 290], [27, 74, 326, 356, 73], [7, 3, 7, 1, 84, 39, 29, 87, 44, 112], [39, 534, 2, 203, 3, 592, 13, 95, 2, 92, 386, 17, 545, 260, 4, 108, 348, 105, 15, 21, 30, 95, 12, 47, 606, 164], [1, 61, 8, 4], [627, 627, 907, 134, 293, 17, 137, 824, 278], [131, 7, 1, 22, 78, 2, 5, 731, 7, 344, 4, 814, 17, 1, 727, 546, 139, 10, 4, 46, 226, 294], [3, 58, 336, 4], [562, 216, 5, 644], [32, 225, 18, 21, 36, 67, 5, 157, 2, 10, 7, 1, 526, 37, 14, 3, 290, 16, 2, 67, 14, 8, 5, 93, 25, 1, 526, 37, 14, 7, 26, 95], [117, 500, 23, 4, 352, 17, 255, 8, 18, 108, 723, 113, 8, 7, 5, 966, 130, 179, 78], [3, 214, 621, 40, 337, 30, 474], [5, 17, 4, 490, 98, 14, 1, 61, 373, 71, 112, 625, 84], [170, 45, 79, 104, 112], [145, 9, 14, 67, 10, 5, 594], [1, 70, 143, 36, 7], [347, 4, 814, 567], [45, 73, 115, 10, 885, 6, 15], [625, 293, 14, 208, 116, 387], [494, 435, 21, 73, 1, 451, 60], [145, 153, 7, 11, 36, 48, 5], [145, 207, 79, 31, 81, 219], [869, 6, 11, 59, 18, 530, 514, 6, 10, 4, 229, 71, 161, 192, 6, 123, 19, 120, 8, 6, 388], [52, 94, 7], [170, 1, 55, 131, 194, 123, 4, 111, 17, 18, 5, 1, 66, 14], [277, 11, 66, 54, 22, 3, 149, 123, 3, 37, 2, 20, 90, 22, 3, 3, 148, 22, 3, 307, 4, 53, 382, 28, 3, 110, 17, 10, 22, 3, 659, 10], [333, 6, 197, 197, 17, 5, 62, 148, 320], [135, 13, 93, 929, 453, 12, 47, 2, 283, 477, 306, 824, 337, 406, 15, 93, 18, 755, 30], [226, 45, 57, 135, 349], [88, 88, 420, 135, 13, 281], [299, 762, 147, 6, 169, 578, 120, 137, 115, 1, 196], [22, 3, 237, 2, 62, 12, 292], [182, 463, 812, 12, 902, 90, 9, 13, 648, 62, 19, 167, 48, 162, 813, 510, 138, 176, 72, 9, 4, 808, 903, 981, 3], [590, 660, 212, 4, 471, 998, 136, 35, 6, 55, 140, 5, 108, 17, 26, 31, 75, 104, 222, 289, 2, 86, 339, 244], [299], [85, 94, 804, 48, 22, 3, 251, 2, 268, 159, 419, 30, 28, 3, 412, 16, 4, 173, 170], [39, 29, 49, 41, 137, 159, 92], [148, 108, 297, 387], [33, 152, 953, 9, 871, 482, 577, 2, 33, 152, 8, 21, 67, 49, 2, 679, 60, 187, 115, 974, 898, 899, 718], [436, 44, 346, 165, 3, 342, 40, 62, 34, 613, 17, 198, 760], [29, 1, 174, 77, 27, 201, 71, 41, 126, 18, 126, 77, 221, 19, 8, 73], [107, 28, 10, 4, 107, 11, 320, 2, 107, 831, 626, 14, 90, 9, 104, 320], [984, 403, 561, 984, 7, 44, 41, 14, 21, 15, 36, 439, 190, 2, 86, 438, 15, 439, 190], [153, 239, 5, 1, 58], [90, 9, 62, 6, 10, 71, 609, 639, 991, 38, 859, 442], [228, 827, 41, 11, 413], [45, 57, 83, 39, 265, 97], [299, 143, 27, 1, 494, 776, 19, 711, 236, 969], [175, 12, 13, 401, 629, 144, 13, 93, 26, 31, 912, 244, 146, 13, 223, 23, 102, 15, 247, 637, 18], [409, 79, 154, 4, 264, 17, 11], [207, 28, 3, 394, 10], [634, 24, 52, 28, 3, 5, 460, 5], [1, 398, 8, 405, 19], [29, 3, 150, 54, 573], [153, 500, 363, 4, 291, 408, 79, 81, 164, 46, 1, 37, 44], [737, 1, 150, 20, 1, 36, 370, 725, 188, 446, 141, 6, 1, 100, 56, 19, 31, 1, 20, 12, 8, 5, 590], [1, 70, 113, 11, 505, 1, 80, 4, 334, 310, 19, 10, 75, 490, 2, 12, 38, 75, 86, 19, 287, 75, 339], [53, 165, 615, 15, 10, 437], [76, 340, 21], [135, 13, 93, 929, 453, 12, 47, 2, 283, 477, 306, 824, 337, 406, 15, 93, 18, 755, 30], [145, 160, 45, 79, 134, 192, 20, 1, 28, 765, 17, 122, 5, 62, 58, 4, 169, 90, 7, 9, 82, 24, 20, 146, 169, 269, 14], [102, 106, 10, 3, 16, 113, 17, 20, 254, 3, 282, 837, 94], [45, 239, 111, 497, 4, 352], [655, 13, 856, 365, 738, 12, 399, 784, 785, 857, 216, 1, 398, 614, 15, 786, 430, 739, 461, 915], [35, 3, 128, 8, 5, 208, 43, 42, 567, 11, 396], [98, 205, 44, 125, 15, 46, 179, 463, 9, 72, 2, 106], [716, 838, 34, 22, 488, 2, 4, 318, 4, 559, 35, 13, 144, 15, 2, 318, 13, 559], [164, 69, 48, 27, 201, 217, 122, 9, 81, 13, 317, 24, 69, 29, 174, 6], [170, 1, 59, 214, 184, 325, 1, 113, 8, 25, 1, 408, 43, 42, 36, 8, 914, 1, 59, 129, 5, 116, 620, 114, 14, 18, 5], [7, 43, 42, 59, 38, 269], [13, 214, 31, 5, 35, 10, 32, 214, 218, 4, 20, 404, 65, 50, 10], [162, 5, 479, 9, 944, 8, 427], [79, 205, 3, 44, 27, 94, 201, 2, 49, 2, 35, 3, 87, 70, 2, 64], [54, 56, 104], [36, 24, 20, 3, 55, 196, 204, 236, 1, 36, 196, 104, 4, 68, 23, 2, 905, 24, 65, 200, 3, 98, 16, 2, 507, 8, 188, 1, 16, 188, 18, 3, 8, 5, 222, 238, 24, 12, 20, 1], [638, 111, 161, 78, 2, 270, 21, 16, 4, 53, 124], [166, 47, 438, 167, 48, 94, 13, 66, 173, 21, 262, 166, 12, 47, 68, 328, 2, 256, 60, 159, 166, 47, 714, 339, 244, 983], [52, 22, 6, 1, 16, 516, 6, 1, 494, 118, 44, 19, 127, 4, 291, 554, 34, 5, 279, 70, 19, 49, 19, 766, 677, 14, 560], [3, 16, 191, 71, 4, 770, 247, 92, 923, 130, 3, 2, 212, 4, 995, 136, 2, 429, 9, 424, 36, 15], [133, 46, 9, 5, 193], [30, 77, 49, 231, 441, 151, 57, 1, 174, 77, 97, 29], [57, 162, 3, 540, 2], [1, 91, 14, 5, 593, 130, 64, 57, 3, 589, 16, 17, 438, 21, 148, 976, 11, 76, 51, 277, 27, 5, 287, 9, 11, 151], [88, 29, 20, 573, 219], [15, 10, 46, 6, 294, 57, 1, 64, 82, 205, 6], [131, 180, 85, 1, 370, 37, 29, 64, 7, 14, 620, 69, 779, 69, 54, 14, 9, 25, 69, 843, 49, 71, 999, 4, 7, 69, 404, 14, 26, 407, 43, 42, 1, 100, 55, 35, 14, 327, 31, 2, 167, 194, 72, 39, 100, 16, 101, 753, 819, 27, 50, 160, 21, 183, 10, 55, 54, 3, 70, 2, 28, 180], [5, 384, 632, 9, 5, 384, 115, 9, 66, 5, 384, 9, 465, 4, 325, 158, 333, 6, 939, 384], [126, 22, 3, 15, 10], [109, 60, 1, 540, 2, 74], [9, 640, 114, 205, 44, 7, 599, 27], [32, 27, 74, 82, 315], [1, 61, 4, 8, 5, 998, 7, 4, 8, 5, 9, 20, 3], [132, 23, 344, 112, 127, 359, 417, 10, 84, 6, 164, 66, 215], [324, 3, 251, 36, 58, 11, 319, 96], [259, 8, 11, 389, 3, 33, 33, 263, 33, 33, 367, 33, 242, 7, 416, 33, 661, 692, 53, 165, 103], [1, 380, 74, 1, 49, 950, 222, 25, 11, 706, 565, 106, 6, 46, 89, 88], [39, 22, 584, 207, 175], [12, 101, 257, 35, 3, 16, 377, 928, 15, 176, 18], [38, 80, 354, 1, 49, 185, 11, 706, 27, 90], [175, 12, 848, 44, 5], [77, 252, 221, 2, 385], [153, 192, 139, 10, 4, 814, 358, 2, 206, 11], [1, 132, 13, 528, 180, 1, 486, 20, 3, 327, 16, 938, 4, 291, 46, 3, 5, 303, 59, 4, 1, 61, 128, 248, 46, 3, 64, 96, 11, 66], [655, 13, 856, 365, 738, 12, 399, 784, 785, 857, 216, 1, 398, 614, 15, 786, 430, 739, 658, 915], [1, 21, 266, 984], [52, 697, 520, 113, 17, 5, 541], [402, 37, 53, 270, 11, 103, 1, 26], [11, 761, 371, 627, 73, 533, 41, 11, 418, 49, 159], [153, 79, 262, 2, 179, 44], [1, 579, 3, 1, 327, 16, 4, 814, 2, 67, 3, 164, 88, 1, 66, 226, 112], [216, 109, 83, 43, 42], [50, 137, 240, 41, 33, 511, 411], [5, 83, 96, 91, 20, 195, 212, 943, 563, 34, 556, 75, 556, 2, 740, 681], [6, 192, 6, 224, 91, 101, 63], [346, 39, 290, 30, 290, 23, 49, 2, 948, 2, 174, 825, 24, 8, 20], [123, 6, 318, 11, 115], [1, 100, 55, 6, 7, 6, 100, 55, 10, 67, 199, 2, 679, 21, 7, 167, 983, 275, 60, 187, 115, 974, 898, 899, 718, 280, 723, 30, 200], [5, 987, 20, 258, 399, 3, 55, 162, 32, 13, 9, 54, 1, 70, 2, 28, 23, 54, 1, 80, 2, 28], [1, 336, 7, 155, 50, 2, 151, 57, 69, 16, 2, 643, 40], [3, 22, 307, 81, 92, 676, 232, 81, 194, 3, 55, 2, 167, 48, 140, 14, 9, 15, 51, 4, 675, 274], [483, 33], [1, 949, 74, 8, 5, 312], [1, 58, 12, 27, 1, 396, 3, 23, 43, 63, 42, 631], [268, 2, 397, 7, 215, 94, 20], [91, 179, 12, 508, 35, 14, 2, 101, 795, 8, 5, 208, 84, 4, 933], [36, 64, 74, 1, 100, 70, 6, 2, 31], [664, 170, 1, 516, 92, 617, 184, 116], [21, 959, 109], [170, 1, 169, 80, 2, 394, 2, 353, 46, 32, 25, 1, 28, 3, 10, 757, 20, 124, 180], [50, 298, 50, 8, 100, 55, 35, 646, 8, 71, 25, 316, 54, 32, 149], [479, 180, 1, 189, 3, 127, 1, 333, 3, 282, 128, 2, 270, 34, 10, 11, 529, 9, 24, 1, 49, 21, 2, 270, 2, 994, 17, 3, 11, 66], [51, 128, 159, 5, 559, 9, 177, 481, 325, 23, 12, 76, 325], [1, 70, 2, 13, 806], [317, 9, 5, 542, 5, 310, 59, 18, 43, 42, 689, 71, 279, 50, 22, 593, 456, 732], [479, 180, 1, 189, 3, 163, 3, 55, 224, 3, 183, 10, 67, 3, 113, 204, 13, 565, 1, 80, 3, 1, 70, 3, 1, 3], [180, 52, 537, 20, 62, 54, 22, 3, 44, 2, 1, 189, 3, 163, 11, 66, 882, 391, 1, 132, 448, 537, 117], [327, 117, 161, 72], [409, 32, 8, 4, 360, 24, 68, 10, 46, 258, 18, 5, 141], [29, 3, 615, 106, 10, 5, 196, 931, 176], [6, 185, 55, 83, 751, 27, 287, 6, 8, 621, 10, 35, 33, 480, 66, 366], [85, 420, 1, 98, 649, 140, 420], [153, 170, 1, 370, 16, 4, 56, 3], [53, 165, 387, 52, 22, 3], [114, 83, 4, 753, 328, 2], [737, 737, 135, 206, 2, 5, 46, 3, 277, 10, 277], [616, 193, 143, 137, 76, 208, 2], [300, 15, 6, 27, 34, 11, 594, 20, 422, 86, 10, 19, 377, 88, 906], [89, 216, 53, 89, 59, 878, 35, 3, 422, 150, 99, 25, 89, 216, 720, 21, 24, 52, 22, 3, 34, 5, 273], [335, 127, 27, 74, 101, 392], [103, 53, 165, 21, 60, 1, 61, 44], [108, 199, 19, 403, 8, 33, 41, 36, 47, 19, 318, 587, 30, 27, 176, 75, 76, 289, 2, 86, 19], [50, 638, 53, 532, 14, 883, 2, 741], [437, 1, 61, 248, 12, 13, 15, 362, 47, 102, 15, 10], [65, 45, 11, 9, 561, 1, 58, 4, 24, 39, 29, 49, 405, 63], [131, 9, 558, 6, 522, 9, 20, 50], [61, 237, 18, 165, 43, 588, 42, 300, 31, 72, 8, 57, 39, 526, 49, 2, 456, 95, 10, 159, 540, 2, 74], [1, 80, 2, 64, 74, 7, 139, 3, 113, 53], [16, 58, 264, 255, 2, 28, 290, 31, 8, 590, 97], [85, 79, 15, 97], [183, 72, 31, 183, 72, 31, 40, 792, 17, 742, 24, 29], [895, 56, 2, 106, 3, 11, 15, 10, 36, 190, 2, 86, 438, 15, 390], [44, 33, 538, 34, 4, 498, 17, 209, 597, 157, 460, 4, 47, 223, 75, 787, 2, 636], [273, 73, 6, 344, 349, 21], [22, 39, 149, 5, 164, 1, 294, 36, 4, 41, 185, 17, 894, 80, 2, 301, 48, 27, 113, 687, 789, 58, 51, 90, 935, 553, 287, 24, 1, 288, 37, 855, 18], [1, 380, 132, 65, 433, 20, 10, 185, 32, 169, 151, 3, 579, 298, 188, 2, 210, 94, 236], [425, 60, 46, 3, 210, 13, 574, 22, 288, 341, 5, 198, 760], [32, 23, 89, 34], [51, 201, 2, 19, 60, 11, 122], [123, 3, 150, 57, 97, 30, 76, 7], [278, 735, 558, 6, 55, 10, 117, 109, 561, 17, 307, 81, 194, 9, 709, 73, 6, 49, 167, 76, 57, 50, 8, 92, 413], [444, 332, 48, 827], [479, 14, 32, 2, 566], [111, 108, 386, 509, 260, 509, 75, 18, 240, 374, 7, 37, 283, 306, 729, 41, 47, 15, 719, 47, 18, 755, 21, 30, 171, 322], [11, 105], [88, 88, 22, 3, 8, 766], [8, 243, 238, 28, 3, 70, 109], [28, 6, 431, 37, 4, 8, 13, 666, 12, 38, 7, 14, 665, 49, 505, 553, 6, 2, 14, 56, 201, 478], [14, 9, 57, 428], [411, 57, 77, 354, 97, 1, 64, 82, 120, 354, 735, 77, 578, 605, 77, 58, 109, 269, 441, 77], [38, 58, 108, 303, 27, 8, 18, 41, 449, 25, 442, 38, 8, 178, 8, 570], [10, 202, 109, 1, 210, 630, 124, 213, 553, 124, 103], [85, 79, 15, 97], [913, 583, 254, 482, 577, 17, 913, 506, 2, 31, 191, 36, 492, 41, 424, 754, 343, 21, 67, 913, 2, 679, 129, 681, 138, 334, 176], [32, 8, 427, 21, 24, 79, 380, 91, 896, 206, 97], [88, 3, 22, 5, 60, 308, 248, 8, 371], [72, 150, 99, 2, 92], [627], [1, 29, 154, 251, 25, 500, 23, 4, 352, 8, 936, 17, 44, 128], [320, 90, 1, 333, 151, 2, 37, 129], [3, 7, 13, 518, 939, 215, 7, 148, 108, 297, 8], [32, 78, 2, 11, 378, 32, 78, 2, 31, 235, 410], [22, 3, 160, 54, 933, 155, 420, 126, 22, 3], [61, 326, 317, 172, 61, 271, 5, 771, 250, 257, 34, 5, 34, 5], [262, 2, 28, 179, 103, 3, 725, 179, 12], [26, 485, 69, 9, 605], [11, 639, 481, 8, 630], [79, 31, 8, 580, 796, 41, 286, 1, 252, 469, 109, 563, 8, 580, 143, 27, 74], [71, 227, 13, 986, 130, 118, 605, 71, 13, 12, 50, 959, 419, 2, 13, 245], [8, 580, 25, 578, 295, 6, 353, 416, 73], [589, 64, 97, 1, 950, 151, 8, 109, 491, 889], [85, 79, 15, 97], [52, 22, 3, 44], [243], [111, 387, 1, 66, 7, 9, 11, 52, 94, 3, 1, 342, 520, 66, 43, 42, 478, 227, 124], [278, 153, 19, 9, 792, 17, 4], [117, 178, 8, 295, 228, 60, 58, 496, 868, 12, 76, 129, 617, 4, 17, 152], [148, 320, 2, 3, 103, 34, 828, 17, 66], [126, 9, 14, 9, 72, 101, 12], [1, 55, 32, 18, 454, 17, 40, 557, 25, 12, 5, 454, 383, 32, 23, 94, 20], [6, 10, 300, 225, 186, 128, 948, 1, 19, 611, 6, 25, 1, 304, 52, 6, 938, 94, 10, 46, 54, 1, 6], [354, 38, 80, 231, 24, 466, 185, 35, 231, 21, 1, 847, 918, 11, 319], [84, 1, 3, 4, 651, 4, 264, 478, 2, 3, 225, 2, 189, 1, 59, 214, 3, 76, 25, 4, 484, 9, 23, 214, 37, 48, 553, 159, 19, 3, 80, 2, 64, 74, 3, 80, 2, 7, 35, 188, 3, 80, 2, 186], [92, 6, 395, 2, 577, 8, 12, 5, 3, 135, 2, 119, 41, 47, 95, 34, 119, 2, 40, 115, 19, 86, 75, 86], [402, 33, 24, 321, 254, 26, 674, 81, 33, 21, 615, 98, 154, 311, 69, 24, 127, 447], [132, 3, 22, 561, 111, 107, 10, 8], [32, 72, 7, 1, 29, 84, 3, 25, 3, 224, 84, 10, 395, 3, 146, 1, 921, 5], [11, 245, 293, 2, 15, 5, 249], [576, 329, 114, 584, 58], [85, 8, 265, 79, 15, 97], [920, 9, 40, 13, 105, 87, 65, 51, 766, 7, 54, 22, 3, 44, 2, 21], [182, 182, 39, 16, 784, 47, 2, 2, 139, 505, 15, 885, 91, 4, 296, 41, 47, 15, 21, 2, 119, 18], [45], [204, 1, 16, 191, 144, 474, 28, 1, 28, 208], [103, 91, 181, 1, 61, 36, 74, 66, 6, 4, 352], [52, 127, 22, 39, 271], [277, 243, 5, 2, 768, 65, 182, 107], [153, 192, 79, 218, 8, 4, 190], [22, 3, 2, 49, 12, 292], [26, 28, 59, 18, 40, 165, 112, 127, 7, 3, 270, 117, 112], [45, 1, 28, 6, 55, 1, 58], [627, 497], [103, 1, 205, 15, 206, 758, 21, 27, 74, 408, 93, 8, 319, 148], [277, 991, 52, 537, 20, 108, 303, 22, 3, 72, 21, 22, 3, 148, 28, 3, 110, 17, 10, 1, 436, 11, 7, 67, 3, 4, 391, 51, 934, 5, 731], [50, 26, 31, 117, 8, 4, 264, 982], [5, 375, 27, 43, 42], [117, 65, 23, 56, 3, 412, 336, 194, 4, 20, 118], [68, 2, 2, 84, 407, 187, 280, 366], [1, 59, 214, 154, 3, 170, 25, 1, 110, 65, 27, 259], [145, 1, 59, 17, 533, 27, 461, 418, 38, 2, 49, 27, 166, 418, 29, 2, 41, 627, 73, 6, 15, 10, 46, 315], [39, 276, 8, 5, 208, 43, 42, 260], [20, 24, 54, 28, 3, 58, 12, 13, 324, 1, 61, 13, 324, 1], [85, 79, 15, 97], [575, 979, 43, 42, 12, 19], [1, 56, 2, 110, 500, 225, 5, 17, 307, 8, 4, 590, 97], [53, 491, 52, 20, 62, 22, 39, 7, 148, 2, 31, 28, 39, 8, 5, 7, 263, 1, 110, 17, 3, 11, 66, 71, 225], [162, 468, 3, 487, 53, 60], [], [379, 763, 269, 8], [43, 42, 358, 59, 201, 358, 715], [423, 9, 1, 380, 493, 33, 548, 8, 914, 494, 196, 6, 11, 423, 9, 11], [43, 42, 61, 1, 110, 146, 150, 18], [4, 535, 140, 25, 381, 206, 8, 7, 1, 100, 110, 1, 241, 605, 14, 44, 246, 56, 414], [114, 26, 205, 44, 7, 599, 8, 319, 24, 38, 340], [97, 1, 329, 1, 28, 992, 112], [539, 164, 304, 513, 46, 14, 513, 143, 163, 90, 8, 5, 17, 539, 164, 100, 13, 662, 90, 926], [43, 42, 260, 25, 1, 135, 2, 86, 222], [32, 96, 55, 46, 258, 315], [72, 5, 17, 6, 44, 33, 810], [114, 664, 540, 2, 5], [26, 16, 481, 129, 230, 6, 7, 9, 172, 34], [23, 271, 34, 40, 303, 200, 128], [1, 26, 362, 1, 37, 74], [428, 249, 34, 10, 117, 175, 12, 5], [6, 19], [324, 5, 624, 940, 200, 70, 2, 49, 2, 220], [9, 72, 101, 484, 1, 29, 49, 2, 7, 385, 824, 7, 36, 475, 362], [106, 10, 420, 52, 9, 508, 468], [52, 127, 89], [1, 540, 1, 398, 78, 2, 270, 615, 15, 10, 44, 246, 292], [494, 87, 71, 77, 64, 96, 580, 827], [248, 12, 13, 15], [45, 21, 3, 27], [123, 6, 768, 5], [202, 394, 2, 37, 51, 13, 319], [99, 807, 161, 6, 132, 3, 22, 344, 4, 53, 63, 46, 22, 6, 96, 7, 54, 63, 35, 6, 29, 139, 10, 4, 15, 27, 74, 560], [182, 184, 314, 399, 20, 3, 16, 191, 355, 152, 30, 4, 279, 15, 21, 2, 119, 171, 120, 369], [71, 207, 148, 158, 149, 117], [45, 1, 526, 28, 3, 160, 97], [6, 8], [844, 1, 521, 6, 423, 168, 573, 273, 715, 163], [1, 70, 2, 196, 43, 42, 90, 316, 311, 85, 35, 1], [36, 579, 776, 126, 236, 906], [134, 20, 166, 41, 215], [881, 135, 383, 63, 303], [99, 103, 15, 10, 65, 1, 100, 55, 791, 13, 340, 3, 100, 70, 2, 122, 30, 35, 3, 16, 101, 275, 340, 27, 820, 106, 10, 12, 13, 95], [569, 199, 21, 15, 531, 390, 51, 121, 190, 2, 259, 190, 2, 86, 438, 15, 439, 190], [85, 38, 16, 58, 264, 255, 2, 28, 290, 31, 8, 590, 97], [], [98, 54, 3, 29, 231, 27, 101, 56, 35, 3, 589, 628, 30, 179, 20, 3, 26, 189], [1, 332, 2, 743], [7, 81, 5, 141, 14, 59, 748, 30, 23, 584], [20, 442, 3, 58, 142, 4, 8, 89, 216, 207, 89, 216, 128, 21], [338, 1, 370, 84, 3], [469, 6, 151, 1, 210, 24, 109, 266, 59, 503], [126, 22, 3, 991, 1, 80, 3], [499], [89, 59, 2, 31, 25, 134, 14, 823, 87, 8, 427, 527], [135, 13, 93, 461, 453, 2, 283, 374, 306, 348, 729, 12, 47, 34, 47, 438, 337, 406, 68, 133, 12, 4, 2, 672, 48], [186, 45, 73, 497], [46, 3, 37, 47, 15, 10], [20], [177, 59, 362, 4, 450, 7, 177, 111, 59, 362, 4, 23, 126, 6, 83, 90, 25, 126, 6, 698, 364, 198, 693], [135, 4, 53, 62, 16, 3, 2, 543, 5, 337], [149, 11, 46, 26, 3, 231, 4, 185, 1, 16, 12, 7, 483], [32, 428, 5, 994, 663, 53, 54, 22, 3, 149, 208], [89, 216, 207, 1, 16, 135, 34, 104, 105, 14, 34, 669, 29, 3, 107, 67, 104, 405, 296], [170, 3, 665, 210, 377, 46, 1, 293, 104, 204, 2, 91, 3, 48, 2, 4, 349, 125], [65, 118, 4, 273, 62, 32, 36, 70, 2, 44, 7, 91, 4], [36], [83, 6, 265, 109, 845, 27, 499, 411], [31, 148, 72, 1, 26, 64, 159], [88, 57, 101, 275, 254], [1, 329, 3, 241, 31, 71, 53, 142, 71, 101, 170], [9, 72, 4, 23, 40, 297, 16, 4, 111, 116, 7, 50, 5, 240, 8, 13, 777], [663, 13, 360, 144, 193, 313, 134, 192, 32, 18, 5, 160], [35, 550, 406, 12, 4, 150, 852, 231, 14, 134, 192, 65, 503, 1, 142, 18, 12, 43, 42], [180, 1, 80, 13], [50, 604, 229, 108, 7, 5, 60, 250, 1, 29, 156, 2, 9, 3, 8, 794], [485, 169, 5, 34, 40, 809, 17], [222, 492, 11, 489], [32, 4], [209, 495, 948, 859, 223, 2, 636, 781, 223, 2, 636, 138, 901, 234, 195, 187], [10, 507], [7, 3, 665, 16, 2, 486, 94, 10, 656, 188, 2, 3, 56, 1, 155, 184, 124, 3, 28, 708, 3, 70, 7, 79, 28, 5, 249], [52, 127, 6, 373, 2, 37], [13, 160, 79, 134, 5, 160, 21], [45, 177, 124, 91, 4, 612, 4, 835, 17, 7, 852, 84, 4, 122, 17, 3, 87, 80, 2, 36, 24, 20, 3, 55], [437, 3, 26, 318, 5, 365, 38, 405, 63, 85, 12, 5], [], [45, 53, 57, 1, 97, 64, 167, 77, 120, 648, 1, 267, 77, 2, 49, 804, 97, 91, 294, 77, 38, 129, 193], [303, 9, 72], [99, 807, 1, 132, 3, 135, 4, 229, 124, 1, 333, 1, 135, 64, 233, 213, 2, 84, 3, 66, 1, 70, 975, 7, 1, 70, 4, 461, 310], [46, 29, 77, 64, 48], [11, 105, 7, 1, 370, 257, 55, 153, 1, 56, 14, 288], [600, 328, 119, 33, 995, 745, 17, 996, 506, 90, 68, 133, 2, 21, 924, 822, 93, 171, 322, 924, 764, 997, 256], [36, 592, 725, 14, 7, 1, 16, 38, 25, 106, 10, 52, 69, 607, 14, 7, 35, 69, 1, 26, 6, 41, 431, 23, 169, 41, 431, 36, 4, 273, 63], [24, 483, 132, 3, 22, 23, 200, 13, 91, 181, 276, 5, 994], [170, 13, 225, 24], [45, 25, 36, 540, 74, 7, 332, 2, 270, 23, 53, 27, 40, 613, 63, 122], [68, 174, 194, 452, 90, 6, 29, 167, 4, 671, 30, 257, 65, 44, 2, 6, 512, 41, 36, 439, 95, 34, 289, 767, 781, 280, 115], [763, 397, 36, 44, 18, 3, 28, 16, 4, 325], [182, 102, 15, 51, 13, 443, 13, 788, 41, 279, 30, 355, 152, 652, 498, 657, 171, 322], [54, 1, 267, 246, 1, 106, 440, 159, 1, 422, 106, 188, 2, 3, 3, 444, 336, 2, 11, 609, 7, 23, 34, 10], [823, 25, 153, 708], [185, 1, 70, 14, 2, 31, 13, 250], [149, 14, 2, 828, 17, 60, 7, 22, 782], [32, 326, 645, 11, 706, 423, 610, 24, 6, 221, 19, 174, 10, 41, 349, 27, 499, 4, 23], [77, 38, 74, 122, 2, 28], [39, 22, 373, 2, 203, 3, 184, 314, 399, 20, 3, 191, 4, 355, 136, 253, 15, 119, 430, 476, 623, 60, 369], [685, 377, 547, 918, 60, 408, 19], [7, 17, 963, 3, 146, 134, 4], [6, 29, 212, 471, 17, 472, 464, 506, 177, 116, 962, 21, 75, 5, 331, 314, 2, 798, 138, 176], [299, 344, 11, 281, 21, 6, 353, 163], [52, 22, 3, 1, 189, 3], [1, 338, 39, 282, 149, 4, 17, 5, 250, 72], [77, 827, 185, 1, 451, 1, 58], [23, 20, 1, 55, 17, 454, 305, 44, 128, 22, 87, 48, 17, 427], [724, 162, 579, 3, 2, 11, 68, 32, 452, 7, 276, 388, 2, 440, 51, 6, 740, 227, 115, 95, 86, 2, 287], [576, 170, 146, 343, 419, 324], [3, 16, 121, 108, 102, 15], [88, 532, 825, 9, 307, 883, 24, 3, 403, 22, 214, 876, 445, 1, 49, 205, 44, 5, 753, 7, 37, 868], [88, 79, 91, 181, 17, 14], [99, 807, 123, 10, 161, 35, 199], [24, 625, 134, 14, 641, 30, 800, 71, 227], [11, 11, 11, 245, 82, 11, 50, 903, 7, 1, 59, 248, 18, 5, 986], [1, 61, 96, 291, 273, 185, 17, 18, 135, 2, 931, 1, 135, 4, 337, 175, 425, 220, 828, 17, 66], [288, 341, 35, 69, 422, 293, 14, 217, 490, 26, 30, 156, 933], [514, 123, 3, 37, 24, 7, 930, 239, 111], [691, 1, 267], [17, 50, 5, 158, 114, 960, 19, 8, 142, 114, 480, 114, 267, 321, 5, 473, 81, 793, 50, 48, 17, 125, 350, 60, 121, 361, 855, 69, 155, 35, 14, 9, 473, 81, 11, 40, 422, 257, 372], [145, 20, 59, 4, 157, 1, 338, 3, 67, 20, 2, 10], [13, 392, 59, 2, 49, 230, 2, 34, 10, 417, 4, 181, 8, 5, 389, 24, 1, 16, 2, 276, 34, 13, 405, 62], [64, 2, 375, 86, 43, 588, 42], [32, 8, 4, 484, 15, 10, 41, 147], [638, 56, 72, 241, 31, 4, 352, 17, 63, 8, 20, 382, 818, 30, 91, 13, 56, 4, 53, 78, 2, 8, 4, 229, 273, 21], [1, 135, 960, 6, 4, 489, 113, 567, 246, 65, 492], [], [1, 36, 40, 274, 611, 10, 34, 5, 927, 1, 100, 295, 1, 698, 33, 11, 194, 25, 304, 10, 34, 4, 198, 693, 7, 346, 602], [131, 533, 19, 174, 151, 69, 501, 48, 25, 1, 210, 56, 14, 16, 19, 37, 184, 375, 74, 25, 346], [23, 236, 682, 78, 2, 360, 32, 8, 375], [3, 26, 31, 8, 5, 238, 17, 20, 310], [98, 20], [32, 303, 56], [239, 53, 625, 421, 402, 102, 5, 16, 828, 17, 893, 7, 16, 4, 539, 62], [115, 10, 46, 513], [46, 3, 540, 2], [103, 162, 3, 230, 1, 233, 701, 24, 1, 609, 2, 701], [27, 11, 238, 27, 38, 530, 25, 35, 3, 29, 8, 101, 141, 14, 9, 7, 153, 39, 58, 360, 12, 76, 129], [45, 45, 91, 181, 1, 29, 732], [216, 25, 23, 56, 20], [25, 1, 526, 31, 47, 208, 337], [7, 1, 100, 392, 18, 5, 124, 25, 1, 665, 31, 96, 553, 235], [437, 1, 16, 118, 235, 8, 12, 5, 264, 982, 7, 135, 2, 475, 4, 43, 42, 530, 1, 938, 14, 168, 31, 17, 10, 2, 94, 179, 3, 139, 27, 111, 407, 2, 507, 7, 239, 162, 1, 361, 425, 44, 1, 61, 8, 4, 7, 422, 31, 434, 2, 475, 5, 530, 40, 325, 11, 117, 17, 287, 29, 3, 102, 269, 175], [216, 422, 343, 8, 222, 481], [353, 298, 552, 610, 33, 147, 77, 58, 27, 726, 558], [3, 50, 315, 12, 485, 62, 164], [103, 22, 3, 730, 1, 59, 571, 103], [99, 586, 83, 6, 109, 932, 6, 90], [22, 253, 5, 283, 209, 105, 4, 702, 30, 4, 713, 136, 75, 331, 429, 2, 38, 187], [78, 18, 335, 111], [46, 22, 3, 403, 555], [13, 144, 7, 59, 905, 438, 2, 13, 667, 144, 878, 162, 228, 23, 833, 51, 3, 40, 297, 50, 5, 240, 8, 13, 58, 40, 144, 51, 11, 245], [21, 791, 13, 317, 193, 7, 28, 3, 16, 101, 72], [143, 45, 1, 186, 730, 115, 6, 610, 1, 64, 74, 219], [374, 247, 3, 290, 21, 119, 13, 47, 306, 105, 12, 13, 15, 21, 18, 386, 965, 171, 601, 455, 672, 48], [25, 65, 24, 359], [], [145, 88, 32, 326, 128], [45], [817, 216, 23, 451, 4, 331, 23, 4, 65, 4, 874, 243, 404, 1, 26, 31, 34, 3, 103], [9, 96, 18, 13, 356, 49, 2, 18, 7, 343, 994, 946, 18, 641, 24, 21, 672, 48, 2], [29, 6, 37, 597, 714, 2, 13, 105], [38, 38, 1, 26, 330, 50], [88, 123, 3, 15, 10, 36, 21, 371], [1, 70, 43, 42, 109, 28, 3, 16, 14], [170, 528, 1, 59, 20, 112, 278], [869, 5, 533, 751, 4, 82, 137, 141, 6, 313, 670, 200, 159, 766, 560], [7, 83, 473, 758, 249, 25, 28, 6, 55, 125, 263, 18, 33, 368, 10, 148, 257, 527, 1, 61, 505, 51, 6, 178, 720, 53, 744], [747, 175, 2, 4, 53, 296, 6, 16, 191, 5, 887, 400, 384, 136, 19, 119, 9, 424, 36, 15, 21, 60, 439, 227, 549, 350, 531, 390], [636, 47, 12, 416, 116, 209, 223, 41, 33, 538, 177, 116, 36, 75, 209, 2, 636, 37, 879, 7, 106, 33, 678, 138, 901, 234, 195, 816, 187, 223, 256], [12, 176, 9, 293, 13, 105, 23], [6, 64, 82, 587, 23], [733, 50, 5, 240, 34, 14], [216, 216, 979, 78, 2, 314, 5, 159, 197, 723, 8], [1, 521, 6, 364, 413, 69, 155, 171], [302, 39, 26, 16, 359, 520], [1, 58, 14, 246, 5, 108, 297, 185, 155, 89, 572, 2, 903, 3, 34, 14, 25, 46, 1, 361, 84, 204, 1, 14, 246, 5, 43, 42, 62], [28, 3, 295, 35, 1, 154, 54, 867, 3, 98, 16, 2, 150, 35, 14, 9], [28, 3, 70, 4, 108, 209, 477, 105, 34, 47, 358, 2, 101, 93, 683, 47, 438, 47, 684, 95, 30, 15, 642], [148, 30, 677, 76, 250, 94, 9, 65, 38, 129, 53, 165], [234, 195, 129, 546, 51, 103, 17, 47, 546, 34, 111], [627], [99, 130, 118, 2, 33], [9, 23, 54, 39, 12, 164, 14, 9, 5, 17, 54, 39, 28, 90, 28, 5, 240, 8, 342, 5], [11, 173, 7, 66, 3, 352, 103], [65, 4, 2, 5, 585, 14, 36, 3, 172, 754, 2, 585, 13], [747, 33, 323, 482, 17, 506, 30, 253, 47, 544, 19, 683, 688, 314, 75, 472, 2, 798, 138], [8, 113], [757, 9, 172, 53, 9, 7, 628, 9, 169, 229], [180], [35, 1, 59, 1], [52, 9, 13, 208, 116, 1, 61, 48, 17, 427, 40, 337], [1, 84, 4, 835, 17], [854, 191, 2, 5, 835, 600, 30, 152, 2, 429, 15, 816], [170, 21, 32, 159, 20, 569], [143, 23, 20, 3, 134, 10, 143, 36, 20, 46, 50, 92, 301, 18, 523, 17, 448, 619, 14, 10, 200, 5, 3, 100, 52, 1, 200, 11, 85, 85, 173], [130, 64, 2, 13, 602, 2, 134, 156, 7, 11, 242, 2, 139, 3, 7, 270, 53, 124], [38, 103, 1, 28, 16, 47, 459, 417, 101, 99, 99, 99], [453, 13, 368, 563], [45, 31, 45, 1, 329], [3, 22, 4, 172, 172, 172, 172, 377, 308, 30], [123, 69, 36, 150, 866, 9], [111, 1, 485, 765, 24, 37, 315], [99, 578, 486, 756, 109, 927, 542, 5, 927, 26, 10, 19, 33, 261, 5, 820, 4, 285, 56, 6, 270, 30, 165], [294, 265, 15, 10], [62, 38, 933, 62, 38, 62, 38, 62, 38, 166, 62, 38, 19, 6, 181], [53, 491, 52, 537, 3, 62, 101, 958, 64, 13, 141, 1, 110, 17, 3, 7, 67, 11, 66, 934, 5, 731, 2, 134, 3, 263, 7, 148], [1, 202, 113], [258, 160, 1, 370, 727, 2, 28, 20, 1, 329, 362, 1, 44, 18, 7, 11, 587, 2, 179, 18, 11, 14, 87, 404], [1, 66, 3, 24, 127, 1, 29, 14], [79, 68, 825, 7, 183, 3, 55, 18], [54, 1, 727, 9, 28, 114, 64, 3, 48, 46, 65, 200, 30, 9, 14, 3, 29, 385, 71, 197, 71, 3, 70], [1, 154, 101, 958, 34, 48, 5, 319], [1, 16, 4, 143, 46, 1, 268], [77, 64, 43, 82, 891, 2, 10, 354], [228, 58, 14, 206, 2, 4, 23, 192, 243], [88, 88, 88, 53, 484], [163, 76, 535, 882, 3], [46, 123, 444, 37, 96], [395, 30, 918, 5, 238, 11, 317], [5, 9, 137, 249, 25, 137, 523, 82, 1, 58, 4, 21, 1, 272, 32, 23, 78, 413, 112, 850, 252, 221, 19, 6, 202], [120, 8, 40, 37, 121, 47, 36, 591, 115, 476, 41, 259, 726, 120, 171, 120, 95, 41, 822], [66, 3, 66, 6, 352], [102, 15, 92, 247, 232, 18, 821, 447, 71, 3, 16, 191, 4, 253, 355, 152, 30, 712, 136], [1, 11, 383, 827, 29, 77, 37, 14, 796, 151], [604, 665, 28, 16, 2, 855, 18, 2], [89, 408, 14, 172, 89, 36, 155, 89, 168, 5, 285, 8, 94, 5, 7, 20, 1, 146, 34, 5, 94, 11, 405, 238, 25, 653, 21, 7, 50, 251, 22, 43, 42, 7, 44], [20, 59, 493, 11, 667, 18, 69], [32, 53, 16, 3, 2], [85, 1, 516, 3, 180, 1, 59, 44, 235, 7, 8, 1, 132, 3, 342, 13, 511, 803, 802, 1, 189, 3, 112, 391], [1, 3, 56, 487, 8, 5, 396, 446, 4, 160], [150, 40, 897, 402, 1, 66, 3, 158, 1, 80, 3, 11, 261, 34, 13, 972, 67, 40, 2, 973, 254, 305, 158, 6, 120, 164, 28, 14, 107, 107, 28, 14], [3, 28, 54, 50, 3, 56], [170, 145, 3, 58, 4, 296, 12, 5], [13, 68, 51, 10, 4, 40, 63], [101, 328, 3, 327, 16, 135, 34, 10, 71, 220, 71, 3, 11, 81, 11, 105, 144, 51, 13, 23, 302, 27, 50, 102, 28, 23, 203, 10, 193, 30, 1, 26, 3, 2, 13], [25, 13, 23, 128], [554, 199, 82, 671, 21, 658, 350, 531, 390, 439, 190, 60, 51], [14, 422, 186, 519, 19, 71, 373, 19, 317, 48, 9, 20, 45], [153, 1, 58, 4, 34, 60, 6, 7, 35, 32, 561, 169], [131, 54, 573, 468, 22, 3, 528], [528, 58, 4, 7, 130, 2, 31, 74, 341, 69, 338, 24, 31, 128, 888], [24, 54, 123, 5, 780, 150, 94, 5, 204], [87, 122, 78, 18, 14, 9, 172, 317], [29, 3, 102, 67, 10, 11, 144], [133, 705], [10, 112, 16, 4, 661, 124, 366], [11, 861, 490, 59, 23, 434, 2, 16, 28, 3, 70, 76, 62], [393, 426, 1, 327, 186, 441, 11, 954, 35, 77, 221, 2, 353, 57, 1, 213, 41, 77, 354], [696, 691, 561, 117], [3, 3, 16, 4, 111, 63, 7, 84, 3, 584, 220], [1, 58, 56, 43, 42, 1, 29, 37, 113, 129, 97, 527, 37, 708, 3, 210, 56], [45, 25, 114, 155, 228, 58, 82, 735, 80, 19, 917], [77, 2, 211, 827], [24, 127, 12, 5, 15, 1, 13, 181], [528, 84, 3, 8, 4, 291], [371, 3, 84, 3, 16, 2, 31, 8, 5, 1, 26, 183, 3, 55, 474, 18, 14, 9, 46, 130, 633, 520, 14], [3, 55, 474, 305, 171, 9, 50, 39, 55, 39, 83, 27], [1, 70, 2, 774, 6, 76, 250, 6, 146, 23, 10, 88, 40, 9, 5, 157, 20, 3, 196], [51, 269], [5, 404, 43, 42, 137, 894, 397, 43, 42, 43, 63, 42, 61, 79, 509, 330, 7, 68, 3, 193, 164], [47, 544, 446, 92, 846, 524, 36, 68, 5, 331, 212, 2, 21, 280, 171, 120, 138, 234, 195], [3, 22, 307, 230, 37, 13, 93, 840, 51, 138, 176, 15, 650, 433, 989, 546, 12, 60, 166], [35, 258, 23, 8, 11, 319, 8, 142, 449, 7, 4, 345, 32, 78], [474, 6, 44, 19, 6, 282, 214, 15, 10, 75, 388, 88], [663, 4, 9, 20, 179, 403, 16, 20, 1, 100, 55, 94], [5, 74, 17, 342, 14], [59, 412, 94, 2, 67, 3, 4, 90, 16, 4, 662, 337], [45, 497], [], [384, 136, 39, 22, 373, 2, 203, 6, 716, 314, 399, 20, 3, 16, 191, 4, 596, 136, 253, 15, 51, 675, 274, 476, 623, 60], [29, 6, 37, 19, 105, 21, 1, 313, 199, 19, 605, 44, 174, 15, 10, 21, 18, 6, 29, 670, 128, 388, 560], [47, 12, 416, 116, 209, 223, 41, 33, 538, 177, 116, 36, 75, 209, 2, 636, 37, 879, 7, 106, 33, 678, 138, 901, 234, 195, 816, 223, 256], [45], [56, 3, 179, 2, 28, 275, 341, 876, 111, 303], [4, 46, 3, 5, 2, 2, 417, 13, 30, 14, 442, 3, 22], [27, 186, 158, 21], [180, 134, 10, 10, 18, 75, 10, 13, 21, 180, 161, 569, 7, 80, 3, 21, 50, 407, 339, 244, 19, 67, 86], [109, 11, 8, 9, 8, 25, 334, 671, 9, 90, 25, 98, 14, 1, 415, 139, 3, 4, 254, 644, 35, 3, 178, 5, 759, 101, 141, 175, 12, 5], [302, 79, 68, 3, 46, 32, 18, 5, 141], [45, 172, 53, 65, 50, 94, 520, 20, 204], [278, 710, 1, 327, 80, 2, 91, 3, 44, 18, 20, 54, 3, 751, 219], [1, 80, 3, 2, 31, 8, 11], [16, 3, 225, 118, 656], [36, 900, 13, 516, 15, 11, 103, 609, 28, 16, 4, 634, 62], [143, 302, 183, 10, 55, 246, 14, 230, 251, 43, 42, 79, 31, 48, 7, 94, 50, 62], [132, 3, 13, 108, 840, 68, 86, 2, 2, 721, 269, 81, 234, 195], [32, 169, 85, 1, 665, 186, 434, 19, 28, 40, 872, 132, 6, 29, 167, 142, 132, 699, 78, 45], [147, 532, 113, 305, 9, 23, 36, 468, 826, 321, 6, 210, 46, 6, 174, 156, 25, 468, 508, 6, 210, 46, 6, 189], [543, 1, 268, 94, 50, 44, 8, 11, 738, 170, 1, 20, 35, 1, 135, 14, 155, 14, 404, 21], [539, 927, 725, 92, 261, 772, 46, 194, 9, 8, 14, 25, 14, 172, 46, 194, 14, 926], [153, 28, 2, 686, 179], [409, 638, 53, 46, 28, 3, 70, 10, 2, 64, 206]]\n"
          ]
        }
      ]
    },
    {
      "cell_type": "code",
      "source": [
        "#Garantir que todos os tokens tenham a mesma quantidade de elementos numéricos\n",
        "#Preenche com zeros depois do final da numeração\n",
        "#Tamanho maximo: 500 caracters\n",
        "X_train = pad_sequences(X_train, padding = 'post', maxlen=500)\n",
        "X_test = pad_sequences(X_test, padding = 'post', maxlen=500)"
      ],
      "metadata": {
        "id": "kcUsfLvJMEFs"
      },
      "execution_count": null,
      "outputs": []
    },
    {
      "cell_type": "code",
      "source": [
        "#Dados em forma tabular\n",
        "print(X_train)"
      ],
      "metadata": {
        "colab": {
          "base_uri": "https://localhost:8080/"
        },
        "id": "SOKwbWOsMpZt",
        "outputId": "de766e1c-4af5-4c02-c63c-5ef6874be876"
      },
      "execution_count": null,
      "outputs": [
        {
          "output_type": "stream",
          "name": "stderr",
          "text": [
            "IOPub data rate exceeded.\n",
            "The notebook server will temporarily stop sending output\n",
            "to the client in order to avoid crashing it.\n",
            "To change this limit, set the config variable\n",
            "`--NotebookApp.iopub_data_rate_limit`.\n",
            "\n",
            "Current values:\n",
            "NotebookApp.iopub_data_rate_limit=1000000.0 (bytes/sec)\n",
            "NotebookApp.rate_limit_window=3.0 (secs)\n",
            "\n"
          ]
        }
      ]
    },
    {
      "cell_type": "code",
      "source": [
        "print(len(token.word_index))"
      ],
      "metadata": {
        "colab": {
          "base_uri": "https://localhost:8080/"
        },
        "id": "OYUNjzaAMtn6",
        "outputId": "4f644cec-7121-4a72-9a5b-2b3d5043010b"
      },
      "execution_count": null,
      "outputs": [
        {
          "output_type": "stream",
          "name": "stdout",
          "text": [
            "7389\n"
          ]
        }
      ]
    },
    {
      "cell_type": "code",
      "source": [
        "modelo = Sequential()\n",
        "#Camada Embedding:\n",
        "#input_dim: tamanho vocabulário\n",
        "#Output_dim: tamanho do vetor denso\n",
        "#input_length: comprimento da sequencia\n",
        "\n",
        "modelo.add(Embedding(input_dim=len(token.word_index), output_dim=50, input_length=500))\n",
        "modelo.add(Flatten()) #Conecta camada Embedding com camada densa\n",
        "\n",
        "modelo.add(Dense(units=10, activation='relu'))\n",
        "modelo.add(Dropout(0.1))\n",
        "modelo.add(Dense(units=1, activation='sigmoid'))"
      ],
      "metadata": {
        "id": "Kw3o9GMeNFQA"
      },
      "execution_count": null,
      "outputs": []
    },
    {
      "cell_type": "code",
      "source": [
        "modelo.compile(loss='mean_squared_error', optimizer='adam', metrics=['accuracy'])\n",
        "modelo.summary()"
      ],
      "metadata": {
        "colab": {
          "base_uri": "https://localhost:8080/"
        },
        "id": "wfbfu6KtNKya",
        "outputId": "7924e92a-43c1-4a9f-d9af-0867ea5bf006"
      },
      "execution_count": null,
      "outputs": [
        {
          "output_type": "stream",
          "name": "stdout",
          "text": [
            "Model: \"sequential_1\"\n",
            "_________________________________________________________________\n",
            " Layer (type)                Output Shape              Param #   \n",
            "=================================================================\n",
            " embedding (Embedding)       (None, 500, 50)           369450    \n",
            "                                                                 \n",
            " flatten (Flatten)           (None, 25000)             0         \n",
            "                                                                 \n",
            " dense_3 (Dense)             (None, 10)                250010    \n",
            "                                                                 \n",
            " dropout_2 (Dropout)         (None, 10)                0         \n",
            "                                                                 \n",
            " dense_4 (Dense)             (None, 1)                 11        \n",
            "                                                                 \n",
            "=================================================================\n",
            "Total params: 619471 (2.36 MB)\n",
            "Trainable params: 619471 (2.36 MB)\n",
            "Non-trainable params: 0 (0.00 Byte)\n",
            "_________________________________________________________________\n"
          ]
        }
      ]
    },
    {
      "cell_type": "code",
      "source": [
        "modelo.fit(X_train, y_train, epochs=20, batch_size=10, verbose=True, validation_data=(X_test, y_test))"
      ],
      "metadata": {
        "id": "1gsu1PW2Oezh"
      },
      "execution_count": null,
      "outputs": []
    },
    {
      "cell_type": "code",
      "source": [
        "loss, accuracy = modelo.evaluate(X_test, y_test)\n",
        "print('Loss:', loss)\n",
        "print('Acurácia:', accuracy)"
      ],
      "metadata": {
        "colab": {
          "base_uri": "https://localhost:8080/"
        },
        "id": "95QvevBBPpw_",
        "outputId": "caec68e4-a5f6-433f-c65e-bfa166791174"
      },
      "execution_count": null,
      "outputs": [
        {
          "output_type": "stream",
          "name": "stdout",
          "text": [
            "53/53 [==============================] - 0s 3ms/step - loss: 0.0161 - accuracy: 0.9827\n",
            "Loss: 0.016135362908244133\n",
            "Acurácia: 0.9826555252075195\n"
          ]
        }
      ]
    },
    {
      "cell_type": "code",
      "source": [
        "nova_previsao = modelo.predict(X_test)\n",
        "print(nova_previsao)"
      ],
      "metadata": {
        "id": "nKXDFnIxPn6r"
      },
      "execution_count": null,
      "outputs": []
    },
    {
      "cell_type": "code",
      "source": [
        "prev = (nova_previsao > 0.5)\n",
        "print(prev)"
      ],
      "metadata": {
        "id": "JFNJHy5RP5iB"
      },
      "execution_count": null,
      "outputs": []
    },
    {
      "cell_type": "code",
      "source": [
        "cm = confusion_matrix(y_test, prev)\n",
        "print(cm)"
      ],
      "metadata": {
        "colab": {
          "base_uri": "https://localhost:8080/"
        },
        "id": "yQCeM6wlPWuy",
        "outputId": "7335ac21-6f59-4221-f104-e27578ef26a3"
      },
      "execution_count": null,
      "outputs": [
        {
          "output_type": "stream",
          "name": "stdout",
          "text": [
            "[[1447   12]\n",
            " [  17  196]]\n"
          ]
        }
      ]
    }
  ]
}