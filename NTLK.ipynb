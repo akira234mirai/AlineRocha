{
  "nbformat": 4,
  "nbformat_minor": 0,
  "metadata": {
    "colab": {
      "provenance": [],
      "authorship_tag": "ABX9TyOEekG6sH1gZqmW9zKh0ssL",
      "include_colab_link": true
    },
    "kernelspec": {
      "name": "python3",
      "display_name": "Python 3"
    },
    "language_info": {
      "name": "python"
    }
  },
  "cells": [
    {
      "cell_type": "markdown",
      "metadata": {
        "id": "view-in-github",
        "colab_type": "text"
      },
      "source": [
        "<a href=\"https://colab.research.google.com/github/akira234mirai/AlineRocha/blob/main/NTLK.ipynb\" target=\"_parent\"><img src=\"https://colab.research.google.com/assets/colab-badge.svg\" alt=\"Open In Colab\"/></a>"
      ]
    },
    {
      "cell_type": "code",
      "execution_count": null,
      "metadata": {
        "colab": {
          "base_uri": "https://localhost:8080/"
        },
        "id": "_iAQ9RRmVghS",
        "outputId": "567c9824-6643-4d83-fe53-fbc7696787ce"
      },
      "outputs": [
        {
          "output_type": "stream",
          "name": "stderr",
          "text": [
            "[nltk_data] Downloading package punkt to /root/nltk_data...\n",
            "[nltk_data]   Package punkt is already up-to-date!\n"
          ]
        },
        {
          "output_type": "execute_result",
          "data": {
            "text/plain": [
              "['Amanhã',\n",
              " 'sera',\n",
              " 'um',\n",
              " 'lindo',\n",
              " 'dia',\n",
              " '.',\n",
              " 'Da',\n",
              " 'mais',\n",
              " 'louca',\n",
              " 'alegria',\n",
              " 'do',\n",
              " 'que',\n",
              " 'se',\n",
              " 'possa',\n",
              " 'imaginar',\n",
              " '.']"
            ]
          },
          "metadata": {},
          "execution_count": 7
        }
      ],
      "source": [
        "import nltk\n",
        "nltk.download('punkt')\n",
        "sentence = 'Amanhã sera um lindo dia. Da mais louca alegria do que se possa imaginar.'\n",
        "tokens = nltk.word_tokenize(sentence)\n",
        "tokens"
      ]
    },
    {
      "cell_type": "code",
      "source": [
        "nltk.download('stopwords')\n",
        "stopwords = nltk.corpus.stopwords.words('portuguese')\n",
        "stopwords[:0]"
      ],
      "metadata": {
        "colab": {
          "base_uri": "https://localhost:8080/"
        },
        "id": "wGkBKsWyXY7N",
        "outputId": "42801866-ce39-430a-fc23-4dfd71510d97"
      },
      "execution_count": null,
      "outputs": [
        {
          "output_type": "stream",
          "name": "stderr",
          "text": [
            "[nltk_data] Downloading package stopwords to /root/nltk_data...\n",
            "[nltk_data]   Unzipping corpora/stopwords.zip.\n"
          ]
        },
        {
          "output_type": "execute_result",
          "data": {
            "text/plain": [
              "[]"
            ]
          },
          "metadata": {},
          "execution_count": 10
        }
      ]
    },
    {
      "cell_type": "code",
      "source": [
        "stopwords = set(nltk.corpus.stopwords.words('portuguese'))\n",
        "tokens_sw = [palavra for palavra in tokens if palavra not in stopwords]\n",
        "tokens_sw"
      ],
      "metadata": {
        "colab": {
          "base_uri": "https://localhost:8080/"
        },
        "id": "kQRtDJq7Ybay",
        "outputId": "9d3eccb9-334f-4962-8a60-ccf7d8404376"
      },
      "execution_count": null,
      "outputs": [
        {
          "output_type": "execute_result",
          "data": {
            "text/plain": [
              "['Amanhã',\n",
              " 'sera',\n",
              " 'lindo',\n",
              " 'dia',\n",
              " '.',\n",
              " 'Da',\n",
              " 'louca',\n",
              " 'alegria',\n",
              " 'possa',\n",
              " 'imaginar',\n",
              " '.']"
            ]
          },
          "metadata": {},
          "execution_count": 11
        }
      ]
    },
    {
      "cell_type": "code",
      "source": [
        "import string\n",
        "string.punctuation"
      ],
      "metadata": {
        "colab": {
          "base_uri": "https://localhost:8080/",
          "height": 35
        },
        "id": "u-uag67eZdZ5",
        "outputId": "5c3cccc0-0769-40de-b84a-fd469962dd90"
      },
      "execution_count": null,
      "outputs": [
        {
          "output_type": "execute_result",
          "data": {
            "text/plain": [
              "'!\"#$%&\\'()*+,-./:;<=>?@[\\\\]^_`{|}~'"
            ],
            "application/vnd.google.colaboratory.intrinsic+json": {
              "type": "string"
            }
          },
          "metadata": {},
          "execution_count": 12
        }
      ]
    },
    {
      "cell_type": "code",
      "source": [
        "tokens_sw_p= [palavra for palavra in tokens if palavra not in string.punctuation]\n",
        "tokens_sw_p"
      ],
      "metadata": {
        "colab": {
          "base_uri": "https://localhost:8080/"
        },
        "id": "G5i4eOCgZoPi",
        "outputId": "dcc142b3-566a-49b9-8b1b-d0ededa1b92d"
      },
      "execution_count": null,
      "outputs": [
        {
          "output_type": "execute_result",
          "data": {
            "text/plain": [
              "['Amanhã',\n",
              " 'sera',\n",
              " 'um',\n",
              " 'lindo',\n",
              " 'dia',\n",
              " 'Da',\n",
              " 'mais',\n",
              " 'louca',\n",
              " 'alegria',\n",
              " 'do',\n",
              " 'que',\n",
              " 'se',\n",
              " 'possa',\n",
              " 'imaginar']"
            ]
          },
          "metadata": {},
          "execution_count": 13
        }
      ]
    },
    {
      "cell_type": "code",
      "source": [
        "nltk.download('rslp')"
      ],
      "metadata": {
        "colab": {
          "base_uri": "https://localhost:8080/"
        },
        "id": "EDOgjVEXaBGt",
        "outputId": "9bbf0fae-2fac-43d5-f29c-eb89f6d0f197"
      },
      "execution_count": null,
      "outputs": [
        {
          "output_type": "stream",
          "name": "stderr",
          "text": [
            "[nltk_data] Downloading package rslp to /root/nltk_data...\n",
            "[nltk_data]   Unzipping stemmers/rslp.zip.\n"
          ]
        },
        {
          "output_type": "execute_result",
          "data": {
            "text/plain": [
              "True"
            ]
          },
          "metadata": {},
          "execution_count": 14
        }
      ]
    },
    {
      "cell_type": "code",
      "source": [
        "stemmer = nltk.stem.RSLPStemmer()\n",
        "stemmer.stem('casinha')"
      ],
      "metadata": {
        "colab": {
          "base_uri": "https://localhost:8080/",
          "height": 35
        },
        "id": "MiNqaWTraLxg",
        "outputId": "ff299647-4ede-49b5-b0e6-1445616d2ac7"
      },
      "execution_count": null,
      "outputs": [
        {
          "output_type": "execute_result",
          "data": {
            "text/plain": [
              "'camis'"
            ],
            "application/vnd.google.colaboratory.intrinsic+json": {
              "type": "string"
            }
          },
          "metadata": {},
          "execution_count": 15
        }
      ]
    }
  ]
}